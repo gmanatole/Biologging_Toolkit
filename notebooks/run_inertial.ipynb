{
 "cells": [
  {
   "cell_type": "code",
   "execution_count": 4,
   "id": "d2048ea1",
   "metadata": {},
   "outputs": [],
   "source": [
    "import sys, os\n",
    "import pandas as pd\n",
    "sys.path.append('../src/')\n",
    "from Biologging_Toolkit.processing.Inertial import Inertial"
   ]
  },
  {
   "cell_type": "markdown",
   "id": "5d0ff315",
   "metadata": {},
   "source": [
    "#### Enter deployment ID and path\n",
    "\n",
    "Finalized dataset will be saved or loaded from path"
   ]
  },
  {
   "cell_type": "code",
   "execution_count": 5,
   "id": "39819816",
   "metadata": {},
   "outputs": [],
   "source": [
    "depid = 'ml17_280a'\n",
    "path = '/run/media/grosmaan/LaCie/individus_brut/'\n",
    "sens_path = os.path.join(path, 'CTD', depid, depid+'sens5.nc')\n",
    "raw_path = os.path.join(path, 'individus', depid, 'raw')"
   ]
  },
  {
   "cell_type": "markdown",
   "id": "e9f660b6",
   "metadata": {},
   "source": [
    "#### Run cells to get acoustic features\n",
    "\n",
    "Time can be constructed from extisting time array or by entering the path to sens5 dataset."
   ]
  },
  {
   "cell_type": "code",
   "execution_count": 9,
   "id": "74be204c",
   "metadata": {},
   "outputs": [],
   "source": [
    "inst = Inertial(depid, \n",
    "            path = os.path.join(path, 'individus',depid), \n",
    "            sens_path = sens_path, \n",
    "            raw_path = raw_path,\n",
    "            declination = 'download'\n",
    "           )"
   ]
  },
  {
   "cell_type": "code",
   "execution_count": 10,
   "id": "093780d3",
   "metadata": {},
   "outputs": [
    {
     "name": "stderr",
     "output_type": "stream",
     "text": [
      "Averaging inertial data: 35682it [00:15, 2452.92it/s]/home6/grosmaan/Documents/SES_tags/notebooks/../src/Biologging_Toolkit/processing/Inertial.py:256: RuntimeWarning: Mean of empty slice\n",
      "  self.P_moy[t] = np.nanmean(self.P[lind:hind])\n",
      "/home6/grosmaan/Documents/SES_tags/notebooks/../src/Biologging_Toolkit/processing/Inertial.py:257: RuntimeWarning: Mean of empty slice\n",
      "  self.A_moy[t] = list(np.nanmean(self.A[:, lind:hind], axis = 1))\n",
      "/home6/grosmaan/Documents/SES_tags/notebooks/../src/Biologging_Toolkit/processing/Inertial.py:258: RuntimeWarning: Mean of empty slice\n",
      "  self.M_moy[t] = list(np.nanmean(self.M[:, lind:hind], axis = 1))\n",
      "/home6/grosmaan/Documents/SES_tags/notebooks/../src/Biologging_Toolkit/processing/Inertial.py:259: RuntimeWarning: Degrees of freedom <= 0 for slice.\n",
      "  self.activity[t] = np.sqrt(np.sum(np.nanvar(self.A[:, lind:hind], axis = 1)))\n",
      "Averaging inertial data: 528420it [03:57, 2226.45it/s]\n"
     ]
    }
   ],
   "source": [
    "inst()"
   ]
  },
  {
   "cell_type": "code",
   "execution_count": 11,
   "id": "5df354d7",
   "metadata": {},
   "outputs": [
    {
     "data": {
      "text/plain": [
       "<class 'netCDF4._netCDF4.Dataset'>\n",
       "root group (NETCDF4 data model, file format HDF5):\n",
       "    sampling_rate: 3\n",
       "    sampling_rate_units: Seconds\n",
       "    title: Processed dataset for ml17_280a\n",
       "    subtitle: NetCDF structure storing processed data from the ml17_280a individual using a 3 s timestep\n",
       "    dimensions(sizes): time(528420)\n",
       "    variables(dimensions): float64 time(time), float32 depth(time), float64 dives(time), float32 lat(time), float32 lon(time), float64 azimuth(time), float64 elevation_angle(time), float64 bank_angle(time), float64 vertical_azimuth(time)\n",
       "    groups: "
      ]
     },
     "execution_count": 11,
     "metadata": {},
     "output_type": "execute_result"
    }
   ],
   "source": [
    "inst.ds"
   ]
  },
  {
   "cell_type": "code",
   "execution_count": 12,
   "id": "1252bda9",
   "metadata": {},
   "outputs": [
    {
     "data": {
      "text/plain": [
       "masked_array(data=[0.49643068, 0.5222278 , 0.45128502, ..., 0.63203774,\n",
       "                   0.62734928, 0.5937469 ],\n",
       "             mask=False,\n",
       "       fill_value=1e+20)"
      ]
     },
     "execution_count": 12,
     "metadata": {},
     "output_type": "execute_result"
    }
   ],
   "source": [
    "inst.ds['elevation_angle'][:]"
   ]
  },
  {
   "cell_type": "code",
   "execution_count": 13,
   "id": "20391815",
   "metadata": {},
   "outputs": [],
   "source": [
    "inst.ds.close()"
   ]
  },
  {
   "cell_type": "code",
   "execution_count": null,
   "id": "dd80b777",
   "metadata": {},
   "outputs": [],
   "source": []
  }
 ],
 "metadata": {
  "kernelspec": {
   "display_name": "meteoses",
   "language": "python",
   "name": "myenv"
  },
  "language_info": {
   "codemirror_mode": {
    "name": "ipython",
    "version": 3
   },
   "file_extension": ".py",
   "mimetype": "text/x-python",
   "name": "python",
   "nbconvert_exporter": "python",
   "pygments_lexer": "ipython3",
   "version": "3.10.10"
  }
 },
 "nbformat": 4,
 "nbformat_minor": 5
}
