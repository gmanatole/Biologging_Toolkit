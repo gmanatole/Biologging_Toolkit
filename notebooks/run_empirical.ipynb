{
 "cells": [
  {
   "cell_type": "code",
   "id": "64336346",
   "metadata": {},
   "source": [
    "%load_ext autoreload\n",
    "%autoreload 2\n",
    "import sys, os\n",
    "import pandas as pd\n",
    "import numpy as np\n",
    "import matplotlib.pyplot as plt\n",
    "plt.rcParams.update({\n",
    "    \"text.usetex\": True,                # Enable LaTeX text rendering\n",
    "    \"font.family\": \"serif\",             # Use a serif font\n",
    "    \"font.serif\": [\"Computer Modern\"],  # Set font to Computer Modern (LaTeX default)\n",
    "})\n",
    "sys.path.append('../src/')\n",
    "from Biologging_Toolkit.applications.Wind import Wind\n",
    "from Biologging_Toolkit.plot.wind import *"
   ],
   "outputs": [],
   "execution_count": null
  },
  {
   "cell_type": "markdown",
   "id": "73fc711c",
   "metadata": {},
   "source": [
    "#### Enter deployment ID and path\n",
    "\n",
    "Finalized dataset will be saved or loaded from path"
   ]
  },
  {
   "cell_type": "code",
   "id": "0c2890f5",
   "metadata": {},
   "source": [
    "depids = ['ml17_280a','ml18_296a','ml18_294b','ml19_292a','ml19_292b','ml19_293a','ml19_294a','ml20_293a','ml20_296b','ml20_313a','ml21_295a','ml21_305b']\n",
    "path = 'D:/individus_brut/individus'"
   ],
   "outputs": [],
   "execution_count": null
  },
  {
   "cell_type": "code",
   "id": "fd93b19b",
   "metadata": {},
   "source": [
    "freqs = [50, 100, 200, 300, 500, 1000, 2500, 5000, 8000, 10000, 12000, 15000, 16000]"
   ],
   "outputs": [],
   "execution_count": null
  },
  {
   "cell_type": "markdown",
   "id": "185f6dda-4f1a-4abf-b92b-a1c619b8c588",
   "metadata": {},
   "source": [
    "### PLOT DISTRIBUTIONS"
   ]
  },
  {
   "cell_type": "code",
   "id": "94076d64-a258-437b-a29a-112028879f6c",
   "metadata": {},
   "source": [
    "plot_contour_upwards_downwards(depids)"
   ],
   "outputs": [],
   "execution_count": null
  },
  {
   "cell_type": "markdown",
   "id": "eec17baa",
   "metadata": {},
   "source": [
    "#### Get estimations from different models"
   ]
  },
  {
   "cell_type": "code",
   "execution_count": null,
   "outputs": [],
   "source": [
    "plot_accuracy_frequencies(depids, freqs, path = 'frequency_analysis.npz')"
   ],
   "metadata": {
    "collapsed": false
   }
  },
  {
   "cell_type": "markdown",
   "id": "f217b0b8-38d2-4939-84ed-1a94ab9d5624",
   "metadata": {},
   "source": [
    "### Fine scale training"
   ]
  },
  {
   "cell_type": "code",
   "execution_count": null,
   "outputs": [],
   "source": [
    "def func1(x, a, b, c) :\n",
    "    return a*(x-c) + b\n",
    "def func2(x, a, b, c, d) :\n",
    "    return a*(x-d)**2+b*(x-d)+c\n",
    "bounds = [[[-np.inf, -np.inf, -1e-18], [np.inf, np.inf, 1e-18]], [[-np.inf, -np.inf, -np.inf, -1e-18], [np.inf, np.inf, np.inf, 1e-18]]]"
   ],
   "metadata": {
    "collapsed": false
   }
  },
  {
   "cell_type": "code",
   "execution_count": null,
   "outputs": [],
   "source": [
    "for depid in depids :\n",
    "    inst = Wind(depid, path = os.path.join(path, depid),\n",
    "                acoustic_path = os.path.join(path, depid, 'dives'))\n",
    "    depth = [50,100,150,200,250,300,350,400,450,500]\n",
    "    df = pd.DataFrame()\n",
    "    for min_depth, max_depth in zip(depth[:-1], depth[1:]):\n",
    "        inst.get_fine_scale(depth = [min_depth, max_depth])\n",
    "        inst.two_regime(func1, func2, bounds)\n",
    "        df = pd.concat((df, pd.DataFrame(inst.wind_model_stats, index = [min_depth])))\n",
    "    df.to_csv(f'C:/Users/grosmaan/Desktop/{depid}_50_500.csv')\n",
    "    depth = [0,5,10,15,20,25,30,35,40,45,50,55]\n",
    "    df = pd.DataFrame()\n",
    "    for min_depth, max_depth in zip(depth[:-1], depth[1:]):\n",
    "        inst.get_fine_scale(depth = [min_depth, max_depth])\n",
    "        inst.two_regime(func1, func2, bounds)\n",
    "        df = pd.concat((df, pd.DataFrame(inst.wind_model_stats, index = [min_depth])))\n",
    "    df.to_csv(f'C:/Users/grosmaan/Desktop/{depid}_5_50.csv')"
   ],
   "metadata": {
    "collapsed": false
   }
  },
  {
   "cell_type": "code",
   "execution_count": null,
   "outputs": [],
   "source": [
    "inst.test_split"
   ],
   "metadata": {
    "collapsed": false
   }
  },
  {
   "cell_type": "code",
   "execution_count": null,
   "outputs": [],
   "source": [
    "inst.wind_model_stats"
   ],
   "metadata": {
    "collapsed": false
   }
  },
  {
   "cell_type": "markdown",
   "source": [],
   "metadata": {
    "collapsed": false
   }
  },
  {
   "cell_type": "code",
   "execution_count": null,
   "outputs": [],
   "source": [
    "df.to_csv(f'C:/Users/grosmaan/Desktop/{depids[5]}_50_500.csv')"
   ],
   "metadata": {
    "collapsed": false
   }
  },
  {
   "cell_type": "markdown",
   "source": [
    "### Get model performance"
   ],
   "metadata": {
    "collapsed": false
   }
  },
  {
   "cell_type": "code",
   "id": "5777ed52-cbec-471a-9081-bef55519abba",
   "metadata": {},
   "source": [
    "## Save empirical model\n",
    "df = pd.DataFrame()\n",
    "freq = 5000\n",
    "for depid in depids:\n",
    "        inst = Wind(depids, path = [os.path.join(path, depid) for depid in depids], \n",
    "                    data = f'dive_mean_{int(freq)}', \n",
    "                    test_depid = depid, method = 'Hildebrand')\n",
    "        inst.depid_fit()\n",
    "        df[depid] = inst.wind_model_stats\n",
    "df.to_csv(f'C:/Users/grosm/Desktop/thèse/Results/logarithmic_dive_{freq}.csv', index = None)"
   ],
   "outputs": [],
   "execution_count": null
  },
  {
   "cell_type": "code",
   "id": "6bc5f288-3144-4b29-8eef-3a231499582d",
   "metadata": {},
   "source": [
    "inst.wind_model_stats"
   ],
   "outputs": [],
   "execution_count": null
  },
  {
   "cell_type": "code",
   "id": "95f82d59-1eb6-4902-a398-b8c5355bdb60",
   "metadata": {},
   "source": [
    "log_up = pd.read_csv('C:/Users/grosm/Desktop/thèse/Results/logarithmic_upwards_5000.csv')\n",
    "log_down = pd.read_csv('C:/Users/grosm/Desktop/thèse/Results/logarithmic_downwards_5000.csv')\n",
    "quad_up = pd.read_csv('C:/Users/grosm/Desktop/thèse/Results/quadratic_upwards_5000.csv')\n",
    "quad_down = pd.read_csv('C:/Users/grosm/Desktop/thèse/Results/quadratic_downwards_5000.csv')"
   ],
   "outputs": [],
   "execution_count": null
  },
  {
   "cell_type": "code",
   "id": "bf807f65-dec0-4f05-89a6-3f1bca4dcbee",
   "metadata": {},
   "source": [
    "metric = pd.DataFrame({'up quadratic' : quad_up.mean(axis = 1), \n",
    "                       'down quadratic' : quad_down.mean(axis = 1),\n",
    "                       'up logarithmic' : log_up.mean(axis = 1), \n",
    "                       'down logarithmic' : log_down.mean(axis = 1)})"
   ],
   "outputs": [],
   "execution_count": null
  },
  {
   "cell_type": "code",
   "id": "f3b32570-302b-47a6-a103-8e1f52d44451",
   "metadata": {},
   "source": [
    "metric = metric.T\n",
    "metric.columns = ['mae', 'rmse', 'r1', 'var', 'std']\n",
    "metric = metric.round(2)\n",
    "metric = metric.map(lambda x: f\"{x:.2f}\")\n",
    "metric.to_latex('C:/Users/grosm/Desktop/thèse/Results/empirical_metric.tex', columns = ['mae', 'rmse', 'std'])"
   ],
   "outputs": [],
   "execution_count": null
  },
  {
   "cell_type": "code",
   "id": "870af9d6-8751-4e15-9811-5904121c5439",
   "metadata": {},
   "source": [
    "metric"
   ],
   "outputs": [],
   "execution_count": null
  },
  {
   "cell_type": "code",
   "id": "ec32cabe-1681-4344-849d-afc12f82cbac",
   "metadata": {},
   "source": [],
   "outputs": [],
   "execution_count": null
  }
 ],
 "metadata": {
  "kernelspec": {
   "display_name": "Python 3 (ipykernel)",
   "language": "python",
   "name": "python3"
  },
  "language_info": {
   "codemirror_mode": {
    "name": "ipython",
    "version": 3
   },
   "file_extension": ".py",
   "mimetype": "text/x-python",
   "name": "python",
   "nbconvert_exporter": "python",
   "pygments_lexer": "ipython3",
   "version": "3.12.3"
  }
 },
 "nbformat": 4,
 "nbformat_minor": 5
}
