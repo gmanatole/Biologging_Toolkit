{
 "cells": [
  {
   "cell_type": "code",
   "execution_count": null,
   "id": "64336346",
   "metadata": {},
   "outputs": [],
   "source": [
    "import sys, os\n",
    "import numpy as np\n",
    "import matplotlib.pyplot as plt\n",
    "plt.rcParams.update({\n",
    "    \"text.usetex\": True,                # Enable LaTeX text rendering\n",
    "    \"font.family\": \"serif\",             # Use a serif font\n",
    "    \"font.serif\": [\"Computer Modern\"],  # Set font to Computer Modern (LaTeX default)\n",
    "})\n",
    "sys.path.append('../src/')\n",
    "from Biologging_Toolkit.applications.Wind import Wind"
   ]
  },
  {
   "cell_type": "markdown",
   "id": "73fc711c",
   "metadata": {},
   "source": [
    "#### Enter deployment ID and path\n",
    "\n",
    "Finalized dataset will be saved or loaded from path"
   ]
  },
  {
   "cell_type": "code",
   "execution_count": null,
   "id": "0c2890f5",
   "metadata": {},
   "outputs": [],
   "source": [
    "depids = ['ml17_280a','ml18_296a','ml18_294b','ml19_292a','ml19_292b','ml19_293a','ml19_294a','ml20_293a','ml20_296b','ml20_313a','ml21_295a','ml21_305b']\n",
    "path = 'D:/individus_brut/individus'"
   ]
  },
  {
   "cell_type": "code",
   "execution_count": null,
   "id": "fd93b19b",
   "metadata": {},
   "outputs": [],
   "source": [
    "freqs = [50, 100, 200, 300, 500, 1000, 2500, 5000, 8000, 10000, 12000, 15000, 16000]"
   ]
  },
  {
   "cell_type": "markdown",
   "id": "185f6dda-4f1a-4abf-b92b-a1c619b8c588",
   "metadata": {},
   "source": [
    "### PLOT DISTRIBUTIONS"
   ]
  },
  {
   "cell_type": "code",
   "execution_count": null,
   "id": "a58df1fd-179a-4e6b-90b5-d5eaea034002",
   "metadata": {},
   "outputs": [],
   "source": [
    "import seaborn as sns\n",
    "import pandas as pd"
   ]
  },
  {
   "cell_type": "code",
   "execution_count": null,
   "id": "94076d64-a258-437b-a29a-112028879f6c",
   "metadata": {},
   "outputs": [],
   "source": [
    "fig, ax = plt.subplots(4, 3, sharex=True, sharey=True, figsize=(6, 6))\n",
    "ax = ax.flatten()\n",
    "for i, depid in enumerate(depids):\n",
    "    df = pd.read_csv(f'D:/individus_brut/individus/{depid}/{depid}_dive.csv')\n",
    "    _df = df[['upwards_mean_5000', 'downwards_mean_5000', 'wind_speed']]\n",
    "    _df = _df.melt(id_vars='wind_speed').dropna()\n",
    "    _df.columns = ['Wind speed (m/s)', 'variable', r'PSD at 5kHz (dB re 1 $\\mu$Pa)']\n",
    "    sns.kdeplot(\n",
    "        data=_df,\n",
    "        x='Wind speed (m/s)',\n",
    "        y=r'PSD at 5kHz (dB re 1 $\\mu$Pa)',\n",
    "        hue=\"variable\",\n",
    "        ax=ax[i],\n",
    "        legend = False)\n",
    "    ax[i].set_xlabel('')\n",
    "    ax[i].set_ylabel('')\n",
    "fig.text(0.56, 0.04, 'Wind speed (m/s)', ha='center', va='center', fontsize=14)\n",
    "fig.text(0.04, 0.5, r'PSD at 5kHz (dB re 1 $\\mu$Pa)', ha='center', va='center', rotation='vertical', fontsize=14)\n",
    "fig.tight_layout(rect=[0.05, 0.05, 1, 1])"
   ]
  },
  {
   "cell_type": "code",
   "execution_count": null,
   "id": "edfa5c0e-2f2b-48ea-96bb-a5083a18d0a4",
   "metadata": {},
   "outputs": [],
   "source": [
    "fig.savefig('C:/Users/grosm/Pictures/thèse/SPL_wind_distribution.pdf')"
   ]
  },
  {
   "cell_type": "markdown",
   "id": "eec17baa",
   "metadata": {},
   "source": [
    "#### Get estimations from different models"
   ]
  },
  {
   "cell_type": "code",
   "execution_count": null,
   "id": "85258880-07da-4166-901e-5c33af13224e",
   "metadata": {},
   "outputs": [],
   "source": [
    "data = np.load('data_frequency.npy')"
   ]
  },
  {
   "cell_type": "code",
   "execution_count": null,
   "id": "ae4af581-7c57-4631-afd1-0e4ff4a40a1f",
   "metadata": {},
   "outputs": [],
   "source": [
    "data = np.full((12,13,2), np.nan)\n",
    "for j, freq in enumerate(freqs):\n",
    "    for i, depid in enumerate(depids) :\n",
    "        inst = Wind(depids, path = [os.path.join(path, depid) for depid in depids], data = f'downwards_mean_{int(freq)}', test_depid = depid)\n",
    "        inst.depid_fit()\n",
    "        data[i,j,0] = inst.wind_model_stats['depid_mae']\n",
    "        inst = Wind(depids, path = [os.path.join(path, depid) for depid in depids], data = f'downwards_mean_{int(freq)}', test_depid = depid, method = 'Hildebrand')\n",
    "        inst.depid_fit()\n",
    "        data[i,j,1] = inst.wind_model_stats['depid_mae']"
   ]
  },
  {
   "cell_type": "code",
   "execution_count": null,
   "id": "1552674c-683e-4b45-91e4-b9085aece053",
   "metadata": {},
   "outputs": [],
   "source": [
    "fig, ax = plt.subplots(1,2, sharex = True, sharey = True, figsize = (6,5))\n",
    "colors = ['#1f77b4', '#ff7f0e','#2ca02c','#d62728','#9467bd','#8c564b','#e377c2',  '#7f7f7f','#bcbd22','#17becf','#ffbb78','#98df8a']\n",
    "for i in range(12):\n",
    "    ax[0].plot(freqs, data[i,:,0], '--o', color = colors[i], alpha = 0.4)\n",
    "    ax[1].plot(freqs, data[i,:,1], '--o', color = colors[i], label = depids[i], alpha = 0.4)\n",
    "ax[0].plot(freqs, np.mean(data[:,:,0], axis = 0), linewidth = 3, color = 'crimson', label = 'average mae')\n",
    "ax[1].plot(freqs, np.mean(data[:,:,1], axis = 0), linewidth = 3, color = 'crimson')\n",
    "ax[0].legend()\n",
    "ax[0].grid()\n",
    "ax[1].grid()\n",
    "ax[1].set_xlabel('Frequency (Hz)')\n",
    "ax[0].set_xlabel('Frequency (Hz)')\n",
    "ax[0].set_ylabel('Mean Absolute Error (m/s)')\n",
    "fig.tight_layout()"
   ]
  },
  {
   "cell_type": "code",
   "execution_count": null,
   "id": "6c6b9b5c-b747-4058-903e-de022cb4848e",
   "metadata": {},
   "outputs": [],
   "source": [
    "fig.savefig('C:/Users/grosm/Pictures/thèse/frequency_analysis.pdf')"
   ]
  },
  {
   "cell_type": "markdown",
   "id": "f217b0b8-38d2-4939-84ed-1a94ab9d5624",
   "metadata": {},
   "source": [
    "### Get model performance"
   ]
  },
  {
   "cell_type": "code",
   "execution_count": null,
   "id": "203dc3ba-4236-44c7-9f20-12debe13cb25",
   "metadata": {},
   "outputs": [],
   "source": [
    "import pandas as pd"
   ]
  },
  {
   "cell_type": "code",
   "execution_count": null,
   "id": "5777ed52-cbec-471a-9081-bef55519abba",
   "metadata": {},
   "outputs": [],
   "source": [
    "df = pd.DataFrame()\n",
    "freq = 5000\n",
    "for depid in depids:\n",
    "        inst = Wind(depids, path = [os.path.join(path, depid) for depid in depids], \n",
    "                    data = f'dive_mean_{int(freq)}', \n",
    "                    test_depid = depid, method = 'Hildebrand')\n",
    "        inst.depid_fit()\n",
    "        df[depid] = inst.wind_model_stats\n",
    "df.to_csv(f'C:/Users/grosm/Desktop/thèse/Results/logarithmic_dive_{freq}.csv', index = None)"
   ]
  },
  {
   "cell_type": "code",
   "execution_count": null,
   "id": "6bc5f288-3144-4b29-8eef-3a231499582d",
   "metadata": {},
   "outputs": [],
   "source": [
    "inst.wind_model_stats"
   ]
  },
  {
   "cell_type": "code",
   "execution_count": null,
   "id": "95f82d59-1eb6-4902-a398-b8c5355bdb60",
   "metadata": {},
   "outputs": [],
   "source": [
    "log_up = pd.read_csv('C:/Users/grosm/Desktop/thèse/Results/logarithmic_upwards_5000.csv')\n",
    "log_down = pd.read_csv('C:/Users/grosm/Desktop/thèse/Results/logarithmic_downwards_5000.csv')\n",
    "quad_up = pd.read_csv('C:/Users/grosm/Desktop/thèse/Results/quadratic_upwards_5000.csv')\n",
    "quad_down = pd.read_csv('C:/Users/grosm/Desktop/thèse/Results/quadratic_downwards_5000.csv')"
   ]
  },
  {
   "cell_type": "code",
   "execution_count": null,
   "id": "bf807f65-dec0-4f05-89a6-3f1bca4dcbee",
   "metadata": {},
   "outputs": [],
   "source": [
    "metric = pd.DataFrame({'up quadratic' : quad_up.mean(axis = 1), \n",
    "                       'down quadratic' : quad_down.mean(axis = 1),\n",
    "                       'up logarithmic' : log_up.mean(axis = 1), \n",
    "                       'down logarithmic' : log_down.mean(axis = 1)})"
   ]
  },
  {
   "cell_type": "code",
   "execution_count": null,
   "id": "f3b32570-302b-47a6-a103-8e1f52d44451",
   "metadata": {},
   "outputs": [],
   "source": [
    "metric = metric.T\n",
    "metric.columns = ['mae', 'rmse', 'r1', 'var', 'std']\n",
    "metric = metric.round(2)\n",
    "metric = metric.map(lambda x: f\"{x:.2f}\")\n",
    "metric.to_latex('C:/Users/grosm/Desktop/thèse/Results/empirical_metric.tex', columns = ['mae', 'rmse', 'std'])"
   ]
  },
  {
   "cell_type": "code",
   "execution_count": null,
   "id": "870af9d6-8751-4e15-9811-5904121c5439",
   "metadata": {},
   "outputs": [],
   "source": [
    "metric"
   ]
  },
  {
   "cell_type": "code",
   "execution_count": null,
   "id": "ec32cabe-1681-4344-849d-afc12f82cbac",
   "metadata": {},
   "outputs": [],
   "source": []
  }
 ],
 "metadata": {
  "kernelspec": {
   "display_name": "Python 3 (ipykernel)",
   "language": "python",
   "name": "python3"
  },
  "language_info": {
   "codemirror_mode": {
    "name": "ipython",
    "version": 3
   },
   "file_extension": ".py",
   "mimetype": "text/x-python",
   "name": "python",
   "nbconvert_exporter": "python",
   "pygments_lexer": "ipython3",
   "version": "3.12.3"
  }
 },
 "nbformat": 4,
 "nbformat_minor": 5
}
