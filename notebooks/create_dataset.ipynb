{
 "cells": [
  {
   "cell_type": "code",
   "execution_count": 27,
   "id": "0eb05ee5",
   "metadata": {},
   "outputs": [
    {
     "name": "stdout",
     "output_type": "stream",
     "text": [
      "c:\\Users\\barsro\\Documents\\SES_tags\\notebooks\\../src\\Biologging_Toolkit\n"
     ]
    }
   ],
   "source": [
    "import os, sys\n",
    "import shutil\n",
    "import pandas as pd\n",
    "import netCDF4\n",
    "from datetime import datetime, timedelta\n",
    "import numpy as np\n",
    "from scipy.spatial import cKDTree\n",
    "import matplotlib.pyplot as plt\n",
    "\n",
    "sys.path.append('../src/')\n",
    "from Biologging_Toolkit.auxiliary import Api_ERA\n",
    "from Biologging_Toolkit.auxiliary import Api_GPM\n",
    "import Biologging_Toolkit.utils.rain_empirical_utils as R_Utils\n"
   ]
  },
  {
   "cell_type": "code",
   "execution_count": 2,
   "id": "d56b0fbd",
   "metadata": {},
   "outputs": [],
   "source": [
    "source_path = \"E:/individus_brut\"\n",
    "dest_path = \"E:/individus_filtered\"\n",
    "\n",
    "depids = ['ml17_280a', 'ml18_296a', 'ml18_294b', 'ml19_292a', 'ml19_292b', 'ml19_293a', 'ml19_294a', 'ml20_293a',\n",
    "          'ml20_296b', 'ml20_313a', 'ml21_295a', 'ml21_305b']\n"
   ]
  },
  {
   "cell_type": "markdown",
   "id": "c94de342",
   "metadata": {},
   "source": [
    "---\n",
    "## Remise à zero des depid_sens.nc & depid_dive.csv"
   ]
  },
  {
   "cell_type": "code",
   "execution_count": null,
   "id": "d2321a8e",
   "metadata": {},
   "outputs": [],
   "source": [
    "for depid in depids[1:] :\n",
    "    #Enlever les fichiers erronés\n",
    "    file1 = os.path.join(dest_path, depid, f\"{depid}_dive_clean.csv\")\n",
    "    # file2 = os.path.join(dest_path, depid, f\"{depid}_dive.csv\")\n",
    "    # file3 = os.path.join(dest_path, depid, f\"{depid}_sens.nc\")\n",
    "    file4 = os.path.join(dest_path, depid, f\"{depid}_sens_clean.nc\")\n",
    "\n",
    "    new_folder_path = os.path.join(dest_path, depid, \"old_NC_CSV\")\n",
    "    os.makedirs(new_folder_path, exist_ok=True)\n",
    "    shutil.move(file1, new_folder_path)\n",
    "    # shutil.move(file2, new_folder_path)\n",
    "    # shutil.move(file3, new_folder_path)\n",
    "    shutil.move(file4, new_folder_path)\n",
    "\n",
    "    # Copier les fichiers bruts origins !\n",
    "    file1_src = os.path.join(source_path, depid, f\"{depid}_dive.csv\")\n",
    "    file2_src = os.path.join(source_path, depid, f\"{depid}_sens.nc\")\n",
    "    shutil.copy(file1_src, os.path.join(dest_path, depid))\n",
    "    shutil.copy(file2_src, os.path.join(dest_path, depid))"
   ]
  },
  {
   "cell_type": "markdown",
   "id": "0001c82a",
   "metadata": {},
   "source": [
    "---\n",
    "## Nettoyage colonnes "
   ]
  },
  {
   "cell_type": "code",
   "execution_count": null,
   "id": "7182cb4e",
   "metadata": {},
   "outputs": [],
   "source": [
    "for depid in depids :\n",
    "    print(f\"Working on {depid}\")\n",
    "    path = 'E:/individus_filtered/'\n",
    "    df = pd.read_csv(os.path.join(path, depid, f'{depid}_dive.csv'))\n",
    "    print(df.columns,\"\\n\")\n",
    "    # df.drop(['cylinder_gpm_0.036', 'cylinder_gpm_0.075', 'cylinder_gpm_0.1'], axis=1, inplace=True)\n",
    "    # df.to_csv(os.path.join(path, depid, f'{depid}_dive.csv'), index=False)"
   ]
  },
  {
   "cell_type": "markdown",
   "id": "195323df",
   "metadata": {},
   "source": [
    "---\n",
    "## Ajout des donées GPM"
   ]
  },
  {
   "cell_type": "code",
   "execution_count": null,
   "id": "ecfdddd3",
   "metadata": {},
   "outputs": [],
   "source": [
    "for depid in depids :\n",
    "    print(f\"Working on {depid}\")\n",
    "    Api_GPM.join_gpm(depid, f\"E:/individus_filtered\", \"precipitation\")"
   ]
  },
  {
   "cell_type": "code",
   "execution_count": 73,
   "id": "25b63bb8",
   "metadata": {},
   "outputs": [
    {
     "name": "stdout",
     "output_type": "stream",
     "text": [
      "Ligne 0: lat/lon invalides, ignorée nan, nan\n",
      "Ligne 1858: lat/lon invalides, ignorée nan, nan\n",
      "Ligne 0: lat/lon invalides, ignorée nan, nan\n",
      "Ligne 1858: lat/lon invalides, ignorée nan, nan\n",
      "Ligne 0: lat/lon invalides, ignorée nan, nan\n",
      "Ligne 1858: lat/lon invalides, ignorée nan, nan\n"
     ]
    }
   ],
   "source": [
    "for depid in depids[0:1] :\n",
    "    nc_gpm = netCDF4.Dataset(os.path.join(path, depid, f'{depid}_gpm.nc'))\n",
    "    lats = nc_gpm['lat'][:]\n",
    "    lons = nc_gpm['lon'][:]\n",
    "    precip = nc_gpm['precipitation'][:]  # [time, lat, lon]\n",
    "\n",
    "    base_time = datetime(1980, 1, 6, 0, 0, 0)\n",
    "    gpm_times = np.array([base_time + timedelta(seconds=float(s)) for s in nc_gpm['time'][:]])\n",
    "\n",
    "    df = pd.read_csv(os.path.join(path, depid, f'{depid}_dive.csv'))\n",
    "    df['custom_time'] = pd.to_datetime(df['begin_time'], unit='s', origin='unix') \n",
    "\n",
    "    # Créer la grille des points GPM (lat, lon)\n",
    "    grid_lons, grid_lats = np.meshgrid(lons, lats)\n",
    "    gpm_points = np.column_stack([grid_lats.ravel(), grid_lons.ravel()])\n",
    "    tree = cKDTree(gpm_points)\n",
    "    for radius in [0.01, 0.018, 0.036] :\n",
    "\n",
    "        # Initialiser la colonne d'interpolation\n",
    "        df[f'cyl_gpm_{radius}'] = np.nan\n",
    "\n",
    "        for i, row in df.iterrows():\n",
    "            if np.isnan(row['lat']) or np.isnan(row['lon']) or np.isinf(row['lat']) or np.isinf(row['lon']):\n",
    "                print(f\"Ligne {i}: lat/lon invalides, ignorée {row['lat']}, {row['lon']}\")\n",
    "                continue\n",
    "            time = row['custom_time']\n",
    "            \n",
    "            # Trouver les deux dates GPM encadrantes\n",
    "            idx_after = np.searchsorted(gpm_times, time)\n",
    "            \n",
    "            if idx_after == 0 or idx_after == len(gpm_times):\n",
    "                continue  # hors des bornes GPM\n",
    "\n",
    "            idx_before = idx_after - 1\n",
    "            t0, t1 = gpm_times[idx_before], gpm_times[idx_after]\n",
    "            dt = (t1 - t0).total_seconds()\n",
    "            w1 = (time - t0).total_seconds() / dt\n",
    "            w0 = 1 - w1\n",
    "\n",
    "            # Chercher voisin spatial\n",
    "            point = [row['lat'], row['lon']]\n",
    "            dist, idx = tree.query(point, distance_upper_bound=radius)\n",
    "            \n",
    "            if dist != np.inf:\n",
    "                lat_idx, lon_idx = np.unravel_index(idx, grid_lats.shape)\n",
    "                val0 = precip[idx_before, lat_idx, lon_idx]\n",
    "                val1 = precip[idx_after, lat_idx, lon_idx]\n",
    "                \n",
    "                # Interpolation linéaire temporelle\n",
    "                df.at[i, f'cyl_gpm_{radius}'] = w0 * val0 + w1 * val1\n",
    "    df.drop(['custom_time'], axis=1, inplace=True)\n",
    "    df.to_csv(os.path.join(path, depid, f'{depid}_dive.csv'), index = None)"
   ]
  },
  {
   "cell_type": "code",
   "execution_count": 74,
   "id": "83d30519",
   "metadata": {},
   "outputs": [
    {
     "data": {
      "text/html": [
       "<div>\n",
       "<style scoped>\n",
       "    .dataframe tbody tr th:only-of-type {\n",
       "        vertical-align: middle;\n",
       "    }\n",
       "\n",
       "    .dataframe tbody tr th {\n",
       "        vertical-align: top;\n",
       "    }\n",
       "\n",
       "    .dataframe thead th {\n",
       "        text-align: right;\n",
       "    }\n",
       "</style>\n",
       "<table border=\"1\" class=\"dataframe\">\n",
       "  <thead>\n",
       "    <tr style=\"text-align: right;\">\n",
       "      <th></th>\n",
       "      <th>dive</th>\n",
       "      <th>begin_time</th>\n",
       "      <th>end_time</th>\n",
       "      <th>zn1</th>\n",
       "      <th>zn2</th>\n",
       "      <th>zn1_up</th>\n",
       "      <th>zn2_up</th>\n",
       "      <th>zn1_down</th>\n",
       "      <th>zn2_down</th>\n",
       "      <th>threhsold_up</th>\n",
       "      <th>...</th>\n",
       "      <th>lstm_cfosat</th>\n",
       "      <th>begin_wind</th>\n",
       "      <th>precipitation_GPM</th>\n",
       "      <th>tpmaxPool</th>\n",
       "      <th>tp</th>\n",
       "      <th>cyl_gpm_0.01</th>\n",
       "      <th>cyl_gpm_0.018</th>\n",
       "      <th>cyl_gpm_0.036</th>\n",
       "      <th>FOD</th>\n",
       "      <th>corr_mld</th>\n",
       "    </tr>\n",
       "  </thead>\n",
       "  <tbody>\n",
       "    <tr>\n",
       "      <th>0</th>\n",
       "      <td>0.0</td>\n",
       "      <td>1.507334e+09</td>\n",
       "      <td>1.507335e+09</td>\n",
       "      <td>NaN</td>\n",
       "      <td>NaN</td>\n",
       "      <td>NaN</td>\n",
       "      <td>NaN</td>\n",
       "      <td>NaN</td>\n",
       "      <td>NaN</td>\n",
       "      <td>157.202545</td>\n",
       "      <td>...</td>\n",
       "      <td>15.581713</td>\n",
       "      <td>NaN</td>\n",
       "      <td>NaN</td>\n",
       "      <td>0.000030</td>\n",
       "      <td>NaN</td>\n",
       "      <td>NaN</td>\n",
       "      <td>NaN</td>\n",
       "      <td>NaN</td>\n",
       "      <td>NaN</td>\n",
       "      <td>NaN</td>\n",
       "    </tr>\n",
       "    <tr>\n",
       "      <th>1</th>\n",
       "      <td>1.0</td>\n",
       "      <td>1.507335e+09</td>\n",
       "      <td>1.507337e+09</td>\n",
       "      <td>NaN</td>\n",
       "      <td>NaN</td>\n",
       "      <td>NaN</td>\n",
       "      <td>NaN</td>\n",
       "      <td>NaN</td>\n",
       "      <td>NaN</td>\n",
       "      <td>134.639832</td>\n",
       "      <td>...</td>\n",
       "      <td>15.214185</td>\n",
       "      <td>15.187502</td>\n",
       "      <td>0.014598</td>\n",
       "      <td>0.000199</td>\n",
       "      <td>0.000146</td>\n",
       "      <td>NaN</td>\n",
       "      <td>NaN</td>\n",
       "      <td>NaN</td>\n",
       "      <td>NaN</td>\n",
       "      <td>NaN</td>\n",
       "    </tr>\n",
       "    <tr>\n",
       "      <th>2</th>\n",
       "      <td>2.0</td>\n",
       "      <td>1.507337e+09</td>\n",
       "      <td>1.507338e+09</td>\n",
       "      <td>NaN</td>\n",
       "      <td>NaN</td>\n",
       "      <td>NaN</td>\n",
       "      <td>NaN</td>\n",
       "      <td>NaN</td>\n",
       "      <td>NaN</td>\n",
       "      <td>125.335068</td>\n",
       "      <td>...</td>\n",
       "      <td>14.473380</td>\n",
       "      <td>15.082936</td>\n",
       "      <td>0.020260</td>\n",
       "      <td>0.000199</td>\n",
       "      <td>0.000125</td>\n",
       "      <td>NaN</td>\n",
       "      <td>NaN</td>\n",
       "      <td>NaN</td>\n",
       "      <td>NaN</td>\n",
       "      <td>NaN</td>\n",
       "    </tr>\n",
       "    <tr>\n",
       "      <th>3</th>\n",
       "      <td>3.0</td>\n",
       "      <td>1.507338e+09</td>\n",
       "      <td>1.507339e+09</td>\n",
       "      <td>NaN</td>\n",
       "      <td>NaN</td>\n",
       "      <td>NaN</td>\n",
       "      <td>NaN</td>\n",
       "      <td>NaN</td>\n",
       "      <td>NaN</td>\n",
       "      <td>124.460243</td>\n",
       "      <td>...</td>\n",
       "      <td>14.536754</td>\n",
       "      <td>14.976356</td>\n",
       "      <td>0.025509</td>\n",
       "      <td>0.000199</td>\n",
       "      <td>0.000105</td>\n",
       "      <td>NaN</td>\n",
       "      <td>NaN</td>\n",
       "      <td>NaN</td>\n",
       "      <td>NaN</td>\n",
       "      <td>NaN</td>\n",
       "    </tr>\n",
       "    <tr>\n",
       "      <th>4</th>\n",
       "      <td>4.0</td>\n",
       "      <td>1.507339e+09</td>\n",
       "      <td>1.507341e+09</td>\n",
       "      <td>NaN</td>\n",
       "      <td>NaN</td>\n",
       "      <td>NaN</td>\n",
       "      <td>NaN</td>\n",
       "      <td>NaN</td>\n",
       "      <td>NaN</td>\n",
       "      <td>133.336792</td>\n",
       "      <td>...</td>\n",
       "      <td>13.652518</td>\n",
       "      <td>14.824885</td>\n",
       "      <td>0.043237</td>\n",
       "      <td>0.000199</td>\n",
       "      <td>0.000127</td>\n",
       "      <td>NaN</td>\n",
       "      <td>NaN</td>\n",
       "      <td>NaN</td>\n",
       "      <td>NaN</td>\n",
       "      <td>NaN</td>\n",
       "    </tr>\n",
       "  </tbody>\n",
       "</table>\n",
       "<p>5 rows × 70 columns</p>\n",
       "</div>"
      ],
      "text/plain": [
       "   dive    begin_time      end_time  zn1  zn2  zn1_up  zn2_up  zn1_down  \\\n",
       "0   0.0  1.507334e+09  1.507335e+09  NaN  NaN     NaN     NaN       NaN   \n",
       "1   1.0  1.507335e+09  1.507337e+09  NaN  NaN     NaN     NaN       NaN   \n",
       "2   2.0  1.507337e+09  1.507338e+09  NaN  NaN     NaN     NaN       NaN   \n",
       "3   3.0  1.507338e+09  1.507339e+09  NaN  NaN     NaN     NaN       NaN   \n",
       "4   4.0  1.507339e+09  1.507341e+09  NaN  NaN     NaN     NaN       NaN   \n",
       "\n",
       "   zn2_down  threhsold_up  ...  lstm_cfosat  begin_wind  precipitation_GPM  \\\n",
       "0       NaN    157.202545  ...    15.581713         NaN                NaN   \n",
       "1       NaN    134.639832  ...    15.214185   15.187502           0.014598   \n",
       "2       NaN    125.335068  ...    14.473380   15.082936           0.020260   \n",
       "3       NaN    124.460243  ...    14.536754   14.976356           0.025509   \n",
       "4       NaN    133.336792  ...    13.652518   14.824885           0.043237   \n",
       "\n",
       "   tpmaxPool        tp  cyl_gpm_0.01  cyl_gpm_0.018  cyl_gpm_0.036  FOD  \\\n",
       "0   0.000030       NaN           NaN            NaN            NaN  NaN   \n",
       "1   0.000199  0.000146           NaN            NaN            NaN  NaN   \n",
       "2   0.000199  0.000125           NaN            NaN            NaN  NaN   \n",
       "3   0.000199  0.000105           NaN            NaN            NaN  NaN   \n",
       "4   0.000199  0.000127           NaN            NaN            NaN  NaN   \n",
       "\n",
       "   corr_mld  \n",
       "0       NaN  \n",
       "1       NaN  \n",
       "2       NaN  \n",
       "3       NaN  \n",
       "4       NaN  \n",
       "\n",
       "[5 rows x 70 columns]"
      ]
     },
     "execution_count": 74,
     "metadata": {},
     "output_type": "execute_result"
    }
   ],
   "source": [
    "df = pd.DataFrame({})\n",
    "for depid in depids :\n",
    "    df = pd.concat([df, pd.read_csv(os.path.join(path, depid, f'{depid}_dive.csv'))], ignore_index=True)\n",
    "df.head()"
   ]
  },
  {
   "cell_type": "markdown",
   "id": "ca752d86",
   "metadata": {},
   "source": [
    "---\n",
    "## Ajout des données ERA5"
   ]
  },
  {
   "cell_type": "code",
   "execution_count": null,
   "id": "20a1aaae",
   "metadata": {},
   "outputs": [],
   "source": [
    "value = 'tp'\n",
    "for depid in depids[1:] :\n",
    "    print(f\"Working on {depid} :\")\n",
    "    path = os.path.join(dest_path, depid)\n",
    "    era_path = os.path.join(path, \"era\", f\"{depid}.nc\")\n",
    "    Api_ERA.join_era_maxPool(depid, path, era_path, value)\n",
    "    Api_ERA.join_era(depid, path, era_path, value)"
   ]
  },
  {
   "cell_type": "code",
   "execution_count": 66,
   "id": "79e635fa",
   "metadata": {},
   "outputs": [
    {
     "name": "stdout",
     "output_type": "stream",
     "text": [
      "<class 'numpy.float64'>\n"
     ]
    }
   ],
   "source": [
    "df = pd.read_csv(os.path.join(dest_path, depid, f\"{depid}_dive.csv\"))\n",
    "print(type(df.iloc[0][\"end_time\"]))\n",
    "\n",
    "# nc = nc =netCDF4.Dataset(os.path.join(dest_path, depid, f\"{depid}_sens.nc\")) \n",
    "# for var in nc.variables:\n",
    "#     print(var)\n",
    "# nc.close()"
   ]
  },
  {
   "cell_type": "markdown",
   "id": "2f5b0a83",
   "metadata": {},
   "source": [
    "---\n",
    "## Remettre begin_time au bon format"
   ]
  },
  {
   "cell_type": "code",
   "execution_count": null,
   "id": "37dadfe4",
   "metadata": {},
   "outputs": [],
   "source": [
    "for depid in depids :\n",
    "    df = pd.read_csv(os.path.join(dest_path, depid, f\"{depid}_dive.csv\"))\n",
    "    print(df.iloc[0][\"begin_time\"], df.iloc[0][\"end_time\"])\n",
    "    df['begin_time'] = pd.to_datetime(df['begin_time'])\n",
    "    df['begin_time'] = df['begin_time'].astype('int64') / 1e9\n",
    "    print(type(df.iloc[0][\"begin_time\"]), type(df.iloc[0][\"end_time\"]))\n",
    "    df.to_csv(os.path.join(dest_path, depid, f\"{depid}_dive.csv\"), index=False)\n",
    "    # df.to_csv(\"fichier.csv\", index=False)"
   ]
  },
  {
   "cell_type": "markdown",
   "id": "31fbf601",
   "metadata": {},
   "source": [
    "---\n",
    "## Backup csv, nc files"
   ]
  },
  {
   "cell_type": "code",
   "execution_count": 76,
   "id": "0aa002f3",
   "metadata": {},
   "outputs": [],
   "source": [
    "for depid in depids[1:] :\n",
    "    csv_path = os.path.join(dest_path, depid, f\"{depid}_dive.csv\")\n",
    "    nc_path = os.path.join(dest_path, depid, f\"{depid}_sens.nc\")\n",
    "    shutil.copy(csv_path, \"E:/nc_csv_backup\")\n",
    "    shutil.copy(nc_path, \"E:/nc_csv_backup\")"
   ]
  },
  {
   "cell_type": "code",
   "execution_count": null,
   "id": "2b13a7a3",
   "metadata": {},
   "outputs": [],
   "source": []
  }
 ],
 "metadata": {
  "kernelspec": {
   "display_name": "rain",
   "language": "python",
   "name": "python3"
  },
  "language_info": {
   "codemirror_mode": {
    "name": "ipython",
    "version": 3
   },
   "file_extension": ".py",
   "mimetype": "text/x-python",
   "name": "python",
   "nbconvert_exporter": "python",
   "pygments_lexer": "ipython3",
   "version": "3.12.3"
  }
 },
 "nbformat": 4,
 "nbformat_minor": 5
}
