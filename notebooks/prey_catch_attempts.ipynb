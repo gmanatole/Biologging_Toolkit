{
 "cells": [
  {
   "cell_type": "code",
   "execution_count": 1,
   "id": "d7be0b72",
   "metadata": {},
   "outputs": [
    {
     "name": "stdout",
     "output_type": "stream",
     "text": [
      "/home6/grosmaan/Documents/SES_tags/notebooks/../src/Biologging_Toolkit\n"
     ]
    }
   ],
   "source": [
    "import sys\n",
    "from datetime import datetime\n",
    "import pandas as pd\n",
    "import os\n",
    "sys.path.append('../src/')\n",
    "from Biologging_Toolkit.processing.Inertial import Inertial\n",
    "from Biologging_Toolkit.applications.Jerk import Jerk\n",
    "from Biologging_Toolkit.plot.spectrogram import *"
   ]
  },
  {
   "cell_type": "markdown",
   "id": "a83ffdc6",
   "metadata": {},
   "source": [
    "#### Enter deployment ID and path\n",
    "\n",
    "Finalized dataset will be saved or loaded from path"
   ]
  },
  {
   "cell_type": "code",
   "execution_count": 2,
   "id": "fc85e760",
   "metadata": {},
   "outputs": [],
   "source": [
    "depid = 'ml17_280a'\n",
    "path = '/run/media/grosmaan/LaCie1/individus_brut/'\n",
    "sens_path = os.path.join(path, 'CTD', depid, depid+'sens5.nc')\n",
    "raw_path = os.path.join(path, 'individus', depid, 'raw')"
   ]
  },
  {
   "cell_type": "markdown",
   "id": "41ec923f",
   "metadata": {},
   "source": [
    "#### Run cells to get PCAs\n",
    "\n",
    "Time can be constructed from extisting time array or by entering the path to sens5 dataset."
   ]
  },
  {
   "cell_type": "code",
   "execution_count": 10,
   "id": "622c125f",
   "metadata": {},
   "outputs": [],
   "source": [
    "aux = pd.read_csv(os.path.join(path, 'individus', depid, 'aux_data.csv'))  #Get existing dataframe with time array\n",
    "inst = Jerk(depid, \n",
    "            path = os.path.join(path, 'individus',depid), \n",
    "            sens_path = sens_path, \n",
    "            raw_path = raw_path\n",
    "           )\n"
   ]
  },
  {
   "cell_type": "code",
   "execution_count": 11,
   "id": "11e3b43d",
   "metadata": {
    "scrolled": true
   },
   "outputs": [],
   "source": [
    "inst.create_time(aux.time.to_numpy())\n",
    "inst(overwrite = True)    #Calls low resolution jerk from sens5, then double checks with high resolution Acc data"
   ]
  },
  {
   "cell_type": "markdown",
   "id": "230e8881",
   "metadata": {},
   "source": [
    "#### Run cells to get posture and heading"
   ]
  },
  {
   "cell_type": "code",
   "execution_count": 3,
   "id": "99c879ef",
   "metadata": {},
   "outputs": [],
   "source": [
    "inst = Inertial(depid, \n",
    "            path = os.path.join(path, 'individus',depid), \n",
    "            inertial_path = sens_path, \n",
    "            )"
   ]
  },
  {
   "cell_type": "code",
   "execution_count": 13,
   "id": "2aa5419c",
   "metadata": {},
   "outputs": [
    {
     "name": "stderr",
     "output_type": "stream",
     "text": [
      "Averaging inertial data: 38719it [00:13, 3009.60it/s]/home6/grosmaan/Documents/SES_tags/notebooks/../src/Biologging_Toolkit/processing/Inertial.py:253: RuntimeWarning: Mean of empty slice\n",
      "  self.P_moy[t] = np.nanmean(self.P[lind:hind])\n",
      "/home6/grosmaan/Documents/SES_tags/notebooks/../src/Biologging_Toolkit/processing/Inertial.py:254: RuntimeWarning: Mean of empty slice\n",
      "  self.A_moy[t] = list(np.nanmean(self.A[:, lind:hind], axis = 1))\n",
      "/home6/grosmaan/Documents/SES_tags/notebooks/../src/Biologging_Toolkit/processing/Inertial.py:255: RuntimeWarning: Mean of empty slice\n",
      "  self.M_moy[t] = list(np.nanmean(self.M[:, lind:hind], axis = 1))\n",
      "/home6/grosmaan/Documents/SES_tags/notebooks/../src/Biologging_Toolkit/processing/Inertial.py:256: RuntimeWarning: Degrees of freedom <= 0 for slice.\n",
      "  self.activity[t] = np.sqrt(np.sum(np.nanvar(self.A[:, lind:hind], axis = 1)))\n",
      "Averaging inertial data: 880700it [05:54, 2485.93it/s]\n"
     ]
    }
   ],
   "source": [
    "inst()"
   ]
  },
  {
   "cell_type": "markdown",
   "id": "fd1eff43",
   "metadata": {},
   "source": [
    "#### Plot values over spectrogram"
   ]
  },
  {
   "cell_type": "code",
   "execution_count": 16,
   "id": "5020c20b",
   "metadata": {},
   "outputs": [
    {
     "data": {
      "text/plain": [
       "1509026034.0"
      ]
     },
     "execution_count": 16,
     "metadata": {},
     "output_type": "execute_result"
    }
   ],
   "source": [
    "inst.ds['time'][:][np.argmax(inst.ds['jerk'][:])]"
   ]
  },
  {
   "cell_type": "code",
   "execution_count": 17,
   "id": "8bcf6a7d",
   "metadata": {},
   "outputs": [
    {
     "data": {
      "text/plain": [
       "datetime.datetime(2017, 10, 26, 15, 53, 54)"
      ]
     },
     "execution_count": 17,
     "metadata": {},
     "output_type": "execute_result"
    }
   ],
   "source": [
    "datetime.fromtimestamp(1509026034.0)"
   ]
  },
  {
   "cell_type": "code",
   "execution_count": 18,
   "id": "fd441c1a",
   "metadata": {},
   "outputs": [],
   "source": [
    "# Example parameters\n",
    "debut = datetime(2017, 10, 26, 15, 50, 0)\n",
    "fin = datetime(2017, 10, 26, 16, 10, 0)\n",
    "freq_min = 20\n",
    "freq_max = 6000"
   ]
  },
  {
   "cell_type": "code",
   "execution_count": 30,
   "id": "bddd34a1",
   "metadata": {},
   "outputs": [
    {
     "data": {
      "text/plain": [
       "['/run/media/grosmaan/LaCie1/individus_brut/individus/ml17_280a/raw/ml17_280a067.wav',\n",
       " 1509010821]"
      ]
     },
     "execution_count": 30,
     "metadata": {},
     "output_type": "execute_result"
    }
   ],
   "source": [
    "timestamp = get_timestamp(raw_path)\n",
    "list(timestamp[timestamp.begin < 1509026034.0].iloc[-1])\n"
   ]
  },
  {
   "cell_type": "code",
   "execution_count": 35,
   "id": "1881dddb",
   "metadata": {},
   "outputs": [
    {
     "data": {
      "text/plain": [
       "13.55"
      ]
     },
     "execution_count": 35,
     "metadata": {},
     "output_type": "execute_result"
    }
   ],
   "source": [
    "(1509026034.0-1509010821 - 4*3600)/60"
   ]
  },
  {
   "cell_type": "code",
   "execution_count": 19,
   "id": "40a6ecce",
   "metadata": {},
   "outputs": [
    {
     "name": "stdout",
     "output_type": "stream",
     "text": [
      "Dash is running on http://127.0.0.1:17289/\n",
      "\n",
      " * Serving Flask app 'Biologging_Toolkit.plot.spectrogram'\n",
      " * Debug mode: off\n"
     ]
    },
    {
     "name": "stderr",
     "output_type": "stream",
     "text": [
      "WARNING: This is a development server. Do not use it in a production deployment. Use a production WSGI server instead.\n",
      " * Running on http://127.0.0.1:17289\n",
      "Press CTRL+C to quit\n",
      "127.0.0.1 - - [03/Sep/2024 18:58:49] \"GET / HTTP/1.1\" 200 -\n",
      "127.0.0.1 - - [03/Sep/2024 18:58:49] \"GET /_dash-component-suites/dash/deps/polyfill@7.v2_8_1m1675174511.12.1.min.js HTTP/1.1\" 200 -\n",
      "127.0.0.1 - - [03/Sep/2024 18:58:49] \"GET /_dash-component-suites/dash/deps/react@16.v2_8_1m1675174511.14.0.min.js HTTP/1.1\" 200 -\n",
      "127.0.0.1 - - [03/Sep/2024 18:58:49] \"GET /_dash-component-suites/dash/dash-renderer/build/dash_renderer.v2_8_1m1675174511.min.js HTTP/1.1\" 200 -\n",
      "127.0.0.1 - - [03/Sep/2024 18:58:49] \"GET /_dash-component-suites/dash/deps/react-dom@16.v2_8_1m1675174511.14.0.min.js HTTP/1.1\" 200 -\n",
      "127.0.0.1 - - [03/Sep/2024 18:58:49] \"GET /_dash-component-suites/dash/deps/prop-types@15.v2_8_1m1675174511.8.1.min.js HTTP/1.1\" 200 -\n",
      "127.0.0.1 - - [03/Sep/2024 18:58:49] \"GET /_dash-component-suites/dash/dash_table/bundle.v5_2_2m1675174511.js HTTP/1.1\" 200 -\n",
      "127.0.0.1 - - [03/Sep/2024 18:58:49] \"GET /_dash-component-suites/dash/dcc/dash_core_components.v2_8_0m1675174511.js HTTP/1.1\" 200 -\n",
      "127.0.0.1 - - [03/Sep/2024 18:58:49] \"GET /_dash-component-suites/dash/html/dash_html_components.v2_0_8m1675174511.min.js HTTP/1.1\" 200 -\n",
      "127.0.0.1 - - [03/Sep/2024 18:58:49] \"GET /_dash-component-suites/dash/dcc/dash_core_components-shared.v2_8_0m1675174511.js HTTP/1.1\" 200 -\n",
      "127.0.0.1 - - [03/Sep/2024 18:58:50] \"GET /_dash-layout HTTP/1.1\" 200 -\n",
      "127.0.0.1 - - [03/Sep/2024 18:58:50] \"GET /_dash-dependencies HTTP/1.1\" 200 -\n",
      "127.0.0.1 - - [03/Sep/2024 18:58:50] \"GET /_favicon.ico?v=2.8.1 HTTP/1.1\" 200 -\n",
      "127.0.0.1 - - [03/Sep/2024 18:58:50] \"GET /_dash-component-suites/dash/dcc/async-graph.js HTTP/1.1\" 200 -\n",
      "127.0.0.1 - - [03/Sep/2024 18:58:50] \"GET /_dash-component-suites/dash/dcc/async-plotlyjs.js HTTP/1.1\" 200 -\n",
      "/home6/grosmaan/Documents/SES_tags/notebooks/../src/Biologging_Toolkit/plot/spectrogram.py:72: RuntimeWarning:\n",
      "\n",
      "divide by zero encountered in log10\n",
      "\n",
      "127.0.0.1 - - [03/Sep/2024 18:59:12] \"POST /_dash-update-component HTTP/1.1\" 200 -\n",
      "/home6/grosmaan/Documents/SES_tags/notebooks/../src/Biologging_Toolkit/plot/spectrogram.py:72: RuntimeWarning:\n",
      "\n",
      "divide by zero encountered in log10\n",
      "\n",
      "127.0.0.1 - - [03/Sep/2024 19:00:20] \"POST /_dash-update-component HTTP/1.1\" 200 -\n"
     ]
    }
   ],
   "source": [
    "plot_spectrogram(inst, debut, fin, freq_min, freq_max, raw_path)"
   ]
  },
  {
   "cell_type": "code",
   "execution_count": null,
   "id": "3ece2227",
   "metadata": {},
   "outputs": [],
   "source": []
  }
 ],
 "metadata": {
  "kernelspec": {
   "display_name": "meteoses",
   "language": "python",
   "name": "myenv"
  },
  "language_info": {
   "codemirror_mode": {
    "name": "ipython",
    "version": 3
   },
   "file_extension": ".py",
   "mimetype": "text/x-python",
   "name": "python",
   "nbconvert_exporter": "python",
   "pygments_lexer": "ipython3",
   "version": "3.10.10"
  }
 },
 "nbformat": 4,
 "nbformat_minor": 5
}
