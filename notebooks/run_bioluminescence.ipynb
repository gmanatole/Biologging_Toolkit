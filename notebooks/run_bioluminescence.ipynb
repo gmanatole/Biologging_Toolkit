{
 "cells": [
  {
   "cell_type": "code",
   "execution_count": null,
   "id": "d2048ea1",
   "metadata": {},
   "outputs": [],
   "source": [
    "import sys, os\n",
    "import pandas as pd\n",
    "import netCDF4 as nc\n",
    "import numpy as np\n",
    "sys.path.append('../src/')\n",
    "from Biologging_Toolkit.processing.Bioluminescence import Bioluminescence"
   ]
  },
  {
   "cell_type": "markdown",
   "id": "5d0ff315",
   "metadata": {},
   "source": [
    "#### Enter deployment ID and path\n",
    "\n",
    "Finalized dataset will be saved or loaded from path"
   ]
  },
  {
   "cell_type": "code",
   "execution_count": null,
   "id": "39819816",
   "metadata": {},
   "outputs": [],
   "source": [
    "depids = ['ml17_280a','ml18_296a','ml18_294b','ml19_292a','ml19_292b','ml19_293a','ml19_294a','ml20_293a','ml20_296b','ml20_313a','ml21_295a','ml21_305b']\n",
    "depid = depids[9]\n",
    "path = f'D:/individus_brut/individus/{depid}/'\n",
    "sens_path = f'D:/individus_brut/CTD/{depid}/{depid}sens5.nc'\n",
    "trk_path = f'D:/individus_brut/CTD/{depid}/{depid}trk.nc'"
   ]
  },
  {
   "cell_type": "markdown",
   "id": "e9f660b6",
   "metadata": {},
   "source": [
    "#### Run cells to get acoustic features\n",
    "\n",
    "Time can be constructed from extisting time array or by entering the path to sens5 dataset."
   ]
  },
  {
   "cell_type": "code",
   "execution_count": null,
   "id": "74be204c",
   "metadata": {},
   "outputs": [],
   "source": [
    "inst = Bioluminescence(depid,\n",
    "            path = path,\n",
    "            sens_path = sens_path,\n",
    "            trk_path = trk_path\n",
    "            )"
   ]
  },
  {
   "cell_type": "code",
   "execution_count": null,
   "outputs": [],
   "source": [
    "inst(overwrite = True)"
   ],
   "metadata": {
    "collapsed": false
   }
  },
  {
   "cell_type": "code",
   "execution_count": null,
   "id": "093780d3",
   "metadata": {},
   "outputs": [],
   "source": [
    "inst.get_flash()"
   ]
  },
  {
   "cell_type": "code",
   "execution_count": null,
   "outputs": [],
   "source": [
    "inst.ds.close()"
   ],
   "metadata": {
    "collapsed": false
   }
  },
  {
   "cell_type": "markdown",
   "source": [
    "### JOIN FLASH TO DIVE CSV (AMOUNT OF FLASH PER DIVE)"
   ],
   "metadata": {
    "collapsed": false
   }
  },
  {
   "cell_type": "code",
   "execution_count": null,
   "outputs": [],
   "source": [
    "for depid in depids[9:] :\n",
    "    path = f'D:/individus_brut/individus/{depid}/'\n",
    "    ds = nc.Dataset(os.path.join(path, f'{depid}_sens.nc'))\n",
    "    df = pd.read_csv(os.path.join(path, f'{depid}_dive.csv'))\n",
    "    sens_time = ds['time'][:].data\n",
    "    try :\n",
    "        LL = ds['flash'][:].data\n",
    "    except IndexError :\n",
    "        continue\n",
    "    flash = []\n",
    "    for i, row in df.iterrows():\n",
    "        _LL = LL[(sens_time >= row.begin_time) & (sens_time <= row.end_time)]\n",
    "        flash.append(np.sum(_LL[:,2]))\n",
    "    df['flash'] = flash\n",
    "    df.to_csv(os.path.join(path, f'{depid}_dive.csv'), index = None)"
   ],
   "metadata": {
    "collapsed": false
   }
  },
  {
   "cell_type": "code",
   "execution_count": null,
   "outputs": [],
   "source": [
    "ds.close()"
   ],
   "metadata": {
    "collapsed": false
   }
  }
 ],
 "metadata": {
  "kernelspec": {
   "name": "python3",
   "language": "python",
   "display_name": "Python 3 (ipykernel)"
  },
  "language_info": {
   "codemirror_mode": {
    "name": "ipython",
    "version": 3
   },
   "file_extension": ".py",
   "mimetype": "text/x-python",
   "name": "python",
   "nbconvert_exporter": "python",
   "pygments_lexer": "ipython3",
   "version": "3.10.10"
  }
 },
 "nbformat": 4,
 "nbformat_minor": 5
}
