{
 "cells": [
  {
   "cell_type": "code",
   "execution_count": null,
   "id": "64336346",
   "metadata": {},
   "outputs": [],
   "source": [
    "import sys, os\n",
    "import pandas as pd\n",
    "import matplotlib.pyplot as plt\n",
    "import seaborn as sns\n",
    "import numpy as np\n",
    "sys.path.append('../src/')\n",
    "from Biologging_Toolkit.applications.Surface import Surface"
   ]
  },
  {
   "cell_type": "markdown",
   "id": "73fc711c",
   "metadata": {},
   "source": [
    "#### Enter deployment ID and path\n",
    "\n",
    "Finalized dataset will be saved or loaded from path"
   ]
  },
  {
   "cell_type": "code",
   "execution_count": null,
   "id": "0c2890f5",
   "metadata": {},
   "outputs": [],
   "source": [
    "depid = 'ml17_280a'\n",
    "path = 'D:/individus_brut/individus/ml17_280a/'\n",
    "wav_path = 'D:/individus_brut/individus/ml17_280a/raw/'"
   ]
  },
  {
   "cell_type": "markdown",
   "id": "eec17baa",
   "metadata": {},
   "source": [
    "#### Run cells to get acoustic features\n",
    "\n",
    "Time can be constructed from extisting time array or by entering the path to sens5 dataset."
   ]
  },
  {
   "cell_type": "code",
   "execution_count": null,
   "id": "7b721279",
   "metadata": {},
   "outputs": [],
   "source": [
    "inst = Surface(depid, \n",
    "            path = path,\n",
    "            wav_path = wav_path\n",
    "            )"
   ]
  },
  {
   "cell_type": "code",
   "execution_count": null,
   "id": "ea12a180",
   "metadata": {},
   "outputs": [],
   "source": [
    "inst.get_timestamps(from_raw = True)"
   ]
  },
  {
   "cell_type": "code",
   "execution_count": null,
   "id": "c6c7a2e0",
   "metadata": {},
   "outputs": [],
   "source": [
    "dives, nresp, durresp, iresp = inst.get_surface_wav()"
   ]
  },
  {
   "cell_type": "code",
   "execution_count": null,
   "id": "4dc1c4d3",
   "metadata": {},
   "outputs": [],
   "source": [
    "nresp =  np.array(nresp).astype(float)\n",
    "nresp[nresp >= 100] = np.nan\n",
    "durresp = np.array(durresp)\n",
    "durresp[durresp > 500] = np.nan\n",
    "iresp = np.array(iresp)\n",
    "iresp[iresp > 4] = 4"
   ]
  },
  {
   "cell_type": "code",
   "execution_count": null,
   "id": "c3351381",
   "metadata": {},
   "outputs": [],
   "source": [
    "df = pd.read_csv('F:/individus_brut/individus/ml17_280a/ml17_280a_dive.csv')"
   ]
  },
  {
   "cell_type": "code",
   "execution_count": null,
   "id": "cc2e0dca",
   "metadata": {},
   "outputs": [],
   "source": [
    "corr_df = pd.DataFrame({'wind':np.sqrt(df.u10**2+df.v10**2), 'iresp':iresp, 'durresp':durresp, 'nresp':nresp})"
   ]
  },
  {
   "cell_type": "code",
   "execution_count": null,
   "id": "560ce81d",
   "metadata": {},
   "outputs": [],
   "source": [
    "corr_df.corr()"
   ]
  },
  {
   "cell_type": "code",
   "execution_count": null,
   "id": "a00e132b",
   "metadata": {},
   "outputs": [],
   "source": [
    "sns.pairplot(corr_df, kind = 'kde')"
   ]
  },
  {
   "cell_type": "code",
   "execution_count": null,
   "id": "b9ba4ddc",
   "metadata": {},
   "outputs": [],
   "source": [
    "from scipy.signal import welch, find_peaks, butter, filtfilt, sosfilt\n"
   ]
  },
  {
   "cell_type": "code",
   "execution_count": null,
   "id": "bbd712d8",
   "metadata": {},
   "outputs": [],
   "source": [
    "params = butter(N=4, fs = inst.samplerate, Wn=5000, btype='highpass', analog=False, output = 'sos')\n",
    "ac_filtered = sosfilt(params, data)\n",
    "plt.plot(ac_filtered)\n",
    "plt.plot(data)\n"
   ]
  },
  {
   "cell_type": "code",
   "execution_count": null,
   "id": "f8c59b9f",
   "metadata": {},
   "outputs": [],
   "source": [
    "f,t,Sxx = sg.spectrogram(data, fs = inst.samplerate, nperseg = 1024)"
   ]
  },
  {
   "cell_type": "code",
   "execution_count": null,
   "id": "a8a5be2c",
   "metadata": {},
   "outputs": [],
   "source": [
    "resp = sg.medfilt(np.log10(Sxx)[np.argmin(abs(f - 1300))], int(np.ceil(0.3*(1/(t[1]-t[0])))//2*2+1))\n",
    "peaks, _ = sg.find_peaks(resp, prominence=1, distance = int(0.5*(1/(t[1]-t[0]))))\n",
    "params = butter(N=4, fs = 1 / (t[1] - t[0]), Wn=0.1, btype='highpass', analog=False, output = 'sos')\n",
    "filt_resp = sosfilt(params, resp)"
   ]
  },
  {
   "cell_type": "code",
   "execution_count": null,
   "id": "95b59bcc",
   "metadata": {},
   "outputs": [],
   "source": [
    "np.mean(np.diff(t[peaks]))"
   ]
  },
  {
   "cell_type": "code",
   "execution_count": null,
   "id": "9938a20d",
   "metadata": {},
   "outputs": [],
   "source": [
    "35/513*18400"
   ]
  },
  {
   "cell_type": "code",
   "execution_count": null,
   "id": "3f74abec",
   "metadata": {},
   "outputs": [],
   "source": [
    "'''fig, ax = plt.subplots(1,2, figsize = (18,8))'''\n",
    "fig, ax = plt.subplots(figsize = (18,8))\n",
    "peaks, _ = sg.find_peaks(np.log10(Sxx[100]), prominence = 2, distance = 0.3 / (t[1] - t[0]))\n",
    "'''ax[0].plot(np.log10(Sxx[100]))\n",
    "ax[0].scatter(peaks, np.log10(Sxx[100])[peaks])'''\n",
    "ax.imshow(np.log10(Sxx), aspect = 'auto')\n",
    "ax.scatter(peaks, np.ones(len(peaks))*100)"
   ]
  },
  {
   "cell_type": "code",
   "execution_count": null,
   "id": "53c066a9",
   "metadata": {},
   "outputs": [],
   "source": [
    "inst.ds.close()"
   ]
  }
 ],
 "metadata": {
  "kernelspec": {
   "display_name": "Python 3 (ipykernel)",
   "language": "python",
   "name": "python3"
  },
  "language_info": {
   "codemirror_mode": {
    "name": "ipython",
    "version": 3
   },
   "file_extension": ".py",
   "mimetype": "text/x-python",
   "name": "python",
   "nbconvert_exporter": "python",
   "pygments_lexer": "ipython3",
   "version": "3.12.3"
  }
 },
 "nbformat": 4,
 "nbformat_minor": 5
}
