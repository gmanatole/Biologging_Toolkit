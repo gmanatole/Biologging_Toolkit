{
 "cells": [
  {
   "cell_type": "code",
   "execution_count": null,
   "metadata": {},
   "outputs": [],
   "source": [
    "import sklearn.metrics\n",
    "%load_ext autoreload\n",
    "%autoreload 2\n",
    "import sys, os\n",
    "sys.path.append('../src/')\n",
    "from Biologging_Toolkit.applications.Rain import Rain\n",
    "from Biologging_Toolkit.applications.Rain2 import Rain2\n",
    "from Biologging_Toolkit.applications.Wind import Wind\n",
    "import Biologging_Toolkit.utils.rain_empirical_utils as R_Utils"
   ]
  },
  {
   "cell_type": "code",
   "execution_count": null,
   "metadata": {},
   "outputs": [],
   "source": [
    "import sklearn\n",
    "import matplotlib.pyplot as plt\n",
    "import matplotlib.dates as mdates\n",
    "import pandas as pd\n",
    "import numpy as np\n",
    "from tqdm import tqdm\n",
    "import re\n",
    "plt.rcParams.update({\n",
    "        \"font.family\": \"serif\",\n",
    "        \"font.serif\": [\"Times New Roman\"],\n",
    "        \"text.usetex\": True  \n",
    "    })"
   ]
  },
  {
   "cell_type": "code",
   "execution_count": null,
   "metadata": {},
   "outputs": [],
   "source": [
    "depids = ['ml17_280a','ml18_296a','ml18_294b','ml19_292a','ml19_292b','ml19_293a','ml19_294a','ml20_293a','ml20_296b','ml20_313a','ml21_295a','ml21_305b']\n",
    "depids_wo293 = ['ml17_280a','ml18_296a','ml18_294b','ml19_292a','ml19_292b','ml19_293a','ml19_294a','ml20_296b','ml20_313a','ml21_295a','ml21_305b'] #'ml20_293a',\n",
    "\n",
    "path = 'D:/individus_brut/individus'\n",
    "freqs = [500, 1000, 2000, 5000, 8000, 10000, 12000, 15000, 16000]\n",
    "features_csv = ['downwards_mean_500', 'downwards_mean_1000', 'downwards_mean_2500',\n",
    "       'downwards_mean_5000', 'downwards_mean_8000', 'downwards_mean_10000',\n",
    "       'downwards_mean_12000', 'downwards_mean_15000', 'downwards_mean_16000','upwards_mean_20000','upwards_mean_5000']"
   ]
  },
  {
   "cell_type": "code",
   "execution_count": null,
   "metadata": {},
   "outputs": [],
   "source": [
    "deps = depids[0:2] #[\"ml17_280a\"]\n",
    "deps = ['ml19_292b', 'ml19_294a','ml20_293a','ml20_296b','ml20_313a','ml21_295a','ml21_305b']\n",
    "deps = ['ml17_280a', 'ml18_296a', 'ml18_294b', 'ml19_292a', 'ml19_293a']\n",
    "inst = Rain(depid=deps, path=[path+f\"/{depid}\" for depid in deps], acoustic_path=[path+f\"/{depid}/dives\" for depid in deps], df_data = 'csv', frequency = 15000, wind_thresh=8, wind_speed = 'wind_speed', empirical_offset = 2, split_method = 'depid', rain_thresh = 0.2)"
   ]
  },
  {
   "cell_type": "code",
   "execution_count": null,
   "outputs": [],
   "source": [
    "inst.forward()"
   ],
   "metadata": {
    "collapsed": false
   }
  },
  {
   "cell_type": "code",
   "execution_count": null,
   "outputs": [],
   "source": [
    "inst.df.loc[(inst.df.lstm_cfosat >= 8) & (inst.df.Rain_Type_preds == 'R'), 'Rain_Type_preds'] = 'WR'"
   ],
   "metadata": {
    "collapsed": false
   }
  },
  {
   "cell_type": "code",
   "execution_count": null,
   "outputs": [],
   "source": [
    "df1 = inst.df"
   ],
   "metadata": {
    "collapsed": false
   }
  },
  {
   "cell_type": "code",
   "execution_count": null,
   "outputs": [],
   "source": [
    "inter_df = pd.concat((df1, df3))"
   ],
   "metadata": {
    "collapsed": false
   }
  },
  {
   "cell_type": "markdown",
   "source": [
    "### PER DEPID FINAL DF"
   ],
   "metadata": {
    "collapsed": false
   }
  },
  {
   "cell_type": "code",
   "execution_count": null,
   "outputs": [],
   "source": [
    "df = pd.DataFrame()\n",
    "depids = ['ml19_292b', 'ml19_294a','ml20_293a','ml20_296b','ml20_313a','ml21_295a','ml21_305b', 'ml17_280a', 'ml18_296a', 'ml18_294b', 'ml19_292a', 'ml19_293a']\n",
    "for depid in depids :\n",
    "    inst = Rain(depid=depid, path=path+f\"/{depid}\", acoustic_path=path+f\"/{depid}/dives\", df_data = 'csv', frequency = 15000, wind_thresh=7, wind_speed = 'wind_speed', empirical_offset = 2, split_method = 'random_split', rain_thresh = 0.2)\n",
    "    inst.forward()\n",
    "    df = pd.concat((df, inst.df))\n",
    "df.loc[(df.lstm_cfosat >= 7) & (df.Rain_Type_preds == 'R'), 'Rain_Type_preds'] = 'WR'"
   ],
   "metadata": {
    "collapsed": false
   }
  },
  {
   "cell_type": "code",
   "execution_count": null,
   "outputs": [],
   "source": [
    "depids = ['ml17_280a', 'ml18_296a', 'ml18_294b', 'ml19_292a', 'ml19_293a', 'ml19_292b', 'ml19_294a','ml20_293a','ml20_296b','ml20_313a','ml21_295a','ml21_305b']\n",
    "precision = pd.DataFrame()\n",
    "recall = pd.DataFrame()\n",
    "for emp_off in [0,0.5,1,1.5,2,2.5,3,3.5,4,4.5,5] :\n",
    "    df = pd.DataFrame()\n",
    "    for depid in depids :\n",
    "        inst = Rain(depid=depid, path=path+f\"/{depid}\", acoustic_path=path+f\"/{depid}/dives\", df_data = 'csv', frequency = 15000, wind_thresh=7, wind_speed = 'wind_speed', empirical_offset = emp_off, split_method = 'random_split', rain_thresh = 0.1)\n",
    "        inst.forward()\n",
    "        df = pd.concat((df, inst.df))\n",
    "    df.loc[(df.lstm_cfosat >= 7) & (df.Rain_Type_preds == 'R'), 'Rain_Type_preds'] = 'WR'\n",
    "    rec, prec = [], []\n",
    "    for cat in [['R', 'WR'], ['N']] :\n",
    "        target = df.weather.copy().to_numpy()\n",
    "        preds = df.Rain_Type_preds.copy().to_numpy()\n",
    "        target[~np.isin(target, cat)] = 0\n",
    "        target[np.isin(target, cat)] = 1\n",
    "        preds[~np.isin(preds, cat)] = 0\n",
    "        preds[np.isin(preds, cat)] = 1\n",
    "        prec.append(sklearn.metrics.precision_score(y_true = list(target), y_pred = list(preds)))\n",
    "        rec.append(sklearn.metrics.recall_score(list(target), list(preds)))\n",
    "    precision[emp_off] = prec\n",
    "    recall[emp_off] = rec"
   ],
   "metadata": {
    "collapsed": false
   }
  },
  {
   "cell_type": "code",
   "execution_count": null,
   "outputs": [],
   "source": [
    "recall.to_csv('C:/Users/grosmaan/Desktop/Thèse/Chapitre2/recall_no_rain.csv')"
   ],
   "metadata": {
    "collapsed": false
   }
  },
  {
   "cell_type": "code",
   "execution_count": null,
   "outputs": [],
   "source": [
    "target.sum()*0.02, (1-preds)[target == 1].sum()"
   ],
   "metadata": {
    "collapsed": false
   }
  },
  {
   "cell_type": "markdown",
   "source": [
    "---\n",
    "# Detection\n",
    "---"
   ],
   "metadata": {
    "collapsed": false
   }
  },
  {
   "cell_type": "code",
   "execution_count": null,
   "outputs": [],
   "source": [
    "inst.df[\"weather\"].hist()"
   ],
   "metadata": {
    "collapsed": false
   }
  },
  {
   "cell_type": "code",
   "execution_count": null,
   "outputs": [],
   "source": [
    "R_Utils.plot_spl_rain(df)"
   ],
   "metadata": {
    "collapsed": false
   }
  },
  {
   "cell_type": "code",
   "execution_count": null,
   "outputs": [],
   "source": [
    "R_Utils.plot_SPL_regression(df[df.depid == 'ml17_280a'], offset = 2, save = True)"
   ],
   "metadata": {
    "collapsed": false
   }
  },
  {
   "cell_type": "code",
   "execution_count": null,
   "outputs": [],
   "source": [
    "R_Utils.plot_classification_spl(df)"
   ],
   "metadata": {
    "collapsed": false
   }
  },
  {
   "cell_type": "code",
   "execution_count": null,
   "outputs": [],
   "source": [
    "R_Utils.plot_classification_histogram(inter_df, rain = ['R'], var = ['precipitation_GPM', 'lstm_cfosat'], save = True)"
   ],
   "metadata": {
    "collapsed": false
   }
  },
  {
   "cell_type": "code",
   "execution_count": null,
   "outputs": [],
   "source": [
    "plot_wind_hist(intra_df,save=True)"
   ],
   "metadata": {
    "collapsed": false
   }
  },
  {
   "cell_type": "code",
   "execution_count": null,
   "outputs": [],
   "source": [
    "R_Utils.plot_confusion_matrix(df, normalize = \"true\")"
   ],
   "metadata": {
    "collapsed": false
   }
  },
  {
   "cell_type": "code",
   "execution_count": null,
   "outputs": [],
   "source": [
    "R_Utils.global_confusion_matrix(df1, df2, df3, df4, save = False)"
   ],
   "metadata": {
    "collapsed": false
   }
  },
  {
   "cell_type": "markdown",
   "metadata": {},
   "source": [
    "### Prec/Recall Curve"
   ]
  },
  {
   "cell_type": "code",
   "execution_count": null,
   "metadata": {},
   "outputs": [],
   "source": [
    "rslts = {}\n",
    "fig, ax = plt.subplots(figsize = (6,6))\n",
    "for depid in tqdm(depids):\n",
    "    x = []\n",
    "    y = []\n",
    "\n",
    "    deps = [depid]\n",
    "    paths = [path+f\"/{depid}\" for depid in deps]\n",
    "    for delta in np.arange(0, 15, 0.5):\n",
    "        _inst = Rain(depid=deps, path=paths, df_data = 'csv', frequency = 15000, empirical_offset=delta,\n",
    "                     rain_thresh = 0.1, wind_thresh = 7, split_method = 'random_split')\n",
    "        _inst.forward()\n",
    "        if str(delta) not in rslts:\n",
    "            rslts[str(delta)] = {\"x\": [], \"y\": []}\n",
    "        _inst.df.loc[_inst.df.weather == 'WR', 'weather'] = 'N'\n",
    "        _inst.df.loc[_inst.df.lstm_cfosat > 7, 'Rain_Type_preds'] = 'N'\n",
    "        precision = sklearn.metrics.precision_score(_inst.df['weather'], _inst.df['Rain_Type_preds'],pos_label='R', zero_division=0)\n",
    "        recall = sklearn.metrics.recall_score(_inst.df['weather'], _inst.df['Rain_Type_preds'],pos_label='R', zero_division=0)\n",
    "\n",
    "        if recall!= 0 and precision!= 0:\n",
    "                x.append(recall)\n",
    "                y.append(precision)\n",
    "                rslts[str(delta)][\"x\"].append(recall)\n",
    "                rslts[str(delta)][\"y\"].append(precision)\n",
    "    ax.plot(x, y, linestyle='--', marker='o', label=depid, alpha=0.3)\n",
    "\n",
    "x_delta_curve = []\n",
    "y_delta_curve = []\n",
    "for delta in rslts.keys():\n",
    "    x_delta_curve.append(np.mean(rslts[delta][\"x\"]))\n",
    "    y_delta_curve.append(np.mean(rslts[delta][\"y\"]))\n",
    "\n",
    "ax.scatter(x_delta_curve, y_delta_curve, marker=\"o\" , color='black', label='Mean', zorder=5)\n",
    "for i in range(8) :\n",
    "    ax.annotate(list(rslts.keys())[i], (x_delta_curve[i] + 0.02, y_delta_curve[i]), fontsize = 12, fontweight ='bold')\n",
    "ax.set_xlabel('Recall')\n",
    "ax.set_ylabel('Precision')\n",
    "ax.set_xlim(0,1.1)\n",
    "ax.set_ylim(0,1.1)\n",
    "ax.grid(True, linestyle=\"--\", alpha=0.3)\n",
    "\n",
    "ax.legend()"
   ]
  },
  {
   "cell_type": "code",
   "execution_count": null,
   "outputs": [],
   "source": [
    "fig.savefig('C:/Users/grosmaan/Desktop/Thèse/Chapitre2/recall_prec_depids.pdf')"
   ],
   "metadata": {
    "collapsed": false
   }
  },
  {
   "cell_type": "markdown",
   "metadata": {},
   "source": [
    "---\n",
    "# Estimation\n",
    "---"
   ]
  },
  {
   "cell_type": "code",
   "execution_count": null,
   "outputs": [],
   "source": [
    "plt.scatter(df.precipitation_GPM[df.weather == 'R'], df.upwards_mean_5000[df.weather == 'R'], c = df.lstm_cfosat[df.weather == 'R'])"
   ],
   "metadata": {
    "collapsed": false
   }
  },
  {
   "cell_type": "code",
   "execution_count": null,
   "outputs": [],
   "source": [
    "# inst.depid_fit(bounds=((0,0),(100,100)))\n",
    "inst.temporal_fit(bounds=((0,0),(100,100)))\n",
    "inst.skf_fit(bounds=((0,0),(100,100)),n_splits=8)\n",
    "print(inst)"
   ],
   "metadata": {
    "collapsed": false
   }
  },
  {
   "cell_type": "code",
   "execution_count": null,
   "metadata": {},
   "outputs": [],
   "source": [
    "R_Utils.plot_rain_estimation_cumulated(inst, subset=\"test\")"
   ]
  },
  {
   "cell_type": "code",
   "execution_count": null,
   "metadata": {},
   "outputs": [],
   "source": [
    "R_Utils.plot_rain_estimation(inst, subset=\"all\")"
   ]
  },
  {
   "cell_type": "markdown",
   "metadata": {},
   "source": [
    "## Zoom on ml17_280a data 15-16 October 2017"
   ]
  },
  {
   "cell_type": "code",
   "execution_count": null,
   "metadata": {},
   "outputs": [],
   "source": [
    "time_dfr = inst.df_r[\"begin_time\"] = pd.to_datetime(inst.df_r[\"begin_time\"], unit='s')\n",
    "time_df = inst.df[\"begin_time\"] = pd.to_datetime(inst.df[\"begin_time\"], unit='s')\n",
    "\n",
    "plt.figure(figsize=(20,5))\n",
    "plt.plot(time_df,inst.df[\"precipitation_GPM\"], c=\"lightgrey\")\n",
    "plt.scatter(time_dfr,inst.df_r[\"precipitation_GPM\"], label='GPM Data')#, c=\"royalblue\")\n",
    "for split_rule in inst.popt:\n",
    "    a,b = inst.popt[split_rule]\n",
    "    plt.scatter(time_dfr,10**((inst.df_r[\"upwards_mean_15000\"]+a)/b), label=f'Estimation (split:{split_rule})')#, c=\"lightblue\")\n",
    "plt.ylabel(\"Rain Fall (mm/h)\",fontsize=15)\n",
    "plt.legend()\n",
    "plt.gca().xaxis.set_major_formatter(mdates.DateFormatter('%d %b %H:%M'))\n",
    "plt.xlim(pd.to_datetime(6e4 + 1.508e9, unit='s', utc=True),\n",
    "         pd.to_datetime(1.8e5 + 1.508e9, unit='s', utc=True))\n",
    "plt.xticks(fontsize=13)\n",
    "plt.ylim(0,4)\n",
    "plt.grid(True, linestyle=\"--\", alpha=0.3)\n",
    "# plt.savefig(\"../../data-exploration/exports/article/empEst_true_time.pdf\")\n",
    "\n",
    "plt.show()\n"
   ]
  },
  {
   "cell_type": "code",
   "execution_count": null,
   "metadata": {},
   "outputs": [],
   "source": [
    "import warnings\n",
    "warnings.filterwarnings('ignore')\n",
    "\n",
    "rslts = {}\n",
    "for depid in depids_wo293:\n",
    "    rslts[depid]={}\n",
    "    for freq in freqs :\n",
    "        rslts[depid][freq] = {}\n",
    "\n",
    "        deps =[depid]\n",
    "        paths = [path+f\"/{depid}\" for depid in deps]\n",
    "\n",
    "        inst = Rain(depid=deps, path=paths, df_data = 'csv', frequency = freq)\n",
    "        inst.temporal_fit(bounds=((0,0),(100,100)))\n",
    "        inst.skf_fit(bounds=((0,0),(100,100)),n_splits=8)\n",
    "        rslts[depid][freq] = inst.rain_model_stats\n",
    "        \n",
    "for metric in [\"mae\", \"rmse\",\"r2\",\"var\",\"std\",\"cc\"]:\n",
    "    plt.figure(figsize=(8, 5))\n",
    "\n",
    "    for depid in rslts :\n",
    "        ccs = [rslts[depid][f][f\"temporal_{metric}\"] for f in freqs]\n",
    "        plt.plot(freqs, ccs, marker='o', linestyle='dashed', label=depid)#, color='royalblue')\n",
    "    plt.xlabel('Frequency')\n",
    "    plt.ylabel(metric)\n",
    "    plt.grid(True, linestyle=\"--\", alpha=0.3)\n",
    "    plt.legend(bbox_to_anchor=(1, 0.83))\n",
    "    plt.show()"
   ]
  },
  {
   "cell_type": "markdown",
   "metadata": {},
   "source": [
    "---\n",
    "# Miscellaneous\n",
    "---"
   ]
  },
  {
   "cell_type": "markdown",
   "metadata": {},
   "source": [
    "---\n",
    "#### Generation tableau CC Fitted\n",
    "---"
   ]
  },
  {
   "cell_type": "code",
   "execution_count": null,
   "metadata": {},
   "outputs": [],
   "source": [
    "rows = []\n",
    "for depid in rslts:\n",
    "    for freq in rslts[depid] :\n",
    "        # print(freq, rslts[depid][freq][\"skf_cc\"])\n",
    "        rows.append({\n",
    "            \"DepID\": depid.replace(\"_\", \"\\\\_\"),\n",
    "            \"Frequency\": freq,\n",
    "            \"CC\":rslts[depid][freq][\"skf_cc\"],\n",
    "        })\n",
    "\n",
    "df_long = pd.DataFrame(rows)\n",
    "table_cc = df_long.pivot(index=\"Frequency\", columns=\"DepID\", values=\"CC\").round(3)\n",
    "\n",
    "latex_cc = table_cc.to_latex(\n",
    "    float_format=\"%.3f\",\n",
    "    caption=\"$CC$ scores per depid for different frequencies\",\n",
    "    label=\"tab:cc_by_deployment_fitted\",\n",
    "    escape=False\n",
    ")\n",
    "\n",
    "print(\"=== CC TABLE ===\")\n",
    "print(latex_cc)"
   ]
  },
  {
   "cell_type": "markdown",
   "metadata": {},
   "source": [
    "---\n",
    "#### Generation tableau CC Biblio\n",
    "---"
   ]
  },
  {
   "cell_type": "code",
   "execution_count": null,
   "metadata": {},
   "outputs": [],
   "source": [
    "rslts = {}\n",
    "for depid in depids_wo293 :\n",
    "    rslts[depid] = {}\n",
    "    for method in [\"Nystuen1997\",\"Nystuen2004\",\"Pensieri2015\",\"Nystuen2015\"]:\n",
    "        rslts[depid][method] = {}\n",
    "        deps = [depid]\n",
    "        inst = Rain(depid=deps, path=[path+f\"/{depid}\" for depid in deps], df_data = 'csv', frequency = 15000, method=method)\n",
    "        inst.estimate_bibliography()\n",
    "        rslts[depid][method] = inst.rain_model_stats"
   ]
  },
  {
   "cell_type": "code",
   "execution_count": null,
   "metadata": {},
   "outputs": [],
   "source": [
    "rows = []\n",
    "for depid in rslts:\n",
    "    for method in rslts[depid] :\n",
    "        rows.append({\n",
    "            \"DepID\": depid.replace(\"_\", \"\\\\_\"),\n",
    "            \"Method\": method,\n",
    "            \"CC\":rslts[depid][method][\"biblio_cc\"],\n",
    "        })\n",
    "\n",
    "df_long = pd.DataFrame(rows)\n",
    "table_cc = df_long.pivot(index=\"Method\", columns=\"DepID\", values=\"CC\").round(3)\n",
    "\n",
    "latex_cc = table_cc.to_latex(\n",
    "    float_format=\"%.3f\",\n",
    "    caption=\"$CC$ scores per depid for different frequencies\",\n",
    "    label=\"tab:cc_by_deployment_biblio\",\n",
    "    escape=False\n",
    ")\n",
    "\n",
    "print(\"=== CC TABLE ===\")\n",
    "print(latex_cc)"
   ]
  },
  {
   "cell_type": "code",
   "execution_count": null,
   "metadata": {},
   "outputs": [],
   "source": []
  }
 ],
 "metadata": {
  "kernelspec": {
   "display_name": "rain",
   "language": "python",
   "name": "python3"
  },
  "language_info": {
   "codemirror_mode": {
    "name": "ipython",
    "version": 3
   },
   "file_extension": ".py",
   "mimetype": "text/x-python",
   "name": "python",
   "nbconvert_exporter": "python",
   "pygments_lexer": "ipython3",
   "version": "3.12.3"
  },
  "orig_nbformat": 4
 },
 "nbformat": 4,
 "nbformat_minor": 2
}
