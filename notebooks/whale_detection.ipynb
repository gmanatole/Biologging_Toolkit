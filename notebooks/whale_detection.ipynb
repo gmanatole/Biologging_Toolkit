{
 "cells": [
  {
   "cell_type": "code",
   "id": "ce4d405b",
   "metadata": {
    "ExecuteTime": {
     "end_time": "2025-04-11T12:28:28.072761400Z",
     "start_time": "2025-04-11T12:28:28.061753500Z"
    }
   },
   "source": [
    "import os, sys\n",
    "import seaborn as sns\n",
    "import matplotlib.pyplot as plt\n",
    "from matplotlib import colormaps\n",
    "from scipy.signal import medfilt\n",
    "import cartopy.crs as ccrs\n",
    "import cartopy.feature as cfeature\n",
    "import numpy as np\n",
    "import pandas as pd\n",
    "import netCDF4 as nc\n",
    "plt.rcParams.update({\n",
    "    \"text.usetex\": True,                # Enable LaTeX text rendering\n",
    "    \"font.family\": \"serif\",             # Use a serif font\n",
    "    \"font.serif\": [\"Computer Modern\"],  # Set font to Computer Modern (LaTeX default)\n",
    "})\n",
    "sys.path.append('../src/')\n",
    "from Biologging_Toolkit.applications.Jerk import Jerk\n",
    "from Biologging_Toolkit.utils.plot_utils import subplots_centered\n",
    "import warnings\n",
    "warnings.filterwarnings(\"ignore\")"
   ],
   "outputs": [],
   "execution_count": 6
  },
  {
   "cell_type": "markdown",
   "source": [
    "## Get map of detections per deployment"
   ],
   "metadata": {
    "collapsed": false
   }
  },
  {
   "cell_type": "code",
   "id": "b330a902",
   "metadata": {
    "ExecuteTime": {
     "end_time": "2025-04-11T13:24:37.152129500Z",
     "start_time": "2025-04-11T13:24:37.130031300Z"
    }
   },
   "source": [
    "depid = 'ml19_292a'\n",
    "ds_path = 'D:/individus_brut/individus'\n",
    "annotation_path = 'D:/drift_dives_SES/'"
   ],
   "outputs": [],
   "execution_count": 17
  },
  {
   "cell_type": "code",
   "id": "5d14d3f9",
   "metadata": {
    "ExecuteTime": {
     "end_time": "2025-04-11T13:24:55.994856600Z",
     "start_time": "2025-04-11T13:24:38.322547300Z"
    }
   },
   "source": [
    "ds = nc.Dataset(os.path.join(ds_path, depid, depid+'_sens.nc'))\n",
    "dive = pd.read_csv(os.path.join(ds_path, depid, depid+'_dive.csv'))\n",
    "annot = pd.read_csv(os.path.join(annotation_path, depid, 'timestamps.csv'))"
   ],
   "outputs": [],
   "execution_count": 18
  },
  {
   "cell_type": "code",
   "execution_count": 19,
   "outputs": [
    {
     "data": {
      "text/plain": "     Unnamed: 0   start_drift     end_drift           orig_fn      start_fn  \\\n0             0  1.571633e+09  1.571633e+09  ml19_292a007.wav  21821.313305   \n1             1  1.571636e+09  1.571636e+09  ml19_292a008.wav     96.313503   \n2             2  1.571689e+09  1.571689e+09  ml19_292a010.wav  19670.317773   \n3             3  1.571690e+09  1.571691e+09  ml19_292a010.wav  21167.317893   \n4             4  1.571722e+09  1.571722e+09  ml19_292a012.wav   1255.320388   \n..          ...           ...           ...               ...           ...   \n311         311  1.573952e+09  1.573953e+09  ml19_292a105.wav  20294.498552   \n312         312  1.573954e+09  1.573955e+09  ml19_292a105.wav  21920.498682   \n313         313  1.573956e+09  1.573956e+09  ml19_292a105.wav  23837.498835   \n314         314  1.573956e+09  1.573957e+09  ml19_292a105.wav  24317.498873   \n315         315  1.573968e+09  1.573968e+09  ml19_292a106.wav   8200.499783   \n\n                     fn   Annotation   Time  Indice     Notes Annotation2  \\\n0                   NaN          NaN    NaN     NaN       NaN         NaN   \n1                   NaN          NaN    NaN     NaN       NaN         NaN   \n2    ml19_292a_0001.wav          NaN    NaN     NaN       NaN         NaN   \n3    ml19_292a_0002.wav          NaN    NaN     NaN       NaN         NaN   \n4    ml19_292a_0003.wav          NaN    NaN     NaN       NaN         NaN   \n..                  ...          ...    ...     ...       ...         ...   \n311  ml19_292a_0164.wav  Blue whale    50.0     0.0     Dcall         NaN   \n312  ml19_292a_0165.wav  Blue whale   103.0     0.0     Dcall         NaN   \n313  ml19_292a_0166.wav          NaN    NaN     NaN       NaN         NaN   \n314  ml19_292a_0167.wav   Spermwhale    6.0     0.0  to check         NaN   \n315  ml19_292a_0168.wav          NaN    NaN     NaN       NaN         NaN   \n\n     Time2  Indice2 Notes2  Annotation3  Time3  Indice3  Notes3  \n0      NaN      NaN    NaN          NaN    NaN      NaN     NaN  \n1      NaN      NaN    NaN          NaN    NaN      NaN     NaN  \n2      NaN      NaN    NaN          NaN    NaN      NaN     NaN  \n3      NaN      NaN    NaN          NaN    NaN      NaN     NaN  \n4      NaN      NaN    NaN          NaN    NaN      NaN     NaN  \n..     ...      ...    ...          ...    ...      ...     ...  \n311    NaN      NaN    NaN          NaN    NaN      NaN     NaN  \n312    NaN      NaN    NaN          NaN    NaN      NaN     NaN  \n313    NaN      NaN    NaN          NaN    NaN      NaN     NaN  \n314    NaN      NaN    NaN          NaN    NaN      NaN     NaN  \n315    NaN      NaN    NaN          NaN    NaN      NaN     NaN  \n\n[316 rows x 18 columns]",
      "text/html": "<div>\n<style scoped>\n    .dataframe tbody tr th:only-of-type {\n        vertical-align: middle;\n    }\n\n    .dataframe tbody tr th {\n        vertical-align: top;\n    }\n\n    .dataframe thead th {\n        text-align: right;\n    }\n</style>\n<table border=\"1\" class=\"dataframe\">\n  <thead>\n    <tr style=\"text-align: right;\">\n      <th></th>\n      <th>Unnamed: 0</th>\n      <th>start_drift</th>\n      <th>end_drift</th>\n      <th>orig_fn</th>\n      <th>start_fn</th>\n      <th>fn</th>\n      <th>Annotation</th>\n      <th>Time</th>\n      <th>Indice</th>\n      <th>Notes</th>\n      <th>Annotation2</th>\n      <th>Time2</th>\n      <th>Indice2</th>\n      <th>Notes2</th>\n      <th>Annotation3</th>\n      <th>Time3</th>\n      <th>Indice3</th>\n      <th>Notes3</th>\n    </tr>\n  </thead>\n  <tbody>\n    <tr>\n      <th>0</th>\n      <td>0</td>\n      <td>1.571633e+09</td>\n      <td>1.571633e+09</td>\n      <td>ml19_292a007.wav</td>\n      <td>21821.313305</td>\n      <td>NaN</td>\n      <td>NaN</td>\n      <td>NaN</td>\n      <td>NaN</td>\n      <td>NaN</td>\n      <td>NaN</td>\n      <td>NaN</td>\n      <td>NaN</td>\n      <td>NaN</td>\n      <td>NaN</td>\n      <td>NaN</td>\n      <td>NaN</td>\n      <td>NaN</td>\n    </tr>\n    <tr>\n      <th>1</th>\n      <td>1</td>\n      <td>1.571636e+09</td>\n      <td>1.571636e+09</td>\n      <td>ml19_292a008.wav</td>\n      <td>96.313503</td>\n      <td>NaN</td>\n      <td>NaN</td>\n      <td>NaN</td>\n      <td>NaN</td>\n      <td>NaN</td>\n      <td>NaN</td>\n      <td>NaN</td>\n      <td>NaN</td>\n      <td>NaN</td>\n      <td>NaN</td>\n      <td>NaN</td>\n      <td>NaN</td>\n      <td>NaN</td>\n    </tr>\n    <tr>\n      <th>2</th>\n      <td>2</td>\n      <td>1.571689e+09</td>\n      <td>1.571689e+09</td>\n      <td>ml19_292a010.wav</td>\n      <td>19670.317773</td>\n      <td>ml19_292a_0001.wav</td>\n      <td>NaN</td>\n      <td>NaN</td>\n      <td>NaN</td>\n      <td>NaN</td>\n      <td>NaN</td>\n      <td>NaN</td>\n      <td>NaN</td>\n      <td>NaN</td>\n      <td>NaN</td>\n      <td>NaN</td>\n      <td>NaN</td>\n      <td>NaN</td>\n    </tr>\n    <tr>\n      <th>3</th>\n      <td>3</td>\n      <td>1.571690e+09</td>\n      <td>1.571691e+09</td>\n      <td>ml19_292a010.wav</td>\n      <td>21167.317893</td>\n      <td>ml19_292a_0002.wav</td>\n      <td>NaN</td>\n      <td>NaN</td>\n      <td>NaN</td>\n      <td>NaN</td>\n      <td>NaN</td>\n      <td>NaN</td>\n      <td>NaN</td>\n      <td>NaN</td>\n      <td>NaN</td>\n      <td>NaN</td>\n      <td>NaN</td>\n      <td>NaN</td>\n    </tr>\n    <tr>\n      <th>4</th>\n      <td>4</td>\n      <td>1.571722e+09</td>\n      <td>1.571722e+09</td>\n      <td>ml19_292a012.wav</td>\n      <td>1255.320388</td>\n      <td>ml19_292a_0003.wav</td>\n      <td>NaN</td>\n      <td>NaN</td>\n      <td>NaN</td>\n      <td>NaN</td>\n      <td>NaN</td>\n      <td>NaN</td>\n      <td>NaN</td>\n      <td>NaN</td>\n      <td>NaN</td>\n      <td>NaN</td>\n      <td>NaN</td>\n      <td>NaN</td>\n    </tr>\n    <tr>\n      <th>...</th>\n      <td>...</td>\n      <td>...</td>\n      <td>...</td>\n      <td>...</td>\n      <td>...</td>\n      <td>...</td>\n      <td>...</td>\n      <td>...</td>\n      <td>...</td>\n      <td>...</td>\n      <td>...</td>\n      <td>...</td>\n      <td>...</td>\n      <td>...</td>\n      <td>...</td>\n      <td>...</td>\n      <td>...</td>\n      <td>...</td>\n    </tr>\n    <tr>\n      <th>311</th>\n      <td>311</td>\n      <td>1.573952e+09</td>\n      <td>1.573953e+09</td>\n      <td>ml19_292a105.wav</td>\n      <td>20294.498552</td>\n      <td>ml19_292a_0164.wav</td>\n      <td>Blue whale</td>\n      <td>50.0</td>\n      <td>0.0</td>\n      <td>Dcall</td>\n      <td>NaN</td>\n      <td>NaN</td>\n      <td>NaN</td>\n      <td>NaN</td>\n      <td>NaN</td>\n      <td>NaN</td>\n      <td>NaN</td>\n      <td>NaN</td>\n    </tr>\n    <tr>\n      <th>312</th>\n      <td>312</td>\n      <td>1.573954e+09</td>\n      <td>1.573955e+09</td>\n      <td>ml19_292a105.wav</td>\n      <td>21920.498682</td>\n      <td>ml19_292a_0165.wav</td>\n      <td>Blue whale</td>\n      <td>103.0</td>\n      <td>0.0</td>\n      <td>Dcall</td>\n      <td>NaN</td>\n      <td>NaN</td>\n      <td>NaN</td>\n      <td>NaN</td>\n      <td>NaN</td>\n      <td>NaN</td>\n      <td>NaN</td>\n      <td>NaN</td>\n    </tr>\n    <tr>\n      <th>313</th>\n      <td>313</td>\n      <td>1.573956e+09</td>\n      <td>1.573956e+09</td>\n      <td>ml19_292a105.wav</td>\n      <td>23837.498835</td>\n      <td>ml19_292a_0166.wav</td>\n      <td>NaN</td>\n      <td>NaN</td>\n      <td>NaN</td>\n      <td>NaN</td>\n      <td>NaN</td>\n      <td>NaN</td>\n      <td>NaN</td>\n      <td>NaN</td>\n      <td>NaN</td>\n      <td>NaN</td>\n      <td>NaN</td>\n      <td>NaN</td>\n    </tr>\n    <tr>\n      <th>314</th>\n      <td>314</td>\n      <td>1.573956e+09</td>\n      <td>1.573957e+09</td>\n      <td>ml19_292a105.wav</td>\n      <td>24317.498873</td>\n      <td>ml19_292a_0167.wav</td>\n      <td>Spermwhale</td>\n      <td>6.0</td>\n      <td>0.0</td>\n      <td>to check</td>\n      <td>NaN</td>\n      <td>NaN</td>\n      <td>NaN</td>\n      <td>NaN</td>\n      <td>NaN</td>\n      <td>NaN</td>\n      <td>NaN</td>\n      <td>NaN</td>\n    </tr>\n    <tr>\n      <th>315</th>\n      <td>315</td>\n      <td>1.573968e+09</td>\n      <td>1.573968e+09</td>\n      <td>ml19_292a106.wav</td>\n      <td>8200.499783</td>\n      <td>ml19_292a_0168.wav</td>\n      <td>NaN</td>\n      <td>NaN</td>\n      <td>NaN</td>\n      <td>NaN</td>\n      <td>NaN</td>\n      <td>NaN</td>\n      <td>NaN</td>\n      <td>NaN</td>\n      <td>NaN</td>\n      <td>NaN</td>\n      <td>NaN</td>\n      <td>NaN</td>\n    </tr>\n  </tbody>\n</table>\n<p>316 rows × 18 columns</p>\n</div>"
     },
     "execution_count": 19,
     "metadata": {},
     "output_type": "execute_result"
    }
   ],
   "source": [
    "annot"
   ],
   "metadata": {
    "collapsed": false,
    "ExecuteTime": {
     "end_time": "2025-04-11T13:24:57.496145800Z",
     "start_time": "2025-04-11T13:24:57.456395700Z"
    }
   }
  },
  {
   "cell_type": "code",
   "id": "07bf7505",
   "metadata": {},
   "source": [
    "dives = ds['dives'][:].data\n",
    "jerks = ds['jerk'][:].data\n",
    "total_jerk = [np.sum(jerks[dives == dive]) for dive in np.unique(dives)]\n",
    "dive['total_jerk'] = total_jerk"
   ],
   "outputs": [],
   "execution_count": null
  },
  {
   "cell_type": "code",
   "id": "8c7fdf51",
   "metadata": {},
   "source": [
    "def successive_detections(series):\n",
    "    changes = series.diff().fillna(0)\n",
    "    starts = changes == 1 \n",
    "    ends = changes == -1\n",
    "    cumulative = series.cumsum() \n",
    "    lengths = cumulative[ends].diff().fillna(cumulative[ends]) \n",
    "    result = np.zeros_like(series)\n",
    "    result[ends[ends].index] = lengths.values\n",
    "    return pd.Series(result, index=series.index)\n",
    "def sliding_window_sum(time_series, N):\n",
    "    result = np.zeros_like(time_series)\n",
    "    for i in range(len(time_series) - N + 1):\n",
    "        result[i + N - 1] = np.sum(time_series[i:i + N])\n",
    "    return result"
   ],
   "outputs": [],
   "execution_count": null
  },
  {
   "metadata": {},
   "cell_type": "code",
   "source": [
    "labels = np.unique(np.concatenate([annot[col].dropna() for col in ['Annotation','Annotation2','Annotation3']]))\n",
    "annot_pos = np.searchsorted(dive.begin_time, annot.start_drift)-1\n",
    "annotations = {label : np.zeros(len(dive)) for label in labels}\n",
    "'''annotations = {'Blue whale':np.zeros(len(dive))\n",
    "               'Antarctic blue whale':np.zeros(len(dive)),\n",
    "               'Sperm whale':np.zeros(len(dive)),\n",
    "               'Sei whale':np.zeros(len(dive)),\n",
    "               'Humpback whale':np.zeros(len(dive)),\n",
    "               'Fin whale':np.zeros(len(dive)),\n",
    "               'Minke whale':np.zeros(len(dive))}'''\n",
    "print(labels)"
   ],
   "id": "c5d2d45a340ade23",
   "outputs": [],
   "execution_count": null
  },
  {
   "cell_type": "code",
   "id": "875017b4",
   "metadata": {},
   "source": [
    "idx = 1\n",
    "for i, row in annot.iterrows() :\n",
    "    det = row[['Annotation', 'Annotation2', 'Annotation3']].to_numpy()\n",
    "    conf = row[['Indice', 'Indice2', 'Indice3']].to_numpy()\n",
    "    det = det[conf >= idx]\n",
    "    for _det in det :\n",
    "        if _det in ['Antarctic blue whale', 'Dcall', 'Blue whale'] :\n",
    "            annotations['Antarctic blue whale'][annot_pos[i]] = 1\n",
    "        elif _det=='Minke whale':\n",
    "            annotations['Minke whale'][annot_pos[i]] = 1\n",
    "        elif _det=='Spermwhale':\n",
    "            annotations['Spermwhale'][annot_pos[i]] = 1\n",
    "        elif _det=='Fin whale':\n",
    "            annotations['Fin whale'][annot_pos[i]] = 1\n",
    "        elif _det=='Humpback whale':\n",
    "            annotations['Humpback whale'][annot_pos[i]] = 1\n",
    "        elif _det=='Sei whale':\n",
    "            annotations['Sei whale'][annot_pos[i]] = 1\n",
    "        elif _det in['Odontocete clicks', 'Odontocete buzz', 'Odontocete whistle'] :\n",
    "            annotations['Odontocete clicks'][annot_pos[i]] = 1\n",
    "annotations = pd.DataFrame(annotations)\n",
    "for key in list(annotations.keys()) :\n",
    "    dive[key] = successive_detections(annotations[key])"
   ],
   "outputs": [],
   "execution_count": null
  },
  {
   "cell_type": "code",
   "id": "adba6a2a-3383-4158-9f35-6dc13f9a6231",
   "metadata": {},
   "source": [
    "temp_jerk = sliding_window_sum(dive.total_jerk, 35)\n",
    "dive['PCA'] = temp_jerk\n",
    "np.corrcoef(dive.PCA, dive[annotations.columns].sum(axis = 1))"
   ],
   "outputs": [],
   "execution_count": null
  },
  {
   "cell_type": "markdown",
   "source": [
    "## Map / Bubble plot of cetacean detections and PCA"
   ],
   "metadata": {
    "collapsed": false
   }
  },
  {
   "cell_type": "code",
   "id": "c1aeb6bf",
   "metadata": {},
   "source": [
    "fig, ax = plt.subplots(2, 2, figsize=(12, 6), subplot_kw={'projection': ccrs.PlateCarree()})\n",
    "ax = ax.flatten()\n",
    "columns = list(dive[annotations.columns].sum()[dive[annotations.columns].sum() > 0].index)\n",
    "temp_jerk = sliding_window_sum(dive.total_jerk, 10)\n",
    "dive['PCA'] = (temp_jerk - np.nanmean(temp_jerk)) / np.nanstd(temp_jerk)\n",
    "columns.append('PCA')\n",
    "colors = colormaps.get_cmap('plasma').resampled(len(columns))\n",
    "for i, elem in enumerate(columns[::-1][-5:-1]) :\n",
    "    ax[i].set_extent([66, 90, -45, -55], crs=ccrs.PlateCarree())  # Adjust the limits as needed\n",
    "    ax[i].plot(dive.lon, dive.lat, c = 'k', linewidth = 2, label = elem)\n",
    "    ax[i].scatter(dive.lon, dive.lat, s = dive[elem] * 50, c = colors(i))\n",
    "    ax[i].add_feature(cfeature.OCEAN, facecolor='lightblue')\n",
    "    ax[i].add_feature(cfeature.LAND, edgecolor='black')\n",
    "    ax[i].add_feature(cfeature.COASTLINE)\n",
    "    ax[i].add_feature(cfeature.BORDERS, linestyle=':', edgecolor='gray')\n",
    "    ax[i].gridlines(draw_labels=True)\n",
    "    ax[i].set_title(f\"{elem}\")\n",
    "fig.tight_layout()"
   ],
   "outputs": [],
   "execution_count": null
  },
  {
   "cell_type": "code",
   "id": "f9255419-e66b-4922-a0a8-ad17bf805d7d",
   "metadata": {},
   "source": [
    "len(columns)"
   ],
   "outputs": [],
   "execution_count": null
  },
  {
   "cell_type": "code",
   "id": "f15425c7-68c2-48e9-b021-b759c3500f05",
   "metadata": {},
   "source": [
    "fig.savefig(\"C:/Users/grosm/Desktop/thèse/Figures/whale/map_comparison_ml18_294b.pdf\")"
   ],
   "outputs": [],
   "execution_count": null
  },
  {
   "cell_type": "markdown",
   "source": [
    "## Plot of temporal series"
   ],
   "metadata": {
    "collapsed": false
   }
  },
  {
   "cell_type": "code",
   "id": "d9940b4c",
   "metadata": {},
   "source": [
    "fig, ax = plt.subplots(figsize = (8, 8))\n",
    "dive[\"begin_time\"] = pd.to_datetime(dive[\"begin_time\"], unit=\"s\")\n",
    "columns = list(dive[annotations.columns].sum()[dive[annotations.columns].sum() > 0].index)\n",
    "colors = colormaps.get_cmap('viridis').resampled(len(columns))\n",
    "ax1 = ax.twinx()\n",
    "ax.scatter(dive.begin_time[dive.total_jerk > 0], dive.total_jerk[dive.total_jerk > 0], \n",
    "           alpha = 0.2, c = 'orange', label = 'PCA')\n",
    "ax.plot(dive.begin_time, medfilt(dive.total_jerk, 101), c = 'orange', label = 'median PCA')\n",
    "for i, elem in enumerate(columns[::-1]) :\n",
    "    ax1.plot(dive.begin_time, dive[elem], c = colors(i), linewidth = 3, label = elem)\n",
    "ax.set_facecolor('whitesmoke')\n",
    "ax1.grid()\n",
    "ax.tick_params(axis='x', rotation=45)\n",
    "handles_ax, labels_ax = ax.get_legend_handles_labels()\n",
    "handles_ax1, labels_ax1 = ax1.get_legend_handles_labels()\n",
    "legend = ax.legend(handles_ax + handles_ax1, labels_ax + labels_ax1, loc=\"upper left\")\n",
    "ax.set_ylabel(\"Number of prey catch attempts (PCA)\")\n",
    "ax1.set_ylabel(\"Number of recordings with detection\")"
   ],
   "outputs": [],
   "execution_count": null
  },
  {
   "cell_type": "code",
   "id": "4af00f18",
   "metadata": {},
   "source": [
    "fig.savefig(\"C:/Users/grosm/Desktop/thèse/Figures/\")"
   ],
   "outputs": [],
   "execution_count": null
  },
  {
   "cell_type": "markdown",
   "source": [
    "## Pooling detections"
   ],
   "metadata": {
    "collapsed": false
   }
  },
  {
   "cell_type": "code",
   "execution_count": 21,
   "outputs": [],
   "source": [
    "depids = ['ml17_280a', 'ml18_296a', 'ml18_294b', 'ml19_292a', 'ml19_292b', 'ml19_293a', 'ml19_294a', 'ml20_293a', 'ml20_296b',\n",
    "          'ml20_313a', 'ml21_295a', 'ml21_305b']"
   ],
   "metadata": {
    "collapsed": false,
    "ExecuteTime": {
     "end_time": "2025-04-11T13:31:12.164783700Z",
     "start_time": "2025-04-11T13:31:12.130398800Z"
    }
   }
  },
  {
   "cell_type": "code",
   "execution_count": 26,
   "outputs": [],
   "source": [
    "detections = pd.DataFrame()\n",
    "for depid in depids[:7] :\n",
    "    annot = pd.read_csv(os.path.join(annotation_path, depid, 'timestamps.csv'))\n",
    "    _annot = annot[['start_drift', 'end_drift', 'orig_fn', 'start_fn', 'fn','Annotation', 'Time', 'Indice', 'Notes']]\n",
    "    detections = pd.concat((detections, _annot))\n",
    "    _annot = annot[['start_drift', 'end_drift', 'orig_fn', 'start_fn', 'fn','Annotation2', 'Time2', 'Indice2', 'Notes2']]\n",
    "    _annot.columns = ['start_drift', 'end_drift', 'orig_fn', 'start_fn', 'fn','Annotation', 'Time', 'Indice', 'Notes']\n",
    "    detections = pd.concat((detections, _annot))\n",
    "    _annot = annot[['start_drift', 'end_drift', 'orig_fn', 'start_fn', 'fn','Annotation3', 'Time3', 'Indice3', 'Notes3']]\n",
    "    _annot.columns = ['start_drift', 'end_drift', 'orig_fn', 'start_fn', 'fn','Annotation', 'Time', 'Indice', 'Notes']\n",
    "    detections = pd.concat((detections, _annot))\n"
   ],
   "metadata": {
    "collapsed": false,
    "ExecuteTime": {
     "end_time": "2025-04-11T13:36:46.469833100Z",
     "start_time": "2025-04-11T13:36:46.406512200Z"
    }
   }
  },
  {
   "cell_type": "code",
   "execution_count": 28,
   "outputs": [
    {
     "data": {
      "text/plain": "12105"
     },
     "execution_count": 28,
     "metadata": {},
     "output_type": "execute_result"
    }
   ],
   "source": [
    "len(detections)"
   ],
   "metadata": {
    "collapsed": false,
    "ExecuteTime": {
     "end_time": "2025-04-11T13:36:58.092210200Z",
     "start_time": "2025-04-11T13:36:58.070509300Z"
    }
   }
  },
  {
   "cell_type": "code",
   "execution_count": 16,
   "outputs": [
    {
     "name": "stdout",
     "output_type": "stream",
     "text": [
      "['10 Hz sound' 'Antarctic Blue Whale' 'Antarctic blue whale' 'Blue whale '\n",
      " 'Boat' 'Buzz' 'Clicks' 'Dcall' 'Delphinid click' 'Downsweep' 'Fin whale'\n",
      " 'Fish' 'Flow noise' 'Grattage' 'Humpback whale' 'Ind 150Hz'\n",
      " 'Ind 150Hz + 300 Hz' 'Ind 150Hz + 40 Hz' 'Ind 350Hz' 'Ind 40 Hz'\n",
      " 'Ind 400' 'Ind 40Hz' 'Ind 60 Hz' 'Ind clicks 18kHz' 'Minke whale'\n",
      " 'Odontocete buzz' 'Odontocete clicks' 'Odontocete whistle' 'STOP'\n",
      " 'Sei whale' 'Southern Right Whale' 'Southern Right Whales' 'Spermwhale'\n",
      " 'Sweep' 'Tir sismique' 'Unidentified clicks' 'Unindentified clicks'\n",
      " 'Unindentified whistle' 'Unknown' 'Unknown buzz' 'Unknown clicks'\n",
      " 'Unknown double pulse' 'delphinid click' 'delphinid whistle']\n"
     ]
    }
   ],
   "source": [
    "labels = np.unique(np.concatenate([detections[col].dropna() for col in ['Annotation','Annotation2','Annotation3']]))\n",
    "print(labels)"
   ],
   "metadata": {
    "collapsed": false,
    "ExecuteTime": {
     "end_time": "2025-04-11T12:38:08.176068900Z",
     "start_time": "2025-04-11T12:38:08.161410300Z"
    }
   }
  }
 ],
 "metadata": {
  "kernelspec": {
   "display_name": "Python 3 (ipykernel)",
   "language": "python",
   "name": "python3"
  },
  "language_info": {
   "codemirror_mode": {
    "name": "ipython",
    "version": 3
   },
   "file_extension": ".py",
   "mimetype": "text/x-python",
   "name": "python",
   "nbconvert_exporter": "python",
   "pygments_lexer": "ipython3",
   "version": "3.12.3"
  }
 },
 "nbformat": 4,
 "nbformat_minor": 5
}
