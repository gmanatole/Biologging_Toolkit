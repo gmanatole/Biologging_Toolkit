{
 "cells": [
  {
   "cell_type": "code",
   "id": "ce4d405b",
   "metadata": {},
   "source": [
    "%load_ext autoreload\n",
    "%autoreload 2\n",
    "import os, sys\n",
    "import seaborn as sns\n",
    "import matplotlib.pyplot as plt\n",
    "from matplotlib import colormaps\n",
    "from scipy.signal import medfilt\n",
    "import cartopy.crs as crs\n",
    "import cartopy.feature as cfeature\n",
    "import numpy as np\n",
    "import pandas as pd\n",
    "import netCDF4 as nc\n",
    "sns.set_style(\"whitegrid\")\n",
    "\n",
    "plt.rcParams.update({\n",
    "    \"text.usetex\": True,                # Enable LaTeX text rendering\n",
    "    \"font.family\": \"serif\",             # Use a serif font\n",
    "    \"font.serif\": [\"Computer Modern\"],  # Set font to Computer Modern (LaTeX default)\n",
    "})\n",
    "sys.path.append('../src/')\n",
    "from Biologging_Toolkit.applications.Whales import Whales\n",
    "from Biologging_Toolkit.plot.whales import *\n",
    "from Biologging_Toolkit.utils.whale_utils import get_drift_time_positive_proportion\n",
    "import warnings\n",
    "warnings.filterwarnings(\"ignore\")"
   ],
   "outputs": [],
   "execution_count": null
  },
  {
   "cell_type": "code",
   "source": [
    "ker = ['ml17_280a', 'ml18_294b', 'ml19_292a', 'ml19_293a']\n",
    "arg = ['ml18_296a','ml19_292b','ml19_294a']"
   ],
   "metadata": {
    "collapsed": false
   },
   "id": "3a0709530773b349",
   "outputs": [],
   "execution_count": null
  },
  {
   "cell_type": "code",
   "id": "b330a902",
   "metadata": {},
   "source": [
    "depid = 'ml19_293a'\n",
    "ds_path = 'D:/individus_brut/individus'\n",
    "ctd_path = 'D:/individus_brut/CTD1'\n",
    "annotation_path = 'D:/drift_dives_SES/'"
   ],
   "outputs": [],
   "execution_count": null
  },
  {
   "cell_type": "code",
   "source": [
    "w = Whales(ker+arg, annotation_path = [os.path.join(annotation_path, dep, 'formatted_timestamps.csv') for dep in ker+arg])\n",
    "w.idx = 0"
   ],
   "metadata": {
    "collapsed": false
   },
   "id": "7c718fd427448fd8",
   "outputs": [],
   "execution_count": null
  },
  {
   "cell_type": "code",
   "source": [
    "w.load_data(annotation_path = 'C:/Users/grosmaan/Desktop/Results/annotations_2.pkl',\n",
    "            daily_path = 'C:/Users/grosmaan/Desktop/Results/daily_pool_2.pkl')"
   ],
   "metadata": {
    "collapsed": false
   },
   "id": "c23c29c56475f61f",
   "outputs": [],
   "execution_count": null
  },
  {
   "cell_type": "code",
   "source": [
    "w.categorize()\n",
    "w.day_pooling()"
   ],
   "metadata": {
    "collapsed": false
   },
   "id": "7ca0492beada4267",
   "outputs": [],
   "execution_count": null
  },
  {
   "cell_type": "code",
   "source": [
    "w.join_auxiliary(paths = [os.path.join(ds_path, dep, f'{dep}_sens.nc') for dep in ker+arg],\n",
    "                 save = False, save_path = 'C:/Users/grosmaan/Desktop/Results')"
   ],
   "metadata": {
    "collapsed": false
   },
   "id": "8172c36e354fd722",
   "outputs": [],
   "execution_count": null
  },
  {
   "cell_type": "code",
   "source": [
    "w.join_CTD(paths = [os.path.join(ctd_path, f'{dep}_fr1_prof.nc') for dep in ker+arg],\n",
    "           save = False, save_path = 'C:/Users/grosmaan/Desktop/Results')"
   ],
   "metadata": {
    "collapsed": false
   },
   "id": "3295e4df61eb7bd1",
   "outputs": [],
   "execution_count": null
  },
  {
   "metadata": {},
   "cell_type": "code",
   "source": [
    "import pickle\n",
    "with open(os.path.join('C:/Users/grosmaan/Desktop/Results', f'daily_pool_0.pkl'), 'wb') as f:\n",
    "    pickle.dump(w.daily, f)\n",
    "with open(os.path.join('C:/Users/grosmaan/Desktop/Results', f'annotations_0.pkl'), 'wb') as f:\n",
    "    pickle.dump(w.annotations, f)"
   ],
   "id": "f05146bff85ed24e",
   "outputs": [],
   "execution_count": null
  },
  {
   "metadata": {},
   "cell_type": "markdown",
   "source": [
    "### Index impact"
   ],
   "id": "73d27f92bba3ef17"
  },
  {
   "metadata": {},
   "cell_type": "code",
   "source": [
    "results_path = 'C:/Users/grosmaan/Desktop/Results/'\n",
    "plot_confidence_index_detection(ker, arg, annotation_path, results_path)"
   ],
   "id": "54541316f6f1d3b5",
   "outputs": [],
   "execution_count": null
  },
  {
   "cell_type": "code",
   "execution_count": null,
   "outputs": [],
   "source": [
    "score_path = 'C:/Users/grosmaan/Desktop/Results/whale_results.csv'\n",
    "score_confidence_index(score_path, save = True, save_path = results_path)"
   ],
   "metadata": {
    "collapsed": false
   }
  },
  {
   "metadata": {},
   "cell_type": "markdown",
   "source": [
    "### Scatterplots"
   ],
   "id": "ec7d4ad8f0bdea4b"
  },
  {
   "cell_type": "code",
   "execution_count": null,
   "outputs": [],
   "source": [
    "pairplot(w, vars = ['temp', 'chla_ctd', 'sal', 'flash', 'jerk'], arg = arg, ker = ker, save = True, save_path = 'C:/Users/grosmaan/Desktop/Results')"
   ],
   "metadata": {
    "collapsed": false
   }
  },
  {
   "metadata": {},
   "cell_type": "code",
   "source": [
    "fig, ax = plt.subplots(1, 2, sharex = True, sharey = True, figsize = (10, 5))\n",
    "for ml in w.daily.keys():\n",
    "    if ml in ker :\n",
    "        i = 0\n",
    "    else :\n",
    "        i = 1\n",
    "    try :\n",
    "        ax[i].scatter(w.daily[ml].bathy, w.daily[ml].duration_baleen, c= 'orange')\n",
    "        ax[i].scatter(w.daily[ml].bathy, w.daily[ml].duration_spermwhale, c= 'blue')\n",
    "        ax[i].scatter(w.daily[ml].bathy, w.daily[ml].duration_delphinid, c= 'green')\n",
    "    except :\n",
    "        continue"
   ],
   "id": "70da1ba1edc003df",
   "outputs": [],
   "execution_count": null
  },
  {
   "metadata": {},
   "cell_type": "code",
   "source": [
    "w.daily['ml19_292a'].keys()"
   ],
   "id": "c225f4874495b4dc",
   "outputs": [],
   "execution_count": null
  },
  {
   "metadata": {},
   "cell_type": "code",
   "source": [
    "plt.plot(w.daily['ml18_294b']['salinity'])\n",
    "plt.plot(w.daily['ml18_294b']['sal'])"
   ],
   "id": "489bb5d93ff11990",
   "outputs": [],
   "execution_count": null
  },
  {
   "cell_type": "markdown",
   "source": [
    "## Bubble maps"
   ],
   "metadata": {
    "collapsed": false
   }
  },
  {
   "cell_type": "code",
   "source": [
    "ml = arg[2]\n",
    "w.get_pos([os.path.join(ds_path, dep, f'{dep}_sens.nc') for dep in ker+arg])\n",
    "bubble_map(w, ml, save_path = f'C:/Users/grosmaan/Desktop/Results/{ml}_whale_map.pdf', legend_loc = 'upper left')"
   ],
   "metadata": {
    "collapsed": false
   },
   "id": "93d4616412c57b26",
   "outputs": [],
   "execution_count": null
  },
  {
   "cell_type": "markdown",
   "source": [
    "## Logistic Regression"
   ],
   "metadata": {
    "collapsed": false
   },
   "id": "29c209b0bb9a9b2e"
  },
  {
   "cell_type": "code",
   "source": [
    "ker = ['ml17_280a', 'ml18_294b', 'ml19_293a']\n",
    "arg = ['ml18_296a','ml19_292b','ml19_294a']\n",
    "vars = ['chla_ctd']\n",
    "y_test, y_pred, X_test = w.simple_logistic_regression(depids = ker, ind_var = vars)"
   ],
   "metadata": {
    "collapsed": false
   },
   "id": "60d7f3947640c3bb",
   "outputs": [],
   "execution_count": null
  },
  {
   "cell_type": "code",
   "execution_count": null,
   "outputs": [],
   "source": [
    "from sklearn.metrics import f1_score, recall_score, precision_score\n",
    "print('F1 :', np.round(f1_score(y_test.baleen, y_pred.baleen),2),\n",
    "      'recall :', np.round(recall_score(y_test.baleen, y_pred.baleen),2),\n",
    "      'precision :', np.round(precision_score(y_test.baleen, y_pred.baleen),2))\n",
    "print('F1 :', np.round(f1_score(y_test.delphinid, y_pred.delphinid),2),\n",
    "      'recall :', np.round(recall_score(y_test.delphinid, y_pred.delphinid),2),\n",
    "      'precision :', np.round(precision_score(y_test.delphinid, y_pred.delphinid),2))\n",
    "print('F1 :', np.round(f1_score(y_test.spermwhale, y_pred.spermwhale),2),\n",
    "      'recall :', np.round(recall_score(y_test.spermwhale, y_pred.spermwhale),2),\n",
    "      'precision :', np.round(precision_score(y_test.spermwhale, y_pred.spermwhale),2))"
   ],
   "metadata": {
    "collapsed": false
   }
  },
  {
   "cell_type": "code",
   "execution_count": null,
   "outputs": [],
   "source": [
    "from sklearn.metrics import confusion_matrix\n",
    "confusion_matrix(y_test.delphinid, y_pred.delphinid)"
   ],
   "metadata": {
    "collapsed": false
   }
  },
  {
   "cell_type": "code",
   "source": [
    "prediction_conf_matrix(y_test, y_pred, save = False, save_path = 'C:/Users/grosm/Desktop/thèse/Figures')"
   ],
   "metadata": {
    "collapsed": false
   },
   "id": "223158aa1453c0b0",
   "outputs": [],
   "execution_count": null
  },
  {
   "metadata": {
    "collapsed": false
   },
   "cell_type": "code",
   "source": [
    "plot_logistic_laws(y_pred, X_test, w, save = True, save_path = 'C:/Users/grosmaan/Desktop/Results')"
   ],
   "id": "c354ecc18831955a",
   "outputs": [],
   "execution_count": null
  },
  {
   "metadata": {
    "collapsed": false
   },
   "cell_type": "markdown",
   "source": [
    "## Statistics"
   ],
   "id": "ac9d83a4f44aaa95"
  },
  {
   "metadata": {
    "collapsed": false
   },
   "cell_type": "code",
   "source": [
    "ker = ['ml17_280a', 'ml18_294b', 'ml19_292a', 'ml19_293a']\n",
    "arg = ['ml18_296a','ml19_292b','ml19_294a']\n",
    "\n",
    "get_drift_time_positive_proportion(ker, arg, annotation_path, idx = 2)"
   ],
   "id": "8db3daf22925eee9",
   "outputs": [],
   "execution_count": null
  },
  {
   "metadata": {},
   "cell_type": "code",
   "source": [
    "histogram_detections(ker, arg, annotation_path, idx = 1)"
   ],
   "id": "a53222cd8135582d",
   "outputs": [],
   "execution_count": null
  },
  {
   "metadata": {
    "collapsed": false
   },
   "cell_type": "markdown",
   "source": [
    "## Get map of detections per deployment"
   ],
   "id": "ddb9c741d47b69de"
  },
  {
   "cell_type": "code",
   "id": "5d14d3f9",
   "metadata": {},
   "source": [
    "ds = nc.Dataset(os.path.join(ds_path, depid, depid+'_sens.nc'))\n",
    "dive = pd.read_csv(os.path.join(ds_path, depid, depid+'_dive.csv'))\n",
    "annot = pd.read_csv(os.path.join(annotation_path, depid, 'timestamps.csv'))"
   ],
   "outputs": [],
   "execution_count": null
  },
  {
   "cell_type": "code",
   "id": "8c7fdf51",
   "metadata": {},
   "source": [
    "def successive_detections(series):\n",
    "    changes = series.diff().fillna(0)\n",
    "    starts = changes == 1 \n",
    "    ends = changes == -1\n",
    "    cumulative = series.cumsum() \n",
    "    lengths = cumulative[ends].diff().fillna(cumulative[ends]) \n",
    "    result = np.zeros_like(series)\n",
    "    result[ends[ends].index] = lengths.values\n",
    "    return pd.Series(result, index=series.index)\n",
    "\n",
    "def sliding_window_sum(time_series, N):\n",
    "    result = np.zeros_like(time_series)\n",
    "    for i in range(len(time_series) - N + 1):\n",
    "        result[i + N - 1] = np.sum(time_series[i:i + N])\n",
    "    return result"
   ],
   "outputs": [],
   "execution_count": null
  },
  {
   "metadata": {},
   "cell_type": "code",
   "source": [
    "labels = np.unique(np.concatenate([annot[col].dropna() for col in ['Annotation','Annotation2','Annotation3']]))\n",
    "annot_pos = np.searchsorted(dive.begin_time, annot.start_drift)-1\n",
    "annotations = {label : np.zeros(len(dive)) for label in labels}\n",
    "'''annotations = {'Blue whale':np.zeros(len(dive))\n",
    "               'Antarctic blue whale':np.zeros(len(dive)),\n",
    "               'Sperm whale':np.zeros(len(dive)),\n",
    "               'Sei whale':np.zeros(len(dive)),\n",
    "               'Humpback whale':np.zeros(len(dive)),\n",
    "               'Fin whale':np.zeros(len(dive)),\n",
    "               'Minke whale':np.zeros(len(dive))}'''\n",
    "print(labels)"
   ],
   "id": "c5d2d45a340ade23",
   "outputs": [],
   "execution_count": null
  },
  {
   "cell_type": "code",
   "id": "875017b4",
   "metadata": {},
   "source": [
    "idx = 1\n",
    "for i, row in annot.iterrows() :\n",
    "    det = row[['Annotation', 'Annotation2', 'Annotation3']].to_numpy()\n",
    "    conf = row[['Indice', 'Indice2', 'Indice3']].to_numpy()\n",
    "    det = det[conf >= idx]\n",
    "    for _det in det :\n",
    "        if _det in ['Antarctic blue whale', 'Dcall', 'Blue whale'] :\n",
    "            annotations['Antarctic blue whale'][annot_pos[i]] = 1\n",
    "        elif _det=='Minke whale':\n",
    "            annotations['Minke whale'][annot_pos[i]] = 1\n",
    "        elif _det=='Spermwhale':\n",
    "            annotations['Spermwhale'][annot_pos[i]] = 1\n",
    "        elif _det=='Fin whale':\n",
    "            annotations['Fin whale'][annot_pos[i]] = 1\n",
    "        elif _det=='Humpback whale':\n",
    "            annotations['Humpback whale'][annot_pos[i]] = 1\n",
    "        elif _det=='Sei whale':\n",
    "            annotations['Sei whale'][annot_pos[i]] = 1\n",
    "        elif _det in['Odontocete clicks', 'Odontocete buzz', 'Odontocete whistle'] :\n",
    "            annotations['Odontocete clicks'][annot_pos[i]] = 1\n",
    "annotations = pd.DataFrame(annotations)\n",
    "for key in list(annotations.keys()) :\n",
    "    dive[key] = successive_detections(annotations[key])"
   ],
   "outputs": [],
   "execution_count": null
  },
  {
   "cell_type": "code",
   "source": [
    "baleen_whales = ['Antarctic Blue Whale', 'Antarctic blue whale', 'Blue whale ', 'Dcall', 'Downsweep', 'Fin whale',\n",
    "                 'Humpback whale', 'Minke whale', 'Sei whale', 'Southern Right Whale', 'Southern Right Whales']\n",
    "odontocetes = ['Buzz', 'Clicks', 'Delphinid click', 'Ind clicks 18kHz', 'Odontocete buzz', 'Odontocete clicks',\n",
    "               'Odontocete whistle', 'Spermwhale', 'Unidentified clicks', 'Unindentified clicks',\n",
    "               'Unindentified whistle', 'Unknown buzz', 'Unknown clicks', 'delphinid click', 'delphinid whistle']"
   ],
   "metadata": {
    "collapsed": false
   },
   "id": "7e6a630826a054fc",
   "outputs": [],
   "execution_count": null
  },
  {
   "cell_type": "code",
   "source": [
    "dive['baleen'] = dive[dive.columns[np.isin(dive.columns, baleen_whales)]].sum(axis = 1)\n",
    "dive['odontocetes'] = dive[dive.columns[np.isin(dive.columns, odontocetes)]].sum(axis = 1)"
   ],
   "metadata": {
    "collapsed": false
   },
   "id": "e65f3927a03d8e1b",
   "outputs": [],
   "execution_count": null
  },
  {
   "cell_type": "code",
   "source": [
    "proxy = {\"Flash\":\"flash\", \"PCA\":\"total_jerk\"}\n",
    "#columns = list(dive[annotations.columns].sum()[dive[annotations.columns].sum() > 0].index)\n",
    "columns = ['baleen', 'odontocetes']\n",
    "fig, ax = plt.subplots(1,3, figsize=(15, 5), subplot_kw={'projection': crs.PlateCarree()})\n",
    "for key in proxy.keys() :\n",
    "    _temp = sliding_window_sum(dive[proxy[key]], 10)\n",
    "    dive[key] = (_temp - np.nanmean(_temp)) / np.nanstd(_temp)\n",
    "    columns.append(key)\n",
    "\n",
    "colors = colormaps.get_cmap('plasma').resampled(len(columns))\n",
    "for i, elem in enumerate(columns) :\n",
    "    if np.isin(elem, ['baleen', 'odontocetes']) :\n",
    "        j = 0\n",
    "        _label = 'Cetacean detection'\n",
    "    else :\n",
    "        j = i-1\n",
    "        _label = elem\n",
    "    ax[j].set_extent([67, 85, -48, -55], crs=crs.PlateCarree())  # Adjust the limits as needed\n",
    "    ax[j].plot(dive.lon, dive.lat, c = 'k', linewidth = 2)\n",
    "    ax[j].scatter(dive.lon, dive.lat, s = dive[elem] * 50, c = colors((i-1)%4), label = elem.capitalize())\n",
    "    if j == 0:\n",
    "        ax[j].legend()\n",
    "    ax[j].add_feature(cfeature.OCEAN, facecolor='lightblue')\n",
    "    ax[j].add_feature(cfeature.LAND, edgecolor='black')\n",
    "    #ax[j].add_feature(cfeature.COASTLINE)\n",
    "    #ax[j].add_feature(cfeature.BORDERS, linestyle=':', edgecolor='gray')\n",
    "    ax[j].gridlines(draw_labels=True)\n",
    "    ax[j].set_title(_label)\n",
    "fig.tight_layout()"
   ],
   "metadata": {
    "collapsed": false
   },
   "id": "5d19131520fdca01",
   "outputs": [],
   "execution_count": null
  },
  {
   "cell_type": "code",
   "source": [
    "fig.savefig(\"C:/Users/grosmaan/Desktop/Results/ml19_293a_whales.pdf\")"
   ],
   "metadata": {
    "collapsed": false
   },
   "id": "ed5388c592f23572",
   "outputs": [],
   "execution_count": null
  },
  {
   "cell_type": "markdown",
   "source": [
    "## Plot of temporal series"
   ],
   "metadata": {
    "collapsed": false
   },
   "id": "ae060e5b6f6b0397"
  },
  {
   "cell_type": "code",
   "id": "d9940b4c",
   "metadata": {},
   "source": [
    "fig, ax = plt.subplots(figsize = (8, 8))\n",
    "dive[\"begin_time\"] = pd.to_datetime(dive[\"begin_time\"], unit=\"s\")\n",
    "columns = list(dive[annotations.columns].sum()[dive[annotations.columns].sum() > 0].index)\n",
    "colors = colormaps.get_cmap('viridis').resampled(len(columns))\n",
    "ax1 = ax.twinx()\n",
    "ax.scatter(dive.begin_time[dive.total_jerk > 0], dive.total_jerk[dive.total_jerk > 0], \n",
    "           alpha = 0.2, c = 'orange', label = 'PCA')\n",
    "ax.plot(dive.begin_time, medfilt(dive.total_jerk, 101), c = 'orange', label = 'median PCA')\n",
    "for i, elem in enumerate(columns[::-1]) :\n",
    "    ax1.plot(dive.begin_time, dive[elem], c = colors(i), linewidth = 3, label = elem)\n",
    "ax.set_facecolor('whitesmoke')\n",
    "ax1.grid()\n",
    "ax.tick_params(axis='x', rotation=45)\n",
    "handles_ax, labels_ax = ax.get_legend_handles_labels()\n",
    "handles_ax1, labels_ax1 = ax1.get_legend_handles_labels()\n",
    "legend = ax.legend(handles_ax + handles_ax1, labels_ax + labels_ax1, loc=\"upper left\")\n",
    "ax.set_ylabel(\"Number of prey catch attempts (PCA)\")\n",
    "ax1.set_ylabel(\"Number of recordings with detection\")"
   ],
   "outputs": [],
   "execution_count": null
  },
  {
   "cell_type": "code",
   "id": "4af00f18",
   "metadata": {},
   "source": [
    "fig.savefig(\"C:/Users/grosm/Desktop/thèse/Figures/\")"
   ],
   "outputs": [],
   "execution_count": null
  },
  {
   "cell_type": "markdown",
   "source": [
    "## Pooling detections"
   ],
   "metadata": {
    "collapsed": false
   },
   "id": "2b222a4010957e13"
  },
  {
   "cell_type": "code",
   "source": [
    "depids = ['ml17_280a', 'ml18_296a', 'ml18_294b', 'ml19_292a', 'ml19_292b', 'ml19_293a', 'ml19_294a'] #'ml20_293a', 'ml20_296b', 'ml20_313a', 'ml21_295a', 'ml21_305b']\n",
    "depids = ['ml18_296a', 'ml19_292b', 'ml19_294a']\n",
    "depids = ['ml17_280a', 'ml18_294b', 'ml19_292a', 'ml19_293a']\n"
   ],
   "metadata": {
    "collapsed": false
   },
   "id": "8f0dc28394646501",
   "outputs": [],
   "execution_count": null
  },
  {
   "metadata": {},
   "cell_type": "code",
   "source": [
    "from glob import glob\n",
    "detections = pd.DataFrame()\n",
    "for depid in depids :\n",
    "    fns = sorted(glob(os.path.join(ds_path, depid, 'dives', '*')))\n",
    "    last_time = np.load(fns[-1])['time'][-1]\n",
    "    data = nc.Dataset(os.path.join(ds_path, depid, f'{depid}_sens.nc'))\n",
    "    _data = pd.DataFrame({'depth':data['depth'][:], 'time':data['time'][:],\n",
    "                      'lat':data['lat'][:], 'lon':data['lon'][:], 'acc':data['acc_drift'][:],\n",
    "                       'depth_drift':data['depth_drift'][:], 'dives':data['dives'][:]})\n",
    "    _data = _data[_data.time<last_time]\n",
    "    _data['drift'] = _data.depth_drift.to_numpy().astype(int) & _data.acc.to_numpy().astype(int)\n",
    "    _data.drift.loc[_data.depth.to_numpy() < 200] = 0\n",
    "    _data = _data.groupby('dives').agg({'lat':'mean', 'lon':'mean', 'drift':'max', 'time':'mean'})\n",
    "    _data['depid'] = depid\n",
    "    detections = pd.concat((detections,_data))"
   ],
   "id": "f903188735df6739",
   "outputs": [],
   "execution_count": null
  },
  {
   "metadata": {},
   "cell_type": "code",
   "source": [
    "detections[['depid', 'drift']].groupby('depid').agg({'drift':'sum'})"
   ],
   "id": "6810752b912b4f1",
   "outputs": [],
   "execution_count": null
  },
  {
   "metadata": {},
   "cell_type": "code",
   "source": [
    "detections['timestamp'] = pd.to_datetime(detections['time'], unit='s')\n",
    "detections['date'] = detections['timestamp'].dt.date\n",
    "day_pool = detections.groupby(['date', 'depid']).agg({'lat':'mean','lon':'mean','drift':'sum'}).reset_index()"
   ],
   "id": "ff6dab0b4221d6a7",
   "outputs": [],
   "execution_count": null
  },
  {
   "metadata": {},
   "cell_type": "code",
   "source": [
    "fig, ax = plt.subplots(1, 2, figsize=(12, 6), subplot_kw={'projection': crs.PlateCarree()})\n",
    "ker = ['ml17_280a', 'ml18_294b', 'ml19_292a', 'ml19_293a']\n",
    "arg = ['ml18_296a','ml19_292b','ml19_294a']\n",
    "zone1 = [50, 90, -40, -65]\n",
    "zone2 = [-80, -40, -35, -60]\n",
    "for i, (dep, zone) in enumerate(zip([ker, arg],[zone1,zone2])) :\n",
    "    ax[i].set_extent(zone, crs=crs.PlateCarree())\n",
    "    _dive = day_pool[day_pool.depid.isin(dep)]\n",
    "    ax[i].scatter(detections.lon, detections.lat, c = 'k', s = 0.2)\n",
    "    ax[i].scatter(day_pool.lon, day_pool.lat, s = day_pool.drift*5, c = day_pool.drift, cmap = 'viridis')\n",
    "    ax[i].add_feature(cfeature.OCEAN, facecolor='lightblue')\n",
    "    ax[i].add_feature(cfeature.LAND, edgecolor='black')\n",
    "    ax[i].add_feature(cfeature.COASTLINE)\n",
    "    ax[i].add_feature(cfeature.BORDERS, linestyle=':', edgecolor='gray')\n",
    "    ax[i].gridlines(draw_labels=True)\n",
    "import matplotlib.pyplot as plt\n",
    "from matplotlib.cm import ScalarMappable\n",
    "from matplotlib.colors import Normalize\n",
    "legend_drifts = [1, 5, 10, 15, 20]\n",
    "norm = Normalize(vmin=day_pool.drift.min(), vmax=day_pool.drift.max())\n",
    "cmap = plt.cm.viridis\n",
    "legend_handles = [\n",
    "    plt.scatter([], [], s=d*5, color=cmap(norm(d)), label=d)\n",
    "    for d in legend_drifts\n",
    "]\n",
    "ax[0].legend(handles=legend_handles, title='Number of drift dives', loc='lower left')\n",
    "fig.tight_layout()"
   ],
   "id": "91eb64385032f56e",
   "outputs": [],
   "execution_count": null
  },
  {
   "metadata": {},
   "cell_type": "code",
   "source": [
    "fig.savefig('C:/Users/grosm/Desktop/thèse/Figures/drift_dives.pdf')"
   ],
   "id": "1e07a76b128f37a7",
   "outputs": [],
   "execution_count": null
  },
  {
   "cell_type": "code",
   "source": [
    "depids = ['ml18_296a', 'ml19_292b', 'ml19_294a']\n",
    "#depids = ['ml17_280a', 'ml18_294b', 'ml19_292a', 'ml19_293a']\n",
    "detections = pd.DataFrame()\n",
    "eleph = pd.DataFrame()\n",
    "for depid in depids:\n",
    "    eleph = pd.concat((eleph, pd.read_csv(os.path.join(ds_path, depid, f'{depid}_dive.csv'))))\n",
    "    try:\n",
    "        annot = pd.read_csv(os.path.join(annotation_path, depid, 'formatted_timestamps.csv'), delimiter=',')\n",
    "        if annot.shape[1] == 1:\n",
    "            raise ValueError(\"Probably wrong delimiter\")\n",
    "    except:\n",
    "        annot = pd.read_csv(os.path.join(annotation_path, depid, 'formatted_timestamps.csv'), delimiter=';')\n",
    "    annot['depid'] = depid\n",
    "    annot['drift_time'] = annot.end_drift - annot.start_drift\n",
    "    annot = annot[annot.drift_time < 180]\n",
    "    detections = pd.concat((detections, annot))\n"
   ],
   "metadata": {
    "collapsed": false
   },
   "id": "3956fa9e01423595",
   "outputs": [],
   "execution_count": null
  },
  {
   "cell_type": "code",
   "source": [
    "labels = [str(label) for label in np.unique(list(detections[['Annotation', 'Annotation2', 'Annotation3']].to_numpy().ravel()))]\n",
    "print(labels)"
   ],
   "metadata": {
    "collapsed": false
   },
   "id": "caaa349b5283a9b1",
   "outputs": [],
   "execution_count": null
  },
  {
   "cell_type": "code",
   "source": [
    "for label in labels :\n",
    "    detections[label] = np.sum([np.array([detections[_annot] == label]).astype(int).flatten() for _annot in ['Annotation','Annotation2','Annotation3']], axis = 0)\n",
    "detections = detections[['start_drift', 'end_drift', 'lat', 'lon','orig_fn', 'start_fn', 'fn','MW', 'Sweep', 'Unidentified clicks', 'ABW', 'FW', 'SW', 'Spermwhale', 'SRW', 'Buzz', 'Delphinid clicks', 'Delphinid whistle', 'Downsweep']]\n",
    "\n",
    "#['start_drift', 'end_drift', 'lat', 'lon','orig_fn', 'start_fn', 'fn','MW', 'Sweep', 'Unidentified clicks', 'ABW', 'FW', 'SW', 'Spermwhale', 'SRW', 'HW','Buzz', 'Clicks', 'Delphinid clicks', 'Delphinid whistle', 'Downsweep']\n",
    "#['start_drift', 'end_drift', 'lat', 'lon','orig_fn', 'start_fn', 'fn','MW', 'ABW', 'FW', 'Spermwhale', 'SRW', 'HW','Buzz', 'Clicks', 'Delphinid clicks', 'Delphinid whistle']\n",
    "#['start_drift', 'end_drift', 'lat', 'lon','orig_fn', 'start_fn', 'fn','MW', 'Sweep', 'Unidentified clicks', 'ABW', 'FW', 'SW', 'Spermwhale', 'SRW', 'Buzz', 'Delphinid clicks', 'Delphinid whistle', 'Downsweep']"
   ],
   "metadata": {
    "collapsed": false
   },
   "id": "10c144ed017ee2",
   "outputs": [],
   "execution_count": null
  },
  {
   "cell_type": "code",
   "source": [
    "'''for col in ['MW', 'Sweep', 'Unidentified clicks', 'ABW', 'FW', 'SW', 'Spermwhale', 'SRW', 'HW', 'Buzz', 'Clicks', 'Delphinid clicks', 'Delphinid whistle', 'Downsweep'] :\n",
    "    detections[col] = sliding_window_sum(detections[col] , 5)'''\n",
    "detections['timestamp'] = pd.to_datetime(detections['start_drift'], unit='s')\n",
    "detections['date'] = detections['timestamp'].dt.date"
   ],
   "metadata": {
    "collapsed": false
   },
   "id": "75f346424234921c",
   "outputs": [],
   "execution_count": null
  },
  {
   "cell_type": "code",
   "source": [
    "_bal = np.array(['MW', 'Sweep','ABW', 'FW', 'SW', 'SRW', 'Downsweep'])\n",
    "_odo = np.array(['Unidentified clicks', 'Buzz', 'Delphinid clicks', 'Delphinid whistle'])\n",
    "baleen = detections[_bal[np.isin(_bal, ['MW', 'ABW', 'FW', 'SRW', 'HW'])]]\n",
    "baleen['baleen'] = baleen.sum(axis = 1)\n",
    "odontocetes = detections[_odo[np.isin(_odo, ['Buzz', 'Delphinid clicks', 'Delphinid whistle'])]]\n",
    "odontocetes['odontocetes'] = odontocetes.sum(axis = 1)\n",
    "spermwhale = pd.DataFrame(detections['Spermwhale'])"
   ],
   "metadata": {
    "collapsed": false
   },
   "id": "552eb2edfe426712",
   "outputs": [],
   "execution_count": null
  },
  {
   "cell_type": "code",
   "source": [
    "baleen['timestamp'] = pd.to_datetime(detections['start_drift'], unit='s')\n",
    "odontocetes['timestamp'] = pd.to_datetime(detections['start_drift'], unit='s')\n",
    "eleph['timestamp'] = pd.to_datetime(eleph['begin_time'], unit='s')\n",
    "spermwhale['timestamp'] = pd.to_datetime(detections['start_drift'], unit = 's')\n",
    "baleen['date'] = baleen['timestamp'].dt.date\n",
    "odontocetes['date'] = odontocetes['timestamp'].dt.date\n",
    "eleph['date'] = eleph['timestamp'].dt.date\n",
    "spermwhale['date'] = spermwhale['timestamp'].dt.date\n",
    "eleph = eleph[['date', 'flash', 'total_jerk']]\n",
    "baleen = baleen[['date', 'baleen']]\n",
    "odontocetes = odontocetes[['date', 'odontocetes']]"
   ],
   "metadata": {
    "collapsed": false
   },
   "id": "7ba42ca549b64b77",
   "outputs": [],
   "execution_count": null
  },
  {
   "metadata": {},
   "cell_type": "code",
   "source": [
    "baleen = baleen.groupby('date').agg('mean')\n",
    "odontocetes = odontocetes.groupby('date').agg('mean')\n",
    "spermwhale = spermwhale.groupby('date').agg('mean')"
   ],
   "id": "634dee2c4659c3eb",
   "outputs": [],
   "execution_count": null
  },
  {
   "cell_type": "code",
   "source": [
    "merged_df = pd.merge(odontocetes, baleen, on='date', how='outer')\n",
    "merged_df = pd.merge(merged_df, spermwhale, on='date', how='outer')\n",
    "final_df = pd.merge(merged_df, eleph, on='date', how='left')\n",
    "final_df = final_df.groupby('date').agg('mean')"
   ],
   "metadata": {
    "collapsed": false
   },
   "id": "ca863beffaa9e41b",
   "outputs": [],
   "execution_count": null
  },
  {
   "metadata": {},
   "cell_type": "code",
   "source": [
    "value = 'total_jerk'\n",
    "bins = np.linspace(final_df[value].min(), final_df[value].max(), 10)\n",
    "final_df['bin'] = pd.cut(final_df[value], bins)\n",
    "result = final_df.groupby('bin').agg({'baleen':'mean','odontocetes':'mean','Spermwhale':'mean'}).reset_index()\n",
    "result['midpoints'] = final_df.groupby('bin').mean().index.map(lambda x: x.mid).astype(float)"
   ],
   "id": "51ca57ea769b1497",
   "outputs": [],
   "execution_count": null
  },
  {
   "metadata": {},
   "cell_type": "code",
   "source": [
    "result.columns = ['bin', 'Baleen whales',  'Other odontocetes', 'Spermwhale','midpoints']\n"
   ],
   "id": "4d3f5bae3bd22e34",
   "outputs": [],
   "execution_count": null
  },
  {
   "metadata": {},
   "cell_type": "code",
   "source": [
    "result = result[['midpoints','Baleen whales',  'Other odontocetes', 'Spermwhale']].melt(id_vars = ['midpoints'])"
   ],
   "id": "7a4fb03aff298db3",
   "outputs": [],
   "execution_count": null
  },
  {
   "metadata": {},
   "cell_type": "code",
   "source": [
    "result.fillna(0, inplace = True)"
   ],
   "id": "1dc5c03ac683f79c",
   "outputs": [],
   "execution_count": null
  },
  {
   "metadata": {},
   "cell_type": "code",
   "source": [
    "from scipy.interpolate import PchipInterpolator\n",
    "import numpy as np\n",
    "\n",
    "# Assume `df` has columns: 'midpoints', 'value', and 'variable'\n",
    "fig, ax = plt.subplots(figsize = (8,8))\n",
    "for var, group in result.groupby('variable'):\n",
    "    x = group['midpoints']\n",
    "    y = group['value']\n",
    "\n",
    "    # Sort to avoid errors\n",
    "    x, y = zip(*sorted(zip(x, y)))\n",
    "\n",
    "    x_smooth = np.linspace(min(x), max(x), 100)\n",
    "    pchip = PchipInterpolator(x, y)\n",
    "    y_smooth = pchip(x_smooth)\n",
    "\n",
    "    ax.plot(x_smooth, y_smooth, label=var)\n",
    "\n",
    "ax.legend()\n",
    "ax.set_xlabel('Average number of PrCA per dive')\n",
    "ax.set_ylabel('Detection probability')\n",
    "ax.grid(True)\n",
    "fig.savefig('C:/Users/grosm/Desktop/thèse/Figures/Cetacean_vs_jerk_arg.pdf')\n"
   ],
   "id": "f74a916c2014226f",
   "outputs": [],
   "execution_count": null
  },
  {
   "cell_type": "code",
   "source": [
    "melted = final_df[['odontocetes', 'baleen', 'Spermwhale', 'flash', 'total_jerk']].melt(id_vars = ['total_jerk', 'flash'])"
   ],
   "metadata": {
    "collapsed": false
   },
   "id": "4ac768df473bdb43",
   "outputs": [],
   "execution_count": null
  },
  {
   "cell_type": "code",
   "source": [
    "fig, ax = plt.subplots()\n",
    "plt.scatter(final_df.flash, final_df.Spermwhale)\n",
    "plt.scatter(final_df.flash, final_df.baleen)\n",
    "plt.scatter(final_df.flash, final_df.odontocetes)"
   ],
   "metadata": {
    "collapsed": false
   },
   "id": "43f01d4609b2a219",
   "outputs": [],
   "execution_count": null
  },
  {
   "cell_type": "code",
   "source": [
    "fig, ax = plt.subplots(1, 2, figsize=(14, 6), sharey=True)\n",
    "sns.kdeplot(data=melted, x='total_jerk', weights='value', hue='variable',\n",
    "            fill=True, common_norm=False, alpha=0.6, ax=ax[0])\n",
    "ax[0].set_xlabel('PCA')\n",
    "sns.kdeplot(data=melted, x='flash', weights='value', hue='variable',\n",
    "            fill=True, common_norm=False, alpha=0.6, ax=ax[1])\n",
    "ax[1].set_xlabel('Flash')\n",
    "ax[0].set_ylabel('Density')\n",
    "fig.legend(loc='center left', bbox_to_anchor=(1.0, 0.5), title='Label')\n",
    "fig.tight_layout()\n",
    "plt.subplots_adjust(right=0.8)\n",
    "plt.show()"
   ],
   "metadata": {
    "collapsed": false
   },
   "id": "3e855349caa65bdd",
   "outputs": [],
   "execution_count": null
  },
  {
   "cell_type": "code",
   "source": [
    "ses = pd.read_csv(os.path.join(ds_path, 'ml17_280a', f'ml17_280a_dive.csv'))\n",
    "ses['timestamp'] = pd.to_datetime(ses['begin_time'], unit = 's')\n",
    "ses['date'] = ses['timestamp'].dt.date\n",
    "ses = ses[['date', 'total_jerk']]\n",
    "ses = ses.groupby('date').agg({'total_jerk': 'median'})"
   ],
   "metadata": {
    "collapsed": false
   },
   "id": "da8f81e056bd46a1",
   "outputs": [],
   "execution_count": null
  },
  {
   "cell_type": "code",
   "source": [
    "from datetime import datetime\n",
    "fig, ax = plt.subplots()\n",
    "ax1 = ax.twinx()\n",
    "ax1.scatter(baleen.date, baleen.baleen, c = 'red')\n",
    "ax1.scatter(odontocetes.date, odontocetes.odontocetes, c = 'green')\n",
    "ax.scatter(eleph.date, eleph.total_jerk)\n",
    "ax.set_xlim(datetime(2018,10,1), datetime(2018,12,1))"
   ],
   "metadata": {
    "collapsed": false
   },
   "id": "debcc8fdf9c43411",
   "outputs": [],
   "execution_count": null
  },
  {
   "cell_type": "code",
   "source": [],
   "metadata": {
    "collapsed": false
   },
   "id": "e5bfe4047691225b",
   "outputs": [],
   "execution_count": null
  },
  {
   "cell_type": "code",
   "source": [
    "agg = 'mean'\n",
    "odontocetes = odontocetes.groupby('date').agg({'odontocetes': agg}).reset_index()\n",
    "baleen = baleen.groupby('date').agg({'baleen': agg}).reset_index()\n",
    "eleph = eleph.groupby('date').agg({'total_jerk': agg, 'flash': agg}).reset_index()"
   ],
   "metadata": {
    "collapsed": false
   },
   "id": "40780f10f55cd176",
   "outputs": [],
   "execution_count": null
  },
  {
   "cell_type": "code",
   "source": [
    "merged_df = pd.merge(odontocetes, baleen, on='date', how='outer')\n",
    "final_df = pd.merge(merged_df, eleph, on='date', how='outer')\n",
    "merged_df = pd.merge(detections, eleph, on='date', how='outer')"
   ],
   "metadata": {
    "collapsed": false
   },
   "id": "a81580e6d050bdc8",
   "outputs": [],
   "execution_count": null
  },
  {
   "cell_type": "code",
   "source": [
    "from scipy.signal import medfilt\n",
    "fig, ax = plt.subplots(1,2, figsize = (12,6), sharey = True)\n",
    "ax[0].scatter(final_df.total_jerk, final_df.baleen, alpha = 0.8, c = 'crimson', label = 'Baleen whales')\n",
    "ax[0].scatter(final_df.total_jerk, final_df.odontocetes, alpha = 0.8, c = 'powderblue', label = 'Odontocetes')\n",
    "ax[1].scatter(final_df.flash, final_df.baleen, alpha = 0.8, c = 'crimson')\n",
    "ax[1].scatter(final_df.flash, final_df.odontocetes, alpha = 0.8, c = 'powderblue')\n",
    "ax[0].set_xlabel('PCA')\n",
    "ax[0].legend()\n",
    "ax[1].set_xlabel('Flash')\n",
    "ax[0].set_ylabel('Cumulative detections per day')"
   ],
   "metadata": {
    "collapsed": false
   },
   "id": "c3bb90e3612d09de",
   "outputs": [],
   "execution_count": null
  },
  {
   "cell_type": "code",
   "source": [
    "merged_df.columns"
   ],
   "metadata": {
    "collapsed": false
   },
   "id": "9d0cb36e3e446492",
   "outputs": [],
   "execution_count": null
  },
  {
   "cell_type": "code",
   "source": [
    "from scipy.signal import medfilt\n",
    "fig, ax = plt.subplots(1,2, figsize = (12,6), sharey = True)\n",
    "for col in ['MW', 'Sweep', 'Unidentified clicks', 'ABW', 'FW', 'SW', 'Spermwhale', 'SRW', 'HW', 'Buzz', 'Clicks', 'Delphinid clicks', 'Delphinid whistle','Downsweep']:\n",
    "    ax[0].scatter(medfilt(merged_df.total_jerk,11), np.convolve(merged_df[col], np.ones(3)/3, mode = 'same'), alpha = 0.8, label = col)\n",
    "    ax[1].scatter(medfilt(merged_df.flash,11), np.convolve(merged_df[col], np.ones(3)/3, mode = 'same'), alpha = 0.8)\n",
    "ax[0].set_xlabel('PCA')\n",
    "fig.legend(loc='center left', bbox_to_anchor=(1.0, 0.5), title='Label')\n",
    "ax[1].set_xlabel('Flash')\n",
    "ax[0].set_ylabel('Cumulative detections per day')"
   ],
   "metadata": {
    "collapsed": false
   },
   "id": "c554d2aacc36a8a5",
   "outputs": [],
   "execution_count": null
  },
  {
   "cell_type": "code",
   "source": [
    "pca_vals = medfilt(merged_df.total_jerk, 11)\n",
    "flash_vals = medfilt(merged_df.flash, 11)\n",
    "import pandas as pd\n",
    "data_list = []\n",
    "for col in ['MW', 'Sweep', 'Unidentified clicks', 'ABW', 'FW', 'SW',\n",
    "            'Spermwhale', 'SRW', 'HW', 'Buzz', 'Clicks',\n",
    "            'Delphinid clicks', 'Delphinid whistle', 'Downsweep']:\n",
    "    smoothed_col = np.convolve(merged_df[col], np.ones(3)/3, mode='same')\n",
    "    data_list.append(pd.DataFrame({\n",
    "        'PCA': pca_vals,\n",
    "        'Flash': flash_vals,\n",
    "        'Detections': smoothed_col,\n",
    "        'Label': col\n",
    "    }))\n",
    "long_df = pd.concat(data_list)\n",
    "fig, ax = plt.subplots(1, 2, figsize=(14, 6), sharey=True)\n",
    "sns.kdeplot(data=long_df, x='PCA', weights='Detections', hue='Label',\n",
    "            fill=True, common_norm=False, alpha=0.6, ax=ax[0])\n",
    "ax[0].set_xlabel('PCA')\n",
    "sns.kdeplot(data=long_df, x='Flash', weights='Detections', hue='Label',\n",
    "            fill=True, common_norm=False, alpha=0.6, ax=ax[1])\n",
    "ax[1].set_xlabel('Flash')\n",
    "ax[0].set_ylabel('Density')\n",
    "fig.legend(loc='center left', bbox_to_anchor=(1.0, 0.5), title='Label')\n",
    "fig.tight_layout()\n",
    "plt.subplots_adjust(right=0.8)\n",
    "plt.show()"
   ],
   "metadata": {
    "collapsed": false
   },
   "id": "ba6f3a9c5d3f8599",
   "outputs": [],
   "execution_count": null
  },
  {
   "cell_type": "code",
   "source": [
    "fig.savefig('C:/Users/grosmaan/Desktop/Results/presence_density.png')"
   ],
   "metadata": {
    "collapsed": false
   },
   "id": "a4ffbc142497e56",
   "outputs": [],
   "execution_count": null
  },
  {
   "cell_type": "code",
   "source": [
    "final_df"
   ],
   "metadata": {
    "collapsed": false
   },
   "id": "b02004546d70c868",
   "outputs": [],
   "execution_count": null
  },
  {
   "cell_type": "markdown",
   "source": [
    "### REFORMAT TIMESTAMPS.CSV"
   ],
   "metadata": {
    "collapsed": false
   },
   "id": "8fc9d28b80f86919"
  },
  {
   "cell_type": "code",
   "source": [
    "#### FORMAT TIMESTAMPS\n",
    "depids = ['ml17_280a', 'ml18_296a', 'ml18_294b', 'ml19_292a', 'ml19_292b', 'ml19_293a', 'ml19_294a']\n",
    "for depid in depids :\n",
    "    try:\n",
    "        annot = pd.read_csv(os.path.join(annotation_path, depid, 'timestamps.csv'), delimiter=',')\n",
    "        if annot.shape[1] == 1:\n",
    "            raise ValueError(\"Probably wrong delimiter\")\n",
    "    except:\n",
    "        annot = pd.read_csv(os.path.join(annotation_path, depid, 'timestamps.csv'), delimiter=';')\n",
    "    for col in ['Annotation', 'Annotation2', 'Annotation3'] :\n",
    "        _col = annot[col].astype(str).to_numpy()\n",
    "        _col[np.isin(_col,  ['Antarctic Blue Whale', 'Antarctic blue whale', 'Blue whale ', 'Dcall'])] = 'ABW'\n",
    "        _col[np.isin(_col,  ['Fin whale'])] = 'FW'\n",
    "        _col[np.isin(_col,  ['Humpback whale'])] = 'HW'\n",
    "        _col[np.isin(_col,  ['Minke whale'])] = 'MW'\n",
    "        _col[np.isin(_col,  ['Sei whale'])] = 'SW'\n",
    "        _col[np.isin(_col,  ['Southern Right Whale', 'Southern Right Whales'])] = 'SRW'\n",
    "        _col[np.isin(_col,  ['delphinid click', 'Delphinid click', 'Odontocete clicks'])] = 'Delphinid clicks'\n",
    "        _col[np.isin(_col,  ['Odontocete buzz', 'Buzz', 'Unknown buzz'])] = 'Buzz'\n",
    "        _col[np.isin(_col,  ['Odontocete whistle', 'Unindentified whistle', 'delphinid whistle'])] = 'Delphinid whistle'\n",
    "        _col[np.isin(_col,  ['Unidentified clicks', 'Unindentified clicks'])] = 'Unidentified clicks'\n",
    "        annot[col] = _col\n",
    "    annot.to_csv(os.path.join(annotation_path, depid, 'formatted_timestamps.csv'), index = None)"
   ],
   "metadata": {
    "collapsed": false
   },
   "id": "fc4276af5aa24b28",
   "outputs": [],
   "execution_count": null
  },
  {
   "cell_type": "code",
   "source": [
    "#### CODE FOR UNFORMATTED TIMESTAMPS\n",
    "detections = pd.DataFrame()\n",
    "eleph = pd.DataFrame()\n",
    "for depid in depids[:7]:\n",
    "    eleph = pd.concat((eleph, pd.read_csv(os.path.join(ds_path, depid, f'{depid}_dive.csv'))))\n",
    "    annot = pd.read_csv(os.path.join(annotation_path, depid, 'formatted_timestamps.csv'), delimiter=',')\n",
    "    _annot = annot[['start_drift', 'end_drift', 'lat', 'lon', 'orig_fn', 'start_fn', 'fn','Annotation', 'Time', 'Indice', 'Notes']]\n",
    "    detections = pd.concat((detections, _annot))\n",
    "    _annot = annot[['start_drift', 'end_drift', 'lat', 'lon', 'orig_fn', 'start_fn', 'fn','Annotation2', 'Time2', 'Indice2', 'Notes2']]\n",
    "    _annot.columns = ['start_drift', 'end_drift', 'lat', 'lon', 'orig_fn', 'start_fn', 'fn','Annotation', 'Time', 'Indice', 'Notes']\n",
    "    detections = pd.concat((detections, _annot))\n",
    "    _annot = annot[['start_drift', 'end_drift', 'lat', 'lon','orig_fn', 'start_fn', 'fn','Annotation3', 'Time3', 'Indice3', 'Notes3']]\n",
    "    _annot.columns = ['start_drift', 'end_drift', 'lat', 'lon', 'orig_fn', 'start_fn', 'fn','Annotation', 'Time', 'Indice', 'Notes']\n",
    "    detections = pd.concat((detections, _annot))\n"
   ],
   "metadata": {
    "collapsed": false
   },
   "id": "75b9cd8ccb21b6d7",
   "outputs": [],
   "execution_count": null
  },
  {
   "cell_type": "code",
   "source": [
    "baleen_whales = ['Antarctic Blue Whale', 'Antarctic blue whale', 'Blue whale ', 'Dcall','Downsweep', 'Fin whale','Humpback whale', 'Minke whale', 'Sei whale', 'Southern Right Whale', 'Southern Right Whales']"
   ],
   "metadata": {
    "collapsed": false
   },
   "id": "89f7a438b51886be",
   "outputs": [],
   "execution_count": null
  },
  {
   "cell_type": "code",
   "source": [
    "odontocetes = ['Buzz', 'Clicks', 'Delphinid click', 'Ind clicks 18kHz', 'Odontocete buzz', 'Odontocete clicks', 'Odontocete whistle', 'Spermwhale', 'Unidentified clicks', 'Unindentified clicks', 'Unindentified whistle', 'Unknown buzz', 'Unknown clicks','delphinid click', 'delphinid whistle']"
   ],
   "metadata": {
    "collapsed": false
   },
   "id": "353dbd935541a436",
   "outputs": [],
   "execution_count": null
  },
  {
   "cell_type": "code",
   "source": [
    "#### PLOT FOR POLAR VIEW OF THREE DIFFERENT VARIABLES\n",
    "baleen = detections[np.isin(detections['Annotation'], baleen_whales)]\n",
    "odontocetes = detections[np.isin(detections['Annotation'], odontocetes)]\n",
    "fig, ax = plt.subplots(1,3, figsize=(15,5), subplot_kw={'projection': crs.Orthographic(central_latitude=-90, central_longitude=0)})\n",
    "ax = ax.flatten()\n",
    "for i, _ax in enumerate(ax) :\n",
    "    _ax.stock_img()\n",
    "    if i == 0:\n",
    "        _ax.scatter(x=baleen.lon, y=baleen.lat, s=10*np.ones(len(baleen)), c='black', transform=crs.PlateCarree())\n",
    "    elif i == 1:\n",
    "        _ax.scatter(x=odontocetes.lon, y=odontocetes.lat, s=10*np.ones(len(odontocetes)), c = 'gold', transform=crs.PlateCarree())\n",
    "    elif i == 2:\n",
    "        _ax.scatter(x=eleph.lon, y=eleph.lat, s= np.log(eleph.flash), transform=crs.PlateCarree())\n",
    "fig.show()"
   ],
   "metadata": {
    "collapsed": false
   },
   "id": "ae89b94185c098b",
   "outputs": [],
   "execution_count": null
  }
 ],
 "metadata": {
  "kernelspec": {
   "display_name": "Python 3 (ipykernel)",
   "language": "python",
   "name": "python3"
  },
  "language_info": {
   "codemirror_mode": {
    "name": "ipython",
    "version": 3
   },
   "file_extension": ".py",
   "mimetype": "text/x-python",
   "name": "python",
   "nbconvert_exporter": "python",
   "pygments_lexer": "ipython3",
   "version": "3.12.3"
  }
 },
 "nbformat": 4,
 "nbformat_minor": 5
}
