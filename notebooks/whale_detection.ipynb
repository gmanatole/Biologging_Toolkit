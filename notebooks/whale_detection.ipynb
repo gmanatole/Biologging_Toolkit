{
 "cells": [
  {
   "cell_type": "code",
   "id": "ce4d405b",
   "metadata": {},
   "source": [
    "import os, sys\n",
    "import seaborn as sns\n",
    "import matplotlib.pyplot as plt\n",
    "from matplotlib import colormaps\n",
    "from scipy.signal import medfilt\n",
    "import cartopy.crs as crs\n",
    "import cartopy.feature as cfeature\n",
    "import numpy as np\n",
    "import pandas as pd\n",
    "import netCDF4 as nc\n",
    "plt.rcParams.update({\n",
    "    \"text.usetex\": True,                # Enable LaTeX text rendering\n",
    "    \"font.family\": \"serif\",             # Use a serif font\n",
    "    \"font.serif\": [\"Computer Modern\"],  # Set font to Computer Modern (LaTeX default)\n",
    "})\n",
    "sys.path.append('../src/')\n",
    "from Biologging_Toolkit.applications.Jerk import Jerk\n",
    "from Biologging_Toolkit.utils.plot_utils import subplots_centered\n",
    "import warnings\n",
    "warnings.filterwarnings(\"ignore\")"
   ],
   "outputs": [],
   "execution_count": null
  },
  {
   "cell_type": "markdown",
   "source": [
    "## Statistics"
   ],
   "metadata": {
    "collapsed": false
   }
  },
  {
   "cell_type": "code",
   "execution_count": null,
   "outputs": [],
   "source": [
    "ker = ['ml17_280a', 'ml18_294b', 'ml19_292a', 'ml19_293a']\n",
    "arg = ['ml18_296a','ml19_292b','ml19_294a']\n",
    "\n",
    "data = pd.DataFrame()\n",
    "for depid in arg:\n",
    "    data = pd.concat((data, pd.read_csv(os.path.join(annotation_path, depid, 'formatted_timestamps.csv'))))\n",
    "data = data[['Annotation', 'Annotation2', 'Annotation3']].astype(str).to_numpy().flatten()\n",
    "_label, _count = np.unique(data, return_counts=True)"
   ],
   "metadata": {
    "collapsed": false
   }
  },
  {
   "cell_type": "code",
   "execution_count": null,
   "outputs": [],
   "source": [
    "pd.DataFrame({'label':_label, 'count':_count})"
   ],
   "metadata": {
    "collapsed": false
   }
  },
  {
   "cell_type": "markdown",
   "source": [
    "## Get map of detections per deployment"
   ],
   "metadata": {
    "collapsed": false
   }
  },
  {
   "cell_type": "code",
   "id": "b330a902",
   "metadata": {},
   "source": [
    "depid = 'ml19_293a'\n",
    "ds_path = 'D:/individus_brut/individus'\n",
    "annotation_path = 'D:/drift_dives_SES/'"
   ],
   "outputs": [],
   "execution_count": null
  },
  {
   "cell_type": "code",
   "id": "5d14d3f9",
   "metadata": {},
   "source": [
    "ds = nc.Dataset(os.path.join(ds_path, depid, depid+'_sens.nc'))\n",
    "dive = pd.read_csv(os.path.join(ds_path, depid, depid+'_dive.csv'))\n",
    "annot = pd.read_csv(os.path.join(annotation_path, depid, 'timestamps.csv'))"
   ],
   "outputs": [],
   "execution_count": null
  },
  {
   "cell_type": "code",
   "id": "8c7fdf51",
   "metadata": {},
   "source": [
    "def successive_detections(series):\n",
    "    changes = series.diff().fillna(0)\n",
    "    starts = changes == 1 \n",
    "    ends = changes == -1\n",
    "    cumulative = series.cumsum() \n",
    "    lengths = cumulative[ends].diff().fillna(cumulative[ends]) \n",
    "    result = np.zeros_like(series)\n",
    "    result[ends[ends].index] = lengths.values\n",
    "    return pd.Series(result, index=series.index)\n",
    "\n",
    "def sliding_window_sum(time_series, N):\n",
    "    result = np.zeros_like(time_series)\n",
    "    for i in range(len(time_series) - N + 1):\n",
    "        result[i + N - 1] = np.sum(time_series[i:i + N])\n",
    "    return result"
   ],
   "outputs": [],
   "execution_count": null
  },
  {
   "metadata": {},
   "cell_type": "code",
   "source": [
    "labels = np.unique(np.concatenate([annot[col].dropna() for col in ['Annotation','Annotation2','Annotation3']]))\n",
    "annot_pos = np.searchsorted(dive.begin_time, annot.start_drift)-1\n",
    "annotations = {label : np.zeros(len(dive)) for label in labels}\n",
    "'''annotations = {'Blue whale':np.zeros(len(dive))\n",
    "               'Antarctic blue whale':np.zeros(len(dive)),\n",
    "               'Sperm whale':np.zeros(len(dive)),\n",
    "               'Sei whale':np.zeros(len(dive)),\n",
    "               'Humpback whale':np.zeros(len(dive)),\n",
    "               'Fin whale':np.zeros(len(dive)),\n",
    "               'Minke whale':np.zeros(len(dive))}'''\n",
    "print(labels)"
   ],
   "id": "c5d2d45a340ade23",
   "outputs": [],
   "execution_count": null
  },
  {
   "cell_type": "code",
   "id": "875017b4",
   "metadata": {},
   "source": [
    "idx = 1\n",
    "for i, row in annot.iterrows() :\n",
    "    det = row[['Annotation', 'Annotation2', 'Annotation3']].to_numpy()\n",
    "    conf = row[['Indice', 'Indice2', 'Indice3']].to_numpy()\n",
    "    det = det[conf >= idx]\n",
    "    for _det in det :\n",
    "        if _det in ['Antarctic blue whale', 'Dcall', 'Blue whale'] :\n",
    "            annotations['Antarctic blue whale'][annot_pos[i]] = 1\n",
    "        elif _det=='Minke whale':\n",
    "            annotations['Minke whale'][annot_pos[i]] = 1\n",
    "        elif _det=='Spermwhale':\n",
    "            annotations['Spermwhale'][annot_pos[i]] = 1\n",
    "        elif _det=='Fin whale':\n",
    "            annotations['Fin whale'][annot_pos[i]] = 1\n",
    "        elif _det=='Humpback whale':\n",
    "            annotations['Humpback whale'][annot_pos[i]] = 1\n",
    "        elif _det=='Sei whale':\n",
    "            annotations['Sei whale'][annot_pos[i]] = 1\n",
    "        elif _det in['Odontocete clicks', 'Odontocete buzz', 'Odontocete whistle'] :\n",
    "            annotations['Odontocete clicks'][annot_pos[i]] = 1\n",
    "annotations = pd.DataFrame(annotations)\n",
    "for key in list(annotations.keys()) :\n",
    "    dive[key] = successive_detections(annotations[key])"
   ],
   "outputs": [],
   "execution_count": null
  },
  {
   "cell_type": "code",
   "execution_count": null,
   "outputs": [],
   "source": [
    "baleen_whales = ['Antarctic Blue Whale', 'Antarctic blue whale', 'Blue whale ', 'Dcall', 'Downsweep', 'Fin whale',\n",
    "                 'Humpback whale', 'Minke whale', 'Sei whale', 'Southern Right Whale', 'Southern Right Whales']\n",
    "odontocetes = ['Buzz', 'Clicks', 'Delphinid click', 'Ind clicks 18kHz', 'Odontocete buzz', 'Odontocete clicks',\n",
    "               'Odontocete whistle', 'Spermwhale', 'Unidentified clicks', 'Unindentified clicks',\n",
    "               'Unindentified whistle', 'Unknown buzz', 'Unknown clicks', 'delphinid click', 'delphinid whistle']"
   ],
   "metadata": {
    "collapsed": false
   }
  },
  {
   "cell_type": "code",
   "execution_count": null,
   "outputs": [],
   "source": [
    "dive['baleen'] = dive[dive.columns[np.isin(dive.columns, baleen_whales)]].sum(axis = 1)\n",
    "dive['odontocetes'] = dive[dive.columns[np.isin(dive.columns, odontocetes)]].sum(axis = 1)"
   ],
   "metadata": {
    "collapsed": false
   }
  },
  {
   "cell_type": "code",
   "execution_count": null,
   "outputs": [],
   "source": [
    "proxy = {\"Flash\":\"flash\", \"PCA\":\"total_jerk\"}\n",
    "#columns = list(dive[annotations.columns].sum()[dive[annotations.columns].sum() > 0].index)\n",
    "columns = ['baleen', 'odontocetes']\n",
    "fig, ax = plt.subplots(1,3, figsize=(15, 5), subplot_kw={'projection': crs.PlateCarree()})\n",
    "for key in proxy.keys() :\n",
    "    _temp = sliding_window_sum(dive[proxy[key]], 10)\n",
    "    dive[key] = (_temp - np.nanmean(_temp)) / np.nanstd(_temp)\n",
    "    columns.append(key)\n",
    "\n",
    "colors = colormaps.get_cmap('plasma').resampled(len(columns))\n",
    "for i, elem in enumerate(columns) :\n",
    "    if np.isin(elem, ['baleen', 'odontocetes']) :\n",
    "        j = 0\n",
    "        _label = 'Cetacean detection'\n",
    "    else :\n",
    "        j = i-1\n",
    "        _label = elem\n",
    "    ax[j].set_extent([67, 85, -48, -55], crs=crs.PlateCarree())  # Adjust the limits as needed\n",
    "    ax[j].plot(dive.lon, dive.lat, c = 'k', linewidth = 2)\n",
    "    ax[j].scatter(dive.lon, dive.lat, s = dive[elem] * 50, c = colors((i-1)%4), label = elem.capitalize())\n",
    "    if j == 0:\n",
    "        ax[j].legend()\n",
    "    ax[j].add_feature(cfeature.OCEAN, facecolor='lightblue')\n",
    "    ax[j].add_feature(cfeature.LAND, edgecolor='black')\n",
    "    #ax[j].add_feature(cfeature.COASTLINE)\n",
    "    #ax[j].add_feature(cfeature.BORDERS, linestyle=':', edgecolor='gray')\n",
    "    ax[j].gridlines(draw_labels=True)\n",
    "    ax[j].set_title(_label)\n",
    "fig.tight_layout()"
   ],
   "metadata": {
    "collapsed": false
   }
  },
  {
   "cell_type": "code",
   "execution_count": null,
   "outputs": [],
   "source": [
    "fig.savefig(\"C:/Users/grosmaan/Desktop/Results/ml19_293a_whales.pdf\")"
   ],
   "metadata": {
    "collapsed": false
   }
  },
  {
   "cell_type": "markdown",
   "source": [
    "## Map / Bubble plot of cetacean detections and PCA"
   ],
   "metadata": {
    "collapsed": false
   }
  },
  {
   "cell_type": "code",
   "id": "c1aeb6bf",
   "metadata": {},
   "source": [
    "proxy = {\"Flash\":\"flash\"}\n",
    "fig, ax = plt.subplots(2, 2, figsize=(12, 6), subplot_kw={'projection': crs.PlateCarree()})\n",
    "ax = ax.flatten()\n",
    "columns = list(dive[annotations.columns].sum()[dive[annotations.columns].sum() > 0].index)\n",
    "_temp = sliding_window_sum(dive[list(proxy.values())[0]], 10)\n",
    "dive[list(proxy.keys())[0]] = (_temp - np.nanmean(_temp)) / np.nanstd(_temp)\n",
    "columns.append(list(proxy.keys())[0])\n",
    "colors = colormaps.get_cmap('plasma').resampled(len(columns))\n",
    "for i, elem in enumerate(columns[::-1][-5:-1]) :\n",
    "    ax[i].set_extent([66, 90, -45, -55], crs=crs.PlateCarree())  # Adjust the limits as needed\n",
    "    ax[i].plot(dive.lon, dive.lat, c = 'k', linewidth = 2, label = elem)\n",
    "    ax[i].scatter(dive.lon, dive.lat, s = dive[elem] * 50, c = colors(i))\n",
    "    ax[i].add_feature(cfeature.OCEAN, facecolor='lightblue')\n",
    "    ax[i].add_feature(cfeature.LAND, edgecolor='black')\n",
    "    ax[i].add_feature(cfeature.COASTLINE)\n",
    "    ax[i].add_feature(cfeature.BORDERS, linestyle=':', edgecolor='gray')\n",
    "    ax[i].gridlines(draw_labels=True)\n",
    "    ax[i].set_title(f\"{elem}\")\n",
    "fig.tight_layout()"
   ],
   "outputs": [],
   "execution_count": null
  },
  {
   "cell_type": "code",
   "id": "f9255419-e66b-4922-a0a8-ad17bf805d7d",
   "metadata": {},
   "source": [
    "len(columns)"
   ],
   "outputs": [],
   "execution_count": null
  },
  {
   "cell_type": "code",
   "id": "f15425c7-68c2-48e9-b021-b759c3500f05",
   "metadata": {},
   "source": [
    "fig.savefig(\"C:/Users/grosm/Desktop/thèse/Figures/whale/map_comparison_ml18_294b.pdf\")"
   ],
   "outputs": [],
   "execution_count": null
  },
  {
   "cell_type": "markdown",
   "source": [
    "## Plot of temporal series"
   ],
   "metadata": {
    "collapsed": false
   }
  },
  {
   "cell_type": "code",
   "id": "d9940b4c",
   "metadata": {},
   "source": [
    "fig, ax = plt.subplots(figsize = (8, 8))\n",
    "dive[\"begin_time\"] = pd.to_datetime(dive[\"begin_time\"], unit=\"s\")\n",
    "columns = list(dive[annotations.columns].sum()[dive[annotations.columns].sum() > 0].index)\n",
    "colors = colormaps.get_cmap('viridis').resampled(len(columns))\n",
    "ax1 = ax.twinx()\n",
    "ax.scatter(dive.begin_time[dive.total_jerk > 0], dive.total_jerk[dive.total_jerk > 0], \n",
    "           alpha = 0.2, c = 'orange', label = 'PCA')\n",
    "ax.plot(dive.begin_time, medfilt(dive.total_jerk, 101), c = 'orange', label = 'median PCA')\n",
    "for i, elem in enumerate(columns[::-1]) :\n",
    "    ax1.plot(dive.begin_time, dive[elem], c = colors(i), linewidth = 3, label = elem)\n",
    "ax.set_facecolor('whitesmoke')\n",
    "ax1.grid()\n",
    "ax.tick_params(axis='x', rotation=45)\n",
    "handles_ax, labels_ax = ax.get_legend_handles_labels()\n",
    "handles_ax1, labels_ax1 = ax1.get_legend_handles_labels()\n",
    "legend = ax.legend(handles_ax + handles_ax1, labels_ax + labels_ax1, loc=\"upper left\")\n",
    "ax.set_ylabel(\"Number of prey catch attempts (PCA)\")\n",
    "ax1.set_ylabel(\"Number of recordings with detection\")"
   ],
   "outputs": [],
   "execution_count": null
  },
  {
   "cell_type": "code",
   "id": "4af00f18",
   "metadata": {},
   "source": [
    "fig.savefig(\"C:/Users/grosm/Desktop/thèse/Figures/\")"
   ],
   "outputs": [],
   "execution_count": null
  },
  {
   "cell_type": "markdown",
   "source": [
    "## Pooling detections"
   ],
   "metadata": {
    "collapsed": false
   }
  },
  {
   "cell_type": "code",
   "execution_count": null,
   "outputs": [],
   "source": [
    "depids = ['ml17_280a', 'ml18_296a', 'ml18_294b', 'ml19_292a', 'ml19_292b', 'ml19_293a', 'ml19_294a', 'ml20_293a', 'ml20_296b', 'ml20_313a', 'ml21_295a', 'ml21_305b']\n",
    "depids = ['ml17_280a', 'ml18_294b', 'ml19_292a', 'ml19_293a']"
   ],
   "metadata": {
    "collapsed": false
   }
  },
  {
   "cell_type": "code",
   "execution_count": null,
   "outputs": [],
   "source": [
    "detections = pd.DataFrame()\n",
    "eleph = pd.DataFrame()\n",
    "for depid in depids:\n",
    "    eleph = pd.concat((eleph, pd.read_csv(os.path.join(ds_path, depid, f'{depid}_dive.csv'))))\n",
    "    annot = pd.read_csv(os.path.join(annotation_path, depid, 'formatted_timestamps.csv'), delimiter=',')\n",
    "    detections = pd.concat((detections, annot))\n"
   ],
   "metadata": {
    "collapsed": false
   }
  },
  {
   "cell_type": "code",
   "execution_count": null,
   "outputs": [],
   "source": [
    "labels = [str(label) for label in np.unique(list(detections[['Annotation', 'Annotation2', 'Annotation3']].to_numpy().ravel()))]\n",
    "print(labels)"
   ],
   "metadata": {
    "collapsed": false
   }
  },
  {
   "cell_type": "code",
   "execution_count": null,
   "outputs": [],
   "source": [
    "for label in labels :\n",
    "    detections[label] = np.sum([np.array([detections[_annot] == label]).astype(int).flatten() for _annot in ['Annotation','Annotation2','Annotation3']], axis = 0)\n",
    "detections = detections[['start_drift', 'end_drift', 'lat', 'lon','orig_fn', 'start_fn', 'fn',\n",
    "                         'MW', 'ABW', 'FW', 'Spermwhale', 'SRW', 'HW',\n",
    "                         'Buzz', 'Clicks', 'Delphinid clicks', 'Delphinid whistle']]\n",
    "\n",
    "#['start_drift', 'end_drift', 'lat', 'lon','orig_fn', 'start_fn', 'fn','MW', 'Sweep', 'Unidentified clicks', 'ABW', 'FW', 'SW', 'Spermwhale', 'SRW', 'HW','Buzz', 'Clicks', 'Delphinid clicks', 'Delphinid whistle', 'Downsweep']"
   ],
   "metadata": {
    "collapsed": false
   }
  },
  {
   "cell_type": "code",
   "execution_count": null,
   "outputs": [],
   "source": [
    "'''for col in ['MW', 'Sweep', 'Unidentified clicks', 'ABW', 'FW', 'SW', 'Spermwhale', 'SRW', 'HW', 'Buzz', 'Clicks', 'Delphinid clicks', 'Delphinid whistle', 'Downsweep'] :\n",
    "    detections[col] = sliding_window_sum(detections[col] , 5)'''\n",
    "detections['timestamp'] = pd.to_datetime(detections['start_drift'], unit='s')\n",
    "detections['date'] = detections['timestamp'].dt.date"
   ],
   "metadata": {
    "collapsed": false
   }
  },
  {
   "cell_type": "code",
   "execution_count": null,
   "outputs": [],
   "source": [
    "_bal = np.array(['MW', 'Sweep', 'ABW', 'FW', 'SW', 'SRW', 'HW', 'Downsweep'])\n",
    "_odo = np.array(['Unidentified clicks', 'Spermwhale', 'Buzz', 'Delphinid clicks', 'Delphinid whistle'])\n",
    "baleen = detections[_bal[np.isin(_bal, ['MW', 'ABW', 'FW', 'SRW', 'HW'])]]\n",
    "baleen['baleen'] = baleen.sum(axis = 1)\n",
    "odontocetes = detections[_odo[np.isin(_odo, ['Buzz', 'Delphinid clicks', 'Delphinid whistle'])]]\n",
    "odontocetes['odontocetes'] = odontocetes.sum(axis = 1)\n",
    "spermwhale = pd.DataFrame(detections['Spermwhale'])"
   ],
   "metadata": {
    "collapsed": false
   }
  },
  {
   "cell_type": "code",
   "execution_count": null,
   "outputs": [],
   "source": [
    "baleen['timestamp'] = pd.to_datetime(detections['start_drift'], unit='s')\n",
    "odontocetes['timestamp'] = pd.to_datetime(detections['start_drift'], unit='s')\n",
    "eleph['timestamp'] = pd.to_datetime(eleph['begin_time'], unit='s')\n",
    "spermwhale['timestamp'] = pd.to_datetime(detections['start_drift'], unit = 's')\n",
    "baleen['date'] = baleen['timestamp'].dt.date\n",
    "odontocetes['date'] = odontocetes['timestamp'].dt.date\n",
    "eleph['date'] = eleph['timestamp'].dt.date\n",
    "spermwhale['date'] = spermwhale['timestamp'].dt.date\n",
    "eleph = eleph[['date', 'flash', 'total_jerk']]\n",
    "baleen = baleen[['date', 'baleen']]\n",
    "odontocetes = odontocetes[['date', 'odontocetes']]"
   ],
   "metadata": {
    "collapsed": false
   }
  },
  {
   "cell_type": "code",
   "execution_count": null,
   "outputs": [],
   "source": [
    "merged_df = pd.merge(odontocetes, baleen, on='date', how='outer')\n",
    "merged_df = pd.merge(merged_df, spermwhale, on='date', how='outer')\n",
    "final_df = pd.merge(merged_df, eleph, on='date', how='left')\n",
    "final_df = final_df.groupby('date').agg('mean')"
   ],
   "metadata": {
    "collapsed": false
   }
  },
  {
   "cell_type": "code",
   "execution_count": null,
   "outputs": [],
   "source": [
    "melted = final_df[['odontocetes', 'baleen', 'Spermwhale', 'flash', 'total_jerk']].melt(id_vars = ['total_jerk', 'flash'])"
   ],
   "metadata": {
    "collapsed": false
   }
  },
  {
   "cell_type": "code",
   "execution_count": null,
   "outputs": [],
   "source": [
    "fig, ax = plt.subplots()\n",
    "plt.scatter(final_df.flash, final_df.Spermwhale)\n",
    "plt.scatter(final_df.flash, final_df.baleen)\n",
    "plt.scatter(final_df.flash, final_df.odontocetes)"
   ],
   "metadata": {
    "collapsed": false
   }
  },
  {
   "cell_type": "code",
   "execution_count": null,
   "outputs": [],
   "source": [
    "fig, ax = plt.subplots(1, 2, figsize=(14, 6), sharey=True)\n",
    "sns.kdeplot(data=melted, x='total_jerk', weights='value', hue='variable',\n",
    "            fill=True, common_norm=False, alpha=0.6, ax=ax[0])\n",
    "ax[0].set_xlabel('PCA')\n",
    "sns.kdeplot(data=melted, x='flash', weights='value', hue='variable',\n",
    "            fill=True, common_norm=False, alpha=0.6, ax=ax[1])\n",
    "ax[1].set_xlabel('Flash')\n",
    "ax[0].set_ylabel('Density')\n",
    "fig.legend(loc='center left', bbox_to_anchor=(1.0, 0.5), title='Label')\n",
    "fig.tight_layout()\n",
    "plt.subplots_adjust(right=0.8)\n",
    "plt.show()"
   ],
   "metadata": {
    "collapsed": false
   }
  },
  {
   "cell_type": "code",
   "execution_count": null,
   "outputs": [],
   "source": [
    "ses = pd.read_csv(os.path.join(ds_path, 'ml17_280a', f'ml17_280a_dive.csv'))\n",
    "ses['timestamp'] = pd.to_datetime(ses['begin_time'], unit = 's')\n",
    "ses['date'] = ses['timestamp'].dt.date\n",
    "ses = ses[['date', 'total_jerk']]\n",
    "ses = ses.groupby('date').agg({'total_jerk': 'median'})"
   ],
   "metadata": {
    "collapsed": false
   }
  },
  {
   "cell_type": "code",
   "execution_count": null,
   "outputs": [],
   "source": [
    "from datetime import datetime\n",
    "fig, ax = plt.subplots()\n",
    "ax1 = ax.twinx()\n",
    "ax1.scatter(baleen.date, baleen.baleen, c = 'red')\n",
    "ax1.scatter(odontocetes.date, odontocetes.odontocetes, c = 'green')\n",
    "ax.scatter(eleph.date, eleph.total_jerk)\n",
    "ax.set_xlim(datetime(2018,10,1), datetime(2018,12,1))"
   ],
   "metadata": {
    "collapsed": false
   }
  },
  {
   "cell_type": "code",
   "execution_count": null,
   "outputs": [],
   "source": [],
   "metadata": {
    "collapsed": false
   }
  },
  {
   "cell_type": "code",
   "execution_count": null,
   "outputs": [],
   "source": [
    "agg = 'mean'\n",
    "odontocetes = odontocetes.groupby('date').agg({'odontocetes': agg}).reset_index()\n",
    "baleen = baleen.groupby('date').agg({'baleen': agg}).reset_index()\n",
    "eleph = eleph.groupby('date').agg({'total_jerk': agg, 'flash': agg}).reset_index()"
   ],
   "metadata": {
    "collapsed": false
   }
  },
  {
   "cell_type": "code",
   "execution_count": null,
   "outputs": [],
   "source": [
    "merged_df = pd.merge(odontocetes, baleen, on='date', how='outer')\n",
    "final_df = pd.merge(merged_df, eleph, on='date', how='outer')\n",
    "merged_df = pd.merge(detections, eleph, on='date', how='outer')"
   ],
   "metadata": {
    "collapsed": false
   }
  },
  {
   "cell_type": "code",
   "execution_count": null,
   "outputs": [],
   "source": [
    "from scipy.signal import medfilt\n",
    "fig, ax = plt.subplots(1,2, figsize = (12,6), sharey = True)\n",
    "ax[0].scatter(final_df.total_jerk, final_df.baleen, alpha = 0.8, c = 'crimson', label = 'Baleen whales')\n",
    "ax[0].scatter(final_df.total_jerk, final_df.odontocetes, alpha = 0.8, c = 'powderblue', label = 'Odontocetes')\n",
    "ax[1].scatter(final_df.flash, final_df.baleen, alpha = 0.8, c = 'crimson')\n",
    "ax[1].scatter(final_df.flash, final_df.odontocetes, alpha = 0.8, c = 'powderblue')\n",
    "ax[0].set_xlabel('PCA')\n",
    "ax[0].legend()\n",
    "ax[1].set_xlabel('Flash')\n",
    "ax[0].set_ylabel('Cumulative detections per day')"
   ],
   "metadata": {
    "collapsed": false
   }
  },
  {
   "cell_type": "code",
   "execution_count": null,
   "outputs": [],
   "source": [
    "merged_df.columns"
   ],
   "metadata": {
    "collapsed": false
   }
  },
  {
   "cell_type": "code",
   "execution_count": null,
   "outputs": [],
   "source": [
    "from scipy.signal import medfilt\n",
    "fig, ax = plt.subplots(1,2, figsize = (12,6), sharey = True)\n",
    "for col in ['MW', 'Sweep', 'Unidentified clicks', 'ABW', 'FW', 'SW', 'Spermwhale', 'SRW', 'HW', 'Buzz', 'Clicks', 'Delphinid clicks', 'Delphinid whistle','Downsweep']:\n",
    "    ax[0].scatter(medfilt(merged_df.total_jerk,11), np.convolve(merged_df[col], np.ones(3)/3, mode = 'same'), alpha = 0.8, label = col)\n",
    "    ax[1].scatter(medfilt(merged_df.flash,11), np.convolve(merged_df[col], np.ones(3)/3, mode = 'same'), alpha = 0.8)\n",
    "ax[0].set_xlabel('PCA')\n",
    "fig.legend(loc='center left', bbox_to_anchor=(1.0, 0.5), title='Label')\n",
    "ax[1].set_xlabel('Flash')\n",
    "ax[0].set_ylabel('Cumulative detections per day')"
   ],
   "metadata": {
    "collapsed": false
   }
  },
  {
   "cell_type": "code",
   "execution_count": null,
   "outputs": [],
   "source": [
    "pca_vals = medfilt(merged_df.total_jerk, 11)\n",
    "flash_vals = medfilt(merged_df.flash, 11)\n",
    "import pandas as pd\n",
    "data_list = []\n",
    "for col in ['MW', 'Sweep', 'Unidentified clicks', 'ABW', 'FW', 'SW',\n",
    "            'Spermwhale', 'SRW', 'HW', 'Buzz', 'Clicks',\n",
    "            'Delphinid clicks', 'Delphinid whistle', 'Downsweep']:\n",
    "    smoothed_col = np.convolve(merged_df[col], np.ones(3)/3, mode='same')\n",
    "    data_list.append(pd.DataFrame({\n",
    "        'PCA': pca_vals,\n",
    "        'Flash': flash_vals,\n",
    "        'Detections': smoothed_col,\n",
    "        'Label': col\n",
    "    }))\n",
    "long_df = pd.concat(data_list)\n",
    "fig, ax = plt.subplots(1, 2, figsize=(14, 6), sharey=True)\n",
    "sns.kdeplot(data=long_df, x='PCA', weights='Detections', hue='Label',\n",
    "            fill=True, common_norm=False, alpha=0.6, ax=ax[0])\n",
    "ax[0].set_xlabel('PCA')\n",
    "sns.kdeplot(data=long_df, x='Flash', weights='Detections', hue='Label',\n",
    "            fill=True, common_norm=False, alpha=0.6, ax=ax[1])\n",
    "ax[1].set_xlabel('Flash')\n",
    "ax[0].set_ylabel('Density')\n",
    "fig.legend(loc='center left', bbox_to_anchor=(1.0, 0.5), title='Label')\n",
    "fig.tight_layout()\n",
    "plt.subplots_adjust(right=0.8)\n",
    "plt.show()"
   ],
   "metadata": {
    "collapsed": false
   }
  },
  {
   "cell_type": "code",
   "execution_count": null,
   "outputs": [],
   "source": [
    "fig.savefig('C:/Users/grosmaan/Desktop/Results/presence_density.png')"
   ],
   "metadata": {
    "collapsed": false
   }
  },
  {
   "cell_type": "code",
   "execution_count": null,
   "outputs": [],
   "source": [
    "final_df"
   ],
   "metadata": {
    "collapsed": false
   }
  },
  {
   "cell_type": "markdown",
   "source": [
    "### REFORMAT TIMESTAMPS.CSV"
   ],
   "metadata": {
    "collapsed": false
   }
  },
  {
   "cell_type": "code",
   "execution_count": null,
   "outputs": [],
   "source": [
    "#### FORMAT TIMESTAMPS\n",
    "\n",
    "for depid in depids :\n",
    "    try:\n",
    "        annot = pd.read_csv(os.path.join(annotation_path, depid, 'timestamps.csv'), delimiter=',')\n",
    "        if annot.shape[1] == 1:\n",
    "            raise ValueError(\"Probably wrong delimiter\")\n",
    "    except:\n",
    "        annot = pd.read_csv(os.path.join(annotation_path, depid, 'timestamps.csv'), delimiter=';')\n",
    "    for col in ['Annotation', 'Annotation2', 'Annotation3'] :\n",
    "        _col = annot[col].astype(str).to_numpy()\n",
    "        _col[np.isin(_col,  ['Antarctic Blue Whale', 'Antarctic blue whale', 'Blue whale ', 'Dcall'])] = 'ABW'\n",
    "        _col[np.isin(_col,  ['Fin whale'])] = 'FW'\n",
    "        _col[np.isin(_col,  ['Humpback whale'])] = 'HW'\n",
    "        _col[np.isin(_col,  ['Minke whale'])] = 'MW'\n",
    "        _col[np.isin(_col,  ['Sei whale'])] = 'SW'\n",
    "        _col[np.isin(_col,  ['Southern Right Whale', 'Southern Right Whales'])] = 'SRW'\n",
    "        _col[np.isin(_col,  ['delphinid click', 'Delphinid click', 'Odontocete clicks'])] = 'Delphinid clicks'\n",
    "        _col[np.isin(_col,  ['Odontocete buzz', 'Buzz', 'Unknown buzz'])] = 'Buzz'\n",
    "        _col[np.isin(_col,  ['Odontocete whistle', 'Unindentified whistle', 'delphinid whistle'])] = 'Delphinid whistle'\n",
    "        _col[np.isin(_col,  ['Unidentified clicks', 'Unindentified clicks'])] = 'Unidentified clicks'\n",
    "        annot[col] = _col\n",
    "    annot.to_csv(os.path.join(annotation_path, depid, 'formatted_timestamps.csv'), index = None)"
   ],
   "metadata": {
    "collapsed": false
   }
  },
  {
   "cell_type": "code",
   "execution_count": null,
   "outputs": [],
   "source": [
    "#### CODE FOR UNFORMATTED TIMESTAMPS\n",
    "detections = pd.DataFrame()\n",
    "eleph = pd.DataFrame()\n",
    "for depid in depids[:7]:\n",
    "    eleph = pd.concat((eleph, pd.read_csv(os.path.join(ds_path, depid, f'{depid}_dive.csv'))))\n",
    "    annot = pd.read_csv(os.path.join(annotation_path, depid, 'formatted_timestamps.csv'), delimiter=',')\n",
    "    _annot = annot[['start_drift', 'end_drift', 'lat', 'lon', 'orig_fn', 'start_fn', 'fn','Annotation', 'Time', 'Indice', 'Notes']]\n",
    "    detections = pd.concat((detections, _annot))\n",
    "    _annot = annot[['start_drift', 'end_drift', 'lat', 'lon', 'orig_fn', 'start_fn', 'fn','Annotation2', 'Time2', 'Indice2', 'Notes2']]\n",
    "    _annot.columns = ['start_drift', 'end_drift', 'lat', 'lon', 'orig_fn', 'start_fn', 'fn','Annotation', 'Time', 'Indice', 'Notes']\n",
    "    detections = pd.concat((detections, _annot))\n",
    "    _annot = annot[['start_drift', 'end_drift', 'lat', 'lon','orig_fn', 'start_fn', 'fn','Annotation3', 'Time3', 'Indice3', 'Notes3']]\n",
    "    _annot.columns = ['start_drift', 'end_drift', 'lat', 'lon', 'orig_fn', 'start_fn', 'fn','Annotation', 'Time', 'Indice', 'Notes']\n",
    "    detections = pd.concat((detections, _annot))\n"
   ],
   "metadata": {
    "collapsed": false
   }
  },
  {
   "cell_type": "code",
   "execution_count": null,
   "outputs": [],
   "source": [
    "baleen_whales = ['Antarctic Blue Whale', 'Antarctic blue whale', 'Blue whale ', 'Dcall','Downsweep', 'Fin whale','Humpback whale', 'Minke whale', 'Sei whale', 'Southern Right Whale', 'Southern Right Whales']"
   ],
   "metadata": {
    "collapsed": false
   }
  },
  {
   "cell_type": "code",
   "execution_count": null,
   "outputs": [],
   "source": [
    "odontocetes = ['Buzz', 'Clicks', 'Delphinid click', 'Ind clicks 18kHz', 'Odontocete buzz', 'Odontocete clicks', 'Odontocete whistle', 'Spermwhale', 'Unidentified clicks', 'Unindentified clicks', 'Unindentified whistle', 'Unknown buzz', 'Unknown clicks','delphinid click', 'delphinid whistle']"
   ],
   "metadata": {
    "collapsed": false
   }
  },
  {
   "cell_type": "code",
   "execution_count": null,
   "outputs": [],
   "source": [
    "#### PLOT FOR POLAR VIEW OF THREE DIFFERENT VARIABLES\n",
    "baleen = detections[np.isin(detections['Annotation'], baleen_whales)]\n",
    "odontocetes = detections[np.isin(detections['Annotation'], odontocetes)]\n",
    "fig, ax = plt.subplots(1,3, figsize=(15,5), subplot_kw={'projection': crs.Orthographic(central_latitude=-90, central_longitude=0)})\n",
    "ax = ax.flatten()\n",
    "for i, _ax in enumerate(ax) :\n",
    "    _ax.stock_img()\n",
    "    if i == 0:\n",
    "        _ax.scatter(x=baleen.lon, y=baleen.lat, s=10*np.ones(len(baleen)), c='black', transform=crs.PlateCarree())\n",
    "    elif i == 1:\n",
    "        _ax.scatter(x=odontocetes.lon, y=odontocetes.lat, s=10*np.ones(len(odontocetes)), c = 'gold', transform=crs.PlateCarree())\n",
    "    elif i == 2:\n",
    "        _ax.scatter(x=eleph.lon, y=eleph.lat, s= np.log(eleph.flash), transform=crs.PlateCarree())\n",
    "fig.show()"
   ],
   "metadata": {
    "collapsed": false
   }
  }
 ],
 "metadata": {
  "kernelspec": {
   "display_name": "Python 3 (ipykernel)",
   "language": "python",
   "name": "python3"
  },
  "language_info": {
   "codemirror_mode": {
    "name": "ipython",
    "version": 3
   },
   "file_extension": ".py",
   "mimetype": "text/x-python",
   "name": "python",
   "nbconvert_exporter": "python",
   "pygments_lexer": "ipython3",
   "version": "3.12.3"
  }
 },
 "nbformat": 4,
 "nbformat_minor": 5
}
