{
 "cells": [
  {
   "cell_type": "code",
   "id": "ce4d405b",
   "metadata": {},
   "source": [
    "import os, sys\n",
    "import seaborn as sns\n",
    "import matplotlib.pyplot as plt\n",
    "from matplotlib import colormaps\n",
    "from scipy.signal import medfilt\n",
    "import cartopy.crs as ccrs\n",
    "import cartopy.feature as cfeature\n",
    "import numpy as np\n",
    "import pandas as pd\n",
    "import netCDF4 as nc\n",
    "plt.rcParams.update({\n",
    "    \"text.usetex\": True,                # Enable LaTeX text rendering\n",
    "    \"font.family\": \"serif\",             # Use a serif font\n",
    "    \"font.serif\": [\"Computer Modern\"],  # Set font to Computer Modern (LaTeX default)\n",
    "})\n",
    "sys.path.append('../src/')\n",
    "from Biologging_Toolkit.applications.Jerk import Jerk\n",
    "from Biologging_Toolkit.utils.plot_utils import subplots_centered\n",
    "import warnings\n",
    "warnings.filterwarnings(\"ignore\")"
   ],
   "outputs": [],
   "execution_count": null
  },
  {
   "cell_type": "code",
   "id": "b330a902",
   "metadata": {},
   "source": [
    "depid = 'ml19_292a'\n",
    "ds_path = 'D:/individus_brut/individus'\n",
    "annotation_path = 'D:/drift_dives_SES/'"
   ],
   "outputs": [],
   "execution_count": null
  },
  {
   "cell_type": "code",
   "id": "5d14d3f9",
   "metadata": {},
   "source": [
    "ds = nc.Dataset(os.path.join(ds_path, depid, depid+'_sens.nc'))\n",
    "dive = pd.read_csv(os.path.join(ds_path, depid, depid+'_dive.csv'))\n",
    "annot = pd.read_csv(os.path.join(annotation_path, depid, 'timestamps.csv'))"
   ],
   "outputs": [],
   "execution_count": null
  },
  {
   "cell_type": "code",
   "id": "07bf7505",
   "metadata": {},
   "source": [
    "dives = ds['dives'][:].data\n",
    "jerks = ds['jerk'][:].data\n",
    "total_jerk = [np.sum(jerks[dives == dive]) for dive in np.unique(dives)]\n",
    "dive['total_jerk'] = total_jerk"
   ],
   "outputs": [],
   "execution_count": null
  },
  {
   "cell_type": "code",
   "id": "8c7fdf51",
   "metadata": {},
   "source": [
    "def successive_detections(series):\n",
    "    changes = series.diff().fillna(0)\n",
    "    starts = changes == 1 \n",
    "    ends = changes == -1\n",
    "    cumulative = series.cumsum() \n",
    "    lengths = cumulative[ends].diff().fillna(cumulative[ends]) \n",
    "    result = np.zeros_like(series)\n",
    "    result[ends[ends].index] = lengths.values\n",
    "    return pd.Series(result, index=series.index)\n",
    "def sliding_window_sum(time_series, N):\n",
    "    result = np.zeros_like(time_series)\n",
    "    for i in range(len(time_series) - N + 1):\n",
    "        result[i + N - 1] = np.sum(time_series[i:i + N])\n",
    "    return result"
   ],
   "outputs": [],
   "execution_count": null
  },
  {
   "metadata": {},
   "cell_type": "code",
   "source": [
    "labels = np.unique(np.concatenate([annot[col].dropna() for col in ['Annotation','Annotation2','Annotation3']]))\n",
    "annot_pos = np.searchsorted(dive.begin_time, annot.start_drift)-1\n",
    "annotations = {label : np.zeros(len(dive)) for label in labels}\n",
    "'''annotations = {'Blue whale':np.zeros(len(dive))\n",
    "               'Antarctic blue whale':np.zeros(len(dive)),\n",
    "               'Sperm whale':np.zeros(len(dive)),\n",
    "               'Sei whale':np.zeros(len(dive)),\n",
    "               'Humpback whale':np.zeros(len(dive)),\n",
    "               'Fin whale':np.zeros(len(dive)),\n",
    "               'Minke whale':np.zeros(len(dive))}'''\n",
    "print(labels)"
   ],
   "id": "c5d2d45a340ade23",
   "outputs": [],
   "execution_count": null
  },
  {
   "cell_type": "code",
   "id": "875017b4",
   "metadata": {},
   "source": [
    "idx = 1\n",
    "for i, row in annot.iterrows() :\n",
    "    det = row[['Annotation', 'Annotation2', 'Annotation3']].to_numpy()\n",
    "    conf = row[['Indice', 'Indice2', 'Indice3']].to_numpy()\n",
    "    det = det[conf >= idx]\n",
    "    for _det in det :\n",
    "        if _det in ['Antarctic blue whale', 'Dcall', 'Blue whale'] :\n",
    "            annotations['Antarctic blue whale'][annot_pos[i]] = 1\n",
    "        elif _det=='Minke whale':\n",
    "            annotations['Minke whale'][annot_pos[i]] = 1\n",
    "        elif _det=='Spermwhale':\n",
    "            annotations['Spermwhale'][annot_pos[i]] = 1\n",
    "        elif _det=='Fin whale':\n",
    "            annotations['Fin whale'][annot_pos[i]] = 1\n",
    "        elif _det=='Humpback whale':\n",
    "            annotations['Humpback whale'][annot_pos[i]] = 1\n",
    "        elif _det=='Sei whale':\n",
    "            annotations['Sei whale'][annot_pos[i]] = 1\n",
    "        elif _det in['Odontocete clicks', 'Odontocete buzz', 'Odontocete whistle'] :\n",
    "            annotations['Odontocete clicks'][annot_pos[i]] = 1\n",
    "annotations = pd.DataFrame(annotations)\n",
    "for key in list(annotations.keys()) :\n",
    "    dive[key] = successive_detections(annotations[key])"
   ],
   "outputs": [],
   "execution_count": null
  },
  {
   "cell_type": "code",
   "id": "adba6a2a-3383-4158-9f35-6dc13f9a6231",
   "metadata": {},
   "source": [
    "temp_jerk = sliding_window_sum(dive.total_jerk, 35)\n",
    "dive['PCA'] = temp_jerk\n",
    "np.corrcoef(dive.PCA, dive[annotations.columns].sum(axis = 1))"
   ],
   "outputs": [],
   "execution_count": null
  },
  {
   "cell_type": "code",
   "id": "c1aeb6bf",
   "metadata": {},
   "source": [
    "fig, ax = plt.subplots(2, 2, figsize=(12, 6), subplot_kw={'projection': ccrs.PlateCarree()})\n",
    "ax = ax.flatten()\n",
    "columns = list(dive[annotations.columns].sum()[dive[annotations.columns].sum() > 0].index)\n",
    "temp_jerk = sliding_window_sum(dive.total_jerk, 10)\n",
    "dive['PCA'] = (temp_jerk - np.nanmean(temp_jerk)) / np.nanstd(temp_jerk)\n",
    "columns.append('PCA')\n",
    "colors = colormaps.get_cmap('plasma').resampled(len(columns))\n",
    "for i, elem in enumerate(columns[::-1][-5:-1]) :\n",
    "    ax[i].set_extent([66, 90, -45, -55], crs=ccrs.PlateCarree())  # Adjust the limits as needed\n",
    "    ax[i].plot(dive.lon, dive.lat, c = 'k', linewidth = 2, label = elem)\n",
    "    ax[i].scatter(dive.lon, dive.lat, s = dive[elem] * 50, c = colors(i))\n",
    "    ax[i].add_feature(cfeature.OCEAN, facecolor='lightblue')\n",
    "    ax[i].add_feature(cfeature.LAND, edgecolor='black')\n",
    "    ax[i].add_feature(cfeature.COASTLINE)\n",
    "    ax[i].add_feature(cfeature.BORDERS, linestyle=':', edgecolor='gray')\n",
    "    ax[i].gridlines(draw_labels=True)\n",
    "    ax[i].set_title(f\"{elem}\")\n",
    "fig.tight_layout()"
   ],
   "outputs": [],
   "execution_count": null
  },
  {
   "cell_type": "code",
   "id": "f9255419-e66b-4922-a0a8-ad17bf805d7d",
   "metadata": {},
   "source": [
    "len(columns)"
   ],
   "outputs": [],
   "execution_count": null
  },
  {
   "cell_type": "code",
   "id": "f15425c7-68c2-48e9-b021-b759c3500f05",
   "metadata": {},
   "source": [
    "fig.savefig(\"C:/Users/grosm/Desktop/thèse/Figures/whale/map_comparison_ml18_294b.pdf\")"
   ],
   "outputs": [],
   "execution_count": null
  },
  {
   "cell_type": "code",
   "id": "d9940b4c",
   "metadata": {},
   "source": [
    "fig, ax = plt.subplots(figsize = (8, 8))\n",
    "dive[\"begin_time\"] = pd.to_datetime(dive[\"begin_time\"], unit=\"s\")\n",
    "columns = list(dive[annotations.columns].sum()[dive[annotations.columns].sum() > 0].index)\n",
    "colors = colormaps.get_cmap('viridis').resampled(len(columns))\n",
    "ax1 = ax.twinx()\n",
    "ax.scatter(dive.begin_time[dive.total_jerk > 0], dive.total_jerk[dive.total_jerk > 0], \n",
    "           alpha = 0.2, c = 'orange', label = 'PCA')\n",
    "ax.plot(dive.begin_time, medfilt(dive.total_jerk, 101), c = 'orange', label = 'median PCA')\n",
    "for i, elem in enumerate(columns[::-1]) :\n",
    "    ax1.plot(dive.begin_time, dive[elem], c = colors(i), linewidth = 3, label = elem)\n",
    "ax.set_facecolor('whitesmoke')\n",
    "ax1.grid()\n",
    "ax.tick_params(axis='x', rotation=45)\n",
    "handles_ax, labels_ax = ax.get_legend_handles_labels()\n",
    "handles_ax1, labels_ax1 = ax1.get_legend_handles_labels()\n",
    "legend = ax.legend(handles_ax + handles_ax1, labels_ax + labels_ax1, loc=\"upper left\")\n",
    "ax.set_ylabel(\"Number of prey catch attempts (PCA)\")\n",
    "ax1.set_ylabel(\"Number of recordings with detection\")"
   ],
   "outputs": [],
   "execution_count": null
  },
  {
   "cell_type": "code",
   "id": "4af00f18",
   "metadata": {},
   "source": [
    "fig.savefig(\"C:/Users/grosm/Desktop/thèse/Figures/\")"
   ],
   "outputs": [],
   "execution_count": null
  },
  {
   "cell_type": "code",
   "id": "c0dd8b3b-075e-4334-bf92-bc88174cebef",
   "metadata": {},
   "source": [],
   "outputs": [],
   "execution_count": null
  }
 ],
 "metadata": {
  "kernelspec": {
   "display_name": "Python 3 (ipykernel)",
   "language": "python",
   "name": "python3"
  },
  "language_info": {
   "codemirror_mode": {
    "name": "ipython",
    "version": 3
   },
   "file_extension": ".py",
   "mimetype": "text/x-python",
   "name": "python",
   "nbconvert_exporter": "python",
   "pygments_lexer": "ipython3",
   "version": "3.12.3"
  }
 },
 "nbformat": 4,
 "nbformat_minor": 5
}
