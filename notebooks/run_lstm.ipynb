{
 "cells": [
  {
   "cell_type": "code",
   "execution_count": null,
   "id": "64336346",
   "metadata": {},
   "outputs": [],
   "source": [
    "import sys, os\n",
    "sys.path.append('../src/')\n",
    "from Biologging_Toolkit.deep_learning.Wind_LSTM import WindLSTM"
   ]
  },
  {
   "cell_type": "markdown",
   "id": "73fc711c",
   "metadata": {},
   "source": [
    "#### Enter deployment ID and path\n",
    "\n",
    "Finalized dataset will be saved or loaded from path"
   ]
  },
  {
   "cell_type": "code",
   "execution_count": null,
   "id": "0c2890f5",
   "metadata": {},
   "outputs": [],
   "source": [
    "depid = 'ml17_280a'\n",
    "path = '/home/datawork-osmose/dataset/SES/ml17_280a/'\n",
    "file_path = os.path.join(path, 'processed', 'noise_level')\n",
    "ref_path = os.path.join(path, 'data', 'auxiliary', 'instrument', 'ml17_280a_sens.nc')"
   ]
  },
  {
   "cell_type": "markdown",
   "id": "eec17baa",
   "metadata": {},
   "source": [
    "#### Run cells to get acoustic features\n",
    "\n",
    "Time can be constructed from extisting time array or by entering the path to sens5 dataset."
   ]
  },
  {
   "cell_type": "code",
   "execution_count": null,
   "id": "7b721279",
   "metadata": {},
   "outputs": [],
   "source": [
    "inst = WindLSTM(depid, \n",
    "            path = ref_path,\n",
    "            acoustic_path = file_path,\n",
    "               )"
   ]
  },
  {
   "cell_type": "code",
   "execution_count": null,
   "id": "fd93b19b",
   "metadata": {},
   "outputs": [],
   "source": [
    "inst.train()"
   ]
  },
  {
   "cell_type": "code",
   "execution_count": null,
   "id": "53c066a9",
   "metadata": {},
   "outputs": [],
   "source": [
    "inst.ds.close()"
   ]
  }
 ],
 "metadata": {
  "kernelspec": {
   "display_name": "Python [conda env:osekit_anatole]",
   "language": "python",
   "name": "conda-env-osekit_anatole-py"
  },
  "language_info": {
   "codemirror_mode": {
    "name": "ipython",
    "version": 3
   },
   "file_extension": ".py",
   "mimetype": "text/x-python",
   "name": "python",
   "nbconvert_exporter": "python",
   "pygments_lexer": "ipython3",
   "version": "3.10.14"
  }
 },
 "nbformat": 4,
 "nbformat_minor": 5
}
