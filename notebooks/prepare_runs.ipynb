{
 "cells": [
  {
   "cell_type": "code",
   "execution_count": null,
   "id": "7123f423",
   "metadata": {},
   "outputs": [],
   "source": [
    "import sys, os\n",
    "import netCDF4 as nc\n",
    "sys.path.append('../src/')\n",
    "from Biologging_Toolkit.wrapper import Wrapper\n",
    "from Biologging_Toolkit.utils import *"
   ]
  },
  {
   "cell_type": "code",
   "execution_count": null,
   "id": "21a1e632",
   "metadata": {},
   "outputs": [],
   "source": [
    "depid = 'ml17_280a'\n",
    "path = '/home6/grosmaan/Documents/data'\n",
    "sens_path = os.path.join(path, 'CTD', depid, depid+'sens5.nc')\n",
    "raw_path = os.path.join(path, 'individus', depid, 'raw')"
   ]
  },
  {
   "cell_type": "code",
   "execution_count": null,
   "id": "843c585d",
   "metadata": {},
   "outputs": [],
   "source": [
    "inst = Wrapper(depid, \n",
    "            path = path \n",
    "              )\n",
    "\n",
    "inst.dt = 5   # Timestep in seconds of final data structure"
   ]
  },
  {
   "cell_type": "code",
   "execution_count": null,
   "id": "20948a65",
   "metadata": {},
   "outputs": [],
   "source": [
    "inst.ds"
   ]
  },
  {
   "cell_type": "markdown",
   "id": "674430cd",
   "metadata": {},
   "source": [
    "### Create reference time data\n",
    "\n",
    "Enter either a sens5 path containing existing time data or a time vector in POSIX timestamps (UTC)\n",
    "In both cases, the data will be resampled to match inst.dt\n",
    "\n",
    "Change overwrite to True if time data already exists and you wish to overwrite it."
   ]
  },
  {
   "cell_type": "code",
   "execution_count": null,
   "id": "7a46f6ae",
   "metadata": {},
   "outputs": [],
   "source": [
    "inst.create_time(time_path = sens_path, overwrite = False)"
   ]
  },
  {
   "cell_type": "code",
   "execution_count": null,
   "id": "c413e133",
   "metadata": {},
   "outputs": [],
   "source": [
    "inst.create_time(time_data = [151878955, 154324489], overwrite = False)"
   ]
  },
  {
   "cell_type": "code",
   "execution_count": null,
   "id": "e4d2c7e8",
   "metadata": {},
   "outputs": [],
   "source": [
    "inst.ds['time'][:]"
   ]
  },
  {
   "cell_type": "markdown",
   "id": "947b9e63",
   "metadata": {},
   "source": [
    "### Load GPS data\n",
    "\n",
    "Enter time, latitude and longitude data (all the same size) and it will be resampled to match reference time data\n",
    "\n",
    "Change overwrite to True if GPS data already exists and you wish to overwrite it."
   ]
  },
  {
   "cell_type": "code",
   "execution_count": null,
   "id": "d853444c",
   "metadata": {},
   "outputs": [],
   "source": [
    "trk_path = os.path.join('/run/media/grosmaan/LaCie/individus_brut/CTD', depid, depid+'trk.nc')\n",
    "trk = nc.Dataset(trk_path)"
   ]
  },
  {
   "cell_type": "code",
   "execution_count": null,
   "id": "4fb96286",
   "metadata": {},
   "outputs": [],
   "source": [
    "time, lat, lon = trk['POS'][:].data\n",
    "time =  time + get_start_time_sens(trk.dephist_deploy_datetime_start)"
   ]
  },
  {
   "cell_type": "code",
   "execution_count": null,
   "id": "554eabd2",
   "metadata": {},
   "outputs": [],
   "source": [
    "inst.create_gps(time_data=time, lat_data=lat, lon_data=lon, overwrite = True)"
   ]
  },
  {
   "cell_type": "code",
   "execution_count": null,
   "id": "9f119adf",
   "metadata": {},
   "outputs": [],
   "source": [
    "inst.ds['lat'][:], inst.ds['lon'][:]"
   ]
  },
  {
   "cell_type": "markdown",
   "id": "14626475",
   "metadata": {},
   "source": [
    "### Add any other data\n",
    "\n",
    "You can now add any other data to structure, here we add depth as an example"
   ]
  },
  {
   "cell_type": "code",
   "execution_count": null,
   "id": "a55e317d",
   "metadata": {},
   "outputs": [],
   "source": [
    "var_name = 'depth'\n",
    "sens = nc.Dataset(sens_path)\n",
    "var_data = sens['P'][:].data\n",
    "\n",
    "length = len(sens['P'][:])\n",
    "ds_sr = sens['P'].sampling_rate\n",
    "time_data = get_start_time_sens(sens.dephist_device_datetime_start) + np.arange(0, length/ds_sr, np.round(1/ds_sr,2))"
   ]
  },
  {
   "cell_type": "code",
   "execution_count": null,
   "id": "3ce4ba1b",
   "metadata": {},
   "outputs": [],
   "source": [
    "inst.create_variable(var_name, var_data, time_data, overwrite = False)"
   ]
  },
  {
   "cell_type": "code",
   "execution_count": null,
   "id": "9449b92e",
   "metadata": {},
   "outputs": [],
   "source": [
    "inst.ds.close()"
   ]
  },
  {
   "cell_type": "code",
   "execution_count": null,
   "id": "0ff67168",
   "metadata": {},
   "outputs": [],
   "source": []
  }
 ],
 "metadata": {
  "kernelspec": {
   "display_name": "Python 3 (ipykernel)",
   "language": "python",
   "name": "python3"
  },
  "language_info": {
   "codemirror_mode": {
    "name": "ipython",
    "version": 3
   },
   "file_extension": ".py",
   "mimetype": "text/x-python",
   "name": "python",
   "nbconvert_exporter": "python",
   "pygments_lexer": "ipython3",
   "version": "3.12.3"
  }
 },
 "nbformat": 4,
 "nbformat_minor": 5
}
