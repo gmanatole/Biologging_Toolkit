{
 "cells": [
  {
   "cell_type": "code",
   "execution_count": 1,
   "id": "7123f423",
   "metadata": {},
   "outputs": [
    {
     "name": "stdout",
     "output_type": "stream",
     "text": [
      "/home6/grosmaan/Documents/SES_tags/notebooks/../src/Biologging_Toolkit\n"
     ]
    }
   ],
   "source": [
    "import sys, os\n",
    "import netCDF4 as nc\n",
    "sys.path.append('../src/')\n",
    "from Biologging_Toolkit.wrapper import Wrapper\n",
    "from Biologging_Toolkit.utils import *"
   ]
  },
  {
   "cell_type": "code",
   "execution_count": 5,
   "id": "21a1e632",
   "metadata": {},
   "outputs": [],
   "source": [
    "depid = 'ml17_280a'\n",
    "path = '/home6/grosmaan/Documents/data'\n",
    "sens_path = os.path.join(path, 'CTD', depid, depid+'sens5.nc')\n",
    "raw_path = os.path.join(path, 'individus', depid, 'raw')"
   ]
  },
  {
   "cell_type": "code",
   "execution_count": 7,
   "id": "843c585d",
   "metadata": {},
   "outputs": [],
   "source": [
    "inst = Wrapper(depid, \n",
    "            path = path \n",
    "              )\n",
    "\n",
    "inst.dt = 5   # Timestep in seconds of final data structure"
   ]
  },
  {
   "cell_type": "code",
   "execution_count": 8,
   "id": "20948a65",
   "metadata": {},
   "outputs": [
    {
     "data": {
      "text/plain": [
       "<class 'netCDF4._netCDF4.Dataset'>\n",
       "root group (NETCDF4 data model, file format HDF5):\n",
       "    title: Processed dataset for ml17_280a\n",
       "    subtitle: NetCDF structure storing processed data from the ml17_280a individual using a 3 s timestep\n",
       "    sampling_rate: 3\n",
       "    sampling_rate_units: Seconds\n",
       "    dimensions(sizes): time(528420)\n",
       "    variables(dimensions): float64 time(time), float32 depth(time), float64 dives(time), float32 lat(time), float32 lon(time), float64 azimuth(time), float64 elevation_angle(time), float64 bank_angle(time), float64 vertical_azimuth(time), float64 inertial_speed(time), float64 jerk(time)\n",
       "    groups: "
      ]
     },
     "execution_count": 8,
     "metadata": {},
     "output_type": "execute_result"
    }
   ],
   "source": [
    "inst.ds"
   ]
  },
  {
   "cell_type": "markdown",
   "id": "674430cd",
   "metadata": {},
   "source": [
    "### Create reference time data\n",
    "\n",
    "Enter either a sens5 path containing existing time data or a time vector in POSIX timestamps (UTC)\n",
    "In both cases, the data will be resampled to match inst.dt\n",
    "\n",
    "Change overwrite to True if time data already exists and you wish to overwrite it."
   ]
  },
  {
   "cell_type": "code",
   "execution_count": 8,
   "id": "7a46f6ae",
   "metadata": {},
   "outputs": [],
   "source": [
    "inst.create_time(time_path = sens_path, overwrite = False)"
   ]
  },
  {
   "cell_type": "code",
   "execution_count": 9,
   "id": "c413e133",
   "metadata": {},
   "outputs": [],
   "source": [
    "inst.create_time(time_data = [151878955, 154324489], overwrite = False)"
   ]
  },
  {
   "cell_type": "code",
   "execution_count": 10,
   "id": "e4d2c7e8",
   "metadata": {},
   "outputs": [
    {
     "data": {
      "text/plain": [
       "masked_array(data=[1.50733444e+09, 1.50733444e+09, 1.50733444e+09, ...,\n",
       "                   1.50997879e+09, 1.50997879e+09, 1.50997879e+09],\n",
       "             mask=False,\n",
       "       fill_value=1e+20)"
      ]
     },
     "execution_count": 10,
     "metadata": {},
     "output_type": "execute_result"
    }
   ],
   "source": [
    "inst.ds['time'][:]"
   ]
  },
  {
   "cell_type": "markdown",
   "id": "947b9e63",
   "metadata": {},
   "source": [
    "### Load GPS data\n",
    "\n",
    "Enter time, latitude and longitude data (all the same size) and it will be resampled to match reference time data\n",
    "\n",
    "Change overwrite to True if GPS data already exists and you wish to overwrite it."
   ]
  },
  {
   "cell_type": "code",
   "execution_count": 10,
   "id": "d853444c",
   "metadata": {},
   "outputs": [],
   "source": [
    "trk_path = os.path.join('/run/media/grosmaan/LaCie/individus_brut/CTD', depid, depid+'trk.nc')\n",
    "trk = nc.Dataset(trk_path)"
   ]
  },
  {
   "cell_type": "code",
   "execution_count": 37,
   "id": "4fb96286",
   "metadata": {},
   "outputs": [],
   "source": [
    "time, lat, lon = trk['POS'][:].data\n",
    "time =  time + get_start_time_sens(trk.dephist_deploy_datetime_start)"
   ]
  },
  {
   "cell_type": "code",
   "execution_count": 39,
   "id": "554eabd2",
   "metadata": {},
   "outputs": [],
   "source": [
    "inst.create_gps(time_data=time, lat_data=lat, lon_data=lon, overwrite = True)"
   ]
  },
  {
   "cell_type": "code",
   "execution_count": 42,
   "id": "9f119adf",
   "metadata": {},
   "outputs": [
    {
     "data": {
      "text/plain": [
       "(masked_array(data=[-47.307076, -47.30733 , -47.3073  , ..., -43.50783 ,\n",
       "                    -43.507843, -43.50785 ],\n",
       "              mask=False,\n",
       "        fill_value=1e+20,\n",
       "             dtype=float32),\n",
       " masked_array(data=[67.76784 , 67.76795 , 67.767944, ..., 53.032776,\n",
       "                    53.032837, 53.032894],\n",
       "              mask=False,\n",
       "        fill_value=1e+20,\n",
       "             dtype=float32))"
      ]
     },
     "execution_count": 42,
     "metadata": {},
     "output_type": "execute_result"
    }
   ],
   "source": [
    "inst.ds['lat'][:], inst.ds['lon'][:]"
   ]
  },
  {
   "cell_type": "markdown",
   "id": "14626475",
   "metadata": {},
   "source": [
    "### Add any other data\n",
    "\n",
    "You can now add any other data to structure, here we add depth as an example"
   ]
  },
  {
   "cell_type": "code",
   "execution_count": 10,
   "id": "a55e317d",
   "metadata": {},
   "outputs": [],
   "source": [
    "var_name = 'depth'\n",
    "sens = nc.Dataset(sens_path)\n",
    "var_data = sens['P'][:].data\n",
    "\n",
    "length = len(sens['P'][:])\n",
    "ds_sr = sens['P'].sampling_rate\n",
    "time_data = get_start_time_sens(sens.dephist_device_datetime_start) + np.arange(0, length/ds_sr, np.round(1/ds_sr,2))"
   ]
  },
  {
   "cell_type": "code",
   "execution_count": null,
   "id": "3ce4ba1b",
   "metadata": {},
   "outputs": [],
   "source": [
    "inst.create_variable(var_name, var_data, time_data, overwrite = False)"
   ]
  },
  {
   "cell_type": "code",
   "execution_count": 43,
   "id": "9449b92e",
   "metadata": {},
   "outputs": [],
   "source": [
    "inst.ds.close()"
   ]
  },
  {
   "cell_type": "code",
   "execution_count": null,
   "id": "0ff67168",
   "metadata": {},
   "outputs": [],
   "source": []
  }
 ],
 "metadata": {
  "kernelspec": {
   "display_name": "meteoses",
   "language": "python",
   "name": "myenv"
  },
  "language_info": {
   "codemirror_mode": {
    "name": "ipython",
    "version": 3
   },
   "file_extension": ".py",
   "mimetype": "text/x-python",
   "name": "python",
   "nbconvert_exporter": "python",
   "pygments_lexer": "ipython3",
   "version": "3.10.10"
  }
 },
 "nbformat": 4,
 "nbformat_minor": 5
}
