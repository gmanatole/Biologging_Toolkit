{
 "cells": [
  {
   "cell_type": "markdown",
   "metadata": {
    "id": "EKLJTLUarn5C"
   },
   "source": [
    "# Download ERA5 data "
   ]
  },
  {
   "cell_type": "code",
   "execution_count": 1,
   "metadata": {
    "id": "BfFsr-Kdrn5E"
   },
   "outputs": [
    {
     "name": "stdout",
     "output_type": "stream",
     "text": [
      "c:\\Users\\barsro\\Documents\\SES_tags\\notebooks\\../src\\Biologging_Toolkit\n"
     ]
    }
   ],
   "source": [
    "import os, sys\n",
    "from netCDF4 import Dataset\n",
    "import numpy as np\n",
    "import zipfile \n",
    "import plotly.express as px\n",
    "#import xarray as xr\n",
    "sys.path.append('../src/')\n",
    "from Biologging_Toolkit.auxiliary import Api_ERA\n",
    "from Biologging_Toolkit.utils import *"
   ]
  },
  {
   "cell_type": "markdown",
   "metadata": {
    "id": "Xe3rurPLrn5H"
   },
   "source": [
    "## Pre-requirements\n"
   ]
  },
  {
   "cell_type": "markdown",
   "metadata": {
    "id": "TeZ1PcBYrn5K"
   },
   "source": [
    "In order to download ERA5 data using an API, you will have to get a UDI and a personal key. To get those, you will have to register to the Copernicus platform using the following link : https://cds.climate.copernicus.eu/user/login\n",
    "<br>Enter/copy paste your UDI and your key in the cells below"
   ]
  },
  {
   "cell_type": "code",
   "execution_count": 2,
   "metadata": {
    "id": "ZmcZ9o4Zrn5L"
   },
   "outputs": [],
   "source": [
    "personal_access_token = '5687bb83-bb46-4334-8925-930439a13112'"
   ]
  },
  {
   "cell_type": "markdown",
   "metadata": {
    "id": "_ukskxJq9TH_"
   },
   "source": [
    "Below you can add a filename after your variable names (eg, `filename = 'ERA5'` will give you __u10_ERA5__).\n",
    "<br>\n",
    "By default, files will be downloaded in your home directory, in the subdirectory __api__ , but you can change it through the variable __path__ (otherwise let default value `path = 'None'`)."
   ]
  },
  {
   "cell_type": "code",
   "execution_count": 3,
   "metadata": {
    "id": "yfRYxbz9rn5J"
   },
   "outputs": [],
   "source": [
    "filename = 'ml19_292b'\n",
    "path = '.'"
   ]
  },
  {
   "cell_type": "markdown",
   "metadata": {
    "id": "pazc3WSCrn5N"
   },
   "source": [
    "## Variable, time period and geographical location\n",
    "\n",
    "ERA5 provides hourly estimates for a large number of ocean-wave and atmospheric variables (see list [here](https://cds.climate.copernicus.eu/cdsapp#!/dataset/reanalysis-era5-single-levels?tab=overview)). Variable names must be formatted with lowercase first letters, and composed words spaced by underscores (eg, Sea surface temperature in `'sea_surface_temperature'`, 10m u-component of wind in `'10m_u_component_of_wind'`). Use the alias `'all'` to select all available months, days or hours, otherwise set one or several elements as a list (eg, `'days = ['01','02']'`)."
   ]
  },
  {
   "cell_type": "markdown",
   "metadata": {},
   "source": [
    "### You can get boundaries from built dataset"
   ]
  },
  {
   "cell_type": "code",
   "execution_count": 4,
   "metadata": {},
   "outputs": [
    {
     "name": "stdout",
     "output_type": "stream",
     "text": [
      "Dataset begins at  2019-10-19 06:00:00\n",
      "and ends at        2019-12-27 03:00:00\n",
      "The GPS boundaries are :\n",
      "    - South  : -43.00°\n",
      "    - North  : -38.75°\n",
      "    - West   : -65.00°\n",
      "    - East   : -49.50°\n"
     ]
    }
   ],
   "source": [
    "# data_path = '/home6/grosmaan/Documents/data/ml17_280a_sens.nc'\n",
    "\n",
    "data_path = 'e:/individus_brut/ml19_292b/ml19_292b_sens.nc'\n",
    "get_boundaries_metadata(data_path)"
   ]
  },
  {
   "cell_type": "code",
   "execution_count": 5,
   "metadata": {
    "id": "qqBnRqMarn5N"
   },
   "outputs": [],
   "source": [
    "# CHOOSE WHICH SINGLE LEVELS TO DOWNLOAD IN data\n",
    "variables = ['10m_u_component_of_wind', '10m_v_component_of_wind', 'total_precipitation'] \n",
    "\n",
    "years = ['2017'] \n",
    "\n",
    "months =  ['10','11']\n",
    "#Or set one or several months as a list\n",
    "# ['01','02','03','04','05','06','07','08','09','10','11','12']\n",
    "\n",
    "days = 'all'\n",
    "#Or set one or several days as a list\n",
    "# ['01', '02', 03','04','05','06','07','08','09','10','11','12','13','14','15','16','17',\n",
    "                   #'18','19','20','21','22','23','24','25','26','27','28','29','30','31']\n",
    "\n",
    "hours = 'all'\n",
    "#Or set one or several hours as a list\n",
    "#['00:00','01:00','02:00','03:00','04:00', '05:00','06:00','07:00','08:00',\n",
    "                     #'09:00','10:00','11:00','12:00','13:00','14:00','15:00','16:00','17:00','18:00','19:00',\n",
    "                     #'20:00','21:00','22:00','23:00']\n",
    "\n",
    "# Boundaries of the geographical area in decimal degrees\n",
    "south_boundary = -48\n",
    "north_boundary = -42\n",
    "west_boundary = 51.25\n",
    "east_boundary = 68.5\n"
   ]
  },
  {
   "cell_type": "markdown",
   "metadata": {
    "id": "liGkTga7rn5R"
   },
   "source": [
    "## Print summary and run download"
   ]
  },
  {
   "cell_type": "code",
   "execution_count": 6,
   "metadata": {
    "colab": {
     "base_uri": "https://localhost:8080/"
    },
    "id": "YoILJSs4rn5S",
    "outputId": "80e4ab26-8077-465f-a04d-a92da1356987"
   },
   "outputs": [],
   "source": [
    "Api_ERA.make_cds_file(personal_access_token, path)"
   ]
  },
  {
   "cell_type": "code",
   "execution_count": 7,
   "metadata": {
    "scrolled": true
   },
   "outputs": [
    {
     "name": "stdout",
     "output_type": "stream",
     "text": [
      "You have selected : \n",
      "\n",
      "   - 10m_u_component_of_wind\n",
      "   - 10m_v_component_of_wind\n",
      "   - total_precipitation\n",
      "\n",
      "for the following times\n",
      "Years : ['2017'] \n",
      " Months : ['10', '11'] \n",
      " Days : all \n",
      " Hours : all\n",
      "\n",
      "Your boundaries are : North -42°, South -48°, East 68.5°, West 51.25°\n"
     ]
    },
    {
     "name": "stderr",
     "output_type": "stream",
     "text": [
      "c:\\Users\\barsro\\.conda\\envs\\rain\\Lib\\site-packages\\urllib3\\connectionpool.py:1097: InsecureRequestWarning: Unverified HTTPS request is being made to host 'cds-beta.climate.copernicus.eu'. Adding certificate verification is strongly advised. See: https://urllib3.readthedocs.io/en/latest/advanced-usage.html#tls-warnings\n",
      "  warnings.warn(\n",
      "c:\\Users\\barsro\\.conda\\envs\\rain\\Lib\\site-packages\\datapi\\api_client.py:83: UserWarning: 404 Client Error: Not Found for url: https://cds-beta.climate.copernicus.eu/api/catalogue/v1/messages\n",
      "  warnings.warn(str(exc), UserWarning)\n",
      "c:\\Users\\barsro\\.conda\\envs\\rain\\Lib\\site-packages\\urllib3\\connectionpool.py:1097: InsecureRequestWarning: Unverified HTTPS request is being made to host 'cds-beta.climate.copernicus.eu'. Adding certificate verification is strongly advised. See: https://urllib3.readthedocs.io/en/latest/advanced-usage.html#tls-warnings\n",
      "  warnings.warn(\n"
     ]
    },
    {
     "ename": "HTTPError",
     "evalue": "404 Client Error: Not Found for url: https://cds-beta.climate.copernicus.eu/api/retrieve/v1/processes/reanalysis-era5-single-levels",
     "output_type": "error",
     "traceback": [
      "\u001b[31m---------------------------------------------------------------------------\u001b[39m",
      "\u001b[31mHTTPError\u001b[39m                                 Traceback (most recent call last)",
      "\u001b[36mCell\u001b[39m\u001b[36m \u001b[39m\u001b[32mIn[7]\u001b[39m\u001b[32m, line 1\u001b[39m\n\u001b[32m----> \u001b[39m\u001b[32m1\u001b[39m \u001b[43mApi_ERA\u001b[49m\u001b[43m.\u001b[49m\u001b[43mreturn_cdsbeta\u001b[49m\u001b[43m(\u001b[49m\u001b[43mfilename\u001b[49m\u001b[43m,\u001b[49m\u001b[43m \u001b[49m\u001b[43mvariables\u001b[49m\u001b[43m,\u001b[49m\u001b[43m \u001b[49m\u001b[43myears\u001b[49m\u001b[43m,\u001b[49m\u001b[43m \u001b[49m\u001b[43mmonths\u001b[49m\u001b[43m,\u001b[49m\u001b[43m \u001b[49m\u001b[43mdays\u001b[49m\u001b[43m,\u001b[49m\u001b[43m \u001b[49m\u001b[43mhours\u001b[49m\u001b[43m,\u001b[49m\u001b[43m  \u001b[49m\u001b[43m[\u001b[49m\u001b[43mnorth_boundary\u001b[49m\u001b[43m,\u001b[49m\u001b[43m \u001b[49m\u001b[43mwest_boundary\u001b[49m\u001b[43m,\u001b[49m\u001b[43m \u001b[49m\u001b[43msouth_boundary\u001b[49m\u001b[43m,\u001b[49m\u001b[43m \u001b[49m\u001b[43meast_boundary\u001b[49m\u001b[43m]\u001b[49m\u001b[43m)\u001b[49m\n",
      "\u001b[36mFile \u001b[39m\u001b[32mc:\\Users\\barsro\\Documents\\SES_tags\\notebooks\\../src\\Biologging_Toolkit\\auxiliary\\Api_ERA.py:79\u001b[39m, in \u001b[36mreturn_cdsbeta\u001b[39m\u001b[34m(filename, variables, years, months, days, hours, area)\u001b[39m\n\u001b[32m     66\u001b[39m dataset = \u001b[33m'\u001b[39m\u001b[33mreanalysis-era5-single-levels\u001b[39m\u001b[33m'\u001b[39m\n\u001b[32m     67\u001b[39m request = {\n\u001b[32m     68\u001b[39m \t\u001b[33m'\u001b[39m\u001b[33mproduct_type\u001b[39m\u001b[33m'\u001b[39m: [\u001b[33m'\u001b[39m\u001b[33mreanalysis\u001b[39m\u001b[33m'\u001b[39m],\n\u001b[32m     69\u001b[39m \t\u001b[33m'\u001b[39m\u001b[33mvariable\u001b[39m\u001b[33m'\u001b[39m: variables,\n\u001b[32m   (...)\u001b[39m\u001b[32m     76\u001b[39m \t\u001b[33m'\u001b[39m\u001b[33mdata_format\u001b[39m\u001b[33m'\u001b[39m: \u001b[33m'\u001b[39m\u001b[33mnetcdf\u001b[39m\u001b[33m'\u001b[39m,\n\u001b[32m     77\u001b[39m \t}\n\u001b[32m---> \u001b[39m\u001b[32m79\u001b[39m \u001b[43mc\u001b[49m\u001b[43m.\u001b[49m\u001b[43mretrieve\u001b[49m\u001b[43m(\u001b[49m\u001b[43mdataset\u001b[49m\u001b[43m,\u001b[49m\u001b[43m \u001b[49m\u001b[43mrequest\u001b[49m\u001b[43m,\u001b[49m\u001b[43m \u001b[49m\u001b[43mfilename\u001b[49m\u001b[43m)\u001b[49m\n",
      "\u001b[36mFile \u001b[39m\u001b[32mc:\\Users\\barsro\\.conda\\envs\\rain\\Lib\\site-packages\\datapi\\legacy_api_client.py:169\u001b[39m, in \u001b[36mLegacyApiClient.retrieve\u001b[39m\u001b[34m(self, name, request, target)\u001b[39m\n\u001b[32m    167\u001b[39m submitted: Remote | Results\n\u001b[32m    168\u001b[39m \u001b[38;5;28;01mif\u001b[39;00m \u001b[38;5;28mself\u001b[39m.wait_until_complete:\n\u001b[32m--> \u001b[39m\u001b[32m169\u001b[39m     submitted = \u001b[38;5;28;43mself\u001b[39;49m\u001b[43m.\u001b[49m\u001b[43mclient\u001b[49m\u001b[43m.\u001b[49m\u001b[43msubmit_and_wait_on_results\u001b[49m\u001b[43m(\u001b[49m\n\u001b[32m    170\u001b[39m \u001b[43m        \u001b[49m\u001b[43mcollection_id\u001b[49m\u001b[43m=\u001b[49m\u001b[43mname\u001b[49m\u001b[43m,\u001b[49m\n\u001b[32m    171\u001b[39m \u001b[43m        \u001b[49m\u001b[43mrequest\u001b[49m\u001b[43m=\u001b[49m\u001b[43mrequest\u001b[49m\u001b[43m,\u001b[49m\n\u001b[32m    172\u001b[39m \u001b[43m    \u001b[49m\u001b[43m)\u001b[49m\n\u001b[32m    173\u001b[39m \u001b[38;5;28;01melse\u001b[39;00m:\n\u001b[32m    174\u001b[39m     submitted = \u001b[38;5;28mself\u001b[39m.client.submit(\n\u001b[32m    175\u001b[39m         collection_id=name,\n\u001b[32m    176\u001b[39m         request=request,\n\u001b[32m    177\u001b[39m     )\n",
      "\u001b[36mFile \u001b[39m\u001b[32mc:\\Users\\barsro\\.conda\\envs\\rain\\Lib\\site-packages\\datapi\\api_client.py:399\u001b[39m, in \u001b[36mApiClient.submit_and_wait_on_results\u001b[39m\u001b[34m(self, collection_id, request)\u001b[39m\n\u001b[32m    383\u001b[39m \u001b[38;5;28;01mdef\u001b[39;00m\u001b[38;5;250m \u001b[39m\u001b[34msubmit_and_wait_on_results\u001b[39m(\n\u001b[32m    384\u001b[39m     \u001b[38;5;28mself\u001b[39m, collection_id: \u001b[38;5;28mstr\u001b[39m, request: \u001b[38;5;28mdict\u001b[39m[\u001b[38;5;28mstr\u001b[39m, Any]\n\u001b[32m    385\u001b[39m ) -> datapi.Results:\n\u001b[32m    386\u001b[39m \u001b[38;5;250m    \u001b[39m\u001b[33;03m\"\"\"Submit a request and wait for the results to be ready.\u001b[39;00m\n\u001b[32m    387\u001b[39m \n\u001b[32m    388\u001b[39m \u001b[33;03m    Parameters\u001b[39;00m\n\u001b[32m   (...)\u001b[39m\u001b[32m    397\u001b[39m \u001b[33;03m    datapi.Results\u001b[39;00m\n\u001b[32m    398\u001b[39m \u001b[33;03m    \"\"\"\u001b[39;00m\n\u001b[32m--> \u001b[39m\u001b[32m399\u001b[39m     \u001b[38;5;28;01mreturn\u001b[39;00m \u001b[38;5;28;43mself\u001b[39;49m\u001b[43m.\u001b[49m\u001b[43m_retrieve_api\u001b[49m\u001b[43m.\u001b[49m\u001b[43msubmit\u001b[49m\u001b[43m(\u001b[49m\u001b[43mcollection_id\u001b[49m\u001b[43m,\u001b[49m\u001b[43m \u001b[49m\u001b[43mrequest\u001b[49m\u001b[43m)\u001b[49m.get_results()\n",
      "\u001b[36mFile \u001b[39m\u001b[32mc:\\Users\\barsro\\.conda\\envs\\rain\\Lib\\site-packages\\datapi\\processing.py:794\u001b[39m, in \u001b[36mProcessing.submit\u001b[39m\u001b[34m(self, collection_id, request)\u001b[39m\n\u001b[32m    793\u001b[39m \u001b[38;5;28;01mdef\u001b[39;00m\u001b[38;5;250m \u001b[39m\u001b[34msubmit\u001b[39m(\u001b[38;5;28mself\u001b[39m, collection_id: \u001b[38;5;28mstr\u001b[39m, request: \u001b[38;5;28mdict\u001b[39m[\u001b[38;5;28mstr\u001b[39m, Any]) -> Remote:\n\u001b[32m--> \u001b[39m\u001b[32m794\u001b[39m     \u001b[38;5;28;01mreturn\u001b[39;00m \u001b[38;5;28;43mself\u001b[39;49m\u001b[43m.\u001b[49m\u001b[43mget_process\u001b[49m\u001b[43m(\u001b[49m\u001b[43mcollection_id\u001b[49m\u001b[43m)\u001b[49m.submit(request)\n",
      "\u001b[36mFile \u001b[39m\u001b[32mc:\\Users\\barsro\\.conda\\envs\\rain\\Lib\\site-packages\\datapi\\processing.py:783\u001b[39m, in \u001b[36mProcessing.get_process\u001b[39m\u001b[34m(self, process_id)\u001b[39m\n\u001b[32m    781\u001b[39m \u001b[38;5;28;01mdef\u001b[39;00m\u001b[38;5;250m \u001b[39m\u001b[34mget_process\u001b[39m(\u001b[38;5;28mself\u001b[39m, process_id: \u001b[38;5;28mstr\u001b[39m) -> Process:\n\u001b[32m    782\u001b[39m     url = \u001b[33mf\u001b[39m\u001b[33m\"\u001b[39m\u001b[38;5;132;01m{\u001b[39;00m\u001b[38;5;28mself\u001b[39m.url\u001b[38;5;132;01m}\u001b[39;00m\u001b[33m/processes/\u001b[39m\u001b[38;5;132;01m{\u001b[39;00mprocess_id\u001b[38;5;132;01m}\u001b[39;00m\u001b[33m\"\u001b[39m\n\u001b[32m--> \u001b[39m\u001b[32m783\u001b[39m     \u001b[38;5;28;01mreturn\u001b[39;00m \u001b[43mProcess\u001b[49m\u001b[43m.\u001b[49m\u001b[43mfrom_request\u001b[49m\u001b[43m(\u001b[49m\u001b[33;43m\"\u001b[39;49m\u001b[33;43mget\u001b[39;49m\u001b[33;43m\"\u001b[39;49m\u001b[43m,\u001b[49m\u001b[43m \u001b[49m\u001b[43murl\u001b[49m\u001b[43m,\u001b[49m\u001b[43m \u001b[49m\u001b[43m*\u001b[49m\u001b[43m*\u001b[49m\u001b[38;5;28;43mself\u001b[39;49m\u001b[43m.\u001b[49m\u001b[43m_request_kwargs\u001b[49m\u001b[43m)\u001b[49m\n",
      "\u001b[36mFile \u001b[39m\u001b[32mc:\\Users\\barsro\\.conda\\envs\\rain\\Lib\\site-packages\\datapi\\processing.py:177\u001b[39m, in \u001b[36mApiResponse.from_request\u001b[39m\u001b[34m(cls, method, url, headers, session, retry_options, request_options, download_options, sleep_max, cleanup, log_callback, log_messages, **kwargs)\u001b[39m\n\u001b[32m    172\u001b[39m response = robust_request(\n\u001b[32m    173\u001b[39m     method, url, headers=headers, **request_options, **kwargs\n\u001b[32m    174\u001b[39m )\n\u001b[32m    175\u001b[39m log(logging.DEBUG, \u001b[33mf\u001b[39m\u001b[33m\"\u001b[39m\u001b[33mREPLY \u001b[39m\u001b[38;5;132;01m{\u001b[39;00mresponse.text\u001b[38;5;132;01m}\u001b[39;00m\u001b[33m\"\u001b[39m, callback=log_callback)\n\u001b[32m--> \u001b[39m\u001b[32m177\u001b[39m \u001b[43mcads_raise_for_status\u001b[49m\u001b[43m(\u001b[49m\u001b[43mresponse\u001b[49m\u001b[43m)\u001b[49m\n\u001b[32m    179\u001b[39m \u001b[38;5;28mself\u001b[39m = \u001b[38;5;28mcls\u001b[39m(\n\u001b[32m    180\u001b[39m     response,\n\u001b[32m    181\u001b[39m     headers=headers,\n\u001b[32m   (...)\u001b[39m\u001b[32m    188\u001b[39m     log_callback=log_callback,\n\u001b[32m    189\u001b[39m )\n\u001b[32m    190\u001b[39m \u001b[38;5;28;01mif\u001b[39;00m log_messages:\n",
      "\u001b[36mFile \u001b[39m\u001b[32mc:\\Users\\barsro\\.conda\\envs\\rain\\Lib\\site-packages\\datapi\\processing.py:101\u001b[39m, in \u001b[36mcads_raise_for_status\u001b[39m\u001b[34m(response)\u001b[39m\n\u001b[32m     94\u001b[39m         message = \u001b[33m\"\u001b[39m\u001b[38;5;130;01m\\n\u001b[39;00m\u001b[33m\"\u001b[39m.join(\n\u001b[32m     95\u001b[39m             [\n\u001b[32m     96\u001b[39m                 \u001b[33mf\u001b[39m\u001b[33m\"\u001b[39m\u001b[38;5;132;01m{\u001b[39;00mresponse.status_code\u001b[38;5;132;01m}\u001b[39;00m\u001b[33m Client Error: \u001b[39m\u001b[38;5;132;01m{\u001b[39;00mresponse.reason\u001b[38;5;132;01m}\u001b[39;00m\u001b[33m for url: \u001b[39m\u001b[38;5;132;01m{\u001b[39;00mresponse.url\u001b[38;5;132;01m}\u001b[39;00m\u001b[33m\"\u001b[39m,\n\u001b[32m     97\u001b[39m                 error_json_to_message(error_json),\n\u001b[32m     98\u001b[39m             ]\n\u001b[32m     99\u001b[39m         )\n\u001b[32m    100\u001b[39m         \u001b[38;5;28;01mraise\u001b[39;00m requests.HTTPError(message, response=response)\n\u001b[32m--> \u001b[39m\u001b[32m101\u001b[39m \u001b[43mresponse\u001b[49m\u001b[43m.\u001b[49m\u001b[43mraise_for_status\u001b[49m\u001b[43m(\u001b[49m\u001b[43m)\u001b[49m\n",
      "\u001b[36mFile \u001b[39m\u001b[32mc:\\Users\\barsro\\.conda\\envs\\rain\\Lib\\site-packages\\requests\\models.py:1024\u001b[39m, in \u001b[36mResponse.raise_for_status\u001b[39m\u001b[34m(self)\u001b[39m\n\u001b[32m   1019\u001b[39m     http_error_msg = (\n\u001b[32m   1020\u001b[39m         \u001b[33mf\u001b[39m\u001b[33m\"\u001b[39m\u001b[38;5;132;01m{\u001b[39;00m\u001b[38;5;28mself\u001b[39m.status_code\u001b[38;5;132;01m}\u001b[39;00m\u001b[33m Server Error: \u001b[39m\u001b[38;5;132;01m{\u001b[39;00mreason\u001b[38;5;132;01m}\u001b[39;00m\u001b[33m for url: \u001b[39m\u001b[38;5;132;01m{\u001b[39;00m\u001b[38;5;28mself\u001b[39m.url\u001b[38;5;132;01m}\u001b[39;00m\u001b[33m\"\u001b[39m\n\u001b[32m   1021\u001b[39m     )\n\u001b[32m   1023\u001b[39m \u001b[38;5;28;01mif\u001b[39;00m http_error_msg:\n\u001b[32m-> \u001b[39m\u001b[32m1024\u001b[39m     \u001b[38;5;28;01mraise\u001b[39;00m HTTPError(http_error_msg, response=\u001b[38;5;28mself\u001b[39m)\n",
      "\u001b[31mHTTPError\u001b[39m: 404 Client Error: Not Found for url: https://cds-beta.climate.copernicus.eu/api/retrieve/v1/processes/reanalysis-era5-single-levels"
     ]
    }
   ],
   "source": [
    "Api_ERA.return_cdsbeta(filename, variables, years, months, days, hours,  [north_boundary, west_boundary, south_boundary, east_boundary])"
   ]
  },
  {
   "cell_type": "markdown",
   "metadata": {
    "id": "5axtOcEMCxkn"
   },
   "source": [
    "### Code to visualize your variables"
   ]
  },
  {
   "cell_type": "code",
   "execution_count": null,
   "metadata": {
    "colab": {
     "base_uri": "https://localhost:8080/",
     "height": 336
    },
    "id": "czlX019H5x-L",
    "outputId": "1cca72d9-a682-4c15-dcd1-0e9ec304187e"
   },
   "outputs": [],
   "source": [
    "variable_name= 'v10'\n",
    "\n",
    "with zipfile.ZipFile(os.path.join(path,filename+'.zip'), 'r') as zip_ref:\n",
    "    zip_ref.extractall(path)\n",
    "\n",
    "try :\n",
    "    nc = Dataset(os.path.join(path,'data_stream-oper.nc'), 'r')\n",
    "    ds = xr.open_dataset(xr.backends.NetCDF4DataStore(nc))\n",
    "except FileNotFoundError :  \n",
    "    print('no ERA data with this variable')\n",
    "    sys.exit()\n",
    "\n",
    "ds = ds[variable_name]\n",
    "\n",
    "fig = px.imshow(ds, animation_frame='valid_time', zmin=float(ds.min()), zmax=float(ds.max()), color_continuous_scale='RdBu_r')\n",
    "\n",
    "fig.show()"
   ]
  },
  {
   "cell_type": "code",
   "execution_count": null,
   "metadata": {},
   "outputs": [],
   "source": []
  }
 ],
 "metadata": {
  "celltoolbar": "Tags",
  "colab": {
   "provenance": []
  },
  "kernelspec": {
   "display_name": "Python 3 (ipykernel)",
   "language": "python",
   "name": "python3"
  },
  "language_info": {
   "codemirror_mode": {
    "name": "ipython",
    "version": 3
   },
   "file_extension": ".py",
   "mimetype": "text/x-python",
   "name": "python",
   "nbconvert_exporter": "python",
   "pygments_lexer": "ipython3",
   "version": "3.12.7"
  }
 },
 "nbformat": 4,
 "nbformat_minor": 4
}
