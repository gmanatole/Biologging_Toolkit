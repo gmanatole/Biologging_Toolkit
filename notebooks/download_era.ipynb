{
 "cells": [
  {
   "cell_type": "markdown",
   "metadata": {
    "id": "EKLJTLUarn5C"
   },
   "source": [
    "# Download ERA5 data "
   ]
  },
  {
   "cell_type": "code",
   "execution_count": 1,
   "metadata": {
    "id": "BfFsr-Kdrn5E"
   },
   "outputs": [
    {
     "name": "stdout",
     "output_type": "stream",
     "text": [
      "/home6/grosmaan/Documents/SES_tags/notebooks/../src/Biologging_Toolkit\n"
     ]
    }
   ],
   "source": [
    "import os, sys\n",
    "from IPython.display import HTML\n",
    "from IPython.display import display\n",
    "from datetime import datetime, timedelta\n",
    "from netCDF4 import Dataset\n",
    "import numpy as np\n",
    "import plotly.express as px\n",
    "import xarray as xr\n",
    "sys.path.append('../src/')\n",
    "from Biologging_Toolkit.auxiliary import Api_ERA\n",
    "from Biologging_Toolkit.utils import *"
   ]
  },
  {
   "cell_type": "markdown",
   "metadata": {
    "id": "Xe3rurPLrn5H"
   },
   "source": [
    "## Pre-requirements\n"
   ]
  },
  {
   "cell_type": "markdown",
   "metadata": {
    "id": "TeZ1PcBYrn5K"
   },
   "source": [
    "In order to download ERA5 data using an API, you will have to get a UDI and a personal key. To get those, you will have to register to the Copernicus platform using the following link : https://cds.climate.copernicus.eu/user/login\n",
    "<br>Enter/copy paste your UDI and your key in the cells below"
   ]
  },
  {
   "cell_type": "code",
   "execution_count": 2,
   "metadata": {
    "id": "ZmcZ9o4Zrn5L"
   },
   "outputs": [],
   "source": [
    "personal_access_token = '14aedd9b-e023-44ff-a707-4b79e79c434b'"
   ]
  },
  {
   "cell_type": "markdown",
   "metadata": {
    "id": "_ukskxJq9TH_"
   },
   "source": [
    "Below you can add a filename after your variable names (eg, `filename = 'ERA5'` will give you __u10_ERA5__).\n",
    "<br>\n",
    "By default, files will be downloaded in your home directory, in the subdirectory __api__ , but you can change it through the variable __path__ (otherwise let default value `path = 'None'`)."
   ]
  },
  {
   "cell_type": "code",
   "execution_count": 3,
   "metadata": {
    "id": "yfRYxbz9rn5J"
   },
   "outputs": [],
   "source": [
    "filename = 'PALAOA'\n",
    "path = '/run/media/grosmaan/LaCie1/data/'"
   ]
  },
  {
   "cell_type": "markdown",
   "metadata": {
    "id": "pazc3WSCrn5N"
   },
   "source": [
    "## Variable, time period and geographical location\n",
    "\n",
    "ERA5 provides hourly estimates for a large number of ocean-wave and atmospheric variables (see list [here](https://cds.climate.copernicus.eu/cdsapp#!/dataset/reanalysis-era5-single-levels?tab=overview)). Variable names must be formatted with lowercase first letters, and composed words spaced by underscores (eg, Sea surface temperature in `'sea_surface_temperature'`, 10m u-component of wind in `'10m_u_component_of_wind'`). Use the alias `'all'` to select all available months, days or hours, otherwise set one or several elements as a list (eg, `'days = ['01','02']'`)."
   ]
  },
  {
   "cell_type": "markdown",
   "metadata": {},
   "source": [
    "### You can get boundaries from built dataset"
   ]
  },
  {
   "cell_type": "code",
   "execution_count": 4,
   "metadata": {},
   "outputs": [
    {
     "ename": "FileNotFoundError",
     "evalue": "[Errno 2] No such file or directory: b'/home6/grosmaan/Documents/data/ml17_280a_sens.nc'",
     "output_type": "error",
     "traceback": [
      "\u001b[0;31m---------------------------------------------------------------------------\u001b[0m",
      "\u001b[0;31mFileNotFoundError\u001b[0m                         Traceback (most recent call last)",
      "\u001b[0;32m/tmp/ipykernel_21558/894385911.py\u001b[0m in \u001b[0;36m<module>\u001b[0;34m\u001b[0m\n\u001b[1;32m      1\u001b[0m \u001b[0mdata_path\u001b[0m \u001b[0;34m=\u001b[0m \u001b[0;34m'/home6/grosmaan/Documents/data/ml17_280a_sens.nc'\u001b[0m\u001b[0;34m\u001b[0m\u001b[0;34m\u001b[0m\u001b[0m\n\u001b[0;32m----> 2\u001b[0;31m \u001b[0mget_boundaries_metadata\u001b[0m\u001b[0;34m(\u001b[0m\u001b[0mdata_path\u001b[0m\u001b[0;34m)\u001b[0m\u001b[0;34m\u001b[0m\u001b[0;34m\u001b[0m\u001b[0m\n\u001b[0m",
      "\u001b[0;32m~/Documents/SES_tags/notebooks/../src/Biologging_Toolkit/utils/format_utils.py\u001b[0m in \u001b[0;36mget_boundaries_metadata\u001b[0;34m(path)\u001b[0m\n\u001b[1;32m     94\u001b[0m         \u001b[0mThis\u001b[0m \u001b[0mdata\u001b[0m \u001b[0mcan\u001b[0m \u001b[0mthen\u001b[0m \u001b[0mbe\u001b[0m \u001b[0mused\u001b[0m \u001b[0mto\u001b[0m \u001b[0mdownload\u001b[0m \u001b[0mERA\u001b[0m\u001b[0;34m\u001b[0m\u001b[0;34m\u001b[0m\u001b[0m\n\u001b[1;32m     95\u001b[0m \t\"\"\"\n\u001b[0;32m---> 96\u001b[0;31m         \u001b[0mds\u001b[0m \u001b[0;34m=\u001b[0m \u001b[0mnc\u001b[0m\u001b[0;34m.\u001b[0m\u001b[0mDataset\u001b[0m\u001b[0;34m(\u001b[0m\u001b[0mpath\u001b[0m\u001b[0;34m)\u001b[0m\u001b[0;34m\u001b[0m\u001b[0;34m\u001b[0m\u001b[0m\n\u001b[0m\u001b[1;32m     97\u001b[0m         \u001b[0mtime_min\u001b[0m \u001b[0;34m=\u001b[0m \u001b[0mdatetime\u001b[0m\u001b[0;34m.\u001b[0m\u001b[0mfromtimestamp\u001b[0m\u001b[0;34m(\u001b[0m\u001b[0mnp\u001b[0m\u001b[0;34m.\u001b[0m\u001b[0mnanmin\u001b[0m\u001b[0;34m(\u001b[0m\u001b[0mds\u001b[0m\u001b[0;34m[\u001b[0m\u001b[0;34m'time'\u001b[0m\u001b[0;34m]\u001b[0m\u001b[0;34m[\u001b[0m\u001b[0;34m:\u001b[0m\u001b[0;34m]\u001b[0m\u001b[0;34m)\u001b[0m\u001b[0;34m)\u001b[0m\u001b[0;34m.\u001b[0m\u001b[0mreplace\u001b[0m\u001b[0;34m(\u001b[0m\u001b[0mminute\u001b[0m \u001b[0;34m=\u001b[0m \u001b[0;36m0\u001b[0m\u001b[0;34m,\u001b[0m \u001b[0msecond\u001b[0m \u001b[0;34m=\u001b[0m \u001b[0;36m0\u001b[0m\u001b[0;34m)\u001b[0m\u001b[0;34m\u001b[0m\u001b[0;34m\u001b[0m\u001b[0m\n\u001b[1;32m     98\u001b[0m         \u001b[0mtime_max\u001b[0m \u001b[0;34m=\u001b[0m \u001b[0mdatetime\u001b[0m\u001b[0;34m.\u001b[0m\u001b[0mfromtimestamp\u001b[0m\u001b[0;34m(\u001b[0m\u001b[0mnp\u001b[0m\u001b[0;34m.\u001b[0m\u001b[0mnanmax\u001b[0m\u001b[0;34m(\u001b[0m\u001b[0mds\u001b[0m\u001b[0;34m[\u001b[0m\u001b[0;34m'time'\u001b[0m\u001b[0;34m]\u001b[0m\u001b[0;34m[\u001b[0m\u001b[0;34m:\u001b[0m\u001b[0;34m]\u001b[0m\u001b[0;34m)\u001b[0m\u001b[0;34m)\u001b[0m\u001b[0;34m\u001b[0m\u001b[0;34m\u001b[0m\u001b[0m\n",
      "\u001b[0;32msrc/netCDF4/_netCDF4.pyx\u001b[0m in \u001b[0;36mnetCDF4._netCDF4.Dataset.__init__\u001b[0;34m()\u001b[0m\n",
      "\u001b[0;32msrc/netCDF4/_netCDF4.pyx\u001b[0m in \u001b[0;36mnetCDF4._netCDF4._ensure_nc_success\u001b[0;34m()\u001b[0m\n",
      "\u001b[0;31mFileNotFoundError\u001b[0m: [Errno 2] No such file or directory: b'/home6/grosmaan/Documents/data/ml17_280a_sens.nc'"
     ]
    }
   ],
   "source": [
    "data_path = '/home6/grosmaan/Documents/data/ml17_280a_sens.nc'\n",
    "get_boundaries_metadata(data_path)"
   ]
  },
  {
   "cell_type": "code",
   "execution_count": 5,
   "metadata": {
    "id": "qqBnRqMarn5N"
   },
   "outputs": [],
   "source": [
    "# CHOOSE WHICH SINGLE LEVELS TO DOWNLOAD IN data\n",
    "variables = ['10m_u_component_of_wind', '10m_v_component_of_wind', 'mean_wave_period'] \n",
    "\n",
    "years = ['2021'] \n",
    "\n",
    "months =  ['02','03','04','05','06']\n",
    "#Or set one or several months as a list\n",
    "# ['01','02','03','04','05','06','07','08','09','10','11','12']\n",
    "\n",
    "days = 'all'\n",
    "#Or set one or several days as a list\n",
    "# ['01', '02', 03','04','05','06','07','08','09','10','11','12','13','14','15','16','17',\n",
    "                   #'18','19','20','21','22','23','24','25','26','27','28','29','30','31']\n",
    "\n",
    "hours = 'all'\n",
    "#Or set one or several hours as a list\n",
    "#['00:00','01:00','02:00','03:00','04:00', '05:00','06:00','07:00','08:00',\n",
    "                     #'09:00','10:00','11:00','12:00','13:00','14:00','15:00','16:00','17:00','18:00','19:00',\n",
    "                     #'20:00','21:00','22:00','23:00']\n",
    "\n",
    "# Boundaries of the geographical area in decimal degrees\n",
    "south_boundary = -7.5\n",
    "north_boundary = -8.5\n",
    "west_boundary = -70.75\n",
    "east_boundary = -70\n"
   ]
  },
  {
   "cell_type": "markdown",
   "metadata": {
    "id": "liGkTga7rn5R"
   },
   "source": [
    "## Print summary and run download"
   ]
  },
  {
   "cell_type": "code",
   "execution_count": 6,
   "metadata": {
    "colab": {
     "base_uri": "https://localhost:8080/"
    },
    "id": "YoILJSs4rn5S",
    "outputId": "80e4ab26-8077-465f-a04d-a92da1356987"
   },
   "outputs": [],
   "source": [
    "Api_ERA.make_cds_file(personal_access_token, path)"
   ]
  },
  {
   "cell_type": "code",
   "execution_count": null,
   "metadata": {
    "scrolled": false
   },
   "outputs": [
    {
     "name": "stdout",
     "output_type": "stream",
     "text": [
      "You have selected : \n",
      "\n",
      "   - 10m_u_component_of_wind\n",
      "   - 10m_v_component_of_wind\n",
      "   - mean_wave_period\n",
      "\n",
      "for the following times\n",
      "Years : ['2021'] \n",
      " Months : ['02', '03', '04', '05', '06'] \n",
      " Days : all \n",
      " Hours : all\n",
      "\n",
      "Your boundaries are : North -8.5°, South -7.5°, East -70°, West -70.75°\n"
     ]
    },
    {
     "name": "stderr",
     "output_type": "stream",
     "text": [
      "2024-09-13 15:32:32,707 INFO Request ID is d3f2b586-fc9d-42e2-a140-f597664bd107\n",
      "2024-09-13 15:32:32,762 INFO status has been updated to accepted\n",
      "2024-09-13 15:32:40,111 INFO status has been updated to running\n",
      "2024-09-13 15:32:45,233 INFO status has been updated to accepted\n",
      "2024-09-13 15:32:52,889 INFO status has been updated to running\n"
     ]
    }
   ],
   "source": [
    "Api_ERA.return_cdsbeta(filename, variables, years, months, days, hours,  [north_boundary, west_boundary, south_boundary, east_boundary])"
   ]
  },
  {
   "cell_type": "markdown",
   "metadata": {
    "id": "5axtOcEMCxkn"
   },
   "source": [
    "### Code to visualize your variables"
   ]
  },
  {
   "cell_type": "code",
   "execution_count": null,
   "metadata": {
    "colab": {
     "base_uri": "https://localhost:8080/",
     "height": 336
    },
    "id": "czlX019H5x-L",
    "outputId": "1cca72d9-a682-4c15-dcd1-0e9ec304187e"
   },
   "outputs": [],
   "source": [
    "variable_name= 'v10'\n",
    "\n",
    "try :\n",
    "    nc = Dataset(os.path.join(path,'api',filename+'.nc'), 'r')\n",
    "    ds = xr.open_dataset(xr.backends.NetCDF4DataStore(nc))\n",
    "except FileNotFoundError :  \n",
    "    print('no ERA data with this variable')\n",
    "    sys.exit()\n",
    "\n",
    "ds = ds[variable_name]\n",
    "\n",
    "fig = px.imshow(ds, animation_frame='time', zmin=float(ds.min()), zmax=float(ds.max()), color_continuous_scale='RdBu_r')\n",
    "\n",
    "fig.show()"
   ]
  },
  {
   "cell_type": "code",
   "execution_count": null,
   "metadata": {},
   "outputs": [],
   "source": []
  }
 ],
 "metadata": {
  "celltoolbar": "Tags",
  "colab": {
   "provenance": []
  },
  "kernelspec": {
   "display_name": "meteoses",
   "language": "python",
   "name": "myenv"
  },
  "language_info": {
   "codemirror_mode": {
    "name": "ipython",
    "version": 3
   },
   "file_extension": ".py",
   "mimetype": "text/x-python",
   "name": "python",
   "nbconvert_exporter": "python",
   "pygments_lexer": "ipython3",
   "version": "3.10.10"
  }
 },
 "nbformat": 4,
 "nbformat_minor": 1
}
