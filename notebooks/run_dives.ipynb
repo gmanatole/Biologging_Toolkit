{
 "cells": [
  {
   "cell_type": "code",
   "execution_count": null,
   "id": "7123f423",
   "metadata": {},
   "outputs": [],
   "source": [
    "import sys, os\n",
    "import pandas as pd\n",
    "sys.path.append('../src/')\n",
    "from Biologging_Toolkit.processing.Depth import Depth\n",
    "from Biologging_Toolkit.applications.Drift_Dives import DriftDives"
   ]
  },
  {
   "cell_type": "code",
   "execution_count": null,
   "id": "21a1e632",
   "metadata": {},
   "outputs": [],
   "source": [
    "depid = 'ml17_280a'\n",
    "path = '/run/media/grosmaan/LaCie/individus_brut/'\n",
    "sens_path = os.path.join(path, 'CTD', depid, depid+'sens5.nc')\n",
    "raw_path = os.path.join(path, 'individus', depid, 'raw')"
   ]
  },
  {
   "cell_type": "markdown",
   "id": "0649e866",
   "metadata": {},
   "source": [
    "### Increment dives"
   ]
  },
  {
   "cell_type": "code",
   "execution_count": null,
   "id": "843c585d",
   "metadata": {},
   "outputs": [],
   "source": [
    "inst = Depth(depid, \n",
    "            path = os.path.join(path, 'individus',depid), \n",
    "            raw_path = raw_path,\n",
    "            sens_path = sens_path\n",
    "           )"
   ]
  },
  {
   "cell_type": "markdown",
   "id": "cf4a45be",
   "metadata": {},
   "source": [
    "#### Run inst.get_depth() if depth is not yet in data structure"
   ]
  },
  {
   "cell_type": "code",
   "execution_count": null,
   "id": "7a46f6ae",
   "metadata": {},
   "outputs": [],
   "source": [
    "inst.get_depth()"
   ]
  },
  {
   "cell_type": "code",
   "execution_count": null,
   "id": "842e6bb1",
   "metadata": {},
   "outputs": [],
   "source": [
    "inst()"
   ]
  },
  {
   "cell_type": "code",
   "execution_count": null,
   "id": "80c04e7a",
   "metadata": {},
   "outputs": [],
   "source": [
    "inst.ds"
   ]
  },
  {
   "cell_type": "code",
   "execution_count": null,
   "id": "841196fb",
   "metadata": {},
   "outputs": [],
   "source": [
    "inst.ds.close()"
   ]
  }
 ],
 "metadata": {
  "kernelspec": {
   "display_name": "Python 3 (ipykernel)",
   "language": "python",
   "name": "python3"
  },
  "language_info": {
   "codemirror_mode": {
    "name": "ipython",
    "version": 3
   },
   "file_extension": ".py",
   "mimetype": "text/x-python",
   "name": "python",
   "nbconvert_exporter": "python",
   "pygments_lexer": "ipython3",
   "version": "3.12.3"
  }
 },
 "nbformat": 4,
 "nbformat_minor": 5
}
