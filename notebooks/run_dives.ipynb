{
 "cells": [
  {
   "cell_type": "code",
   "execution_count": 1,
   "id": "7123f423",
   "metadata": {},
   "outputs": [
    {
     "name": "stdout",
     "output_type": "stream",
     "text": [
      "/home6/grosmaan/Documents/SES_tags/notebooks/../src/Biologging_Toolkit\n"
     ]
    }
   ],
   "source": [
    "import sys, os\n",
    "import pandas as pd\n",
    "sys.path.append('../src/')\n",
    "from Biologging_Toolkit.processing.Depth import Depth"
   ]
  },
  {
   "cell_type": "code",
   "execution_count": 2,
   "id": "21a1e632",
   "metadata": {},
   "outputs": [],
   "source": [
    "depid = 'ml17_280a'\n",
    "path = '/run/media/grosmaan/LaCie1/individus_brut/'\n",
    "sens_path = os.path.join(path, 'CTD', depid, depid+'sens5.nc')\n",
    "raw_path = os.path.join(path, 'individus', depid, 'raw')"
   ]
  },
  {
   "cell_type": "code",
   "execution_count": 16,
   "id": "843c585d",
   "metadata": {},
   "outputs": [],
   "source": [
    "aux = pd.read_csv(os.path.join(path, 'individus', depid, 'aux_data.csv'))  #Get existing dataframe with time array\n",
    "inst = Depth(depid, \n",
    "            path = os.path.join(path, 'individus',depid), \n",
    "            raw_path = raw_path,\n",
    "            sens_path = sens_path\n",
    "           )\n",
    "inst.dt = 5\n",
    "inst.create_time(aux.time.to_numpy(), resample = True, overwrite = True)"
   ]
  },
  {
   "cell_type": "code",
   "execution_count": 18,
   "id": "7a46f6ae",
   "metadata": {},
   "outputs": [],
   "source": [
    "inst.get_depth()"
   ]
  },
  {
   "cell_type": "code",
   "execution_count": 19,
   "id": "842e6bb1",
   "metadata": {},
   "outputs": [],
   "source": [
    "inst()"
   ]
  },
  {
   "cell_type": "code",
   "execution_count": 21,
   "id": "80c04e7a",
   "metadata": {},
   "outputs": [
    {
     "data": {
      "text/plain": [
       "masked_array(data=[   0.,    0.,    0., ..., 1847., 1847., 1847.],\n",
       "             mask=False,\n",
       "       fill_value=1e+20)"
      ]
     },
     "execution_count": 21,
     "metadata": {},
     "output_type": "execute_result"
    }
   ],
   "source": [
    "inst.ds['dives'][:]"
   ]
  },
  {
   "cell_type": "code",
   "execution_count": 22,
   "id": "841196fb",
   "metadata": {},
   "outputs": [],
   "source": [
    "inst.ds.close()"
   ]
  }
 ],
 "metadata": {
  "kernelspec": {
   "display_name": "meteoses",
   "language": "python",
   "name": "myenv"
  },
  "language_info": {
   "codemirror_mode": {
    "name": "ipython",
    "version": 3
   },
   "file_extension": ".py",
   "mimetype": "text/x-python",
   "name": "python",
   "nbconvert_exporter": "python",
   "pygments_lexer": "ipython3",
   "version": "3.10.10"
  }
 },
 "nbformat": 4,
 "nbformat_minor": 5
}
