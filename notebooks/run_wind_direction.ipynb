{
 "cells": [
  {
   "cell_type": "code",
   "execution_count": null,
   "metadata": {
    "collapsed": true
   },
   "outputs": [],
   "source": [
    "import sys, os\n",
    "import pandas as pd\n",
    "import netCDF4 as nc\n",
    "import numpy as np\n",
    "import matplotlib.pyplot as plt\n",
    "from scipy.interpolate import interp1d as interp\n",
    "from datetime import datetime\n",
    "from matplotlib import colormaps as cm\n",
    "from matplotlib import patches, lines\n",
    "sys.path.append('../src/')\n",
    "from Biologging_Toolkit.applications.Wind_Direction import WindDirection\n",
    "from Biologging_Toolkit.utils.inertial_utils import *\n",
    "plt.rcParams.update({\n",
    "    \"text.usetex\": True,                # Enable LaTeX text rendering\n",
    "    \"font.family\": \"serif\",             # Use a serif font\n",
    "    \"font.serif\": [\"Computer Modern\"],  # Set font to Computer Modern (LaTeX default)\n",
    "})"
   ]
  },
  {
   "cell_type": "code",
   "execution_count": null,
   "outputs": [],
   "source": [
    "depids = ['ml17_280a','ml18_296a','ml18_294b','ml19_292a','ml19_292b','ml19_293a','ml19_294a','ml20_293a','ml20_296b','ml20_313a','ml21_295a','ml21_305b']\n",
    "mls = os.listdir('D:/individus_brut/CTD/')[:-1]\n",
    "depid = depids[4]\n",
    "path = f'D:/individus_brut/individus/{depid}/'"
   ],
   "metadata": {
    "collapsed": false
   }
  },
  {
   "cell_type": "code",
   "execution_count": null,
   "outputs": [],
   "source": [
    "measurements = pd.read_csv('D:/individus_brut/measurements_eleph.csv')\n",
    "fig, ax = plt.subplots(1,2, figsize = (12,6), sharey = True)\n",
    "ax[0].set_xlabel('Weight (kg)')\n",
    "ax[1].set_ylabel('Total length (cm)')\n",
    "ax[0].set_ylim(0,1)\n",
    "for ml in mls :\n",
    "    try :\n",
    "        weight = measurements.poids[measurements.dataset == ml]\n",
    "        size = measurements.taille[measurements.dataset == ml]\n",
    "        inst = WindDirection(ml, path = os.path.join('D:/individus_brut/CTD/',ml))\n",
    "        inst.get_average_posture()\n",
    "        inst.get_correlation()\n",
    "        ax[0].scatter(weight, inst.positive_corr, c = 'b')\n",
    "        #ax[0].scatter(weight, inst.negative_corr, c = 'orange')\n",
    "        ax[1].scatter(size, inst.positive_corr, c = 'b')\n",
    "        #ax[1].scatter(size, inst.negative_corr, c = 'orange')\n",
    "    except :\n",
    "        continue"
   ],
   "metadata": {
    "collapsed": false,
    "is_executing": true
   }
  },
  {
   "cell_type": "code",
   "execution_count": null,
   "outputs": [],
   "source": [
    "inst.corr_df"
   ],
   "metadata": {
    "collapsed": false
   }
  },
  {
   "cell_type": "code",
   "execution_count": null,
   "outputs": [],
   "source": [
    "ds = nc.Dataset(os.path.join('D:/individus_brut/CTD/',ml,f'{ml}.nc'))"
   ],
   "metadata": {
    "collapsed": false
   }
  },
  {
   "cell_type": "code",
   "execution_count": null,
   "outputs": [],
   "source": [
    "nc.Dataset(os.path.join('D:/individus_brut/CTD/',ml,f'{ml}trk.nc'))['POS']"
   ],
   "metadata": {
    "collapsed": false
   }
  },
  {
   "cell_type": "code",
   "execution_count": null,
   "outputs": [],
   "source": [
    "1.55320251e+06 / 60 / 60 /24"
   ],
   "metadata": {
    "collapsed": false
   }
  },
  {
   "cell_type": "code",
   "execution_count": null,
   "outputs": [],
   "source": [
    "ds"
   ],
   "metadata": {
    "collapsed": false
   }
  },
  {
   "cell_type": "code",
   "execution_count": null,
   "outputs": [],
   "source": [
    "inst.ds"
   ],
   "metadata": {
    "collapsed": false
   }
  },
  {
   "cell_type": "code",
   "execution_count": null,
   "outputs": [],
   "source": [
    "inst = WindDirection(depid, path = path)\n",
    "aux = pd.read_csv(os.path.join(path, f'aux_data.csv'))"
   ],
   "metadata": {
    "collapsed": false
   }
  },
  {
   "cell_type": "code",
   "execution_count": null,
   "outputs": [],
   "source": [
    "#Get azimuth as a function of elevation angle\n",
    "orientation = inst.ds['azimuth'][:].data\n",
    "orientation[inst.ds['elevation_angle'][:].data > 1.40] = inst.ds['vertical_azimuth'][:].data[inst.ds['elevation_angle'][:].data > 1.40]\n",
    "t_off = 10*60\n",
    "graph = True\n",
    "corr = True\n",
    "plot_errors = True\n",
    "\n",
    "#Get surface times with dives longer than t_off\n",
    "time_data = inst.ds['time'][:].data[inst.ds['depth'][:].data < 1]\n",
    "pos_dt = time_data[1:]-time_data[:-1]\n",
    "dives = np.where((pos_dt > t_off))[0]\n",
    "upper_bound, lower_bound = time_data[dives][1:], time_data[dives+1][:-1]\n",
    "avg_rot, avg_time, _rot, _time, len_rot = [], [], [], [], []\n",
    "\n",
    "plt.figure(figsize=(12,7))\n",
    "\n",
    "#Get orientation data for those dives (remove beginning and end of surfacing)\n",
    "for time_up, time_down in zip(upper_bound, lower_bound) :\n",
    "    len_rot.append(abs(time_up - time_down))\n",
    "    rot_data = modulo_pi(orientation[(inst.ds['time'][:].data < time_up) & (inst.ds['time'][:].data > time_down)] + np.pi/2)\n",
    "    if graph :\n",
    "        plt.scatter(inst.ds['time'][:].data[(inst.ds['time'][:].data < time_up) & (inst.ds['time'][:].data > time_down)],\n",
    "                    rot_data, color='gold',s=2, alpha = 0.2)\n",
    "    _rot.append(angular_average(rot_data[5:-5]))\n",
    "    _time.append(np.nanmean([time_up, time_down]))\n",
    "#Rolling average of surface orientations\n",
    "orientation_conv = pd.Series(_rot).rolling(window = 15, min_periods = 5, center = True).median().to_numpy()\n",
    "\n",
    "if graph :\n",
    "    cmap = cm.get_cmap('Reds')\n",
    "    plt.scatter(aux.time, modulo_pi(np.arctan2(aux.v10, aux.u10)), c = np.sqrt(aux.u10**2 + aux.v10**2),\n",
    "                s = 5, cmap = cmap, label='wind direction')\n",
    "    '''plt.scatter(aux.time, modulo_pi(aux.mdts*np.pi/180+np.pi/2), label='Direction swell',s=2)\n",
    "    plt.scatter(aux.time, modulo_pi(aux.mdww*np.pi/180+np.pi/2), label='Direction wind waves',s=2)\n",
    "    plt.scatter(aux.time, modulo_pi(aux.mwd*np.pi/180+np.pi/2), label='Direction wave',s=2)\n",
    "    plt.scatter(aux.time, modulo_pi(aux.dwi*np.pi/180+np.pi/2), label='Direction wave',s=2)'''\n",
    "    plt.scatter(_time, modulo_pi(orientation_conv), label = 'Averaged posture', c = 'navy', s = 5)\n",
    "    plt.grid(axis = 'y')\n",
    "    plt.xticks(ticks = aux.time[::len(aux.time)//10], labels = [datetime.fromtimestamp(ts) for ts in aux.time[::len(aux.time)//10]], rotation = 70)\n",
    "    plt.ylabel('Wind direction and Body orientation wrt to the East (rad)')\n",
    "    # Creating custom legend handles\n",
    "    gold_scatter = patches.Patch(color='gold', label='all posture data (rad)')\n",
    "    blue_line = lines.Line2D([], [], color='blue', label='averaged posture data (rad)')\n",
    "    red_line = lines.Line2D([], [], color='red', label='wind direction (rad)')\n",
    "    plt.legend(handles=[gold_scatter, blue_line, red_line])\n",
    "\n",
    "    plt.colorbar()\n",
    "    plt.show()\n",
    "\n",
    "if corr :\n",
    "    #Correlation\n",
    "    wind_orientation = interp(aux.time, np.arctan2(aux.v10, aux.u10), bounds_error = False)(_time)\n",
    "    y1 = interp(aux.time, modulo_pi(aux.mdts*np.pi/180+np.pi/2), bounds_error = False)(_time)\n",
    "    y2 = interp(aux.time, modulo_pi(aux.mdww*np.pi/180+np.pi/2), bounds_error = False)(_time)\n",
    "    y3 = interp(aux.time, modulo_pi(aux.mwd*np.pi/180+np.pi/2), bounds_error = False)(_time)\n",
    "    y4 = interp(aux.time, modulo_pi(aux.dwi*np.pi/180+np.pi/2), bounds_error = False)(_time)\n",
    "    corr = []\n",
    "\n",
    "    for env_var in (wind_orientation,y1,y2,y3,y4):\n",
    "        corr.append(angular_correlation(orientation_conv, env_var))\n",
    "    corr_df = pd.DataFrame(corr, columns = ['positive','negative'])\n",
    "    corr_df['var'] = ['wind direction', 'mdts', 'mdww', 'mwd', 'dwi']\n",
    "\n",
    "if plot_errors :\n",
    "    cmap = cm.get_cmap('Reds')\n",
    "    az = modulo_pi(interp(aux.time, aux.sun_azimuth, bounds_error = False)(_time))\n",
    "    zen = interp(aux.time, aux.sun_zenith, bounds_error = False)(_time)\n",
    "    wind_dir = modulo_pi(interp(aux.time, np.arctan2(aux.v10, aux.u10), bounds_error=False)(_time))\n",
    "    y1 = interp(aux.time, np.sqrt(aux.u10**2 + aux.v10**2), bounds_error = False)(_time)\n",
    "    y2 = interp(aux.time, modulo_pi(aux.mdww*np.pi/180+np.pi/2), bounds_error = False)(_time)\n",
    "    y3 = interp(aux.time, modulo_pi(aux.mwd*np.pi/180+np.pi/2), bounds_error = False)(_time)\n",
    "    y4 = interp(aux.time, modulo_pi(aux.dwi*np.pi/180+np.pi/2), bounds_error = False)(_time)\n",
    "\n",
    "    azimuth = abs(modulo_pi(az+np.pi-wind_dir))\n",
    "\n",
    "    err = abs(modulo_pi(wind_dir - orientation_conv))\n",
    "    fig, ax = plt.subplots(1,3, figsize = (15, 7))\n",
    "    ax = ax.flatten()\n",
    "    ax[0].scatter(azimuth, err)\n",
    "    ax[1].scatter(zen, err)\n",
    "    ax[2].scatter(y1, err)\n",
    "\n",
    "plt.show()"
   ],
   "metadata": {
    "collapsed": false
   }
  },
  {
   "cell_type": "code",
   "execution_count": null,
   "outputs": [],
   "source": [],
   "metadata": {
    "collapsed": false
   }
  }
 ],
 "metadata": {
  "kernelspec": {
   "display_name": "Python 3",
   "language": "python",
   "name": "python3"
  },
  "language_info": {
   "codemirror_mode": {
    "name": "ipython",
    "version": 2
   },
   "file_extension": ".py",
   "mimetype": "text/x-python",
   "name": "python",
   "nbconvert_exporter": "python",
   "pygments_lexer": "ipython2",
   "version": "2.7.6"
  }
 },
 "nbformat": 4,
 "nbformat_minor": 0
}
