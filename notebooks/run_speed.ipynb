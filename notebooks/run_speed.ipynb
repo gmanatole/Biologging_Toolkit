{
 "cells": [
  {
   "cell_type": "code",
   "execution_count": 1,
   "id": "7123f423",
   "metadata": {},
   "outputs": [
    {
     "name": "stdout",
     "output_type": "stream",
     "text": [
      "/home6/grosmaan/Documents/SES_tags/notebooks/../src/Biologging_Toolkit\n"
     ]
    }
   ],
   "source": [
    "import sys, os\n",
    "import pandas as pd\n",
    "sys.path.append('../src/')\n",
    "from Biologging_Toolkit.applications.Speed import Speed"
   ]
  },
  {
   "cell_type": "code",
   "execution_count": 2,
   "id": "21a1e632",
   "metadata": {},
   "outputs": [],
   "source": [
    "depid = 'ml17_280a'\n",
    "path = '/run/media/grosmaan/LaCie/individus_brut/'\n",
    "sens_path = os.path.join(path, 'CTD', depid, depid+'sens5.nc')\n",
    "raw_path = os.path.join(path, 'individus', depid, 'raw')"
   ]
  },
  {
   "cell_type": "code",
   "execution_count": 3,
   "id": "843c585d",
   "metadata": {},
   "outputs": [],
   "source": [
    "inst = Speed(depid, \n",
    "            path = os.path.join(path, 'individus',depid), \n",
    "            threshold = 20\n",
    "            )"
   ]
  },
  {
   "cell_type": "code",
   "execution_count": 4,
   "id": "7a46f6ae",
   "metadata": {},
   "outputs": [],
   "source": [
    "inst(acoustic = False)"
   ]
  },
  {
   "cell_type": "code",
   "execution_count": 5,
   "id": "e4d2c7e8",
   "metadata": {},
   "outputs": [
    {
     "data": {
      "text/plain": [
       "<class 'netCDF4._netCDF4.Dataset'>\n",
       "root group (NETCDF4 data model, file format HDF5):\n",
       "    title: Processed dataset for ml17_280a\n",
       "    subtitle: NetCDF structure storing processed data from the ml17_280a individual using a 3 s timestep\n",
       "    sampling_rate: 3\n",
       "    sampling_rate_units: Seconds\n",
       "    dimensions(sizes): time(528420)\n",
       "    variables(dimensions): float64 time(time), float32 depth(time), float64 dives(time), float32 lat(time), float32 lon(time), float64 azimuth(time), float64 elevation_angle(time), float64 bank_angle(time), float64 vertical_azimuth(time), float64 inertial_speed(time)\n",
       "    groups: "
      ]
     },
     "execution_count": 5,
     "metadata": {},
     "output_type": "execute_result"
    }
   ],
   "source": [
    "inst.ds"
   ]
  },
  {
   "cell_type": "code",
   "execution_count": 6,
   "id": "9449b92e",
   "metadata": {},
   "outputs": [],
   "source": [
    "inst.ds.close()"
   ]
  },
  {
   "cell_type": "code",
   "execution_count": null,
   "id": "554eabd2",
   "metadata": {},
   "outputs": [],
   "source": []
  }
 ],
 "metadata": {
  "kernelspec": {
   "display_name": "meteoses",
   "language": "python",
   "name": "myenv"
  },
  "language_info": {
   "codemirror_mode": {
    "name": "ipython",
    "version": 3
   },
   "file_extension": ".py",
   "mimetype": "text/x-python",
   "name": "python",
   "nbconvert_exporter": "python",
   "pygments_lexer": "ipython3",
   "version": "3.10.10"
  }
 },
 "nbformat": 4,
 "nbformat_minor": 5
}
