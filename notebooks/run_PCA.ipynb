{
 "cells": [
  {
   "cell_type": "code",
   "execution_count": 4,
   "id": "d2048ea1",
   "metadata": {},
   "outputs": [
    {
     "name": "stdout",
     "output_type": "stream",
     "text": [
      "/home6/grosmaan/Documents/SES_tags/notebooks/../src/Biologging_Toolkit\n"
     ]
    }
   ],
   "source": [
    "import sys, os\n",
    "import pandas as pd\n",
    "sys.path.append('../src/')\n",
    "from Biologging_Toolkit.applications.Jerk import Jerk"
   ]
  },
  {
   "cell_type": "markdown",
   "id": "5d0ff315",
   "metadata": {},
   "source": [
    "#### Enter deployment ID and path\n",
    "\n",
    "Finalized dataset will be saved or loaded from path"
   ]
  },
  {
   "cell_type": "code",
   "execution_count": 5,
   "id": "39819816",
   "metadata": {},
   "outputs": [],
   "source": [
    "depid = 'ml17_280a'\n",
    "path = '/run/media/grosmaan/LaCie/individus_brut/'\n",
    "sens_path = os.path.join(path, 'CTD', depid, depid+'sens5.nc')\n",
    "raw_path = os.path.join(path, 'individus', depid, 'raw')"
   ]
  },
  {
   "cell_type": "markdown",
   "id": "e9f660b6",
   "metadata": {},
   "source": [
    "#### Run cells to get acoustic features\n",
    "\n",
    "Time can be constructed from extisting time array or by entering the path to sens5 dataset."
   ]
  },
  {
   "cell_type": "code",
   "execution_count": 6,
   "id": "74be204c",
   "metadata": {},
   "outputs": [],
   "source": [
    "inst = Jerk(depid, \n",
    "            path = os.path.join(path, 'individus',depid), \n",
    "            sens_path = sens_path, \n",
    "            raw_path = raw_path,\n",
    "           )"
   ]
  },
  {
   "cell_type": "code",
   "execution_count": 7,
   "id": "093780d3",
   "metadata": {},
   "outputs": [],
   "source": [
    "inst()"
   ]
  },
  {
   "cell_type": "code",
   "execution_count": 8,
   "id": "5df354d7",
   "metadata": {},
   "outputs": [
    {
     "data": {
      "text/plain": [
       "<class 'netCDF4._netCDF4.Dataset'>\n",
       "root group (NETCDF4 data model, file format HDF5):\n",
       "    title: Processed dataset for ml17_280a\n",
       "    subtitle: NetCDF structure storing processed data from the ml17_280a individual using a 3 s timestep\n",
       "    sampling_rate: 3\n",
       "    sampling_rate_units: Seconds\n",
       "    dimensions(sizes): time(528420)\n",
       "    variables(dimensions): float64 time(time), float32 depth(time), float64 dives(time), float32 lat(time), float32 lon(time), float64 azimuth(time), float64 elevation_angle(time), float64 bank_angle(time), float64 vertical_azimuth(time), float64 inertial_speed(time), float64 jerk(time)\n",
       "    groups: "
      ]
     },
     "execution_count": 8,
     "metadata": {},
     "output_type": "execute_result"
    }
   ],
   "source": [
    "inst.ds"
   ]
  },
  {
   "cell_type": "code",
   "execution_count": 9,
   "id": "1252bda9",
   "metadata": {},
   "outputs": [
    {
     "data": {
      "text/plain": [
       "<class 'netCDF4._netCDF4.Variable'>\n",
       "float64 jerk(time)\n",
       "    units: m.s**2\n",
       "    long_name: high resolution jerks\n",
       "    raw_data_samplerate: 200\n",
       "    threshold: 400\n",
       "    threshold_units: m.s**2\n",
       "    blanking: 0.25\n",
       "    blanking_units: s\n",
       "    duration: 0.02\n",
       "    duration_comment: Maximum duration of peaks\n",
       "    duration_units: s\n",
       "unlimited dimensions: \n",
       "current shape = (528420,)\n",
       "filling on, default _FillValue of 9.969209968386869e+36 used"
      ]
     },
     "execution_count": 9,
     "metadata": {},
     "output_type": "execute_result"
    }
   ],
   "source": [
    "inst.ds['jerk']"
   ]
  },
  {
   "cell_type": "code",
   "execution_count": 10,
   "id": "20391815",
   "metadata": {},
   "outputs": [],
   "source": [
    "inst.ds.close()"
   ]
  },
  {
   "cell_type": "code",
   "execution_count": null,
   "id": "dd80b777",
   "metadata": {},
   "outputs": [],
   "source": []
  }
 ],
 "metadata": {
  "kernelspec": {
   "display_name": "meteoses",
   "language": "python",
   "name": "myenv"
  },
  "language_info": {
   "codemirror_mode": {
    "name": "ipython",
    "version": 3
   },
   "file_extension": ".py",
   "mimetype": "text/x-python",
   "name": "python",
   "nbconvert_exporter": "python",
   "pygments_lexer": "ipython3",
   "version": "3.10.10"
  }
 },
 "nbformat": 4,
 "nbformat_minor": 5
}
