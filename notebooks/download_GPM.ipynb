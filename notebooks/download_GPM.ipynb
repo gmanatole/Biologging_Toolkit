{
 "cells": [
  {
   "cell_type": "code",
   "execution_count": 5,
   "metadata": {},
   "outputs": [],
   "source": [
    "import netCDF4\n",
    "import sys\n",
    "from datetime import datetime, timedelta\n",
    "import os\n",
    "import requests\n",
    "from urllib.parse import urlparse\n",
    "from concurrent.futures import ThreadPoolExecutor, as_completed\n",
    "from tqdm import tqdm\n",
    "\n",
    "sys.path.append('../src/')\n",
    "from Biologging_Toolkit.auxiliary import Api_GPM"
   ]
  },
  {
   "cell_type": "markdown",
   "metadata": {},
   "source": [
    "## Telechargement des données GPM depuis fichier .txt\n",
    "Le code suivant permet de télécharger des données depuis le site GES DISC by NASA. Pour utiliser ce service, suivez les instructions ci-dessous :\n",
    "\n",
    "- Création de compte :\n",
    "    Rendez-vous sur le site GES DISC by NASA.\n",
    "    Créez un compte en suivant les instructions fournies.\n",
    "\n",
    "- Accès aux données :\n",
    "    Une fois connecté, allez dans la section Download du site.\n",
    "\n",
    "- Sélection des paramètres :\n",
    "    Choisissez les dates, les coordonnées géographiques et les variables qui vous intéressent.\n",
    "\n",
    "- Téléchargement des données :\n",
    "    Après avoir sélectionné les paramètres, téléchargez le fichier .txt généré. Ce fichier contient toutes les URL nécessaires pour accéder aux données souhaitées.\n",
    "\n",
    "Une fois le document .txt généré et téléchargé, vous pourrez spécifier le chemin d'accès vers ce document \"file_path\" ainsi que le dossier de téléchargement souhaité \"output_dir\" afin de telecharger l'ensemble des fichier GPM\n",
    "\n",
    "\n",
    "### /!\\ Pour pouvoir utiliser l'API, il faut vous identifier auprès de l'API. Pour ce faire, il est necessaire de créer un fichier à la racine de votre machine (Generalement \"C:/users/user_name\") . Créez un fichier qui s'appelle \".netrc\" et copiez/collez la ligne suivante en remplaçant <username> et <password> par vos identifiants de connection GES DISC\n",
    "\n",
    "machine urs.earthdata.nasa.gov login <username> password <password>\n"
   ]
  },
  {
   "cell_type": "code",
   "execution_count": 1,
   "metadata": {},
   "outputs": [
    {
     "name": "stderr",
     "output_type": "stream",
     "text": [
      "Téléchargement des fichiers:   1%|          | 605/50535 [20:23<37:05:24,  2.67s/it]"
     ]
    },
    {
     "name": "stdout",
     "output_type": "stream",
     "text": [
      "❌ Échec: https://gpm1.gesdisc.eosdis.nasa.gov/opendap/GPM_L3/GPM_3IMERGHHL.07/2019/035/3B-HHR-L.MS.MRG.3IMERG.20190204-S143000-E145959.0870.V07B.HDF5.nc4?MWprecipitation[0:0][980:2750][239:559],MWobservationTime[0:0][980:2750][239:559],IRprecipitation[0:0][980:2750][239:559],MWprecipSource[0:0][980:2750][239:559],IRinfluence[0:0][980:2750][239:559],precipitationUncal[0:0][980:2750][239:559],precipitationQualityIndex[0:0][980:2750][239:559],lat_bnds[239:559][0:1],precipitation[0:0][980:2750][239:559],probabilityLiquidPrecipitation[0:0][980:2750][239:559],randomError[0:0][980:2750][239:559],time_bnds[0:0][0:1],lon_bnds[980:2750][0:1],time,lon[980:2750],lat[239:559],latv,nv,lonv\n",
      "   ↳ HTTPSConnectionPool(host='gpm1.gesdisc.eosdis.nasa.gov', port=443): Read timed out. (read timeout=30)\n"
     ]
    },
    {
     "name": "stderr",
     "output_type": "stream",
     "text": [
      "Téléchargement des fichiers:   3%|▎         | 1455/50535 [49:37<42:04:08,  3.09s/it]"
     ]
    },
    {
     "name": "stdout",
     "output_type": "stream",
     "text": [
      "❌ Échec: https://gpm1.gesdisc.eosdis.nasa.gov/opendap/GPM_L3/GPM_3IMERGHHL.07/2019/053/3B-HHR-L.MS.MRG.3IMERG.20190222-S080000-E082959.0480.V07B.HDF5.nc4?MWprecipitation[0:0][980:2750][239:559],MWobservationTime[0:0][980:2750][239:559],IRprecipitation[0:0][980:2750][239:559],MWprecipSource[0:0][980:2750][239:559],IRinfluence[0:0][980:2750][239:559],precipitationUncal[0:0][980:2750][239:559],precipitationQualityIndex[0:0][980:2750][239:559],lat_bnds[239:559][0:1],precipitation[0:0][980:2750][239:559],probabilityLiquidPrecipitation[0:0][980:2750][239:559],randomError[0:0][980:2750][239:559],time_bnds[0:0][0:1],lon_bnds[980:2750][0:1],time,lon[980:2750],lat[239:559],latv,nv,lonv\n",
      "   ↳ HTTPSConnectionPool(host='gpm1.gesdisc.eosdis.nasa.gov', port=443): Read timed out. (read timeout=30)\n"
     ]
    },
    {
     "name": "stderr",
     "output_type": "stream",
     "text": [
      "Téléchargement des fichiers:  10%|▉         | 4957/50535 [2:46:40<23:36:37,  1.86s/it]"
     ]
    },
    {
     "name": "stdout",
     "output_type": "stream",
     "text": [
      "❌ Échec: https://gpm1.gesdisc.eosdis.nasa.gov/opendap/GPM_L3/GPM_3IMERGHHL.07/2019/126/3B-HHR-L.MS.MRG.3IMERG.20190506-S113000-E115959.0690.V07B.HDF5.nc4?MWprecipitation[0:0][980:2750][239:559],MWobservationTime[0:0][980:2750][239:559],IRprecipitation[0:0][980:2750][239:559],MWprecipSource[0:0][980:2750][239:559],IRinfluence[0:0][980:2750][239:559],precipitationUncal[0:0][980:2750][239:559],precipitationQualityIndex[0:0][980:2750][239:559],lat_bnds[239:559][0:1],precipitation[0:0][980:2750][239:559],probabilityLiquidPrecipitation[0:0][980:2750][239:559],randomError[0:0][980:2750][239:559],time_bnds[0:0][0:1],lon_bnds[980:2750][0:1],time,lon[980:2750],lat[239:559],latv,nv,lonv\n",
      "   ↳ HTTPSConnectionPool(host='gpm1.gesdisc.eosdis.nasa.gov', port=443): Max retries exceeded with url: /data-redirect?code=GvcPvS_iwbqdZuSuSwybFeC5HESL7hszkIvR2Q226DOO_NXDVU6rDx8HQkvG57Kz4iymhdvnlcvDI6tpH6wQbb3OSrmNRpSSHBRU_D_GU6_uOSSr4fW262T8WCPaNv51VJevdYCtWSeXnA&state=aHR0cHM6Ly9ncG0xLmdlc2Rpc2MuZW9zZGlzLm5hc2EuZ292L29wZW5kYXAvR1BNX0wzL0dQTV8zSU1FUkdISEwuMDcvMjAxOS8xMjYvM0ItSEhSLUwuTVMuTVJHLjNJTUVSRy4yMDE5MDUwNi1TMTEzMDAwLUUxMTU5NTkuMDY5MC5WMDdCLkhERjUubmM0P01XcHJlY2lwaXRhdGlvbiU1QjA6MCU1RCU1Qjk4MDoyNzUwJTVEJTVCMjM5OjU1OSU1RCxNV29ic2VydmF0aW9uVGltZSU1QjA6MCU1RCU1Qjk4MDoyNzUwJTVEJTVCMjM5OjU1OSU1RCxJUnByZWNpcGl0YXRpb24lNUIwOjAlNUQlNUI5ODA6Mjc1MCU1RCU1QjIzOTo1NTklNUQsTVdwcmVjaXBTb3VyY2UlNUIwOjAlNUQlNUI5ODA6Mjc1MCU1RCU1QjIzOTo1NTklNUQsSVJpbmZsdWVuY2UlNUIwOjAlNUQlNUI5ODA6Mjc1MCU1RCU1QjIzOTo1NTklNUQscHJlY2lwaXRhdGlvblVuY2FsJTVCMDowJTVEJTVCOTgwOjI3NTAlNUQlNUIyMzk6NTU5JTVELHByZWNpcGl0YXRpb25RdWFsaXR5SW5kZXglNUIwOjAlNUQlNUI5ODA6Mjc1MCU1RCU1QjIzOTo1NTklNUQsbGF0X2JuZHMlNUIyMzk6NTU5JTVEJTVCMDoxJTVELHByZWNpcGl0YXRpb24lNUIwOjAlNUQlNUI5ODA6Mjc1MCU1RCU1QjIzOTo1NTklNUQscHJvYmFiaWxpdHlMaXF1aWRQcmVjaXBpdGF0aW9uJTVCMDowJTVEJTVCOTgwOjI3NTAlNUQlNUIyMzk6NTU5JTVELHJhbmRvbUVycm9yJTVCMDowJTVEJTVCOTgwOjI3NTAlNUQlNUIyMzk6NTU5JTVELHRpbWVfYm5kcyU1QjA6MCU1RCU1QjA6MSU1RCxsb25fYm5kcyU1Qjk4MDoyNzUwJTVEJTVCMDoxJTVELHRpbWUsbG9uJTVCOTgwOjI3NTAlNUQsbGF0JTVCMjM5OjU1OSU1RCxsYXR2LG52LGxvbnY (Caused by SSLError(SSLError(1, '[SSL: UNEXPECTED_MESSAGE] unexpected message (_ssl.c:1000)')))\n"
     ]
    },
    {
     "name": "stderr",
     "output_type": "stream",
     "text": [
      "Téléchargement des fichiers:  11%|█         | 5430/50535 [3:03:13<32:13:30,  2.57s/it]"
     ]
    },
    {
     "name": "stdout",
     "output_type": "stream",
     "text": [
      "❌ Échec: https://gpm1.gesdisc.eosdis.nasa.gov/opendap/GPM_L3/GPM_3IMERGHHL.07/2019/136/3B-HHR-L.MS.MRG.3IMERG.20190516-S023000-E025959.0150.V07B.HDF5.nc4?MWprecipitation[0:0][980:2750][239:559],MWobservationTime[0:0][980:2750][239:559],IRprecipitation[0:0][980:2750][239:559],MWprecipSource[0:0][980:2750][239:559],IRinfluence[0:0][980:2750][239:559],precipitationUncal[0:0][980:2750][239:559],precipitationQualityIndex[0:0][980:2750][239:559],lat_bnds[239:559][0:1],precipitation[0:0][980:2750][239:559],probabilityLiquidPrecipitation[0:0][980:2750][239:559],randomError[0:0][980:2750][239:559],time_bnds[0:0][0:1],lon_bnds[980:2750][0:1],time,lon[980:2750],lat[239:559],latv,nv,lonv\n",
      "   ↳ HTTPSConnectionPool(host='gpm1.gesdisc.eosdis.nasa.gov', port=443): Read timed out. (read timeout=30)\n"
     ]
    },
    {
     "name": "stderr",
     "output_type": "stream",
     "text": [
      "Téléchargement des fichiers:  14%|█▍        | 7177/50535 [4:02:06<32:55:54,  2.73s/it]"
     ]
    },
    {
     "name": "stdout",
     "output_type": "stream",
     "text": [
      "❌ Échec: https://gpm1.gesdisc.eosdis.nasa.gov/opendap/GPM_L3/GPM_3IMERGHHL.07/2019/172/3B-HHR-L.MS.MRG.3IMERG.20190621-S130000-E132959.0780.V07B.HDF5.nc4?MWprecipitation[0:0][980:2750][239:559],MWobservationTime[0:0][980:2750][239:559],IRprecipitation[0:0][980:2750][239:559],MWprecipSource[0:0][980:2750][239:559],IRinfluence[0:0][980:2750][239:559],precipitationUncal[0:0][980:2750][239:559],precipitationQualityIndex[0:0][980:2750][239:559],lat_bnds[239:559][0:1],precipitation[0:0][980:2750][239:559],probabilityLiquidPrecipitation[0:0][980:2750][239:559],randomError[0:0][980:2750][239:559],time_bnds[0:0][0:1],lon_bnds[980:2750][0:1],time,lon[980:2750],lat[239:559],latv,nv,lonv\n",
      "   ↳ HTTPSConnectionPool(host='gpm1.gesdisc.eosdis.nasa.gov', port=443): Read timed out. (read timeout=30)\n"
     ]
    },
    {
     "name": "stderr",
     "output_type": "stream",
     "text": [
      "Téléchargement des fichiers:  16%|█▌        | 7870/50535 [4:28:22<24:42:23,  2.08s/it]"
     ]
    },
    {
     "name": "stdout",
     "output_type": "stream",
     "text": [
      "❌ Échec: https://gpm1.gesdisc.eosdis.nasa.gov/opendap/GPM_L3/GPM_3IMERGHHL.07/2019/187/3B-HHR-L.MS.MRG.3IMERG.20190706-S040000-E042959.0240.V07B.HDF5.nc4?MWprecipitation[0:0][980:2750][239:559],MWobservationTime[0:0][980:2750][239:559],IRprecipitation[0:0][980:2750][239:559],MWprecipSource[0:0][980:2750][239:559],IRinfluence[0:0][980:2750][239:559],precipitationUncal[0:0][980:2750][239:559],precipitationQualityIndex[0:0][980:2750][239:559],lat_bnds[239:559][0:1],precipitation[0:0][980:2750][239:559],probabilityLiquidPrecipitation[0:0][980:2750][239:559],randomError[0:0][980:2750][239:559],time_bnds[0:0][0:1],lon_bnds[980:2750][0:1],time,lon[980:2750],lat[239:559],latv,nv,lonv\n",
      "   ↳ HTTPSConnectionPool(host='gpm1.gesdisc.eosdis.nasa.gov', port=443): Max retries exceeded with url: /data-redirect?code=m-3w_qzoCHQWLSxZsaqgU0O_dcHKIduGKFRLqDMrsCHxQFsqHk2iwVI_2nU_gYho6hVNx4sKzcbdCFw_2d5tHa8iamrE5-0tBIhXAGx-U3-A5PEazDWdfiefbPmuLCvI52qhtJcZEBrjbQ&state=aHR0cHM6Ly9ncG0xLmdlc2Rpc2MuZW9zZGlzLm5hc2EuZ292L29wZW5kYXAvR1BNX0wzL0dQTV8zSU1FUkdISEwuMDcvMjAxOS8xODcvM0ItSEhSLUwuTVMuTVJHLjNJTUVSRy4yMDE5MDcwNi1TMDQwMDAwLUUwNDI5NTkuMDI0MC5WMDdCLkhERjUubmM0P01XcHJlY2lwaXRhdGlvbiU1QjA6MCU1RCU1Qjk4MDoyNzUwJTVEJTVCMjM5OjU1OSU1RCxNV29ic2VydmF0aW9uVGltZSU1QjA6MCU1RCU1Qjk4MDoyNzUwJTVEJTVCMjM5OjU1OSU1RCxJUnByZWNpcGl0YXRpb24lNUIwOjAlNUQlNUI5ODA6Mjc1MCU1RCU1QjIzOTo1NTklNUQsTVdwcmVjaXBTb3VyY2UlNUIwOjAlNUQlNUI5ODA6Mjc1MCU1RCU1QjIzOTo1NTklNUQsSVJpbmZsdWVuY2UlNUIwOjAlNUQlNUI5ODA6Mjc1MCU1RCU1QjIzOTo1NTklNUQscHJlY2lwaXRhdGlvblVuY2FsJTVCMDowJTVEJTVCOTgwOjI3NTAlNUQlNUIyMzk6NTU5JTVELHByZWNpcGl0YXRpb25RdWFsaXR5SW5kZXglNUIwOjAlNUQlNUI5ODA6Mjc1MCU1RCU1QjIzOTo1NTklNUQsbGF0X2JuZHMlNUIyMzk6NTU5JTVEJTVCMDoxJTVELHByZWNpcGl0YXRpb24lNUIwOjAlNUQlNUI5ODA6Mjc1MCU1RCU1QjIzOTo1NTklNUQscHJvYmFiaWxpdHlMaXF1aWRQcmVjaXBpdGF0aW9uJTVCMDowJTVEJTVCOTgwOjI3NTAlNUQlNUIyMzk6NTU5JTVELHJhbmRvbUVycm9yJTVCMDowJTVEJTVCOTgwOjI3NTAlNUQlNUIyMzk6NTU5JTVELHRpbWVfYm5kcyU1QjA6MCU1RCU1QjA6MSU1RCxsb25fYm5kcyU1Qjk4MDoyNzUwJTVEJTVCMDoxJTVELHRpbWUsbG9uJTVCOTgwOjI3NTAlNUQsbGF0JTVCMjM5OjU1OSU1RCxsYXR2LG52LGxvbnY (Caused by SSLError(SSLError(1, '[SSL: UNEXPECTED_MESSAGE] unexpected message (_ssl.c:1000)')))\n"
     ]
    },
    {
     "name": "stderr",
     "output_type": "stream",
     "text": [
      "Téléchargement des fichiers:  21%|██        | 10513/50535 [5:54:19<11:46:45,  1.06s/it]"
     ]
    },
    {
     "name": "stdout",
     "output_type": "stream",
     "text": [
      "❌ Échec: https://gpm1.gesdisc.eosdis.nasa.gov/opendap/GPM_L3/GPM_3IMERGHHL.07/2019/242/3B-HHR-L.MS.MRG.3IMERG.20190830-S053000-E055959.0330.V07B.HDF5.nc4?MWprecipitation[0:0][980:2750][239:559],MWobservationTime[0:0][980:2750][239:559],IRprecipitation[0:0][980:2750][239:559],MWprecipSource[0:0][980:2750][239:559],IRinfluence[0:0][980:2750][239:559],precipitationUncal[0:0][980:2750][239:559],precipitationQualityIndex[0:0][980:2750][239:559],lat_bnds[239:559][0:1],precipitation[0:0][980:2750][239:559],probabilityLiquidPrecipitation[0:0][980:2750][239:559],randomError[0:0][980:2750][239:559],time_bnds[0:0][0:1],lon_bnds[980:2750][0:1],time,lon[980:2750],lat[239:559],latv,nv,lonv\n",
      "   ↳ 503 Server Error: Service Unavailable for url: https://gpm1.gesdisc.eosdis.nasa.gov/data-redirect?code=qA8AZMk4OePx62IBrJx6MF4rdHUVDIBEtE2VJLRlhNNlhFfK9AmOL2nD4KgShtDevwPn0gVPhC78S3nT5JbadlhSsA9E2YduJFKcpCIDqdaWdk7uwHWKvumts3ANjqSSBRItVVf9zrtcfA&state=aHR0cHM6Ly9ncG0xLmdlc2Rpc2MuZW9zZGlzLm5hc2EuZ292L29wZW5kYXAvR1BNX0wzL0dQTV8zSU1FUkdISEwuMDcvMjAxOS8yNDIvM0ItSEhSLUwuTVMuTVJHLjNJTUVSRy4yMDE5MDgzMC1TMDUzMDAwLUUwNTU5NTkuMDMzMC5WMDdCLkhERjUubmM0P01XcHJlY2lwaXRhdGlvbiU1QjA6MCU1RCU1Qjk4MDoyNzUwJTVEJTVCMjM5OjU1OSU1RCxNV29ic2VydmF0aW9uVGltZSU1QjA6MCU1RCU1Qjk4MDoyNzUwJTVEJTVCMjM5OjU1OSU1RCxJUnByZWNpcGl0YXRpb24lNUIwOjAlNUQlNUI5ODA6Mjc1MCU1RCU1QjIzOTo1NTklNUQsTVdwcmVjaXBTb3VyY2UlNUIwOjAlNUQlNUI5ODA6Mjc1MCU1RCU1QjIzOTo1NTklNUQsSVJpbmZsdWVuY2UlNUIwOjAlNUQlNUI5ODA6Mjc1MCU1RCU1QjIzOTo1NTklNUQscHJlY2lwaXRhdGlvblVuY2FsJTVCMDowJTVEJTVCOTgwOjI3NTAlNUQlNUIyMzk6NTU5JTVELHByZWNpcGl0YXRpb25RdWFsaXR5SW5kZXglNUIwOjAlNUQlNUI5ODA6Mjc1MCU1RCU1QjIzOTo1NTklNUQsbGF0X2JuZHMlNUIyMzk6NTU5JTVEJTVCMDoxJTVELHByZWNpcGl0YXRpb24lNUIwOjAlNUQlNUI5ODA6Mjc1MCU1RCU1QjIzOTo1NTklNUQscHJvYmFiaWxpdHlMaXF1aWRQcmVjaXBpdGF0aW9uJTVCMDowJTVEJTVCOTgwOjI3NTAlNUQlNUIyMzk6NTU5JTVELHJhbmRvbUVycm9yJTVCMDowJTVEJTVCOTgwOjI3NTAlNUQlNUIyMzk6NTU5JTVELHRpbWVfYm5kcyU1QjA6MCU1RCU1QjA6MSU1RCxsb25fYm5kcyU1Qjk4MDoyNzUwJTVEJTVCMDoxJTVELHRpbWUsbG9uJTVCOTgwOjI3NTAlNUQsbGF0JTVCMjM5OjU1OSU1RCxsYXR2LG52LGxvbnY\n"
     ]
    },
    {
     "name": "stderr",
     "output_type": "stream",
     "text": [
      "Téléchargement des fichiers:  21%|██        | 10679/50535 [5:58:12<20:36:51,  1.86s/it]"
     ]
    },
    {
     "name": "stdout",
     "output_type": "stream",
     "text": [
      "❌ Échec: https://gpm1.gesdisc.eosdis.nasa.gov/opendap/GPM_L3/GPM_3IMERGHHL.07/2019/245/3B-HHR-L.MS.MRG.3IMERG.20190902-S083000-E085959.0510.V07B.HDF5.nc4?MWprecipitation[0:0][980:2750][239:559],MWobservationTime[0:0][980:2750][239:559],IRprecipitation[0:0][980:2750][239:559],MWprecipSource[0:0][980:2750][239:559],IRinfluence[0:0][980:2750][239:559],precipitationUncal[0:0][980:2750][239:559],precipitationQualityIndex[0:0][980:2750][239:559],lat_bnds[239:559][0:1],precipitation[0:0][980:2750][239:559],probabilityLiquidPrecipitation[0:0][980:2750][239:559],randomError[0:0][980:2750][239:559],time_bnds[0:0][0:1],lon_bnds[980:2750][0:1],time,lon[980:2750],lat[239:559],latv,nv,lonv\n",
      "   ↳ HTTPSConnectionPool(host='gpm1.gesdisc.eosdis.nasa.gov', port=443): Read timed out. (read timeout=30)\n"
     ]
    },
    {
     "name": "stderr",
     "output_type": "stream",
     "text": [
      "Téléchargement des fichiers:  21%|██▏       | 10807/50535 [6:01:13<13:19:48,  1.21s/it]"
     ]
    },
    {
     "name": "stdout",
     "output_type": "stream",
     "text": [
      "❌ Échec: https://gpm1.gesdisc.eosdis.nasa.gov/opendap/GPM_L3/GPM_3IMERGHHL.07/2019/248/3B-HHR-L.MS.MRG.3IMERG.20190905-S080000-E082959.0480.V07B.HDF5.nc4?MWprecipitation[0:0][980:2750][239:559],MWobservationTime[0:0][980:2750][239:559],IRprecipitation[0:0][980:2750][239:559],MWprecipSource[0:0][980:2750][239:559],IRinfluence[0:0][980:2750][239:559],precipitationUncal[0:0][980:2750][239:559],precipitationQualityIndex[0:0][980:2750][239:559],lat_bnds[239:559][0:1],precipitation[0:0][980:2750][239:559],probabilityLiquidPrecipitation[0:0][980:2750][239:559],randomError[0:0][980:2750][239:559],time_bnds[0:0][0:1],lon_bnds[980:2750][0:1],time,lon[980:2750],lat[239:559],latv,nv,lonv\n",
      "   ↳ 503 Server Error: Service Unavailable for url: https://gpm1.gesdisc.eosdis.nasa.gov/data-redirect?code=HMvenFiSaBjakimtpgugcw39CrkpFqD4u1VL-9ar0CyIJdKp-PEhvaDD-avMsbFzUC1U2uJGTUMofqCq5EjZsvyShh7l-fuVkvwf-hHi4EBfyGjiT51v5HhDhnD5f1KwDnILmR14X5gnwQ&state=aHR0cHM6Ly9ncG0xLmdlc2Rpc2MuZW9zZGlzLm5hc2EuZ292L29wZW5kYXAvR1BNX0wzL0dQTV8zSU1FUkdISEwuMDcvMjAxOS8yNDgvM0ItSEhSLUwuTVMuTVJHLjNJTUVSRy4yMDE5MDkwNS1TMDgwMDAwLUUwODI5NTkuMDQ4MC5WMDdCLkhERjUubmM0P01XcHJlY2lwaXRhdGlvbiU1QjA6MCU1RCU1Qjk4MDoyNzUwJTVEJTVCMjM5OjU1OSU1RCxNV29ic2VydmF0aW9uVGltZSU1QjA6MCU1RCU1Qjk4MDoyNzUwJTVEJTVCMjM5OjU1OSU1RCxJUnByZWNpcGl0YXRpb24lNUIwOjAlNUQlNUI5ODA6Mjc1MCU1RCU1QjIzOTo1NTklNUQsTVdwcmVjaXBTb3VyY2UlNUIwOjAlNUQlNUI5ODA6Mjc1MCU1RCU1QjIzOTo1NTklNUQsSVJpbmZsdWVuY2UlNUIwOjAlNUQlNUI5ODA6Mjc1MCU1RCU1QjIzOTo1NTklNUQscHJlY2lwaXRhdGlvblVuY2FsJTVCMDowJTVEJTVCOTgwOjI3NTAlNUQlNUIyMzk6NTU5JTVELHByZWNpcGl0YXRpb25RdWFsaXR5SW5kZXglNUIwOjAlNUQlNUI5ODA6Mjc1MCU1RCU1QjIzOTo1NTklNUQsbGF0X2JuZHMlNUIyMzk6NTU5JTVEJTVCMDoxJTVELHByZWNpcGl0YXRpb24lNUIwOjAlNUQlNUI5ODA6Mjc1MCU1RCU1QjIzOTo1NTklNUQscHJvYmFiaWxpdHlMaXF1aWRQcmVjaXBpdGF0aW9uJTVCMDowJTVEJTVCOTgwOjI3NTAlNUQlNUIyMzk6NTU5JTVELHJhbmRvbUVycm9yJTVCMDowJTVEJTVCOTgwOjI3NTAlNUQlNUIyMzk6NTU5JTVELHRpbWVfYm5kcyU1QjA6MCU1RCU1QjA6MSU1RCxsb25fYm5kcyU1Qjk4MDoyNzUwJTVEJTVCMDoxJTVELHRpbWUsbG9uJTVCOTgwOjI3NTAlNUQsbGF0JTVCMjM5OjU1OSU1RCxsYXR2LG52LGxvbnY\n"
     ]
    },
    {
     "name": "stderr",
     "output_type": "stream",
     "text": [
      "Téléchargement des fichiers:  25%|██▌       | 12783/50535 [7:08:31<39:35:50,  3.78s/it]"
     ]
    },
    {
     "name": "stdout",
     "output_type": "stream",
     "text": [
      "❌ Échec: https://gpm1.gesdisc.eosdis.nasa.gov/opendap/GPM_L3/GPM_3IMERGHHL.07/2019/289/3B-HHR-L.MS.MRG.3IMERG.20191016-S090000-E092959.0540.V07B.HDF5.nc4?MWprecipitation[0:0][980:2750][239:559],MWobservationTime[0:0][980:2750][239:559],IRprecipitation[0:0][980:2750][239:559],MWprecipSource[0:0][980:2750][239:559],IRinfluence[0:0][980:2750][239:559],precipitationUncal[0:0][980:2750][239:559],precipitationQualityIndex[0:0][980:2750][239:559],lat_bnds[239:559][0:1],precipitation[0:0][980:2750][239:559],probabilityLiquidPrecipitation[0:0][980:2750][239:559],randomError[0:0][980:2750][239:559],time_bnds[0:0][0:1],lon_bnds[980:2750][0:1],time,lon[980:2750],lat[239:559],latv,nv,lonv\n",
      "   ↳ HTTPSConnectionPool(host='gpm1.gesdisc.eosdis.nasa.gov', port=443): Read timed out. (read timeout=30)\n"
     ]
    },
    {
     "name": "stderr",
     "output_type": "stream",
     "text": [
      "Téléchargement des fichiers:  27%|██▋       | 13708/50535 [7:40:56<28:03:44,  2.74s/it]"
     ]
    },
    {
     "name": "stdout",
     "output_type": "stream",
     "text": [
      "❌ Échec: https://gpm1.gesdisc.eosdis.nasa.gov/opendap/GPM_L3/GPM_3IMERGHHL.07/2019/308/3B-HHR-L.MS.MRG.3IMERG.20191104-S143000-E145959.0870.V07B.HDF5.nc4?MWprecipitation[0:0][980:2750][239:559],MWobservationTime[0:0][980:2750][239:559],IRprecipitation[0:0][980:2750][239:559],MWprecipSource[0:0][980:2750][239:559],IRinfluence[0:0][980:2750][239:559],precipitationUncal[0:0][980:2750][239:559],precipitationQualityIndex[0:0][980:2750][239:559],lat_bnds[239:559][0:1],precipitation[0:0][980:2750][239:559],probabilityLiquidPrecipitation[0:0][980:2750][239:559],randomError[0:0][980:2750][239:559],time_bnds[0:0][0:1],lon_bnds[980:2750][0:1],time,lon[980:2750],lat[239:559],latv,nv,lonv\n",
      "   ↳ HTTPSConnectionPool(host='gpm1.gesdisc.eosdis.nasa.gov', port=443): Read timed out. (read timeout=30)\n"
     ]
    },
    {
     "name": "stderr",
     "output_type": "stream",
     "text": [
      "Téléchargement des fichiers:  31%|███▏      | 15816/50535 [8:53:56<12:07:45,  1.26s/it]"
     ]
    },
    {
     "name": "stdout",
     "output_type": "stream",
     "text": [
      "❌ Échec: https://gpm1.gesdisc.eosdis.nasa.gov/opendap/GPM_L3/GPM_3IMERGHHL.07/2019/352/3B-HHR-L.MS.MRG.3IMERG.20191218-S163000-E165959.0990.V07B.HDF5.nc4?MWprecipitation[0:0][980:2750][239:559],MWobservationTime[0:0][980:2750][239:559],IRprecipitation[0:0][980:2750][239:559],MWprecipSource[0:0][980:2750][239:559],IRinfluence[0:0][980:2750][239:559],precipitationUncal[0:0][980:2750][239:559],precipitationQualityIndex[0:0][980:2750][239:559],lat_bnds[239:559][0:1],precipitation[0:0][980:2750][239:559],probabilityLiquidPrecipitation[0:0][980:2750][239:559],randomError[0:0][980:2750][239:559],time_bnds[0:0][0:1],lon_bnds[980:2750][0:1],time,lon[980:2750],lat[239:559],latv,nv,lonv\n",
      "   ↳ 503 Server Error: Service Unavailable for url: https://gpm1.gesdisc.eosdis.nasa.gov/data-redirect?code=12EEcVBS729JOdj5LTPiJsDNrvS0mUjfD16c307G1DI45caVfF_hTF22U7We07Ta4oKg_oNQ05yRgIkXjayNdtTWsChEawTqlmnc486t58udgUOTTZT05ExZteFW8ToNpyks34VWUivY0Q&state=aHR0cHM6Ly9ncG0xLmdlc2Rpc2MuZW9zZGlzLm5hc2EuZ292L29wZW5kYXAvR1BNX0wzL0dQTV8zSU1FUkdISEwuMDcvMjAxOS8zNTIvM0ItSEhSLUwuTVMuTVJHLjNJTUVSRy4yMDE5MTIxOC1TMTYzMDAwLUUxNjU5NTkuMDk5MC5WMDdCLkhERjUubmM0P01XcHJlY2lwaXRhdGlvbiU1QjA6MCU1RCU1Qjk4MDoyNzUwJTVEJTVCMjM5OjU1OSU1RCxNV29ic2VydmF0aW9uVGltZSU1QjA6MCU1RCU1Qjk4MDoyNzUwJTVEJTVCMjM5OjU1OSU1RCxJUnByZWNpcGl0YXRpb24lNUIwOjAlNUQlNUI5ODA6Mjc1MCU1RCU1QjIzOTo1NTklNUQsTVdwcmVjaXBTb3VyY2UlNUIwOjAlNUQlNUI5ODA6Mjc1MCU1RCU1QjIzOTo1NTklNUQsSVJpbmZsdWVuY2UlNUIwOjAlNUQlNUI5ODA6Mjc1MCU1RCU1QjIzOTo1NTklNUQscHJlY2lwaXRhdGlvblVuY2FsJTVCMDowJTVEJTVCOTgwOjI3NTAlNUQlNUIyMzk6NTU5JTVELHByZWNpcGl0YXRpb25RdWFsaXR5SW5kZXglNUIwOjAlNUQlNUI5ODA6Mjc1MCU1RCU1QjIzOTo1NTklNUQsbGF0X2JuZHMlNUIyMzk6NTU5JTVEJTVCMDoxJTVELHByZWNpcGl0YXRpb24lNUIwOjAlNUQlNUI5ODA6Mjc1MCU1RCU1QjIzOTo1NTklNUQscHJvYmFiaWxpdHlMaXF1aWRQcmVjaXBpdGF0aW9uJTVCMDowJTVEJTVCOTgwOjI3NTAlNUQlNUIyMzk6NTU5JTVELHJhbmRvbUVycm9yJTVCMDowJTVEJTVCOTgwOjI3NTAlNUQlNUIyMzk6NTU5JTVELHRpbWVfYm5kcyU1QjA6MCU1RCU1QjA6MSU1RCxsb25fYm5kcyU1Qjk4MDoyNzUwJTVEJTVCMDoxJTVELHRpbWUsbG9uJTVCOTgwOjI3NTAlNUQsbGF0JTVCMjM5OjU1OSU1RCxsYXR2LG52LGxvbnY\n"
     ]
    },
    {
     "name": "stderr",
     "output_type": "stream",
     "text": [
      "Téléchargement des fichiers:  35%|███▍      | 17565/50535 [9:54:40<14:28:53,  1.58s/it]"
     ]
    },
    {
     "name": "stdout",
     "output_type": "stream",
     "text": [
      "❌ Échec: https://gpm1.gesdisc.eosdis.nasa.gov/opendap/GPM_L3/GPM_3IMERGHHL.07/2020/024/3B-HHR-L.MS.MRG.3IMERG.20200124-S030000-E032959.0180.V07B.HDF5.nc4?MWprecipitation[0:0][980:2750][239:559],MWobservationTime[0:0][980:2750][239:559],IRprecipitation[0:0][980:2750][239:559],MWprecipSource[0:0][980:2750][239:559],IRinfluence[0:0][980:2750][239:559],precipitationUncal[0:0][980:2750][239:559],precipitationQualityIndex[0:0][980:2750][239:559],lat_bnds[239:559][0:1],precipitation[0:0][980:2750][239:559],probabilityLiquidPrecipitation[0:0][980:2750][239:559],randomError[0:0][980:2750][239:559],time_bnds[0:0][0:1],lon_bnds[980:2750][0:1],time,lon[980:2750],lat[239:559],latv,nv,lonv\n",
      "   ↳ HTTPSConnectionPool(host='gpm1.gesdisc.eosdis.nasa.gov', port=443): Max retries exceeded with url: /opendap/GPM_L3/GPM_3IMERGHHL.07/2020/024/3B-HHR-L.MS.MRG.3IMERG.20200124-S030000-E032959.0180.V07B.HDF5.nc4?MWprecipitation%5B0:0%5D%5B980:2750%5D%5B239:559%5D,MWobservationTime%5B0:0%5D%5B980:2750%5D%5B239:559%5D,IRprecipitation%5B0:0%5D%5B980:2750%5D%5B239:559%5D,MWprecipSource%5B0:0%5D%5B980:2750%5D%5B239:559%5D,IRinfluence%5B0:0%5D%5B980:2750%5D%5B239:559%5D,precipitationUncal%5B0:0%5D%5B980:2750%5D%5B239:559%5D,precipitationQualityIndex%5B0:0%5D%5B980:2750%5D%5B239:559%5D,lat_bnds%5B239:559%5D%5B0:1%5D,precipitation%5B0:0%5D%5B980:2750%5D%5B239:559%5D,probabilityLiquidPrecipitation%5B0:0%5D%5B980:2750%5D%5B239:559%5D,randomError%5B0:0%5D%5B980:2750%5D%5B239:559%5D,time_bnds%5B0:0%5D%5B0:1%5D,lon_bnds%5B980:2750%5D%5B0:1%5D,time,lon%5B980:2750%5D,lat%5B239:559%5D,latv,nv,lonv (Caused by SSLError(SSLError(1, '[SSL: UNEXPECTED_MESSAGE] unexpected message (_ssl.c:1000)')))\n"
     ]
    },
    {
     "name": "stderr",
     "output_type": "stream",
     "text": [
      "Téléchargement des fichiers:  35%|███▌      | 17922/50535 [10:06:50<13:13:12,  1.46s/it]"
     ]
    },
    {
     "name": "stdout",
     "output_type": "stream",
     "text": [
      "❌ Échec: https://gpm1.gesdisc.eosdis.nasa.gov/opendap/GPM_L3/GPM_3IMERGHHL.07/2020/031/3B-HHR-L.MS.MRG.3IMERG.20200131-S133000-E135959.0810.V07B.HDF5.nc4?MWprecipitation[0:0][980:2750][239:559],MWobservationTime[0:0][980:2750][239:559],IRprecipitation[0:0][980:2750][239:559],MWprecipSource[0:0][980:2750][239:559],IRinfluence[0:0][980:2750][239:559],precipitationUncal[0:0][980:2750][239:559],precipitationQualityIndex[0:0][980:2750][239:559],lat_bnds[239:559][0:1],precipitation[0:0][980:2750][239:559],probabilityLiquidPrecipitation[0:0][980:2750][239:559],randomError[0:0][980:2750][239:559],time_bnds[0:0][0:1],lon_bnds[980:2750][0:1],time,lon[980:2750],lat[239:559],latv,nv,lonv\n",
      "   ↳ 502 Server Error: Proxy Error for url: https://gpm1.gesdisc.eosdis.nasa.gov/opendap/GPM_L3/GPM_3IMERGHHL.07/2020/031/3B-HHR-L.MS.MRG.3IMERG.20200131-S133000-E135959.0810.V07B.HDF5.nc4?MWprecipitation%5B0:0%5D%5B980:2750%5D%5B239:559%5D,MWobservationTime%5B0:0%5D%5B980:2750%5D%5B239:559%5D,IRprecipitation%5B0:0%5D%5B980:2750%5D%5B239:559%5D,MWprecipSource%5B0:0%5D%5B980:2750%5D%5B239:559%5D,IRinfluence%5B0:0%5D%5B980:2750%5D%5B239:559%5D,precipitationUncal%5B0:0%5D%5B980:2750%5D%5B239:559%5D,precipitationQualityIndex%5B0:0%5D%5B980:2750%5D%5B239:559%5D,lat_bnds%5B239:559%5D%5B0:1%5D,precipitation%5B0:0%5D%5B980:2750%5D%5B239:559%5D,probabilityLiquidPrecipitation%5B0:0%5D%5B980:2750%5D%5B239:559%5D,randomError%5B0:0%5D%5B980:2750%5D%5B239:559%5D,time_bnds%5B0:0%5D%5B0:1%5D,lon_bnds%5B980:2750%5D%5B0:1%5D,time,lon%5B980:2750%5D,lat%5B239:559%5D,latv,nv,lonv\n"
     ]
    },
    {
     "name": "stderr",
     "output_type": "stream",
     "text": [
      "Téléchargement des fichiers:  37%|███▋      | 18949/50535 [10:43:34<14:19:04,  1.63s/it]"
     ]
    },
    {
     "name": "stdout",
     "output_type": "stream",
     "text": [
      "❌ Échec: https://gpm1.gesdisc.eosdis.nasa.gov/opendap/GPM_L3/GPM_3IMERGHHL.07/2020/052/3B-HHR-L.MS.MRG.3IMERG.20200221-S233000-E235959.1410.V07B.HDF5.nc4?MWprecipitation[0:0][980:2750][239:559],MWobservationTime[0:0][980:2750][239:559],IRprecipitation[0:0][980:2750][239:559],MWprecipSource[0:0][980:2750][239:559],IRinfluence[0:0][980:2750][239:559],precipitationUncal[0:0][980:2750][239:559],precipitationQualityIndex[0:0][980:2750][239:559],lat_bnds[239:559][0:1],precipitation[0:0][980:2750][239:559],probabilityLiquidPrecipitation[0:0][980:2750][239:559],randomError[0:0][980:2750][239:559],time_bnds[0:0][0:1],lon_bnds[980:2750][0:1],time,lon[980:2750],lat[239:559],latv,nv,lonv\n",
      "   ↳ HTTPSConnectionPool(host='gpm1.gesdisc.eosdis.nasa.gov', port=443): Max retries exceeded with url: /opendap/GPM_L3/GPM_3IMERGHHL.07/2020/052/3B-HHR-L.MS.MRG.3IMERG.20200221-S233000-E235959.1410.V07B.HDF5.nc4?MWprecipitation%5B0:0%5D%5B980:2750%5D%5B239:559%5D,MWobservationTime%5B0:0%5D%5B980:2750%5D%5B239:559%5D,IRprecipitation%5B0:0%5D%5B980:2750%5D%5B239:559%5D,MWprecipSource%5B0:0%5D%5B980:2750%5D%5B239:559%5D,IRinfluence%5B0:0%5D%5B980:2750%5D%5B239:559%5D,precipitationUncal%5B0:0%5D%5B980:2750%5D%5B239:559%5D,precipitationQualityIndex%5B0:0%5D%5B980:2750%5D%5B239:559%5D,lat_bnds%5B239:559%5D%5B0:1%5D,precipitation%5B0:0%5D%5B980:2750%5D%5B239:559%5D,probabilityLiquidPrecipitation%5B0:0%5D%5B980:2750%5D%5B239:559%5D,randomError%5B0:0%5D%5B980:2750%5D%5B239:559%5D,time_bnds%5B0:0%5D%5B0:1%5D,lon_bnds%5B980:2750%5D%5B0:1%5D,time,lon%5B980:2750%5D,lat%5B239:559%5D,latv,nv,lonv (Caused by SSLError(SSLError(1, '[SSL: UNEXPECTED_MESSAGE] unexpected message (_ssl.c:1000)')))\n"
     ]
    },
    {
     "name": "stderr",
     "output_type": "stream",
     "text": [
      "Téléchargement des fichiers:  43%|████▎     | 21633/50535 [12:20:12<28:03:51,  3.50s/it]"
     ]
    },
    {
     "name": "stdout",
     "output_type": "stream",
     "text": [
      "❌ Échec: https://gpm1.gesdisc.eosdis.nasa.gov/opendap/GPM_L3/GPM_3IMERGHHL.07/2020/108/3B-HHR-L.MS.MRG.3IMERG.20200417-S173000-E175959.1050.V07B.HDF5.nc4?MWprecipitation[0:0][980:2750][239:559],MWobservationTime[0:0][980:2750][239:559],IRprecipitation[0:0][980:2750][239:559],MWprecipSource[0:0][980:2750][239:559],IRinfluence[0:0][980:2750][239:559],precipitationUncal[0:0][980:2750][239:559],precipitationQualityIndex[0:0][980:2750][239:559],lat_bnds[239:559][0:1],precipitation[0:0][980:2750][239:559],probabilityLiquidPrecipitation[0:0][980:2750][239:559],randomError[0:0][980:2750][239:559],time_bnds[0:0][0:1],lon_bnds[980:2750][0:1],time,lon[980:2750],lat[239:559],latv,nv,lonv\n",
      "   ↳ HTTPSConnectionPool(host='gpm1.gesdisc.eosdis.nasa.gov', port=443): Read timed out. (read timeout=30)\n"
     ]
    },
    {
     "name": "stderr",
     "output_type": "stream",
     "text": [
      "Téléchargement des fichiers:  43%|████▎     | 21641/50535 [12:20:44<27:45:13,  3.46s/it]"
     ]
    },
    {
     "name": "stdout",
     "output_type": "stream",
     "text": [
      "❌ Échec: https://gpm1.gesdisc.eosdis.nasa.gov/opendap/GPM_L3/GPM_3IMERGHHL.07/2020/108/3B-HHR-L.MS.MRG.3IMERG.20200417-S220000-E222959.1320.V07B.HDF5.nc4?MWprecipitation[0:0][980:2750][239:559],MWobservationTime[0:0][980:2750][239:559],IRprecipitation[0:0][980:2750][239:559],MWprecipSource[0:0][980:2750][239:559],IRinfluence[0:0][980:2750][239:559],precipitationUncal[0:0][980:2750][239:559],precipitationQualityIndex[0:0][980:2750][239:559],lat_bnds[239:559][0:1],precipitation[0:0][980:2750][239:559],probabilityLiquidPrecipitation[0:0][980:2750][239:559],randomError[0:0][980:2750][239:559],time_bnds[0:0][0:1],lon_bnds[980:2750][0:1],time,lon[980:2750],lat[239:559],latv,nv,lonv\n",
      "   ↳ HTTPSConnectionPool(host='gpm1.gesdisc.eosdis.nasa.gov', port=443): Read timed out. (read timeout=30)\n"
     ]
    },
    {
     "name": "stderr",
     "output_type": "stream",
     "text": [
      "Téléchargement des fichiers:  44%|████▍     | 22266/50535 [12:44:12<15:19:32,  1.95s/it]"
     ]
    },
    {
     "name": "stdout",
     "output_type": "stream",
     "text": [
      "❌ Échec: https://gpm1.gesdisc.eosdis.nasa.gov/opendap/GPM_L3/GPM_3IMERGHHL.07/2020/122/3B-HHR-L.MS.MRG.3IMERG.20200501-S020000-E022959.0120.V07B.HDF5.nc4?MWprecipitation[0:0][980:2750][239:559],MWobservationTime[0:0][980:2750][239:559],IRprecipitation[0:0][980:2750][239:559],MWprecipSource[0:0][980:2750][239:559],IRinfluence[0:0][980:2750][239:559],precipitationUncal[0:0][980:2750][239:559],precipitationQualityIndex[0:0][980:2750][239:559],lat_bnds[239:559][0:1],precipitation[0:0][980:2750][239:559],probabilityLiquidPrecipitation[0:0][980:2750][239:559],randomError[0:0][980:2750][239:559],time_bnds[0:0][0:1],lon_bnds[980:2750][0:1],time,lon[980:2750],lat[239:559],latv,nv,lonv\n",
      "   ↳ 503 Server Error: Service Unavailable for url: https://gpm1.gesdisc.eosdis.nasa.gov/data-redirect?code=uRYcDyGx7WYumssdjsokWNTZKNzH3oCvX7m8w59oe_KPzapEVEf0vA_gTpIGb8QDet0spF5-xAdMMb1aTrImqa7zJg6Tj-BTytLXVky6gdVUq2LaODkvU6VgJEqCkO04DHpNCWqupH_R8Q&state=aHR0cHM6Ly9ncG0xLmdlc2Rpc2MuZW9zZGlzLm5hc2EuZ292L29wZW5kYXAvR1BNX0wzL0dQTV8zSU1FUkdISEwuMDcvMjAyMC8xMjIvM0ItSEhSLUwuTVMuTVJHLjNJTUVSRy4yMDIwMDUwMS1TMDIwMDAwLUUwMjI5NTkuMDEyMC5WMDdCLkhERjUubmM0P01XcHJlY2lwaXRhdGlvbiU1QjA6MCU1RCU1Qjk4MDoyNzUwJTVEJTVCMjM5OjU1OSU1RCxNV29ic2VydmF0aW9uVGltZSU1QjA6MCU1RCU1Qjk4MDoyNzUwJTVEJTVCMjM5OjU1OSU1RCxJUnByZWNpcGl0YXRpb24lNUIwOjAlNUQlNUI5ODA6Mjc1MCU1RCU1QjIzOTo1NTklNUQsTVdwcmVjaXBTb3VyY2UlNUIwOjAlNUQlNUI5ODA6Mjc1MCU1RCU1QjIzOTo1NTklNUQsSVJpbmZsdWVuY2UlNUIwOjAlNUQlNUI5ODA6Mjc1MCU1RCU1QjIzOTo1NTklNUQscHJlY2lwaXRhdGlvblVuY2FsJTVCMDowJTVEJTVCOTgwOjI3NTAlNUQlNUIyMzk6NTU5JTVELHByZWNpcGl0YXRpb25RdWFsaXR5SW5kZXglNUIwOjAlNUQlNUI5ODA6Mjc1MCU1RCU1QjIzOTo1NTklNUQsbGF0X2JuZHMlNUIyMzk6NTU5JTVEJTVCMDoxJTVELHByZWNpcGl0YXRpb24lNUIwOjAlNUQlNUI5ODA6Mjc1MCU1RCU1QjIzOTo1NTklNUQscHJvYmFiaWxpdHlMaXF1aWRQcmVjaXBpdGF0aW9uJTVCMDowJTVEJTVCOTgwOjI3NTAlNUQlNUIyMzk6NTU5JTVELHJhbmRvbUVycm9yJTVCMDowJTVEJTVCOTgwOjI3NTAlNUQlNUIyMzk6NTU5JTVELHRpbWVfYm5kcyU1QjA6MCU1RCU1QjA6MSU1RCxsb25fYm5kcyU1Qjk4MDoyNzUwJTVEJTVCMDoxJTVELHRpbWUsbG9uJTVCOTgwOjI3NTAlNUQsbGF0JTVCMjM5OjU1OSU1RCxsYXR2LG52LGxvbnY\n"
     ]
    },
    {
     "name": "stderr",
     "output_type": "stream",
     "text": [
      "Téléchargement des fichiers:  52%|█████▏    | 26472/50535 [15:19:45<15:26:51,  2.31s/it]"
     ]
    },
    {
     "name": "stdout",
     "output_type": "stream",
     "text": [
      "❌ Échec: https://gpm1.gesdisc.eosdis.nasa.gov/opendap/GPM_L3/GPM_3IMERGHHL.07/2020/209/3B-HHR-L.MS.MRG.3IMERG.20200727-S120000-E122959.0720.V07B.HDF5.nc4?MWprecipitation[0:0][980:2750][239:559],MWobservationTime[0:0][980:2750][239:559],IRprecipitation[0:0][980:2750][239:559],MWprecipSource[0:0][980:2750][239:559],IRinfluence[0:0][980:2750][239:559],precipitationUncal[0:0][980:2750][239:559],precipitationQualityIndex[0:0][980:2750][239:559],lat_bnds[239:559][0:1],precipitation[0:0][980:2750][239:559],probabilityLiquidPrecipitation[0:0][980:2750][239:559],randomError[0:0][980:2750][239:559],time_bnds[0:0][0:1],lon_bnds[980:2750][0:1],time,lon[980:2750],lat[239:559],latv,nv,lonv\n",
      "   ↳ HTTPSConnectionPool(host='gpm1.gesdisc.eosdis.nasa.gov', port=443): Read timed out. (read timeout=30)\n"
     ]
    },
    {
     "name": "stderr",
     "output_type": "stream",
     "text": [
      "Téléchargement des fichiers:  63%|██████▎   | 31630/50535 [18:17:50<6:00:29,  1.14s/it] "
     ]
    },
    {
     "name": "stdout",
     "output_type": "stream",
     "text": [
      "❌ Échec: https://gpm1.gesdisc.eosdis.nasa.gov/opendap/GPM_L3/GPM_3IMERGHHL.07/2020/317/3B-HHR-L.MS.MRG.3IMERG.20201112-S033000-E035959.0210.V07B.HDF5.nc4?MWprecipitation[0:0][980:2750][239:559],MWobservationTime[0:0][980:2750][239:559],IRprecipitation[0:0][980:2750][239:559],MWprecipSource[0:0][980:2750][239:559],IRinfluence[0:0][980:2750][239:559],precipitationUncal[0:0][980:2750][239:559],precipitationQualityIndex[0:0][980:2750][239:559],lat_bnds[239:559][0:1],precipitation[0:0][980:2750][239:559],probabilityLiquidPrecipitation[0:0][980:2750][239:559],randomError[0:0][980:2750][239:559],time_bnds[0:0][0:1],lon_bnds[980:2750][0:1],time,lon[980:2750],lat[239:559],latv,nv,lonv\n",
      "   ↳ 503 Server Error: Service Unavailable for url: https://gpm1.gesdisc.eosdis.nasa.gov/data-redirect?code=CKmc8NMaZiE6PG70bmu_iGRcrjriuXCp02Q1ArUno_ofvQLLTQNAvS2styM0iArM8Iz5Kw20icrPEOOVPrqr9COOvh6SyRJsSP-5aSl1AjOfgWSDeZ1t4-uB8qk-n1uD3xIkeZ6-rid4Uw&state=aHR0cHM6Ly9ncG0xLmdlc2Rpc2MuZW9zZGlzLm5hc2EuZ292L29wZW5kYXAvR1BNX0wzL0dQTV8zSU1FUkdISEwuMDcvMjAyMC8zMTcvM0ItSEhSLUwuTVMuTVJHLjNJTUVSRy4yMDIwMTExMi1TMDMzMDAwLUUwMzU5NTkuMDIxMC5WMDdCLkhERjUubmM0P01XcHJlY2lwaXRhdGlvbiU1QjA6MCU1RCU1Qjk4MDoyNzUwJTVEJTVCMjM5OjU1OSU1RCxNV29ic2VydmF0aW9uVGltZSU1QjA6MCU1RCU1Qjk4MDoyNzUwJTVEJTVCMjM5OjU1OSU1RCxJUnByZWNpcGl0YXRpb24lNUIwOjAlNUQlNUI5ODA6Mjc1MCU1RCU1QjIzOTo1NTklNUQsTVdwcmVjaXBTb3VyY2UlNUIwOjAlNUQlNUI5ODA6Mjc1MCU1RCU1QjIzOTo1NTklNUQsSVJpbmZsdWVuY2UlNUIwOjAlNUQlNUI5ODA6Mjc1MCU1RCU1QjIzOTo1NTklNUQscHJlY2lwaXRhdGlvblVuY2FsJTVCMDowJTVEJTVCOTgwOjI3NTAlNUQlNUIyMzk6NTU5JTVELHByZWNpcGl0YXRpb25RdWFsaXR5SW5kZXglNUIwOjAlNUQlNUI5ODA6Mjc1MCU1RCU1QjIzOTo1NTklNUQsbGF0X2JuZHMlNUIyMzk6NTU5JTVEJTVCMDoxJTVELHByZWNpcGl0YXRpb24lNUIwOjAlNUQlNUI5ODA6Mjc1MCU1RCU1QjIzOTo1NTklNUQscHJvYmFiaWxpdHlMaXF1aWRQcmVjaXBpdGF0aW9uJTVCMDowJTVEJTVCOTgwOjI3NTAlNUQlNUIyMzk6NTU5JTVELHJhbmRvbUVycm9yJTVCMDowJTVEJTVCOTgwOjI3NTAlNUQlNUIyMzk6NTU5JTVELHRpbWVfYm5kcyU1QjA6MCU1RCU1QjA6MSU1RCxsb25fYm5kcyU1Qjk4MDoyNzUwJTVEJTVCMDoxJTVELHRpbWUsbG9uJTVCOTgwOjI3NTAlNUQsbGF0JTVCMjM5OjU1OSU1RCxsYXR2LG52LGxvbnY\n"
     ]
    },
    {
     "name": "stderr",
     "output_type": "stream",
     "text": [
      "Téléchargement des fichiers:  63%|██████▎   | 31713/50535 [18:20:40<6:48:38,  1.30s/it] "
     ]
    },
    {
     "name": "stdout",
     "output_type": "stream",
     "text": [
      "❌ Échec: https://gpm1.gesdisc.eosdis.nasa.gov/opendap/GPM_L3/GPM_3IMERGHHL.07/2020/318/3B-HHR-L.MS.MRG.3IMERG.20201113-S213000-E215959.1290.V07B.HDF5.nc4?MWprecipitation[0:0][980:2750][239:559],MWobservationTime[0:0][980:2750][239:559],IRprecipitation[0:0][980:2750][239:559],MWprecipSource[0:0][980:2750][239:559],IRinfluence[0:0][980:2750][239:559],precipitationUncal[0:0][980:2750][239:559],precipitationQualityIndex[0:0][980:2750][239:559],lat_bnds[239:559][0:1],precipitation[0:0][980:2750][239:559],probabilityLiquidPrecipitation[0:0][980:2750][239:559],randomError[0:0][980:2750][239:559],time_bnds[0:0][0:1],lon_bnds[980:2750][0:1],time,lon[980:2750],lat[239:559],latv,nv,lonv\n",
      "   ↳ HTTPSConnectionPool(host='gpm1.gesdisc.eosdis.nasa.gov', port=443): Max retries exceeded with url: /opendap/GPM_L3/GPM_3IMERGHHL.07/2020/318/3B-HHR-L.MS.MRG.3IMERG.20201113-S213000-E215959.1290.V07B.HDF5.nc4?MWprecipitation%5B0:0%5D%5B980:2750%5D%5B239:559%5D,MWobservationTime%5B0:0%5D%5B980:2750%5D%5B239:559%5D,IRprecipitation%5B0:0%5D%5B980:2750%5D%5B239:559%5D,MWprecipSource%5B0:0%5D%5B980:2750%5D%5B239:559%5D,IRinfluence%5B0:0%5D%5B980:2750%5D%5B239:559%5D,precipitationUncal%5B0:0%5D%5B980:2750%5D%5B239:559%5D,precipitationQualityIndex%5B0:0%5D%5B980:2750%5D%5B239:559%5D,lat_bnds%5B239:559%5D%5B0:1%5D,precipitation%5B0:0%5D%5B980:2750%5D%5B239:559%5D,probabilityLiquidPrecipitation%5B0:0%5D%5B980:2750%5D%5B239:559%5D,randomError%5B0:0%5D%5B980:2750%5D%5B239:559%5D,time_bnds%5B0:0%5D%5B0:1%5D,lon_bnds%5B980:2750%5D%5B0:1%5D,time,lon%5B980:2750%5D,lat%5B239:559%5D,latv,nv,lonv (Caused by SSLError(SSLError(1, '[SSL: UNEXPECTED_MESSAGE] unexpected message (_ssl.c:1000)')))\n"
     ]
    },
    {
     "name": "stderr",
     "output_type": "stream",
     "text": [
      "Téléchargement des fichiers: 100%|██████████| 50535/50535 [28:50:53<00:00,  2.06s/it]   "
     ]
    },
    {
     "name": "stdout",
     "output_type": "stream",
     "text": [
      "✅ Tous les téléchargements terminés.\n"
     ]
    },
    {
     "name": "stderr",
     "output_type": "stream",
     "text": [
      "\n"
     ]
    }
   ],
   "source": [
    "file_path = 'e:/Downloads/subset_GPM_3IMERGHHL_07_20250410_083755_.txt'\n",
    "output_dir = 'e:/Downloads/GPM_data'\n",
    "max_threads = 3\n",
    "\n",
    "with open(file_path, 'r') as f:\n",
    "    urls = [line.strip() for line in f if line.strip()]\n",
    "\n",
    "os.makedirs(output_dir, exist_ok=True)\n",
    "echec_list = []\n",
    "\n",
    "def download_file(url):\n",
    "    parsed_url = urlparse(url)\n",
    "    filename = parsed_url.path.split('/')[-1]\n",
    "    file_path = os.path.join(output_dir, filename)\n",
    "    \n",
    "    try:\n",
    "        result = requests.get(url, stream=True, timeout=30)\n",
    "        result.raise_for_status()\n",
    "        with open(file_path, 'wb') as f_out:\n",
    "            for chunk in result.iter_content(chunk_size=8192):\n",
    "                f_out.write(chunk)\n",
    "        return url, True, None\n",
    "    except requests.exceptions.RequestException as e:\n",
    "        return url, False, str(e)\n",
    "\n",
    "results = []\n",
    "with ThreadPoolExecutor(max_workers=max_threads) as executor:\n",
    "    futures = {executor.submit(download_file, url): url for url in urls}\n",
    "    for future in tqdm(as_completed(futures), total=len(futures), desc=\"Téléchargement des fichiers\"):\n",
    "        url, success, error = future.result()\n",
    "        if not success:\n",
    "            print(f\"❌ Échec: {url}\\n   ↳ {error}\")\n",
    "            echec_list.append(url)\n",
    "\n",
    "print(\"✅ Tous les téléchargements terminés.\")\n"
   ]
  },
  {
   "cell_type": "markdown",
   "metadata": {},
   "source": [
    "## Gestion et télechargement des échecs"
   ]
  },
  {
   "cell_type": "code",
   "execution_count": 3,
   "metadata": {},
   "outputs": [
    {
     "name": "stdout",
     "output_type": "stream",
     "text": [
      "['https://gpm1.gesdisc.eosdis.nasa.gov/opendap/GPM_L3/GPM_3IMERGHHL.07/2019/035/3B-HHR-L.MS.MRG.3IMERG.20190204-S143000-E145959.0870.V07B.HDF5.nc4?MWprecipitation[0:0][980:2750][239:559],MWobservationTime[0:0][980:2750][239:559],IRprecipitation[0:0][980:2750][239:559],MWprecipSource[0:0][980:2750][239:559],IRinfluence[0:0][980:2750][239:559],precipitationUncal[0:0][980:2750][239:559],precipitationQualityIndex[0:0][980:2750][239:559],lat_bnds[239:559][0:1],precipitation[0:0][980:2750][239:559],probabilityLiquidPrecipitation[0:0][980:2750][239:559],randomError[0:0][980:2750][239:559],time_bnds[0:0][0:1],lon_bnds[980:2750][0:1],time,lon[980:2750],lat[239:559],latv,nv,lonv', 'https://gpm1.gesdisc.eosdis.nasa.gov/opendap/GPM_L3/GPM_3IMERGHHL.07/2019/053/3B-HHR-L.MS.MRG.3IMERG.20190222-S080000-E082959.0480.V07B.HDF5.nc4?MWprecipitation[0:0][980:2750][239:559],MWobservationTime[0:0][980:2750][239:559],IRprecipitation[0:0][980:2750][239:559],MWprecipSource[0:0][980:2750][239:559],IRinfluence[0:0][980:2750][239:559],precipitationUncal[0:0][980:2750][239:559],precipitationQualityIndex[0:0][980:2750][239:559],lat_bnds[239:559][0:1],precipitation[0:0][980:2750][239:559],probabilityLiquidPrecipitation[0:0][980:2750][239:559],randomError[0:0][980:2750][239:559],time_bnds[0:0][0:1],lon_bnds[980:2750][0:1],time,lon[980:2750],lat[239:559],latv,nv,lonv', 'https://gpm1.gesdisc.eosdis.nasa.gov/opendap/GPM_L3/GPM_3IMERGHHL.07/2019/126/3B-HHR-L.MS.MRG.3IMERG.20190506-S113000-E115959.0690.V07B.HDF5.nc4?MWprecipitation[0:0][980:2750][239:559],MWobservationTime[0:0][980:2750][239:559],IRprecipitation[0:0][980:2750][239:559],MWprecipSource[0:0][980:2750][239:559],IRinfluence[0:0][980:2750][239:559],precipitationUncal[0:0][980:2750][239:559],precipitationQualityIndex[0:0][980:2750][239:559],lat_bnds[239:559][0:1],precipitation[0:0][980:2750][239:559],probabilityLiquidPrecipitation[0:0][980:2750][239:559],randomError[0:0][980:2750][239:559],time_bnds[0:0][0:1],lon_bnds[980:2750][0:1],time,lon[980:2750],lat[239:559],latv,nv,lonv', 'https://gpm1.gesdisc.eosdis.nasa.gov/opendap/GPM_L3/GPM_3IMERGHHL.07/2019/136/3B-HHR-L.MS.MRG.3IMERG.20190516-S023000-E025959.0150.V07B.HDF5.nc4?MWprecipitation[0:0][980:2750][239:559],MWobservationTime[0:0][980:2750][239:559],IRprecipitation[0:0][980:2750][239:559],MWprecipSource[0:0][980:2750][239:559],IRinfluence[0:0][980:2750][239:559],precipitationUncal[0:0][980:2750][239:559],precipitationQualityIndex[0:0][980:2750][239:559],lat_bnds[239:559][0:1],precipitation[0:0][980:2750][239:559],probabilityLiquidPrecipitation[0:0][980:2750][239:559],randomError[0:0][980:2750][239:559],time_bnds[0:0][0:1],lon_bnds[980:2750][0:1],time,lon[980:2750],lat[239:559],latv,nv,lonv', 'https://gpm1.gesdisc.eosdis.nasa.gov/opendap/GPM_L3/GPM_3IMERGHHL.07/2019/172/3B-HHR-L.MS.MRG.3IMERG.20190621-S130000-E132959.0780.V07B.HDF5.nc4?MWprecipitation[0:0][980:2750][239:559],MWobservationTime[0:0][980:2750][239:559],IRprecipitation[0:0][980:2750][239:559],MWprecipSource[0:0][980:2750][239:559],IRinfluence[0:0][980:2750][239:559],precipitationUncal[0:0][980:2750][239:559],precipitationQualityIndex[0:0][980:2750][239:559],lat_bnds[239:559][0:1],precipitation[0:0][980:2750][239:559],probabilityLiquidPrecipitation[0:0][980:2750][239:559],randomError[0:0][980:2750][239:559],time_bnds[0:0][0:1],lon_bnds[980:2750][0:1],time,lon[980:2750],lat[239:559],latv,nv,lonv', 'https://gpm1.gesdisc.eosdis.nasa.gov/opendap/GPM_L3/GPM_3IMERGHHL.07/2019/187/3B-HHR-L.MS.MRG.3IMERG.20190706-S040000-E042959.0240.V07B.HDF5.nc4?MWprecipitation[0:0][980:2750][239:559],MWobservationTime[0:0][980:2750][239:559],IRprecipitation[0:0][980:2750][239:559],MWprecipSource[0:0][980:2750][239:559],IRinfluence[0:0][980:2750][239:559],precipitationUncal[0:0][980:2750][239:559],precipitationQualityIndex[0:0][980:2750][239:559],lat_bnds[239:559][0:1],precipitation[0:0][980:2750][239:559],probabilityLiquidPrecipitation[0:0][980:2750][239:559],randomError[0:0][980:2750][239:559],time_bnds[0:0][0:1],lon_bnds[980:2750][0:1],time,lon[980:2750],lat[239:559],latv,nv,lonv', 'https://gpm1.gesdisc.eosdis.nasa.gov/opendap/GPM_L3/GPM_3IMERGHHL.07/2019/242/3B-HHR-L.MS.MRG.3IMERG.20190830-S053000-E055959.0330.V07B.HDF5.nc4?MWprecipitation[0:0][980:2750][239:559],MWobservationTime[0:0][980:2750][239:559],IRprecipitation[0:0][980:2750][239:559],MWprecipSource[0:0][980:2750][239:559],IRinfluence[0:0][980:2750][239:559],precipitationUncal[0:0][980:2750][239:559],precipitationQualityIndex[0:0][980:2750][239:559],lat_bnds[239:559][0:1],precipitation[0:0][980:2750][239:559],probabilityLiquidPrecipitation[0:0][980:2750][239:559],randomError[0:0][980:2750][239:559],time_bnds[0:0][0:1],lon_bnds[980:2750][0:1],time,lon[980:2750],lat[239:559],latv,nv,lonv', 'https://gpm1.gesdisc.eosdis.nasa.gov/opendap/GPM_L3/GPM_3IMERGHHL.07/2019/245/3B-HHR-L.MS.MRG.3IMERG.20190902-S083000-E085959.0510.V07B.HDF5.nc4?MWprecipitation[0:0][980:2750][239:559],MWobservationTime[0:0][980:2750][239:559],IRprecipitation[0:0][980:2750][239:559],MWprecipSource[0:0][980:2750][239:559],IRinfluence[0:0][980:2750][239:559],precipitationUncal[0:0][980:2750][239:559],precipitationQualityIndex[0:0][980:2750][239:559],lat_bnds[239:559][0:1],precipitation[0:0][980:2750][239:559],probabilityLiquidPrecipitation[0:0][980:2750][239:559],randomError[0:0][980:2750][239:559],time_bnds[0:0][0:1],lon_bnds[980:2750][0:1],time,lon[980:2750],lat[239:559],latv,nv,lonv', 'https://gpm1.gesdisc.eosdis.nasa.gov/opendap/GPM_L3/GPM_3IMERGHHL.07/2019/248/3B-HHR-L.MS.MRG.3IMERG.20190905-S080000-E082959.0480.V07B.HDF5.nc4?MWprecipitation[0:0][980:2750][239:559],MWobservationTime[0:0][980:2750][239:559],IRprecipitation[0:0][980:2750][239:559],MWprecipSource[0:0][980:2750][239:559],IRinfluence[0:0][980:2750][239:559],precipitationUncal[0:0][980:2750][239:559],precipitationQualityIndex[0:0][980:2750][239:559],lat_bnds[239:559][0:1],precipitation[0:0][980:2750][239:559],probabilityLiquidPrecipitation[0:0][980:2750][239:559],randomError[0:0][980:2750][239:559],time_bnds[0:0][0:1],lon_bnds[980:2750][0:1],time,lon[980:2750],lat[239:559],latv,nv,lonv', 'https://gpm1.gesdisc.eosdis.nasa.gov/opendap/GPM_L3/GPM_3IMERGHHL.07/2019/289/3B-HHR-L.MS.MRG.3IMERG.20191016-S090000-E092959.0540.V07B.HDF5.nc4?MWprecipitation[0:0][980:2750][239:559],MWobservationTime[0:0][980:2750][239:559],IRprecipitation[0:0][980:2750][239:559],MWprecipSource[0:0][980:2750][239:559],IRinfluence[0:0][980:2750][239:559],precipitationUncal[0:0][980:2750][239:559],precipitationQualityIndex[0:0][980:2750][239:559],lat_bnds[239:559][0:1],precipitation[0:0][980:2750][239:559],probabilityLiquidPrecipitation[0:0][980:2750][239:559],randomError[0:0][980:2750][239:559],time_bnds[0:0][0:1],lon_bnds[980:2750][0:1],time,lon[980:2750],lat[239:559],latv,nv,lonv', 'https://gpm1.gesdisc.eosdis.nasa.gov/opendap/GPM_L3/GPM_3IMERGHHL.07/2019/308/3B-HHR-L.MS.MRG.3IMERG.20191104-S143000-E145959.0870.V07B.HDF5.nc4?MWprecipitation[0:0][980:2750][239:559],MWobservationTime[0:0][980:2750][239:559],IRprecipitation[0:0][980:2750][239:559],MWprecipSource[0:0][980:2750][239:559],IRinfluence[0:0][980:2750][239:559],precipitationUncal[0:0][980:2750][239:559],precipitationQualityIndex[0:0][980:2750][239:559],lat_bnds[239:559][0:1],precipitation[0:0][980:2750][239:559],probabilityLiquidPrecipitation[0:0][980:2750][239:559],randomError[0:0][980:2750][239:559],time_bnds[0:0][0:1],lon_bnds[980:2750][0:1],time,lon[980:2750],lat[239:559],latv,nv,lonv', 'https://gpm1.gesdisc.eosdis.nasa.gov/opendap/GPM_L3/GPM_3IMERGHHL.07/2019/352/3B-HHR-L.MS.MRG.3IMERG.20191218-S163000-E165959.0990.V07B.HDF5.nc4?MWprecipitation[0:0][980:2750][239:559],MWobservationTime[0:0][980:2750][239:559],IRprecipitation[0:0][980:2750][239:559],MWprecipSource[0:0][980:2750][239:559],IRinfluence[0:0][980:2750][239:559],precipitationUncal[0:0][980:2750][239:559],precipitationQualityIndex[0:0][980:2750][239:559],lat_bnds[239:559][0:1],precipitation[0:0][980:2750][239:559],probabilityLiquidPrecipitation[0:0][980:2750][239:559],randomError[0:0][980:2750][239:559],time_bnds[0:0][0:1],lon_bnds[980:2750][0:1],time,lon[980:2750],lat[239:559],latv,nv,lonv', 'https://gpm1.gesdisc.eosdis.nasa.gov/opendap/GPM_L3/GPM_3IMERGHHL.07/2020/024/3B-HHR-L.MS.MRG.3IMERG.20200124-S030000-E032959.0180.V07B.HDF5.nc4?MWprecipitation[0:0][980:2750][239:559],MWobservationTime[0:0][980:2750][239:559],IRprecipitation[0:0][980:2750][239:559],MWprecipSource[0:0][980:2750][239:559],IRinfluence[0:0][980:2750][239:559],precipitationUncal[0:0][980:2750][239:559],precipitationQualityIndex[0:0][980:2750][239:559],lat_bnds[239:559][0:1],precipitation[0:0][980:2750][239:559],probabilityLiquidPrecipitation[0:0][980:2750][239:559],randomError[0:0][980:2750][239:559],time_bnds[0:0][0:1],lon_bnds[980:2750][0:1],time,lon[980:2750],lat[239:559],latv,nv,lonv', 'https://gpm1.gesdisc.eosdis.nasa.gov/opendap/GPM_L3/GPM_3IMERGHHL.07/2020/031/3B-HHR-L.MS.MRG.3IMERG.20200131-S133000-E135959.0810.V07B.HDF5.nc4?MWprecipitation[0:0][980:2750][239:559],MWobservationTime[0:0][980:2750][239:559],IRprecipitation[0:0][980:2750][239:559],MWprecipSource[0:0][980:2750][239:559],IRinfluence[0:0][980:2750][239:559],precipitationUncal[0:0][980:2750][239:559],precipitationQualityIndex[0:0][980:2750][239:559],lat_bnds[239:559][0:1],precipitation[0:0][980:2750][239:559],probabilityLiquidPrecipitation[0:0][980:2750][239:559],randomError[0:0][980:2750][239:559],time_bnds[0:0][0:1],lon_bnds[980:2750][0:1],time,lon[980:2750],lat[239:559],latv,nv,lonv', 'https://gpm1.gesdisc.eosdis.nasa.gov/opendap/GPM_L3/GPM_3IMERGHHL.07/2020/052/3B-HHR-L.MS.MRG.3IMERG.20200221-S233000-E235959.1410.V07B.HDF5.nc4?MWprecipitation[0:0][980:2750][239:559],MWobservationTime[0:0][980:2750][239:559],IRprecipitation[0:0][980:2750][239:559],MWprecipSource[0:0][980:2750][239:559],IRinfluence[0:0][980:2750][239:559],precipitationUncal[0:0][980:2750][239:559],precipitationQualityIndex[0:0][980:2750][239:559],lat_bnds[239:559][0:1],precipitation[0:0][980:2750][239:559],probabilityLiquidPrecipitation[0:0][980:2750][239:559],randomError[0:0][980:2750][239:559],time_bnds[0:0][0:1],lon_bnds[980:2750][0:1],time,lon[980:2750],lat[239:559],latv,nv,lonv', 'https://gpm1.gesdisc.eosdis.nasa.gov/opendap/GPM_L3/GPM_3IMERGHHL.07/2020/108/3B-HHR-L.MS.MRG.3IMERG.20200417-S173000-E175959.1050.V07B.HDF5.nc4?MWprecipitation[0:0][980:2750][239:559],MWobservationTime[0:0][980:2750][239:559],IRprecipitation[0:0][980:2750][239:559],MWprecipSource[0:0][980:2750][239:559],IRinfluence[0:0][980:2750][239:559],precipitationUncal[0:0][980:2750][239:559],precipitationQualityIndex[0:0][980:2750][239:559],lat_bnds[239:559][0:1],precipitation[0:0][980:2750][239:559],probabilityLiquidPrecipitation[0:0][980:2750][239:559],randomError[0:0][980:2750][239:559],time_bnds[0:0][0:1],lon_bnds[980:2750][0:1],time,lon[980:2750],lat[239:559],latv,nv,lonv', 'https://gpm1.gesdisc.eosdis.nasa.gov/opendap/GPM_L3/GPM_3IMERGHHL.07/2020/108/3B-HHR-L.MS.MRG.3IMERG.20200417-S220000-E222959.1320.V07B.HDF5.nc4?MWprecipitation[0:0][980:2750][239:559],MWobservationTime[0:0][980:2750][239:559],IRprecipitation[0:0][980:2750][239:559],MWprecipSource[0:0][980:2750][239:559],IRinfluence[0:0][980:2750][239:559],precipitationUncal[0:0][980:2750][239:559],precipitationQualityIndex[0:0][980:2750][239:559],lat_bnds[239:559][0:1],precipitation[0:0][980:2750][239:559],probabilityLiquidPrecipitation[0:0][980:2750][239:559],randomError[0:0][980:2750][239:559],time_bnds[0:0][0:1],lon_bnds[980:2750][0:1],time,lon[980:2750],lat[239:559],latv,nv,lonv', 'https://gpm1.gesdisc.eosdis.nasa.gov/opendap/GPM_L3/GPM_3IMERGHHL.07/2020/122/3B-HHR-L.MS.MRG.3IMERG.20200501-S020000-E022959.0120.V07B.HDF5.nc4?MWprecipitation[0:0][980:2750][239:559],MWobservationTime[0:0][980:2750][239:559],IRprecipitation[0:0][980:2750][239:559],MWprecipSource[0:0][980:2750][239:559],IRinfluence[0:0][980:2750][239:559],precipitationUncal[0:0][980:2750][239:559],precipitationQualityIndex[0:0][980:2750][239:559],lat_bnds[239:559][0:1],precipitation[0:0][980:2750][239:559],probabilityLiquidPrecipitation[0:0][980:2750][239:559],randomError[0:0][980:2750][239:559],time_bnds[0:0][0:1],lon_bnds[980:2750][0:1],time,lon[980:2750],lat[239:559],latv,nv,lonv', 'https://gpm1.gesdisc.eosdis.nasa.gov/opendap/GPM_L3/GPM_3IMERGHHL.07/2020/209/3B-HHR-L.MS.MRG.3IMERG.20200727-S120000-E122959.0720.V07B.HDF5.nc4?MWprecipitation[0:0][980:2750][239:559],MWobservationTime[0:0][980:2750][239:559],IRprecipitation[0:0][980:2750][239:559],MWprecipSource[0:0][980:2750][239:559],IRinfluence[0:0][980:2750][239:559],precipitationUncal[0:0][980:2750][239:559],precipitationQualityIndex[0:0][980:2750][239:559],lat_bnds[239:559][0:1],precipitation[0:0][980:2750][239:559],probabilityLiquidPrecipitation[0:0][980:2750][239:559],randomError[0:0][980:2750][239:559],time_bnds[0:0][0:1],lon_bnds[980:2750][0:1],time,lon[980:2750],lat[239:559],latv,nv,lonv', 'https://gpm1.gesdisc.eosdis.nasa.gov/opendap/GPM_L3/GPM_3IMERGHHL.07/2020/317/3B-HHR-L.MS.MRG.3IMERG.20201112-S033000-E035959.0210.V07B.HDF5.nc4?MWprecipitation[0:0][980:2750][239:559],MWobservationTime[0:0][980:2750][239:559],IRprecipitation[0:0][980:2750][239:559],MWprecipSource[0:0][980:2750][239:559],IRinfluence[0:0][980:2750][239:559],precipitationUncal[0:0][980:2750][239:559],precipitationQualityIndex[0:0][980:2750][239:559],lat_bnds[239:559][0:1],precipitation[0:0][980:2750][239:559],probabilityLiquidPrecipitation[0:0][980:2750][239:559],randomError[0:0][980:2750][239:559],time_bnds[0:0][0:1],lon_bnds[980:2750][0:1],time,lon[980:2750],lat[239:559],latv,nv,lonv', 'https://gpm1.gesdisc.eosdis.nasa.gov/opendap/GPM_L3/GPM_3IMERGHHL.07/2020/318/3B-HHR-L.MS.MRG.3IMERG.20201113-S213000-E215959.1290.V07B.HDF5.nc4?MWprecipitation[0:0][980:2750][239:559],MWobservationTime[0:0][980:2750][239:559],IRprecipitation[0:0][980:2750][239:559],MWprecipSource[0:0][980:2750][239:559],IRinfluence[0:0][980:2750][239:559],precipitationUncal[0:0][980:2750][239:559],precipitationQualityIndex[0:0][980:2750][239:559],lat_bnds[239:559][0:1],precipitation[0:0][980:2750][239:559],probabilityLiquidPrecipitation[0:0][980:2750][239:559],randomError[0:0][980:2750][239:559],time_bnds[0:0][0:1],lon_bnds[980:2750][0:1],time,lon[980:2750],lat[239:559],latv,nv,lonv']\n",
      "21\n"
     ]
    }
   ],
   "source": [
    "print(echec_list)\n",
    "print(len(echec_list))"
   ]
  },
  {
   "cell_type": "code",
   "execution_count": 4,
   "metadata": {},
   "outputs": [
    {
     "name": "stderr",
     "output_type": "stream",
     "text": [
      "Téléchargement des fichiers: 100%|██████████| 21/21 [00:42<00:00,  2.03s/it]"
     ]
    },
    {
     "name": "stdout",
     "output_type": "stream",
     "text": [
      "✅ Tous les téléchargements terminés.\n"
     ]
    },
    {
     "name": "stderr",
     "output_type": "stream",
     "text": [
      "\n"
     ]
    }
   ],
   "source": [
    "with ThreadPoolExecutor(max_workers=max_threads) as executor:\n",
    "    futures = {executor.submit(download_file, url): url for url in echec_list}\n",
    "    for future in tqdm(as_completed(futures), total=len(futures), desc=\"Téléchargement des fichiers\"):\n",
    "        url, success, error = future.result()\n",
    "        if not success:\n",
    "            print(f\"❌ Échec: {url}\\n   ↳ {error}\")\n",
    "            echec_list.append(url)\n",
    "\n",
    "print(\"✅ Tous les téléchargements terminés.\")"
   ]
  },
  {
   "cell_type": "markdown",
   "metadata": {},
   "source": [
    "### Vérification que l'ensemble des données ont bien été telechargées"
   ]
  },
  {
   "cell_type": "code",
   "execution_count": 27,
   "metadata": {},
   "outputs": [
    {
     "name": "stdout",
     "output_type": "stream",
     "text": [
      "73297 files from 2017-10-06 to 2021-12-10\n"
     ]
    }
   ],
   "source": [
    "gpm_files = []\n",
    "\n",
    "# dates souhaitées :  2017-10-06 to 2021-12-10\n",
    "gpm_dates = Api_GPM.get_gpm_file_name(datetime(2017, 10, 6), datetime(2021, 12, 11))\n",
    "print(len(gpm_dates), \"files from 2017-10-06 to 2021-12-10\")\n",
    "\n",
    "# Ajout du reste du nom des fichiers\n",
    "for dates in gpm_dates :\n",
    "    gpm_files.append(f\"3B-HHR-L.MS.MRG.3IMERG.{dates}.V07B.HDF5.nc4\")"
   ]
  },
  {
   "cell_type": "code",
   "execution_count": 31,
   "metadata": {},
   "outputs": [
    {
     "name": "stdout",
     "output_type": "stream",
     "text": [
      "Download files :  3B-HHR-L.MS.MRG.3IMERG.20211210-S233000-E235959.1410.V07B.HDF5.nc4\n",
      "File list      :  3B-HHR-L.MS.MRG.3IMERG.20211211-S000000-E002959.0000.V07B.HDF5.nc4\n"
     ]
    },
    {
     "name": "stderr",
     "output_type": "stream",
     "text": [
      "100%|██████████| 73295/73295 [00:48<00:00, 1502.96it/s]"
     ]
    },
    {
     "name": "stdout",
     "output_type": "stream",
     "text": [
      "All files found in the folder\n"
     ]
    },
    {
     "name": "stderr",
     "output_type": "stream",
     "text": [
      "\n"
     ]
    }
   ],
   "source": [
    "# Verification des dates des derniers fichiers telechargés\n",
    "files_gpm_dwld = [f for f in os.listdir(\"e:/Downloads/GPM_data/\") if not f.endswith('.pdf')]\n",
    "files_gpm_dwld.sort()\n",
    "print(\"Download files : \",files_gpm_dwld[-1])\n",
    "print(\"File list      : \",gpm_files[-1])\n",
    "\n",
    "# Verification de la présence de tous les fichiers dans le dossier de téléchargement\n",
    "files_not_found = []\n",
    "for file in tqdm(files_gpm_dwld):\n",
    "    if file not in gpm_files:\n",
    "        print(file, 'not in folder')\n",
    "        files_not_found.append(file)\n",
    "if len(files_not_found) > 0:\n",
    "    print(\"Files not found : \", files_not_found)\n",
    "else :\n",
    "    print(\"All files found in the folder\")"
   ]
  },
  {
   "cell_type": "code",
   "execution_count": null,
   "metadata": {},
   "outputs": [],
   "source": []
  }
 ],
 "metadata": {
  "kernelspec": {
   "display_name": "rain",
   "language": "python",
   "name": "python3"
  },
  "language_info": {
   "codemirror_mode": {
    "name": "ipython",
    "version": 3
   },
   "file_extension": ".py",
   "mimetype": "text/x-python",
   "name": "python",
   "nbconvert_exporter": "python",
   "pygments_lexer": "ipython3",
   "version": "3.12.7"
  },
  "orig_nbformat": 4
 },
 "nbformat": 4,
 "nbformat_minor": 2
}
