{
 "cells": [
  {
   "cell_type": "code",
   "execution_count": null,
   "id": "841196fb",
   "metadata": {},
   "outputs": [],
   "source": [
    "import sys\n",
    "import os\n",
    "import numpy as np\n",
    "import random\n",
    "import matplotlib.pyplot as plt\n",
    "sys.path.append('../src/')\n",
    "from Biologging_Toolkit.applications.Drift_Dives import DriftDives"
   ]
  },
  {
   "cell_type": "code",
   "execution_count": null,
   "outputs": [],
   "source": [
    "depids = ['ml17_280a','ml18_296a','ml18_294b','ml19_292a','ml19_292b','ml19_293a','ml19_294a','ml20_293a','ml20_296b','ml20_313a','ml21_295a','ml21_305b']\n",
    "depid = depids[1]\n",
    "path = f'D:/individus_brut/individus/{depid}/'\n",
    "sens_path = f'D:/individus_brut/CTD/{depid}/{depid}sens5.nc'"
   ],
   "metadata": {
    "collapsed": false
   }
  },
  {
   "cell_type": "markdown",
   "id": "9c3d5182",
   "metadata": {},
   "source": [
    "### Get drift dives\n"
   ]
  },
  {
   "cell_type": "code",
   "execution_count": null,
   "id": "1872883f",
   "metadata": {},
   "outputs": [],
   "source": [
    "inst = DriftDives(depid,\n",
    "            path = path,\n",
    "            sens_path = sens_path\n",
    "            )"
   ]
  },
  {
   "cell_type": "markdown",
   "id": "4f9a95f1",
   "metadata": {},
   "source": [
    "#### Choose method to identify drift dives ('inertial', 'depth')"
   ]
  },
  {
   "cell_type": "code",
   "execution_count": null,
   "outputs": [],
   "source": [
    "inst(mode = 'depth', overwrite = True)"
   ],
   "metadata": {
    "collapsed": false
   }
  },
  {
   "cell_type": "code",
   "execution_count": null,
   "outputs": [],
   "source": [
    "inst.acoustic_cluster(acoustic_path=os.path.join(path, 'dives'))"
   ],
   "metadata": {
    "collapsed": false
   }
  },
  {
   "cell_type": "markdown",
   "source": [
    "### SEE CLUSTERING RESULTS"
   ],
   "metadata": {
    "collapsed": false
   }
  },
  {
   "cell_type": "code",
   "execution_count": null,
   "outputs": [],
   "source": [
    "fig, ax = plt.subplots(1,2, figsize = (15,8))\n",
    "labels = inst.clusterer.labels_\n",
    "scatter = plt.scatter(inst.embed[:, 0], inst.embed[:, 1], c=labels)\n",
    "dives = inst.ds['dives'][:]\n",
    "acc_drifts = inst.ds['acc_drift'][:]\n",
    "labels = []\n",
    "for fn in inst.cluster_fns :\n",
    "    dive = int(fn.split('.')[0][-4:])\n",
    "    if np.all(acc_drifts[dives == dive] == 0) == False :\n",
    "        labels.append(1)\n",
    "    else :\n",
    "        labels.append(0)\n",
    "scatter = ax[0].scatter(inst.embed[:, 0], inst.embed[:, 1], c=labels, s = 1)\n",
    "for label in np.unique(labels):\n",
    "    ax[0].scatter([], [], c=scatter.cmap(scatter.norm(label)), label=f'Cluster {label}')\n",
    "ax[0].legend(title=\"Clusters\")\n",
    "labels = inst.clusterer.labels_\n",
    "scatter = ax[1].scatter(inst.embed[:, 0], inst.embed[:, 1], c=labels, s = 1)\n",
    "for label in np.unique(labels):\n",
    "    ax[1].scatter([], [], c=scatter.cmap(scatter.norm(label)), label=f'Cluster {label}')\n",
    "ax[1].legend(title=\"Clusters\")\n",
    "fig.show()"
   ],
   "metadata": {
    "collapsed": false
   }
  },
  {
   "cell_type": "markdown",
   "source": [
    "### SHOW SPECTROGRAMS FROM ONE CLUSTER"
   ],
   "metadata": {
    "collapsed": false
   }
  },
  {
   "cell_type": "code",
   "execution_count": null,
   "outputs": [],
   "source": [
    "cluster = 0\n",
    "drift = inst.cluster_fns[labels == 1]\n",
    "fig, ax = plt.subplots(3,3, figsize = (15,15))\n",
    "ax = ax.flatten()\n",
    "random.shuffle(drift)\n",
    "for i, _drift in enumerate(drift[:9]) :\n",
    "    ax[i].imshow(np.load(_drift)['spectro'].T, origin = 'lower')"
   ],
   "metadata": {
    "collapsed": false
   }
  },
  {
   "cell_type": "code",
   "execution_count": null,
   "outputs": [],
   "source": [
    "cluster = 0\n",
    "inst.save_cluster(cluster = cluster)"
   ],
   "metadata": {
    "collapsed": false
   }
  },
  {
   "cell_type": "code",
   "execution_count": null,
   "outputs": [],
   "source": [
    "inst.ds.close()"
   ],
   "metadata": {
    "collapsed": false
   }
  },
  {
   "cell_type": "markdown",
   "source": [
    "### RUN ALL SES"
   ],
   "metadata": {
    "collapsed": false
   }
  },
  {
   "cell_type": "code",
   "execution_count": null,
   "outputs": [],
   "source": [
    "import umap\n",
    "import hdbscan\n",
    "labels = []\n",
    "X = []\n",
    "for depid in depids:\n",
    "    path = f'D:/individus_brut/individus/{depid}/'\n",
    "    sens_path = f'D:/individus_brut/CTD/{depid}/{depid}sens5.nc'\n",
    "    inst = DriftDives(depid,\n",
    "                      path=path,\n",
    "                      analysis_length=60,\n",
    "                      sens_path=sens_path)\n",
    "    inst.acoustic_cluster(acoustic_path=os.path.join(path, 'dives'))\n",
    "    X.extend(inst.X)\n",
    "    acc_drifts  = inst.ds['acc_drift'][:].data\n",
    "    dives = inst.ds['dives'][:].data\n",
    "    for fn in inst.cluster_fns :\n",
    "        dive = int(fn.split('.')[0][-4:])\n",
    "        if np.all(acc_drifts[dives == dive] == 0) == False :\n",
    "            labels.append(1)\n",
    "        else :\n",
    "            labels.append(0)"
   ],
   "metadata": {
    "collapsed": false
   }
  },
  {
   "cell_type": "code",
   "execution_count": null,
   "outputs": [],
   "source": [
    "project = umap.UMAP()\n",
    "embed = project.fit_transform(X)\n",
    "clusterer = hdbscan.HDBSCAN(min_cluster_size=50, min_samples=10).fit(embed)\n",
    "fig, ax = plt.subplots(1,2, figsize = (15,8))\n",
    "scatter = ax[0].scatter(embed[:,0], embed[:,1], c=labels, s = 1)\n",
    "for label in np.unique(labels):\n",
    "    ax[0].scatter([], [], c=scatter.cmap(scatter.norm(label)), label=f'Cluster {label}')\n",
    "ax[0].legend(title=\"Clusters\")\n",
    "scatter = ax[1].scatter(embed[:,0], embed[:,1], c=clusterer.labels_, s = 1)\n",
    "for label in np.unique(clusterer.labels_):\n",
    "    ax[1].scatter([], [], c=scatter.cmap(scatter.norm(label)), label=f'Cluster {label}')\n",
    "ax[1].legend(title=\"Clusters\")\n",
    "fig.show()"
   ],
   "metadata": {
    "collapsed": false
   }
  },
  {
   "cell_type": "code",
   "execution_count": null,
   "outputs": [],
   "source": [
    "import netCDF4 as nc\n",
    "import pandas as pd\n",
    "from scipy.interpolate import interp1d\n",
    "for depid in depids :\n",
    "    path = f'D:/individus_brut/individus/{depid}/'\n",
    "    ds = nc.Dataset(os.path.join(path, f'{depid}_sens.nc'))\n",
    "    df = pd.read_csv(os.path.join(path, f'{depid}_dive.csv'))\n",
    "    timestamps = ds['time'][:].data\n",
    "    lat_interp = interp1d(timestamps, ds['lat'][:].data)\n",
    "    lon_interp = interp1d(timestamps, ds['lon'][:].data)\n",
    "    acc = ds['acc_drift'][:].data\n",
    "    dives = ds['dives'][:].data\n",
    "    cluster_drifts = ds['cluster_drifts'][:].data\n",
    "    df['end_lat'] = lat_interp(df.end_time)\n",
    "    df['end_lon'] = lon_interp(df.end_time)\n",
    "    _acc = []\n",
    "    _clust = []\n",
    "    for dive in np.unique(dives) :\n",
    "        if np.all(acc[dives == dive] == 0) == False :\n",
    "            _acc.append(1)\n",
    "        else :\n",
    "            _acc.append(0)\n",
    "        if np.all(cluster_drifts[dives == dive] == 0) == False :\n",
    "            _clust.append(0)\n",
    "        else :\n",
    "            _clust.append(1)\n",
    "    df['acc_drifts'] = _acc\n",
    "    df['cluster_drifts'] = _clust\n",
    "    df.to_csv(os.path.join(path, f'{depid}_dive.csv'), index = None)"
   ],
   "metadata": {
    "collapsed": false
   }
  },
  {
   "cell_type": "code",
   "execution_count": null,
   "outputs": [],
   "source": [
    "import netCDF4 as nc\n",
    "import pandas as pd\n",
    "from scipy.interpolate import interp1d\n",
    "for depid in depids :\n",
    "    path = f'D:/individus_brut/individus/{depid}/'\n",
    "    df = pd.read_csv(os.path.join(path, f'{depid}_dive.csv'))\n",
    "    print(np.isin(np.where(df.cluster_drifts == 1), np.where(df.acc_drifts == 1)).sum()/len(df[df.cluster_drifts == 1]))"
   ],
   "metadata": {
    "collapsed": false
   }
  }
 ],
 "metadata": {
  "kernelspec": {
   "display_name": "Python 3 (ipykernel)",
   "language": "python",
   "name": "python3"
  },
  "language_info": {
   "codemirror_mode": {
    "name": "ipython",
    "version": 3
   },
   "file_extension": ".py",
   "mimetype": "text/x-python",
   "name": "python",
   "nbconvert_exporter": "python",
   "pygments_lexer": "ipython3",
   "version": "3.12.3"
  }
 },
 "nbformat": 4,
 "nbformat_minor": 5
}
