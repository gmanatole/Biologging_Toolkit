{
 "cells": [
  {
   "cell_type": "code",
   "id": "841196fb",
   "metadata": {},
   "source": [
    "import sklearn.metrics\n",
    "from sklearn.metrics import confusion_matrix\n",
    "%load_ext autoreload\n",
    "%autoreload 2\n",
    "import sys\n",
    "import os\n",
    "import numpy as np\n",
    "import random\n",
    "import pandas as pd\n",
    "import netCDF4 as nc\n",
    "import matplotlib.pyplot as plt\n",
    "sys.path.append('../src/')\n",
    "from Biologging_Toolkit.applications.Drift_Dives import DriftDives\n",
    "from Biologging_Toolkit.plot.dives import *"
   ],
   "outputs": [],
   "execution_count": null
  },
  {
   "cell_type": "code",
   "source": [
    "depids = ['ml17_280a','ml18_296a','ml18_294b','ml19_292a','ml19_293a','ml19_292b','ml19_294a','ml20_293a','ml20_296b','ml20_313a','ml21_295a','ml21_305b']\n",
    "depid = depids[1]\n",
    "path = f'D:/individus_brut/individus/{depid}/'\n",
    "acoustic_path = os.path.join(path, 'dives')\n",
    "sens_path = f'D:/individus_brut/CTD/{depid}/{depid}sens5.nc'"
   ],
   "metadata": {
    "collapsed": false
   },
   "id": "577b77fe2f3283e6",
   "outputs": [],
   "execution_count": null
  },
  {
   "cell_type": "markdown",
   "id": "9c3d5182",
   "metadata": {},
   "source": [
    "### Get drift dives\n"
   ]
  },
  {
   "cell_type": "code",
   "id": "1872883f",
   "metadata": {},
   "source": [
    "inst = DriftDives(depid,\n",
    "            path = path,\n",
    "            sens_path = sens_path\n",
    "            )"
   ],
   "outputs": [],
   "execution_count": null
  },
  {
   "metadata": {},
   "cell_type": "markdown",
   "source": [
    " #### Choose method to identify drift dives ('inertial', 'depth')"
   ],
   "id": "4f9a95f1"
  },
  {
   "metadata": {
    "collapsed": false
   },
   "cell_type": "code",
   "source": [
    "inst.acoustic_cluster(acoustic_path=os.path.join(path, 'dives'),\n",
    "                      freqs = [0, 500],\n",
    "                      bathy = [-30000, -300],\n",
    "                      sort = True, tmin = 1, tmax = 12, timestep = 1,\n",
    "                      freq_sampling = 'linear', nfeatures = 513, min_cluster_size=15, min_samples=10)"
   ],
   "id": "6aa4cf1e39bc2e91",
   "outputs": [],
   "execution_count": null
  },
  {
   "cell_type": "code",
   "source": [
    "inst.acoustic_cluster(min_cluster_size = 40, min_samples = 30, computed = True)"
   ],
   "metadata": {
    "collapsed": false
   },
   "id": "c4cf29da06a7cc71",
   "outputs": [],
   "execution_count": null
  },
  {
   "cell_type": "markdown",
   "source": [
    "### SEE CLUSTERING RESULTS"
   ],
   "metadata": {
    "collapsed": false
   },
   "id": "24cc863830bd346b"
  },
  {
   "cell_type": "code",
   "source": [
    " plot_clusters(inst, save = True, save_path = 'C:/Users/grosmaan/Desktop/Results')"
   ],
   "metadata": {
    "collapsed": false
   },
   "id": "438e99b9b15ba392",
   "outputs": [],
   "execution_count": null
  },
  {
   "metadata": {},
   "cell_type": "code",
   "source": [
    "inst.compute_metric(cluster = [0])"
   ],
   "id": "efd68b96b2520e4b",
   "outputs": [],
   "execution_count": null
  },
  {
   "cell_type": "code",
   "source": [
    "isolate_clusters(inst, clusters = [2,3,4])"
   ],
   "metadata": {
    "collapsed": false
   },
   "id": "bcba8b5ee8f522a",
   "outputs": [],
   "execution_count": null
  },
  {
   "cell_type": "code",
   "source": [
    "inst.save_cluster(cluster = [4,5], overwrite = True, **{'nfeature':513, 'type':'linear','tmin':1,'tmax':11,'timestep':1})"
   ],
   "metadata": {
    "collapsed": false
   },
   "id": "d760fe1091617be0",
   "outputs": [],
   "execution_count": null
  },
  {
   "metadata": {},
   "cell_type": "code",
   "source": [
    "dives = inst.ds['dives'][:].data\n",
    "acc_drifts = inst.ds['acc_drift'][:].data\n",
    "inertial_drifts = inst.ds['inertial_drift'][:].data\n",
    "cluster_drifts = inst.ds['cluster_drifts'][:].data\n",
    "cluster_drifts[dives == 455]\n",
    "#np.all(acc_drifts[dives == 455] == 0)"
   ],
   "id": "72ba88520be18e47",
   "outputs": [],
   "execution_count": null
  },
  {
   "metadata": {},
   "cell_type": "code",
   "source": [
    "np.unique(cluster_drifts)"
   ],
   "id": "a79a2fed8c6ba41f",
   "outputs": [],
   "execution_count": null
  },
  {
   "cell_type": "code",
   "source": [
    "acc_drift = inst.ds['acc_drift'][:].data.astype(bool)\n",
    "depth_drift = inst.ds['depth_drift'][:].data.astype(bool)\n",
    "drift = acc_drift & depth_drift\n",
    "drift = drift.astype(int)\n",
    "dives = inst.ds['dives'][:].data\n",
    "start = inst.start[np.isin(inst.clusterer.labels_, [0])]\n",
    "stop = inst.stop[np.isin(inst.clusterer.labels_, [0])]\n",
    "timestamps = inst.ds['time'][:]\n",
    "drifts = np.zeros((len(timestamps)))\n",
    "for _start, _stop in zip(start, stop):\n",
    "    drifts[(timestamps >= _start) & (timestamps <= _stop)] = 1\n",
    "bank_angle = inst.ds['bank_angle'][:].data\n",
    "depths = inst.ds['depth'][:].data\n",
    "unique_dives = np.unique(dives)\n",
    "label_drift=[]\n",
    "for dive in [int(_dive[-9:-4]) for _dive in inst.cluster_fns] :\n",
    "    if np.all(drift[dives == dive] == 0) == False :\n",
    "        label_drift.append(1)\n",
    "    else :\n",
    "        label_drift.append(0)\n",
    "count = 0\n",
    "for j, dive in enumerate([int(_dive[-9:-4]) for _dive in inst.cluster_fns]) :\n",
    "    _cluster = drifts[dives == dive][0]\n",
    "    if _cluster == 1 :\n",
    "        #if label_drift[j] == 1 :\n",
    "        count += 1\n",
    "        fig, ax = plt.subplots(1, 2)\n",
    "        ax1 = ax[0].twinx()\n",
    "        ax[0].plot(depths[dives == dive])\n",
    "        ax1.scatter(np.arange(0, len(bank_angle[dives == dive])),\n",
    "                                bank_angle[dives == dive], s = 2, c = 'orange')\n",
    "        ax[1].imshow(np.load(f'D:/individus_brut/individus/{depid}/dives/acoustic_dive_{int(dive):05}.npz')['spectro'].T, origin = 'lower')\n",
    "        fig.show()\n",
    "print(count)"
   ],
   "metadata": {
    "collapsed": false
   },
   "id": "6e8f0c7163936dda",
   "outputs": [],
   "execution_count": null
  },
  {
   "cell_type": "markdown",
   "source": [
    "### Threshold"
   ],
   "metadata": {
    "collapsed": false
   },
   "id": "b3abe9e0796de0d5"
  },
  {
   "cell_type": "code",
   "source": [
    "thresholds = [-15, -10, -5]\n",
    "acoustic_drift = []\n",
    "for thresh in thresholds :\n",
    "    inst.acoustic_feature_threshold(frequency = list(range(30,45)), acoustic_path = acoustic_path, threshold = thresh)\n",
    "    acoustic_drift.append(inst.acoustic_drifts)"
   ],
   "metadata": {
    "collapsed": false
   },
   "id": "d6e3bf75d38e0690",
   "outputs": [],
   "execution_count": null
  },
  {
   "cell_type": "code",
   "source": [
    "acc_drift = inst.ds['acc_drift'][:].data\n",
    "depth_drift = inst.ds['depth_drift'][:].data\n",
    "dives = inst.ds['dives'][:].data\n",
    "inertial = inst.ds['inertial_drift'][:].data\n",
    "unique_dives = np.unique(dives)"
   ],
   "metadata": {
    "collapsed": false
   },
   "id": "a6ab1c48aaeca4c2",
   "outputs": [],
   "execution_count": null
  },
  {
   "cell_type": "code",
   "source": [
    "acc_dive, depth_dive, inert_dive, thres1, thres2, thres3 = [],[],[],[],[], []\n",
    "for dive in unique_dives:\n",
    "    acc_dive.append(np.any(acc_drift[dives == dive] == 1))\n",
    "    depth_dive.append(np.any(depth_drift[dives == dive] == 1))\n",
    "    inert_dive.append(np.any(inertial[dives == dive] == 1))"
   ],
   "metadata": {
    "collapsed": false
   },
   "id": "845532acc9abdeeb",
   "outputs": [],
   "execution_count": null
  },
  {
   "cell_type": "code",
   "source": [
    "label = np.array(acc_dive) & np.array(depth_dive)\n",
    "print(confusion_matrix(label, acc_dive))\n",
    "print(confusion_matrix(label, depth_dive))\n",
    "print(confusion_matrix(label, inert_dive))"
   ],
   "metadata": {
    "collapsed": false
   },
   "id": "802d04a344970e72",
   "outputs": [],
   "execution_count": null
  },
  {
   "cell_type": "markdown",
   "source": [
    "### Save daily drift dives"
   ],
   "metadata": {
    "collapsed": false
   },
   "id": "e727dee9343ad54f"
  },
  {
   "cell_type": "code",
   "source": [
    "print(depid)\n",
    "path = f'D:/individus_brut/individus/{depid}/'\n",
    "ds = nc.Dataset(os.path.join(path, f'{depid}_sens.nc'))\n",
    "df = pd.DataFrame({'time':ds['time'][:].data, 'lat':ds['lat'][:].data, 'lon':ds['lon'][:].data,\n",
    "                   'dive':ds['dives'][:].data,\n",
    "                   'inert': ds['inertial_drift'][:].data.astype(bool),\n",
    "                   'cluster': ds['cluster_drifts'][:].data})\n",
    "df = df.groupby('dive').agg({'time':'mean', 'cluster':'max','lat':'mean','lon':'mean'})\n",
    "df['datetime'] = pd.to_datetime(df[\"time\"], unit=\"s\", utc=True)\n",
    "df[\"month_day\"] = df[\"datetime\"].dt.strftime(\"%m-%d\")\n",
    "df = df.groupby(\"month_day\").agg({'lat':'mean', 'lon':'mean','cluster':'sum'})\n",
    "#df.inert[df.bathy > -1] = 0\n",
    "#df['inert_drift'] = 3*df.inert\n",
    "df.to_csv(f'C:/Users/grosmaan/Desktop/QGIS/{depid}_deep.csv')"
   ],
   "metadata": {
    "collapsed": false
   },
   "id": "f4fb69aac48a2a2",
   "outputs": [],
   "execution_count": null
  },
  {
   "cell_type": "code",
   "execution_count": null,
   "outputs": [],
   "source": [
    "df.cluster"
   ],
   "metadata": {
    "collapsed": false
   }
  },
  {
   "cell_type": "code",
   "source": [
    "plt.scatter(df.lon, df.lat, s=df.inert_drift/100)"
   ],
   "metadata": {
    "collapsed": false
   },
   "id": "3199fdc393423a86",
   "outputs": [],
   "execution_count": null
  },
  {
   "cell_type": "code",
   "source": [
    "plt.plot(ds['depth'][:].data[ds['cluster_drifts'][:].data == 0][200000:210000])"
   ],
   "metadata": {
    "collapsed": false
   },
   "id": "9e5e6301b3b15596",
   "outputs": [],
   "execution_count": null
  },
  {
   "cell_type": "markdown",
   "source": [
    "### Check results"
   ],
   "metadata": {
    "collapsed": false
   },
   "id": "664e831effc5d74e"
  },
  {
   "cell_type": "code",
   "source": [
    "for depid in depids :\n",
    "    path = f'D:/individus_brut/individus/{depid}/'\n",
    "    acoustic_path = os.path.join(path, 'dives')\n",
    "    sens_path = f'D:/individus_brut/CTD/{depid}/{depid}sens5.nc'\n",
    "    inst = DriftDives(depid,\n",
    "            path = path,\n",
    "            sens_path = sens_path\n",
    "            )\n",
    "    acc_drift = inst.ds['acc_drift'][:].data\n",
    "    depth_drift = inst.ds['depth_drift'][:].data\n",
    "    dives = inst.ds['dives'][:].data\n",
    "    acoustic = inst.ds['cluster_drifts'][:].data\n",
    "    acc_dive, depth_dive, inert_dive, clust_dive = [],[],[],[]\n",
    "    for dive in unique_dives:\n",
    "        acc_dive.append(np.any(acc_drift[dives == dive] == 1))\n",
    "        depth_dive.append(np.any(depth_drift[dives == dive] == 1))\n",
    "        clust_dive.append(np.any(acoustic[dives == dive] == 1))\n",
    "    print(depid)\n",
    "    label = np.array(acc_dive) & np.array(depth_dive)\n",
    "    print(confusion_matrix(label, clust_dive))\n"
   ],
   "metadata": {
    "collapsed": false
   },
   "id": "de68c299216feeff",
   "outputs": [],
   "execution_count": null
  },
  {
   "cell_type": "markdown",
   "source": [
    " ### SHOW SPECTROGRAMS FROM ONE CLUSTER"
   ],
   "metadata": {
    "collapsed": false
   },
   "id": "41fbf5913771807d"
  },
  {
   "cell_type": "code",
   "source": [
    "cluster = 0\n",
    "drift = inst.cluster_fns[labels == 1]\n",
    "fig, ax = plt.subplots(3,3, figsize = (15,15))\n",
    "ax = ax.flatten()\n",
    "random.shuffle(drift)\n",
    "for i, _drift in enumerate(drift[:9]) :\n",
    "    ax[i].imshow(np.load(_drift)['spectro'].T, origin = 'lower')"
   ],
   "metadata": {
    "collapsed": false
   },
   "id": "22a1035c5b042856",
   "outputs": [],
   "execution_count": null
  },
  {
   "cell_type": "code",
   "source": [
    "cluster = 0\n",
    "inst.save_cluster(cluster = cluster)"
   ],
   "metadata": {
    "collapsed": false
   },
   "id": "88dc16c9ec7216b5",
   "outputs": [],
   "execution_count": null
  },
  {
   "cell_type": "code",
   "source": [
    "inst.ds.close()"
   ],
   "metadata": {
    "collapsed": false
   },
   "id": "ff50fc80244d5989",
   "outputs": [],
   "execution_count": null
  },
  {
   "cell_type": "markdown",
   "source": [
    "### RUN ALL SES"
   ],
   "metadata": {
    "collapsed": false
   },
   "id": "ae788bf255ac1859"
  },
  {
   "cell_type": "code",
   "source": [
    "ground_truth = []\n",
    "preds = []\n",
    "for depid in depids[:-1] :\n",
    "    path = f'D:/individus_brut/individus/{depid}/'\n",
    "    sens_path = f'D:/individus_brut/CTD/{depid}/{depid}sens5.nc'\n",
    "    inst = DriftDives(depid,\n",
    "                      path=path,\n",
    "                      sens_path=sens_path)\n",
    "    _ground_truth = inst.ds['depth_drift'][:].data.astype(bool) & inst.ds['acc_drift'][:].data.astype(bool)\n",
    "    ground_truth.extend(_ground_truth.astype(int))\n",
    "    preds.extend(inst.ds['cluster_drifts'][:].data if 'cluster_drifts' in inst.ds.variables.keys() else np.full(len(ground_truth), np.nan))"
   ],
   "metadata": {
    "collapsed": false
   },
   "id": "a2077a26e2287fe5",
   "outputs": [],
   "execution_count": null
  },
  {
   "cell_type": "code",
   "source": [
    "import sklearn\n",
    "sklearn.metrics.confusion_matrix(ground_truth, preds)"
   ],
   "metadata": {
    "collapsed": false
   },
   "id": "60920262d49036e5",
   "outputs": [],
   "execution_count": null
  },
  {
   "cell_type": "code",
   "source": [
    "import umap\n",
    "import hdbscan\n",
    "labels = []\n",
    "X = []\n",
    "for depid in depids:\n",
    "    path = f'D:/individus_brut/individus/{depid}/'\n",
    "    sens_path = f'D:/individus_brut/CTD/{depid}/{depid}sens5.nc'\n",
    "    inst = DriftDives(depid,\n",
    "                      path=path,\n",
    "                      analysis_length=60,\n",
    "                      sens_path=sens_path)\n",
    "    inst.acoustic_cluster(acoustic_path=os.path.join(path, 'dives'))\n",
    "    X.extend(inst.X)\n",
    "    acc_drifts  = inst.ds['acc_drift'][:].data\n",
    "    dives = inst.ds['dives'][:].data\n",
    "    for fn in inst.cluster_fns :\n",
    "        dive = int(fn.split('.')[0][-4:])\n",
    "        if np.all(acc_drifts[dives == dive] == 0) == False :\n",
    "            labels.append(1)\n",
    "        else :\n",
    "            labels.append(0)"
   ],
   "metadata": {
    "collapsed": false
   },
   "id": "9ca4f4ea37e32689",
   "outputs": [],
   "execution_count": null
  },
  {
   "cell_type": "code",
   "source": [
    "project = umap.UMAP()\n",
    "embed = project.fit_transform(X)\n",
    "clusterer = hdbscan.HDBSCAN(min_cluster_size=50, min_samples=10).fit(embed)\n",
    "fig, ax = plt.subplots(1,2, figsize = (15,8))\n",
    "scatter = ax[0].scatter(embed[:,0], embed[:,1], c=labels, s = 1)\n",
    "for label in np.unique(labels):\n",
    "    ax[0].scatter([], [], c=scatter.cmap(scatter.norm(label)), label=f'Cluster {label}')\n",
    "ax[0].legend(title=\"Clusters\")\n",
    "scatter = ax[1].scatter(embed[:,0], embed[:,1], c=clusterer.labels_, s = 1)\n",
    "for label in np.unique(clusterer.labels_):\n",
    "    ax[1].scatter([], [], c=scatter.cmap(scatter.norm(label)), label=f'Cluster {label}')\n",
    "ax[1].legend(title=\"Clusters\")\n",
    "fig.show()"
   ],
   "metadata": {
    "collapsed": false
   },
   "id": "7ea859dce72b45f1",
   "outputs": [],
   "execution_count": null
  },
  {
   "cell_type": "code",
   "source": [
    "import netCDF4 as nc\n",
    "import pandas as pd\n",
    "from scipy.interpolate import interp1d\n",
    "for depid in depids :\n",
    "    path = f'D:/individus_brut/individus/{depid}/'\n",
    "    ds = nc.Dataset(os.path.join(path, f'{depid}_sens.nc'))\n",
    "    df = pd.read_csv(os.path.join(path, f'{depid}_dive.csv'))\n",
    "    timestamps = ds['time'][:].data\n",
    "    lat_interp = interp1d(timestamps, ds['lat'][:].data)\n",
    "    lon_interp = interp1d(timestamps, ds['lon'][:].data)\n",
    "    acc = ds['acc_drift'][:].data\n",
    "    dives = ds['dives'][:].data\n",
    "    cluster_drifts = ds['cluster_drifts'][:].data\n",
    "    df['end_lat'] = lat_interp(df.end_time)\n",
    "    df['end_lon'] = lon_interp(df.end_time)\n",
    "    _acc = []\n",
    "    _clust = []\n",
    "    for dive in np.unique(dives) :\n",
    "        if np.all(acc[dives == dive] == 0) == False :\n",
    "            _acc.append(1)\n",
    "        else :\n",
    "            _acc.append(0)\n",
    "        if np.all(cluster_drifts[dives == dive] == 0) == False :\n",
    "            _clust.append(0)\n",
    "        else :\n",
    "            _clust.append(1)\n",
    "    df['acc_drifts'] = _acc\n",
    "    df['cluster_drifts'] = _clust\n",
    "    df.to_csv(os.path.join(path, f'{depid}_dive.csv'), index = None)"
   ],
   "metadata": {
    "collapsed": false
   },
   "id": "8c11476463f43227",
   "outputs": [],
   "execution_count": null
  },
  {
   "cell_type": "code",
   "source": [
    "import netCDF4 as nc\n",
    "import pandas as pd\n",
    "from scipy.interpolate import interp1d\n",
    "for depid in depids :\n",
    "    path = f'D:/individus_brut/individus/{depid}/'\n",
    "    df = pd.read_csv(os.path.join(path, f'{depid}_dive.csv'))\n",
    "    print(np.isin(np.where(df.cluster_drifts == 1), np.where(df.acc_drifts == 1)).sum()/len(df[df.cluster_drifts == 1]))"
   ],
   "metadata": {
    "collapsed": false
   },
   "id": "c88a5602767d7306",
   "outputs": [],
   "execution_count": null
  }
 ],
 "metadata": {
  "kernelspec": {
   "display_name": "Python 3 (ipykernel)",
   "language": "python",
   "name": "python3"
  },
  "language_info": {
   "codemirror_mode": {
    "name": "ipython",
    "version": 3
   },
   "file_extension": ".py",
   "mimetype": "text/x-python",
   "name": "python",
   "nbconvert_exporter": "python",
   "pygments_lexer": "ipython3",
   "version": "3.12.3"
  }
 },
 "nbformat": 4,
 "nbformat_minor": 5
}
