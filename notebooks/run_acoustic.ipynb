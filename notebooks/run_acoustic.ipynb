{
 "cells": [
  {
   "cell_type": "code",
   "execution_count": 1,
   "id": "d2048ea1",
   "metadata": {},
   "outputs": [
    {
     "name": "stdout",
     "output_type": "stream",
     "text": [
      "/home6/grosmaan/Documents/SES_tags/notebooks/../src/Biologging_Toolkit\n"
     ]
    }
   ],
   "source": [
    "import sys, os\n",
    "import pandas as pd\n",
    "sys.path.append('../src/')\n",
    "from Biologging_Toolkit.processing.Acoustic import Acoustic"
   ]
  },
  {
   "cell_type": "markdown",
   "id": "5d0ff315",
   "metadata": {},
   "source": [
    "#### Enter deployment ID and path\n",
    "\n",
    "Finalized dataset will be saved or loaded from path"
   ]
  },
  {
   "cell_type": "code",
   "execution_count": 2,
   "id": "39819816",
   "metadata": {},
   "outputs": [],
   "source": [
    "depid = 'ml17_280a'\n",
    "path = '/run/media/grosmaan/LaCie1/individus_brut/'\n",
    "sens_path = os.path.join(path, 'CTD', depid, depid+'sens5.nc')\n",
    "raw_path = os.path.join(path, 'individus', depid, 'raw')"
   ]
  },
  {
   "cell_type": "markdown",
   "id": "e9f660b6",
   "metadata": {},
   "source": [
    "#### Run cells to get acoustic features\n",
    "\n",
    "Time can be constructed from extisting time array or by entering the path to sens5 dataset."
   ]
  },
  {
   "cell_type": "code",
   "execution_count": 3,
   "id": "74be204c",
   "metadata": {},
   "outputs": [],
   "source": [
    "aux = pd.read_csv(os.path.join(path, 'individus', depid, 'aux_data.csv'))  #Get existing dataframe with time array\n",
    "instrument = {'sensitivity':175, 'gain_dB':0, 'peak_voltage':1}\n",
    "inst = Acoustic(depid, \n",
    "            path = os.path.join(path, 'individus',depid), \n",
    "            sens_path = sens_path, \n",
    "            wav_path = raw_path,\n",
    "            instrument = instrument,\n",
    "            duration = 5\n",
    "           )\n",
    "inst.dt = 5\n",
    "inst.create_time(aux.time.to_numpy(), resample = True)"
   ]
  },
  {
   "cell_type": "code",
   "execution_count": null,
   "id": "093780d3",
   "metadata": {},
   "outputs": [
    {
     "name": "stderr",
     "output_type": "stream",
     "text": [
      "  0%|                                                   | 0/104 [00:00<?, ?it/s]\n",
      "Processing results:   0%|                               | 0/104 [00:00<?, ?it/s]\u001b[A"
     ]
    }
   ],
   "source": [
    "inst.parallel_noise_level()"
   ]
  },
  {
   "cell_type": "code",
   "execution_count": 5,
   "id": "5df354d7",
   "metadata": {},
   "outputs": [
    {
     "data": {
      "text/plain": [
       "masked_array(\n",
       "  data=[[ 14.821198 ,   8.188608 ,   8.020705 , ..., -28.59811  ,\n",
       "         -28.230495 , -28.442497 ],\n",
       "        [ 15.507822 ,  11.086969 ,   9.0436125, ..., -21.79485  ,\n",
       "         -22.517628 , -23.16948  ],\n",
       "        [ 15.102477 ,   8.81697  ,   6.065042 , ..., -38.54987  ,\n",
       "         -38.749985 , -38.075092 ],\n",
       "        ...,\n",
       "        [        nan,         nan,         nan, ...,         nan,\n",
       "                 nan,         nan],\n",
       "        [        nan,         nan,         nan, ...,         nan,\n",
       "                 nan,         nan],\n",
       "        [        nan,         nan,         nan, ...,         nan,\n",
       "                 nan,         nan]],\n",
       "  mask=False,\n",
       "  fill_value=1e+20,\n",
       "  dtype=float32)"
      ]
     },
     "execution_count": 5,
     "metadata": {},
     "output_type": "execute_result"
    }
   ],
   "source": [
    "inst.ds['spectrogram'][:]"
   ]
  },
  {
   "cell_type": "code",
   "execution_count": null,
   "id": "1252bda9",
   "metadata": {},
   "outputs": [],
   "source": [
    "import numpy as np\n",
    "np.isnan(inst.ds['spectrogram'][:]).sum()"
   ]
  },
  {
   "cell_type": "code",
   "execution_count": null,
   "id": "4ed16c0c",
   "metadata": {},
   "outputs": [],
   "source": [
    "inst.ds['spectrogram'][:].flatten().shape"
   ]
  },
  {
   "cell_type": "code",
   "execution_count": null,
   "id": "20391815",
   "metadata": {},
   "outputs": [],
   "source": [
    "inst.ds.close()"
   ]
  },
  {
   "cell_type": "code",
   "execution_count": null,
   "id": "dd80b777",
   "metadata": {},
   "outputs": [],
   "source": []
  }
 ],
 "metadata": {
  "kernelspec": {
   "display_name": "meteoses",
   "language": "python",
   "name": "myenv"
  },
  "language_info": {
   "codemirror_mode": {
    "name": "ipython",
    "version": 3
   },
   "file_extension": ".py",
   "mimetype": "text/x-python",
   "name": "python",
   "nbconvert_exporter": "python",
   "pygments_lexer": "ipython3",
   "version": "3.10.10"
  }
 },
 "nbformat": 4,
 "nbformat_minor": 5
}
