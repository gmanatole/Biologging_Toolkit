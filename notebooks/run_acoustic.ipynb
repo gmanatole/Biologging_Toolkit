{
 "cells": [
  {
   "cell_type": "code",
   "execution_count": 1,
   "id": "52f89b3b",
   "metadata": {},
   "outputs": [
    {
     "name": "stdout",
     "output_type": "stream",
     "text": [
      "/home6/grosmaan/Documents/SES_tags/notebooks/../src/Biologging_Toolkit\n"
     ]
    }
   ],
   "source": [
    "import sys, os\n",
    "import pandas as pd\n",
    "sys.path.append('../src/')\n",
    "from Biologging_Toolkit.processing.Acoustic import Acoustic"
   ]
  },
  {
   "cell_type": "markdown",
   "id": "e71c4b5d",
   "metadata": {},
   "source": [
    "#### Enter deployment ID and path\n",
    "\n",
    "Finalized dataset will be saved or loaded from path"
   ]
  },
  {
   "cell_type": "code",
   "execution_count": 2,
   "id": "739e27fe",
   "metadata": {},
   "outputs": [],
   "source": [
    "depid = 'ml17_280a'\n",
    "path = '/run/media/grosmaan/LaCie1/individus_brut/'\n",
    "sens_path = os.path.join(path, 'CTD', depid, depid+'sens5.nc')\n",
    "raw_path = os.path.join(path, 'individus', depid, 'raw')"
   ]
  },
  {
   "cell_type": "markdown",
   "id": "6b7bba47",
   "metadata": {},
   "source": [
    "#### Run cells to get acoustic features\n",
    "\n",
    "Time can be constructed from extisting time array or by entering the path to sens5 dataset."
   ]
  },
  {
   "cell_type": "code",
   "execution_count": 3,
   "id": "45d689cc",
   "metadata": {},
   "outputs": [],
   "source": [
    "aux = pd.read_csv(os.path.join(path, 'individus', depid, 'aux_data.csv'))  #Get existing dataframe with time array\n",
    "instrument = {'sensitivity':175, 'gain_dB':0, 'peak_voltage':1}\n",
    "inst = Acoustic(depid, \n",
    "            path = os.path.join(path, 'individus',depid), \n",
    "            sens_path = sens_path, \n",
    "            wav_path = raw_path,\n",
    "            instrument = instrument\n",
    "           )"
   ]
  },
  {
   "cell_type": "code",
   "execution_count": 4,
   "id": "6e43d302",
   "metadata": {},
   "outputs": [
    {
     "name": "stderr",
     "output_type": "stream",
     "text": [
      "Normalizing and saving data:  10%|█▎           | 10/104 [03:11<29:58, 19.14s/it]\n"
     ]
    }
   ],
   "source": [
    "inst()"
   ]
  },
  {
   "cell_type": "code",
   "execution_count": null,
   "id": "eb592149",
   "metadata": {},
   "outputs": [],
   "source": []
  }
 ],
 "metadata": {
  "kernelspec": {
   "display_name": "meteoses",
   "language": "python",
   "name": "myenv"
  },
  "language_info": {
   "codemirror_mode": {
    "name": "ipython",
    "version": 3
   },
   "file_extension": ".py",
   "mimetype": "text/x-python",
   "name": "python",
   "nbconvert_exporter": "python",
   "pygments_lexer": "ipython3",
   "version": "3.10.10"
  }
 },
 "nbformat": 4,
 "nbformat_minor": 5
}
