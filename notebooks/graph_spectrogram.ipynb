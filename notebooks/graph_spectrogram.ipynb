{
 "cells": [
  {
   "cell_type": "code",
   "id": "d7be0b72",
   "metadata": {},
   "source": [
    "import sys\n",
    "from datetime import datetime, timedelta\n",
    "import pandas as pd\n",
    "import os\n",
    "sys.path.append('../src/')\n",
    "from Biologging_Toolkit.processing.Inertial import Inertial\n",
    "from Biologging_Toolkit.applications.Jerk import Jerk\n",
    "from Biologging_Toolkit.plot.spectrogram import *\n",
    "import matplotlib.pyplot as plt\n",
    "plt.rcParams.update({\n",
    "    \"text.usetex\": True,                # Enable LaTeX text rendering\n",
    "    \"font.family\": \"serif\",             # Use a serif font\n",
    "    \"font.serif\": [\"Computer Modern\"],  # Set font to Computer Modern (LaTeX default)\n",
    "})"
   ],
   "outputs": [],
   "execution_count": null
  },
  {
   "cell_type": "markdown",
   "id": "a83ffdc6",
   "metadata": {},
   "source": [
    "#### Enter deployment ID and path\n",
    "\n",
    "Finalized dataset will be saved or loaded from path"
   ]
  },
  {
   "cell_type": "code",
   "id": "fc85e760",
   "metadata": {},
   "source": [
    "depid = 'ml19_292a'\n",
    "path = 'D:/drift_dives_SES/'\n",
    "path = 'D:/individus_brut/'\n",
    "sens_path = os.path.join(path, 'CTD', depid, depid+'sens5.nc')\n",
    "raw_path = os.path.join(path, 'individus', depid, 'raw')\n"
   ],
   "outputs": [],
   "execution_count": null
  },
  {
   "cell_type": "markdown",
   "id": "41ec923f",
   "metadata": {},
   "source": [
    "#### Run cells to get PCAs\n",
    "\n",
    "Time can be constructed from extisting time array or by entering the path to sens5 dataset."
   ]
  },
  {
   "cell_type": "code",
   "id": "622c125f",
   "metadata": {},
   "source": [
    "aux = pd.read_csv(os.path.join(path, 'individus', depid, 'aux_data.csv'))  #Get existing dataframe with time array\n",
    "inst = Jerk(depid, \n",
    "            path = os.path.join(path, 'individus',depid), \n",
    "            sens_path = sens_path, \n",
    "            raw_path = raw_path\n",
    "           )\n"
   ],
   "outputs": [],
   "execution_count": null
  },
  {
   "cell_type": "code",
   "id": "11e3b43d",
   "metadata": {
    "scrolled": true
   },
   "source": [
    "#inst.create_time(aux.time.to_numpy())\n",
    "#inst(overwrite = False)    #Calls low resolution jerk from sens5, then double checks with high resolution Acc data"
   ],
   "outputs": [],
   "execution_count": null
  },
  {
   "cell_type": "markdown",
   "id": "230e8881",
   "metadata": {},
   "source": [
    "#### Run cells to get posture and heading"
   ]
  },
  {
   "cell_type": "code",
   "id": "99c879ef",
   "metadata": {},
   "source": [
    "inst = Inertial(depid, \n",
    "            path = os.path.join(path, 'individus',depid), \n",
    "            inertial_path = sens_path, \n",
    "            )"
   ],
   "outputs": [],
   "execution_count": null
  },
  {
   "cell_type": "code",
   "id": "2aa5419c",
   "metadata": {},
   "source": [
    "inst()"
   ],
   "outputs": [],
   "execution_count": null
  },
  {
   "cell_type": "markdown",
   "id": "fd1eff43",
   "metadata": {},
   "source": [
    "#### Plot values over spectrogram"
   ]
  },
  {
   "cell_type": "code",
   "id": "fd441c1a",
   "metadata": {},
   "source": [
    "# Example parameters\n",
    "debut = datetime(2018,10,25,3,14,30) + timedelta(seconds = 756)\n",
    "fin = datetime(2018,10,25,3,14,30) + timedelta(seconds = 756+9*60)\n",
    "debut = datetime.fromtimestamp(1573357556.4510388+300,  tz=timezone.utc)\n",
    "fin = datetime.fromtimestamp(1573357556.4510388+322,  tz=timezone.utc)\n",
    "freq_min = 1500\n",
    "freq_max = 4000\n",
    "print(debut, fin)"
   ],
   "outputs": [],
   "execution_count": null
  },
  {
   "cell_type": "code",
   "id": "40a6ecce",
   "metadata": {},
   "source": [
    "nperseg = 2048\n",
    "noverlap = 0.9\n",
    "plot_spectrogram(inst, debut, fin, freq_min, freq_max, raw_path,\n",
    "                 nperseg = nperseg, noverlap = int(nperseg*noverlap), save = True,\n",
    "                 path = 'C:/Users/grosm/Desktop/thèse/Figures/whale/',\n",
    "                 title = 'Unknown whistle', aspect = 'auto', figsize = (10,6))"
   ],
   "outputs": [],
   "execution_count": null
  },
  {
   "cell_type": "code",
   "id": "dce309fd-3c60-4378-a02c-b5c5c50e6f20",
   "metadata": {},
   "source": [],
   "outputs": [],
   "execution_count": null
  }
 ],
 "metadata": {
  "kernelspec": {
   "display_name": "Python 3 (ipykernel)",
   "language": "python",
   "name": "python3"
  },
  "language_info": {
   "codemirror_mode": {
    "name": "ipython",
    "version": 3
   },
   "file_extension": ".py",
   "mimetype": "text/x-python",
   "name": "python",
   "nbconvert_exporter": "python",
   "pygments_lexer": "ipython3",
   "version": "3.12.3"
  }
 },
 "nbformat": 4,
 "nbformat_minor": 5
}
