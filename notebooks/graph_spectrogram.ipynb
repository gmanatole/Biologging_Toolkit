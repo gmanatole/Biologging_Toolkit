{
 "cells": [
  {
   "cell_type": "code",
   "execution_count": null,
   "id": "d7be0b72",
   "metadata": {},
   "outputs": [],
   "source": [
    "import sys\n",
    "from datetime import datetime, timedelta\n",
    "import pandas as pd\n",
    "import os\n",
    "sys.path.append('../src/')\n",
    "from Biologging_Toolkit.processing.Inertial import Inertial\n",
    "from Biologging_Toolkit.applications.Jerk import Jerk\n",
    "from Biologging_Toolkit.plot.spectrogram import *"
   ]
  },
  {
   "cell_type": "markdown",
   "id": "a83ffdc6",
   "metadata": {},
   "source": [
    "#### Enter deployment ID and path\n",
    "\n",
    "Finalized dataset will be saved or loaded from path"
   ]
  },
  {
   "cell_type": "code",
   "execution_count": null,
   "id": "fc85e760",
   "metadata": {},
   "outputs": [],
   "source": [
    "depid = 'ml18_294b'\n",
    "path = 'D:/individus_brut/'\n",
    "sens_path = os.path.join(path, 'CTD', depid, depid+'sens5.nc')\n",
    "raw_path = os.path.join(path, 'individus', depid, 'raw')"
   ]
  },
  {
   "cell_type": "markdown",
   "id": "41ec923f",
   "metadata": {},
   "source": [
    "#### Run cells to get PCAs\n",
    "\n",
    "Time can be constructed from extisting time array or by entering the path to sens5 dataset."
   ]
  },
  {
   "cell_type": "code",
   "execution_count": null,
   "id": "622c125f",
   "metadata": {},
   "outputs": [],
   "source": [
    "aux = pd.read_csv(os.path.join(path, 'individus', depid, 'aux_data.csv'))  #Get existing dataframe with time array\n",
    "inst = Jerk(depid, \n",
    "            path = os.path.join(path, 'individus',depid), \n",
    "            sens_path = sens_path, \n",
    "            raw_path = raw_path\n",
    "           )\n"
   ]
  },
  {
   "cell_type": "code",
   "execution_count": null,
   "id": "11e3b43d",
   "metadata": {
    "scrolled": true
   },
   "outputs": [],
   "source": [
    "inst.create_time(aux.time.to_numpy())\n",
    "inst(overwrite = True)    #Calls low resolution jerk from sens5, then double checks with high resolution Acc data"
   ]
  },
  {
   "cell_type": "markdown",
   "id": "230e8881",
   "metadata": {},
   "source": [
    "#### Run cells to get posture and heading"
   ]
  },
  {
   "cell_type": "code",
   "execution_count": null,
   "id": "99c879ef",
   "metadata": {},
   "outputs": [],
   "source": [
    "inst = Inertial(depid, \n",
    "            path = os.path.join(path, 'individus',depid), \n",
    "            inertial_path = sens_path, \n",
    "            )"
   ]
  },
  {
   "cell_type": "code",
   "execution_count": null,
   "id": "2aa5419c",
   "metadata": {},
   "outputs": [],
   "source": [
    "inst()"
   ]
  },
  {
   "cell_type": "markdown",
   "id": "fd1eff43",
   "metadata": {},
   "source": [
    "#### Plot values over spectrogram"
   ]
  },
  {
   "cell_type": "code",
   "execution_count": null,
   "id": "fd441c1a",
   "metadata": {},
   "outputs": [],
   "source": [
    "# Example parameters\n",
    "debut = datetime(2018,10,25,3,14,30) + timedelta(seconds = 756)\n",
    "fin = datetime(2018,10,25,3,14,30) + timedelta(seconds = 756+9*60)\n",
    "debut = datetime.fromtimestamp(1540839669.5589542,  tz=timezone.utc)\n",
    "fin = datetime.fromtimestamp(1540839906.5589733,  tz=timezone.utc)\n",
    "freq_min = 250\n",
    "freq_max = 400"
   ]
  },
  {
   "cell_type": "code",
   "execution_count": null,
   "id": "40a6ecce",
   "metadata": {},
   "outputs": [],
   "source": [
    "plot_spectrogram(inst, debut, fin, freq_min, freq_max, raw_path, nperseg = 8196)"
   ]
  },
  {
   "cell_type": "code",
   "execution_count": null,
   "id": "8d9d7d33-9837-4863-8914-d2fd1c734572",
   "metadata": {},
   "outputs": [],
   "source": []
  }
 ],
 "metadata": {
  "kernelspec": {
   "display_name": "Python 3 (ipykernel)",
   "language": "python",
   "name": "python3"
  },
  "language_info": {
   "codemirror_mode": {
    "name": "ipython",
    "version": 3
   },
   "file_extension": ".py",
   "mimetype": "text/x-python",
   "name": "python",
   "nbconvert_exporter": "python",
   "pygments_lexer": "ipython3",
   "version": "3.12.3"
  }
 },
 "nbformat": 4,
 "nbformat_minor": 5
}
