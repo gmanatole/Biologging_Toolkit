{
 "cells": [
  {
   "cell_type": "code",
   "execution_count": null,
   "id": "7efb8836",
   "metadata": {},
   "outputs": [],
   "source": [
    "import sys, os\n",
    "import pandas as pd\n",
    "import netCDF4 as nc\n",
    "import numpy as np\n",
    "sys.path.append('../src/')\n",
    "from Biologging_Toolkit.applications.Mixed_Layer_Depth import MixedLayerDepth\n",
    "from Biologging_Toolkit.processing.Dives import Dives\n",
    "from Biologging_Toolkit.utils.format_utils import get_start_time_sens"
   ]
  },
  {
   "cell_type": "code",
   "execution_count": null,
   "id": "7e5a80c0",
   "metadata": {},
   "outputs": [],
   "source": [
    "depid = 'ml18_294b'\n",
    "path = os.path.join('D:/individus_brut/individus/', depid)\n",
    "ref_path = os.path.join(path, 'data', 'auxiliary', 'instrument')\n",
    "sens_path = os.path.join(ref_path, depid+'sens5.nc')"
   ]
  },
  {
   "cell_type": "markdown",
   "id": "4826a837",
   "metadata": {},
   "source": [
    "### Make sure csv structure for dive data exists"
   ]
  },
  {
   "cell_type": "code",
   "execution_count": null,
   "id": "46088c24-d17b-42fe-9b39-4749e5a599c6",
   "metadata": {
    "scrolled": true
   },
   "outputs": [],
   "source": [
    "dive = Dives(depid, path = ref_path, sens_path = sens_path)"
   ]
  },
  {
   "cell_type": "code",
   "execution_count": null,
   "id": "95c415e0-ee3d-439d-a0ee-000097000615",
   "metadata": {},
   "outputs": [],
   "source": [
    "dive()"
   ]
  },
  {
   "cell_type": "markdown",
   "id": "cc97121f-1cdf-4419-8b1d-12ebd01a08b6",
   "metadata": {},
   "source": [
    "### Add temperature data to reference structure"
   ]
  },
  {
   "cell_type": "code",
   "execution_count": null,
   "id": "0af0343c-978d-4b55-8381-db89af8499dd",
   "metadata": {},
   "outputs": [],
   "source": [
    "ds = nc.Dataset(sens_path)\n",
    "temperature = ds['T'][:].data\n",
    "temp_time = get_start_time_sens(ds.dephist_device_datetime_start) + np.arange(0, len(temperature))/5"
   ]
  },
  {
   "cell_type": "code",
   "execution_count": null,
   "id": "f34026a1-6af5-4d0a-be34-fe300aecd7c6",
   "metadata": {},
   "outputs": [],
   "source": [
    "dive.create_variable('temperature',\n",
    "                     var_data =  temperature,\n",
    "                     var_time = temp_time)"
   ]
  },
  {
   "cell_type": "code",
   "execution_count": null,
   "id": "4797234e-d67a-41c8-a170-aae2b0249dea",
   "metadata": {},
   "outputs": [],
   "source": [
    "dive.ds"
   ]
  },
  {
   "cell_type": "code",
   "execution_count": null,
   "id": "2345b465-f9a4-443c-b1f3-0868c64cf835",
   "metadata": {},
   "outputs": [],
   "source": [
    "dive.ds.close()"
   ]
  },
  {
   "cell_type": "markdown",
   "id": "78233d31-8f6b-4a08-b152-352ad61c43ea",
   "metadata": {},
   "source": [
    "### Compute mixed layer depth"
   ]
  },
  {
   "cell_type": "code",
   "execution_count": null,
   "id": "9806676f",
   "metadata": {},
   "outputs": [],
   "source": [
    "inst = MixedLayerDepth(depid, \n",
    "            path = ref_path\n",
    "           )"
   ]
  },
  {
   "cell_type": "code",
   "execution_count": null,
   "id": "e54a5d2f",
   "metadata": {},
   "outputs": [],
   "source": [
    "inst()"
   ]
  },
  {
   "cell_type": "markdown",
   "id": "bf516cab-69fe-4443-b624-56aed17df99d",
   "metadata": {},
   "source": [
    "### Wind correlation with MLD"
   ]
  },
  {
   "cell_type": "code",
   "execution_count": null,
   "id": "3a5dd134-8d86-4573-b1a2-d58eb43d0dde",
   "metadata": {},
   "outputs": [],
   "source": [
    "depids = ['ml18_296a','ml18_294b','ml19_292a','ml19_292b','ml19_293a','ml19_294a','ml20_293a','ml20_296b','ml20_313a','ml21_295a','ml21_305b','ml17_280a']\n",
    "path = 'D:/individus_brut/individus/'\n",
    "paths = [os.path.join(path, depid) for depid in depids]"
   ]
  },
  {
   "cell_type": "code",
   "execution_count": null,
   "id": "0f6d739b-70e1-4df8-9a38-48c023e31ffb",
   "metadata": {},
   "outputs": [],
   "source": [
    "from Biologging_Toolkit.applications.Wind import Wind\n",
    "from Biologging_Toolkit.utils.plot_utils import subplots_centered\n",
    "from scipy.interpolate import interp1d\n",
    "import matplotlib.pyplot as plt\n",
    "from matplotlib import colormaps\n",
    "import seaborn as sns\n",
    "plt.rcParams.update({\n",
    "    \"text.usetex\": True,                # Enable LaTeX text rendering\n",
    "    \"font.family\": \"serif\",             # Use a serif font\n",
    "    \"font.serif\": [\"Computer Modern\"],  # Set font to Computer Modern (LaTeX default)\n",
    "})\n",
    "import warnings\n",
    "warnings.simplefilter(action='ignore', category=pd.errors.PerformanceWarning)"
   ]
  },
  {
   "cell_type": "code",
   "execution_count": null,
   "id": "f7a739f0-b53c-402d-a179-ef15dc99a8ce",
   "metadata": {},
   "outputs": [],
   "source": [
    "depids_with_mld = []\n",
    "for depid in depids :\n",
    "    df = pd.read_csv(os.path.join(path, depid, f'{depid}_dive.csv'))\n",
    "    try :\n",
    "        if np.all(np.isnan(df.meop_mld.to_numpy())):\n",
    "            continue\n",
    "        depids_with_mld.append(depid)\n",
    "    except AttributeError:\n",
    "        continue\n",
    "print(depids_with_mld)"
   ]
  },
  {
   "cell_type": "code",
   "execution_count": null,
   "id": "c4631a41-c2d9-43a5-b819-4552c258dc74",
   "metadata": {},
   "outputs": [],
   "source": [
    "def get_previous_wind_single(df, data, groupby = 'FOD') :\n",
    "    wind_interp = interp1d(df.end_time, df[data], bounds_error = False)\n",
    "    for i in range(48):\n",
    "        df[f'wind_{i}h'] = wind_interp(df.end_time - i*3600)\n",
    "    if groupby :\n",
    "        data = ['meop_mld', groupby]\n",
    "    else :\n",
    "        data = ['meop_mld']\n",
    "    for i in range(48):\n",
    "        data.append(f'wind_{i}h')\n",
    "    return df[data]"
   ]
  },
  {
   "cell_type": "code",
   "execution_count": null,
   "id": "6b370482-2b2a-4081-bf6e-4454c7274072",
   "metadata": {},
   "outputs": [],
   "source": [
    "def get_previous_wind(df, data) :\n",
    "    wind_interp = interp1d(df.end_time, df.wind_speed, bounds_error = False)\n",
    "    pensieri_interp = interp1d(df.end_time, df.pensieri, bounds_error = False)\n",
    "    lstm_interp = interp1d(df.end_time, df.lstm, bounds_error = False)\n",
    "    hild_interp = interp1d(df.end_time, df.hildebrand, bounds_error = False)\n",
    "    for i in range(48):\n",
    "        df[f'wind_{i}h'] = wind_interp(df.end_time - i*3600)\n",
    "        df[f'pensieri_{i}h'] = pensieri_interp(df.end_time - i*3600)\n",
    "        df[f'lstm_{i}h'] = lstm_interp(df.end_time - i*3600)\n",
    "        df[f'hildebrand_{i}h'] = hild_interp(df.end_time - i*3600)\n",
    "    return df"
   ]
  },
  {
   "cell_type": "code",
   "execution_count": null,
   "id": "8b337090-7abc-4bd0-9690-8c072500a23c",
   "metadata": {},
   "outputs": [],
   "source": [
    "def get_correlation(depids, depid, path, data = 'downwards_mean_5000', FOD = 'FOD') :\n",
    "    df = pd.read_csv(os.path.join(path, depid, f'{depid}_dive.csv'))\n",
    "    inst = Wind(depids, path = paths, test_depid = depid, data = data)\n",
    "    inst.depid_fit()\n",
    "    est = inst.df[inst.df.depid == depid].depid_estimation.to_numpy()\n",
    "    df['pensieri'] = est\n",
    "    inst = Wind(depids, path = paths, test_depid = depid, data = data, method = 'Hildebrand')\n",
    "    inst.depid_fit()\n",
    "    est = inst.df[inst.df.depid == depid].depid_estimation.to_numpy()\n",
    "    df['hildebrand'] = est\n",
    "    df = get_previous_wind(df, data = data)\n",
    "    if FOD :\n",
    "        data_pens = ['meop_mld', FOD]; data_era = ['meop_mld', FOD]; data_lstm = ['meop_mld', FOD]; data_hild = ['meop_mld', FOD]\n",
    "    else :\n",
    "        data_pens = ['meop_mld']; data_era = ['meop_mld']; data_lstm = ['meop_mld']; data_hild = ['meop_mld']\n",
    "    for i in range(48):\n",
    "        data_pens.append(f'pensieri_{i}h')\n",
    "        data_era.append(f'wind_{i}h')\n",
    "        data_lstm.append(f'lstm_{i}h')\n",
    "        data_hild.append(f'hildebrand_{i}h')\n",
    "    return df[data_era], df[data_pens], df[data_lstm], df[data_hild]"
   ]
  },
  {
   "cell_type": "code",
   "execution_count": null,
   "id": "74937097-2ffc-4764-a32e-ebeeb7a4be05",
   "metadata": {},
   "outputs": [],
   "source": [
    "colors = colormaps.get_cmap('plasma').resampled(5)\n",
    "FOD = True\n",
    "fod_labels = [1,2,3,4,5]\n",
    "\n",
    "df = pd.DataFrame()\n",
    "for i, depid in enumerate(depids_with_mld) :\n",
    "    _df = pd.read_csv(os.path.join(path, depid, f'{depid}_dive.csv'))\n",
    "    _df = get_previous_wind_single(_df, 'lstm', groupby = 'temp_200m')\n",
    "    for avg in range(2, 25) :\n",
    "        _roll = _df.iloc[:, 2:50].rolling(avg, min_periods=1, center=True).mean()\n",
    "        _roll.columns = [f'avg{avg}_{col}' for col in list(_roll.columns)]\n",
    "        _df = pd.concat((_df, _roll), axis = 1)\n",
    "    df = pd.concat((df, _df))\n",
    "    \n",
    "temp_bins = [0, 3, 6, 12.5, float('inf')]\n",
    "mld_bins = [0, df['meop_mld'].quantile(0.33), df['meop_mld'].quantile(0.66), np.inf]\n",
    "temp_bins = [0, df['temp_200m'].quantile(0.25), df['temp_200m'].quantile(0.5), df['temp_200m'].quantile(0.75), np.inf]\n",
    "labels = [1, 2, 3, 4]\n",
    "df['bins'] = pd.cut(df['temp_200m'], bins=temp_bins, labels=labels, right=False)\n",
    "\n",
    "if FOD:\n",
    "    fig, ax = plt.subplots(2,2,figsize = (12, 12), sharey = True)\n",
    "    ax = ax.flatten()\n",
    "    for k in range(1, 5):\n",
    "        sns.heatmap(\n",
    "            df[df.bins == k].corr()['meop_mld'][2:-1].to_numpy().reshape(-1, 48), \n",
    "            ax=ax[k - 1],\n",
    "            cbar_kws={'label': 'Pearson correlation coefficient'}\n",
    "        )\n",
    "        ax[k-1].set_title(f'Bin {k}')\n",
    "else :\n",
    "    fig, ax = plt.subplots(figsize = (15, 10))\n",
    "    sns.heatmap(\n",
    "            df.corr()['meop_mld'][2:-1].to_numpy().reshape(-1, 48), \n",
    "            ax=ax,\n",
    "            cbar_kws={'label': 'Pearson correlation coefficient'}\n",
    "        )\n",
    "fig.text(0.5, 0.04, 'Hours before MLD obtention', ha='center', va='center', fontsize=14)\n",
    "fig.text(0.04, 0.5, 'Wind averaging period in hours', ha='center', va='center', rotation='vertical', fontsize=14)\n",
    "fig.tight_layout(rect=[0.05, 0.05, 1, 1])"
   ]
  },
  {
   "cell_type": "code",
   "execution_count": null,
   "id": "70fc205b-4679-4faa-a397-f9345b445bdc",
   "metadata": {},
   "outputs": [],
   "source": [
    "fig.savefig('C:/Users/grosm/Desktop/thèse/Figures/wind_averaged_correlation_mld_all_SES.pdf')"
   ]
  },
  {
   "cell_type": "code",
   "execution_count": null,
   "id": "39d6a75b-8f05-496d-a90f-6aac47a1831f",
   "metadata": {},
   "outputs": [],
   "source": [
    "fig, ax = subplots_centered(3,4,figsize = (20, 20), sharey = True, nfigs = 11)\n",
    "#fig1, ax1 = subplots_centered(3,2,figsize = (10, 10), sharey = True, nfigs = 5)\n",
    "colors = colormaps.get_cmap('plasma').resampled(5)\n",
    "FOD = False\n",
    "df_era = pd.DataFrame()\n",
    "df_lstm = pd.DataFrame()\n",
    "df_hild = pd.DataFrame()\n",
    "df_pens = pd.DataFrame()\n",
    "for i, depid in enumerate(depids_with_mld) :\n",
    "    fod_counts = np.array([0,0,0,0,0])\n",
    "    fod_labels = [1,2,3,4,5]\n",
    "    _df_era, _df_pens, _df_lstm, _df_hild = get_correlation(depids, depid, path, data = 'upwards_mean_5000', FOD = 'temp_200m')\n",
    "    df_era = pd.concat((df_era, _df_era))\n",
    "    df_lstm = pd.concat((df_lstm, _df_lstm))\n",
    "    df_pens = pd.concat((df_pens, _df_pens))\n",
    "    df_hild = pd.concat((df_hild, _df_hild))\n",
    "\n",
    "    #ax1[i].bar(fod_labels, fod_counts, align='center')\n",
    "    #ax1[i].set_title(depid)\n",
    "    #ax1[i].grid()\n",
    "    if FOD :\n",
    "        labels, counts = np.unique(_df_era.FOD, return_counts=True)\n",
    "        counts = counts[~np.isnan(labels)]\n",
    "        labels = labels[~np.isnan(labels)]\n",
    "        fod_counts[labels.astype(int)-1] = counts\n",
    "        for k in range(1,6) :\n",
    "            ax[i].plot(_df_era[_df_era.FOD == k].corr()['meop_mld'][2:].to_numpy(), color = colors(k-1), marker = 's')\n",
    "        #ax[i].plot(np.nanmean(np.column_stack([df_pens[df_pens.FOD == j].corr()['meop_mld'][2:] for j in range(1,2)]), axis = 1), color = colors(0), marker = '^')\n",
    "        #ax[i].plot(np.nanmean(np.column_stack([df_hild[df_hild.FOD == j].corr()['meop_mld'][2:] for j in range(1,2)]), axis = 1), color = colors(0), marker = 'P')\n",
    "        #ax[i].plot(np.nanmean(np.column_stack([df_lstm[df_lstm.FOD == j].corr()['meop_mld'][2:] for j in range(1,2)]), axis = 1), color = colors(2), marker = 'o')\n",
    "    else :\n",
    "        ax[i].plot(_df_era.corr()['meop_mld'].to_numpy()[2:], color = colors(3))\n",
    "        ax[i].plot(_df_pens.corr()['meop_mld'].to_numpy()[2:], color = colors(0))\n",
    "        ax[i].plot(_df_hild.corr()['meop_mld'].to_numpy()[2:], color = colors(1))\n",
    "        ax[i].plot(_df_lstm.corr()['meop_mld'].to_numpy()[2:], color = colors(2))\n",
    "    ax[i].grid()\n",
    "    ax[i].set_title(depid)\n",
    "legend_handles = [\n",
    "    plt.Line2D([0], [0], color=colors(0), lw=2, label=\"Quadratic\"),\n",
    "    plt.Line2D([0], [0], color=colors(1), lw=2, label=\"Logarithmic\"),\n",
    "    plt.Line2D([0], [0], color=colors(2), lw=2, label=\"LSTM\"),\n",
    "    plt.Line2D([0], [0], color=colors(3), lw=2, label=\"ERA\"),\n",
    "    ]\n",
    "ax[0].legend(handles = legend_handles)\n",
    "ax[0].set_xticklabels([])\n",
    "ax[1].set_xticklabels([])\n",
    "ax[2].set_xticklabels([])\n",
    "#ax1[0].set_xticklabels([])\n",
    "#ax1[1].set_xticklabels([])\n",
    "#ax1[2].set_xticklabels([])\n",
    "fig.text(0.56, 0.04, 'Hours before MLD obtention', ha='center', va='center', fontsize=14)\n",
    "fig.text(0.04, 0.5, r'Pearson correlation coefficient with previous wind speeds and MLD', ha='center', va='center', rotation='vertical', fontsize=14)\n",
    "fig.tight_layout(rect=[0.05, 0.05, 1, 1])\n",
    "#fig1.text(0.56, 0.04, 'FOD', ha='center', va='center', fontsize=14)\n",
    "#fig1.text(0.04, 0.5, 'Number of occurences', ha='center', va='center', rotation='vertical', fontsize=14)\n",
    "#fig1.tight_layout(rect=[0.05, 0.05, 1, 1])\n"
   ]
  },
  {
   "cell_type": "code",
   "execution_count": null,
   "id": "09eeb324-d8a1-4f79-9399-3233f5a292a4",
   "metadata": {},
   "outputs": [],
   "source": [
    "fig.savefig('C:/Users/grosm/Desktop/thèse/Figures/wind_mld_all_SES.pdf')\n",
    "#fig1.savefig('C:/Users/grosm/Desktop/thèse/Figures/FOD_histogram.pdf')"
   ]
  },
  {
   "cell_type": "code",
   "execution_count": null,
   "id": "a2c942a1-e109-4a20-8da5-754aabfd3e0b",
   "metadata": {},
   "outputs": [],
   "source": [
    "#fig, ax = subplots_centered(3,2, figsize = (8,12), sharey = True, nfigs = 5)\n",
    "fig, ax = plt.subplots(3,2, figsize = (8,12), sharey = True)\n",
    "ax = ax.flatten()\n",
    "colors = colormaps.get_cmap('viridis').resampled(4)\n",
    "groupby = 'bins'\n",
    "if groupby == 'bins': \n",
    "    nbins = 6\n",
    "    nbins += 1\n",
    "    df_lstm['bins'] = pd.cut(df_lstm['temp_200m'], bins=np.linspace(-2, 15, nbins), labels = list(range(1,nbins)), right=False)\n",
    "    df_era['bins'] = pd.cut(df_era['temp_200m'], bins=np.linspace(-2, 15, nbins), labels = list(range(1,nbins)), right=False)\n",
    "    df_pens['bins'] = pd.cut(df_pens['temp_200m'], bins=np.linspace(-2, 15, nbins), labels = list(range(1,nbins)), right=False)\n",
    "    df_hild['bins'] = pd.cut(df_hild['temp_200m'], bins=np.linspace(-2, 15, nbins), labels = list(range(1,nbins)), right=False)\n",
    "for k in range(1,nbins) :\n",
    "    ax[k-1].set_title(f\"Temperature [{np.linspace(-2, 15, nbins)[k-1]}° : {np.linspace(-2, 15, nbins)[k]}°]\")\n",
    "    ax[k-1].grid()\n",
    "    ax[k-1].plot(df_era[df_era[groupby] == k].corr()['meop_mld'].to_numpy()[2:], color = colors(0), marker = 's', markevery=(0,5))\n",
    "    ax[k-1].plot(df_pens[df_pens[groupby] == k].corr()['meop_mld'].to_numpy()[2:], color = colors(1), marker = '^', markevery=(1,5))\n",
    "    ax[k-1].plot(df_hild[df_hild[groupby] == k].corr()['meop_mld'].to_numpy()[2:], color = colors(2), marker = 'P', markevery=(2,5))\n",
    "    ax[k-1].plot(df_lstm[df_lstm[groupby] == k].corr()['meop_mld'].to_numpy()[2:], color = colors(3), marker = 'o', markevery=(3,5))\n",
    "    ax[k-1].plot([np.nanargmax(df_era[df_era[groupby] == k].corr()['meop_mld'].to_numpy()[2:])]*10, \n",
    "                 np.linspace(0, np.nanmax(df_era[df_era[groupby] == k].corr()['meop_mld'].to_numpy()[2:]), 10),\n",
    "                 '--', color = colors(0))\n",
    "    ax[k-1].plot([np.nanargmax(df_pens[df_pens[groupby] == k].corr()['meop_mld'].to_numpy()[2:])]*10, \n",
    "             np.linspace(0, np.nanmax(df_pens[df_pens[groupby] == k].corr()['meop_mld'].to_numpy()[2:]), 10),\n",
    "             '--', color = colors(1))\n",
    "    ax[k-1].plot([np.nanargmax(df_hild[df_hild[groupby] == k].corr()['meop_mld'].to_numpy()[2:])]*10, \n",
    "                 np.linspace(0, np.nanmax(df_hild[df_hild[groupby] == k].corr()['meop_mld'].to_numpy()[2:]), 10),\n",
    "                 '--', color = colors(2))\n",
    "    ax[k-1].plot([np.nanargmax(df_lstm[df_lstm[groupby] == k].corr()['meop_mld'].to_numpy()[2:])]*10, \n",
    "                 np.linspace(0, np.nanmax(df_lstm[df_lstm[groupby] == k].corr()['meop_mld'].to_numpy()[2:]), 10),\n",
    "                 '--', color = colors(3))\n",
    "    print(np.nanargmax(df_lstm[df_lstm[groupby] == k].corr()['meop_mld'].to_numpy()[2:]))\n",
    "legend_handles = [\n",
    "    plt.Line2D([0], [0], color=colors(0), lw=2, label=\"ERA5\"),\n",
    "    plt.Line2D([0], [0], color=colors(1), lw=2, label=\"Quadratic model\"),\n",
    "    plt.Line2D([0], [0], color=colors(2), lw=2, label=\"Logarithmic model\"),\n",
    "    plt.Line2D([0], [0], color=colors(3), lw=2, label=\"LSTM inertial\")\n",
    "    ]\n",
    "ax[0].legend(handles = legend_handles)\n",
    "fig.text(0.56, 0.04, 'Hours before MLD obtention', ha='center', va='center', fontsize=14)\n",
    "fig.text(0.04, 0.5, r'Pearson correlation coefficient with previous wind speeds and MLD', ha='center', va='center', rotation='vertical', fontsize=14)\n",
    "fig.tight_layout(rect=[0.05, 0.05, 1, 1])"
   ]
  },
  {
   "cell_type": "code",
   "execution_count": null,
   "id": "c47ba333-69fc-4e1b-b178-2dd8548c5c76",
   "metadata": {},
   "outputs": [],
   "source": [
    "fig.savefig('C:/Users/grosm/Desktop/thèse/Figures/wind_mld_per_temperature_bin.pdf')"
   ]
  },
  {
   "cell_type": "code",
   "execution_count": null,
   "id": "758b0a1c-a6cc-456c-831e-0db7b6c466f2",
   "metadata": {},
   "outputs": [],
   "source": [
    "fig, ax = plt.subplots(figsize = (7,7))\n",
    "colors = colormaps.get_cmap('viridis').resampled(4)\n",
    "ax.set_title(f\"Correlation for all FODs\")\n",
    "ax.grid()\n",
    "ax.plot(df_era.corr()['meop_mld'].to_numpy()[2:], color = colors(0), marker = 's')\n",
    "ax.plot(df_pens.corr()['meop_mld'].to_numpy()[2:], color = colors(1), marker = '^')\n",
    "ax.plot(df_hild.corr()['meop_mld'].to_numpy()[2:], color = colors(2), marker = 'P')\n",
    "ax.plot(df_lstm.corr()['meop_mld'].to_numpy()[2:], color = colors(3), marker = 'o')\n",
    "legend_handles = [\n",
    "    plt.Line2D([0], [0], color=colors(0), lw=2, label=\"ERA5\"),\n",
    "    plt.Line2D([0], [0], color=colors(1), lw=2, label=\"Quadratic model\"),\n",
    "    plt.Line2D([0], [0], color=colors(2), lw=2, label=\"Logarithmic model\"),\n",
    "    plt.Line2D([0], [0], color=colors(3), lw=2, label=\"LSTM inertial\")\n",
    "    ]\n",
    "ax.legend(handles = legend_handles)\n",
    "fig.text(0.56, 0.04, 'Hours before MLD obtention', ha='center', va='center', fontsize=14)\n",
    "fig.text(0.04, 0.5, r'Pearson correlation coefficient with previous wind speeds and MLD', ha='center', va='center', rotation='vertical', fontsize=14)\n",
    "fig.tight_layout(rect=[0.05, 0.05, 1, 1])"
   ]
  },
  {
   "cell_type": "code",
   "execution_count": null,
   "id": "1dbfea61-0963-4c41-bbad-9988924075cc",
   "metadata": {},
   "outputs": [],
   "source": [
    "fig.savefig('C:/Users/grosm/Desktop/thèse/Figures/global_correlation_all_SES.pdf')"
   ]
  },
  {
   "cell_type": "code",
   "execution_count": null,
   "id": "cb85a661-b831-4a57-bc21-4362b1357b22",
   "metadata": {},
   "outputs": [],
   "source": [
    "plt.hist(df_lstm.temp_200m, bins = 50)"
   ]
  },
  {
   "cell_type": "code",
   "execution_count": null,
   "id": "fe9db594-4733-4142-8351-f5ea3a83fc69",
   "metadata": {},
   "outputs": [],
   "source": [
    "df_lstm['bins'] = pd.cut(df_lstm['temp_200m'], bins=np.linspace(-2, 15, 11), labels = np.linspace(-2, 15, 11)[:-1], right=False)\n",
    "fig, ax = plt.subplots(figsize = (15, 10))\n",
    "corr_with_mld = []\n",
    "for _bin in np.linspace(-2, 15, 11)[:-1] :\n",
    "    corr_with_mld.append(df_lstm[df_lstm.bins == _bin].corr()['meop_mld'][2:-1].to_numpy())\n",
    "sns.heatmap(\n",
    "        corr_with_mld, \n",
    "        ax=ax,\n",
    "        cbar_kws={'label': 'Pearson correlation coefficient'}\n",
    "    )\n",
    "fig.text(0.5, 0.04, 'Hours before MLD obtention', ha='center', va='center', fontsize=14)\n",
    "fig.text(0.04, 0.5, 'MEOP MLD', ha='center', va='center', rotation='vertical', fontsize=14)\n",
    "fig.tight_layout(rect=[0.05, 0.05, 1, 1])"
   ]
  },
  {
   "cell_type": "markdown",
   "id": "033bc1ed-794e-4cae-8a8c-959280169e1d",
   "metadata": {},
   "source": [
    "### Wind vs. MLD"
   ]
  },
  {
   "cell_type": "code",
   "execution_count": null,
   "id": "6a227112-da78-4eda-90db-94b6dfb82ed9",
   "metadata": {},
   "outputs": [],
   "source": [
    "depids = ['ml18_296a','ml18_294b','ml19_292a','ml19_292b','ml19_293a','ml19_294a','ml20_293a','ml20_296b','ml20_313a','ml21_295a','ml21_305b','ml17_280a']\n",
    "path = 'D:/individus_brut/individus/'\n",
    "paths = [os.path.join(path, depid) for depid in depids]"
   ]
  },
  {
   "cell_type": "code",
   "execution_count": null,
   "id": "b2a1a5e9-64f3-49eb-9414-dd01b7fd4114",
   "metadata": {},
   "outputs": [],
   "source": [
    "from Biologging_Toolkit.applications.Wind import Wind\n",
    "from scipy.interpolate import interp1d\n",
    "import matplotlib.pyplot as plt\n",
    "import seaborn as sns\n",
    "plt.rcParams.update({\n",
    "    \"text.usetex\": True,                # Enable LaTeX text rendering\n",
    "    \"font.family\": \"serif\",             # Use a serif font\n",
    "    \"font.serif\": [\"Computer Modern\"],  # Set font to Computer Modern (LaTeX default)\n",
    "})\n",
    "import warnings\n",
    "warnings.simplefilter(action='ignore', category=pd.errors.PerformanceWarning)"
   ]
  },
  {
   "cell_type": "code",
   "execution_count": null,
   "id": "41339bac-704e-4239-a06e-b975884f3d08",
   "metadata": {},
   "outputs": [],
   "source": [
    "def get_previous_state(df, data, i) :\n",
    "    wind_interp = interp1d(df.end_time, df[data], bounds_error = False)\n",
    "    mld_interp = interp1d(df.end_time, df.meop_mld, bounds_error = False)\n",
    "    #df[f'{data}_{i}h'] = wind_interp(df.end_time - i*3600)\n",
    "    df[f'{data}_{i}h'] = wind_interp(df.end_time - i*3600)\n",
    "    df[f'mld_{i}h'] = mld_interp(df.end_time - i*3600)\n",
    "    return df"
   ]
  },
  {
   "cell_type": "code",
   "execution_count": null,
   "id": "488de0b1-5bea-41bc-9516-d899a5c6de18",
   "metadata": {},
   "outputs": [],
   "source": [
    "def get_corr_df(depids, depid, path, data = 'upwards_mean_5000', i = 15) :\n",
    "    df = pd.read_csv(os.path.join(path, depid, f'{depid}_dive.csv'))\n",
    "    '''inst = Wind(depids, path = paths, test_depid = depid, data = data)\n",
    "    inst.depid_fit()\n",
    "    est = inst.df[inst.df.depid == depid].depid_estimation.to_numpy()\n",
    "    df['temp_model'] = est'''\n",
    "    df = get_previous_state(df, data = 'lstm', i = i)\n",
    "    df['mld_variation'] = df.meop_mld - df[f'mld_{i}h']\n",
    "    df['wind_variation'] = df.lstm - df[f'lstm_{i}h']\n",
    "    return df"
   ]
  },
  {
   "cell_type": "code",
   "execution_count": null,
   "id": "a9093c08-386b-47bf-8071-41acf59b575e",
   "metadata": {},
   "outputs": [],
   "source": [
    "fig, ax = subplots_centered(3, 2, figsize = (13, 13), sharex = True, sharey = True, nfigs = 5)\n",
    "hour_fod = [47,10,35,22,11]\n",
    "FOD_df = pd.DataFrame()\n",
    "for fod in range(1,6) :\n",
    "    df = pd.DataFrame()\n",
    "    for j, depid in enumerate(['ml18_294b','ml19_292b','ml19_293a','ml19_294a','ml20_296b']) :\n",
    "        _df = get_corr_df(depids, depid, path, data = 'downwards_mean_5000', i = hour_fod[fod-1])\n",
    "        df = pd.concat((df, _df[['FOD', 'mld_variation', 'LSTM', 'max_depth', 'meop_mld']]))\n",
    "    df.reset_index(inplace = True), \n",
    "    df[df.LSTM < 5] = np.nan\n",
    "    df = df[df.FOD == fod]\n",
    "    FOD_df = pd.concat((FOD_df, df))\n",
    "    sns.kdeplot(df, x = 'LSTM', y='mld_variation', ax = ax[fod-1])\n",
    "    sns.regplot(df, x = 'LSTM', y='mld_variation', scatter = False, lowess = True, ax = ax[fod-1])\n",
    "    #sns.regplot(df, x = 'LSTM', y='mld_variation', scatter = False, order = 2, ax = ax[fod-1])\n",
    "    ax[fod-1].grid()\n",
    "    ax[fod-1].set_xlabel('')\n",
    "    ax[fod-1].set_ylabel('')\n",
    "    ax[fod-1].set_ylim(-100, 200)\n",
    "    ax[fod-1].set_title(f\"FOD {fod}\")\n",
    "fig.text(0.56, 0.04, 'Wind speed (m/s)', ha='center', va='center', fontsize=14)\n",
    "fig.text(0.04, 0.55, 'MLD variation (m)', ha='center', va='center', rotation='vertical', fontsize=14)\n",
    "fig.tight_layout(rect=[0.05, 0.05, 1, 1])"
   ]
  },
  {
   "cell_type": "code",
   "execution_count": null,
   "id": "063cb659-23bb-4928-a9d6-e7bacbb6f3d5",
   "metadata": {},
   "outputs": [],
   "source": [
    "fig.savefig('C:/Users/grosm/Desktop/thèse/Figures/wind_impact_on_mld.pdf')"
   ]
  },
  {
   "cell_type": "code",
   "execution_count": null,
   "id": "6e3a6393-28b9-4e54-b548-7c5fd2408443",
   "metadata": {},
   "outputs": [],
   "source": [
    "fig, ax = plt.subplots(1,1, figsize = (10, 10))\n",
    "df = pd.DataFrame()\n",
    "for j, depid in enumerate(depids_with_mld) :\n",
    "    _df = get_corr_df(depids, depid, path, data = 'downwards_mean_5000', i = 15)\n",
    "    df = pd.concat((df, _df[['mld_variation', 'lstm_15h', 'max_depth', 'meop_mld']]))\n",
    "df = df.reset_index()\n",
    "ax.set_title('MLD variation after 15 hours and initial MLD')\n",
    "ax.scatter(df.meop_mld, df.mld_variation,\n",
    "                  color=\"orange\", alpha=0.1)\n",
    "ax.plot(np.linspace(0, 400, 100), 0.97*np.linspace(0, 400, 100) - 10.67, c = 'red')\n",
    "ax.set_xlabel('MLD (m)')\n",
    "ax.set_ylabel('MLD variation (m)')"
   ]
  },
  {
   "cell_type": "code",
   "execution_count": null,
   "id": "60d0f16b-f767-4113-b0d3-fcaf6d820898",
   "metadata": {},
   "outputs": [],
   "source": [
    "fig.savefig('C:/Users/grosm/Desktop/thèse/Figures/mld_variation.pdf')"
   ]
  },
  {
   "cell_type": "markdown",
   "id": "477d61c9-9a24-4c3e-947d-95175daea24a",
   "metadata": {},
   "source": [
    "### Wind gust duration"
   ]
  },
  {
   "cell_type": "code",
   "execution_count": null,
   "id": "f0586e50-06d5-4fbd-a418-815a344d4dc7",
   "metadata": {},
   "outputs": [],
   "source": [
    "from scipy.signal import find_peaks, medfilt\n",
    "import statsmodels.api as sm\n",
    "import statsmodels.formula.api as smf"
   ]
  },
  {
   "cell_type": "code",
   "execution_count": null,
   "id": "c4d4fa48-fb73-42ed-9d4e-5e36783cf787",
   "metadata": {},
   "outputs": [],
   "source": [
    "def get_wind_gust(df, data = \"lstm\", time_diff = 15) :\n",
    "    peaks, _ = find_peaks(df[data], prominence=1)\n",
    "    timeframe = df.begin_time.to_numpy()\n",
    "    begin_gust, end_gust = timeframe[_['left_bases']], timeframe[_['right_bases']]\n",
    "    gust_pos = np.searchsorted(begin_gust, timeframe - time_diff*3600) - 1\n",
    "    gust_val = [timeframe[i] - time_diff*3600 < end_gust[gust_pos[i]] for i in range(len(gust_pos))]\n",
    "    gust_val = gust_val & (gust_pos >= 0)\n",
    "    return df[data].to_numpy()[peaks[gust_pos[gust_val]]], (end_gust-begin_gust)[gust_pos[gust_val]], df.meop_mld.to_numpy()[gust_val], df.meop_mld.to_numpy()[gust_pos[gust_val]]"
   ]
  },
  {
   "cell_type": "code",
   "execution_count": null,
   "id": "ab1c6f1c-7ed7-4ec1-87cb-ba2ad98b69f7",
   "metadata": {},
   "outputs": [],
   "source": [
    "intercept, peaks_coef, duration_coef, p_values, peaks_pval, duration_pval, r_squared, adj_r_squared = [],[],[],[],[],[],[],[]\n",
    "for j in range(1,48) :\n",
    "    df = pd.DataFrame()\n",
    "    for i, depid in enumerate(depids_with_mld) :\n",
    "        _df = pd.read_csv(os.path.join(path, depid, f'{depid}_dive.csv'))\n",
    "        peaks, duration, mld, previous_mld = get_wind_gust(_df, time_diff = j)\n",
    "        df = pd.concat((df, pd.DataFrame({'peaks':peaks, 'duration':duration, 'mld':mld, 'previous_mld':previous_mld})))\n",
    "    df.reset_index(inplace = True, drop = True)\n",
    "    df['mld_diff'] = df['mld'] - df['previous_mld']\n",
    "    df = df.dropna(subset=['peaks', 'duration', 'mld_diff'])\n",
    "    \n",
    "    X = df[['peaks', 'duration']] \n",
    "    X = sm.add_constant(X) \n",
    "    y = df['mld_diff'] \n",
    "    \n",
    "    model = sm.OLS(y, X)\n",
    "    results = model.fit()\n",
    "    \n",
    "    intercept.append(results.params['const'])\n",
    "    peaks_coef.append(results.params['peaks'])\n",
    "    duration_coef.append(results.params['duration'])\n",
    "    p_values.append(results.pvalues.tolist())\n",
    "    peaks_pval.append(results.pvalues['peaks']) \n",
    "    duration_pval.append(results.pvalues['duration'])\n",
    "    r_squared.append(results.rsquared)\n",
    "    adj_r_squared.append(results.rsquared_adj)\n",
    "\n"
   ]
  },
  {
   "cell_type": "code",
   "execution_count": null,
   "id": "4f740c87-e180-4dc6-b3fe-42bd615ee063",
   "metadata": {},
   "outputs": [],
   "source": [
    "fig, ax = plt.subplots(1, 2, figsize=(12, 5))\n",
    "\n",
    "ax0 = ax[0]\n",
    "ax1 = ax0.twinx()\n",
    "line1 = ax0.plot(peaks_pval, color='blue', label='Peaks p-value', marker='o')\n",
    "ax0.set_yscale('log')\n",
    "ax0.set_ylabel('Peaks p-value (log scale)', color='blue')\n",
    "ax0.tick_params(axis='y', labelcolor='blue')\n",
    "line2 = ax1.plot(duration_pval, color='red', label='Duration p-value', marker='s')\n",
    "ax1.set_yscale('log')\n",
    "ax1.set_ylabel('Duration p-value (log scale)', color='red')\n",
    "ax1.tick_params(axis='y', labelcolor='red')\n",
    "lines = line1 + line2\n",
    "labels = [l.get_label() for l in lines]\n",
    "ax0.legend(lines, labels, loc='upper right')\n",
    "ax[1].plot(r_squared, color='green', label='R-squared', marker='^')\n",
    "ax[1].set_ylabel('R-squared')\n",
    "ax[1].set_xlabel('Index')\n",
    "ax[1].legend()\n",
    "fig.suptitle('P-values and R-squared')\n",
    "plt.tight_layout()\n",
    "plt.show()\n"
   ]
  },
  {
   "cell_type": "code",
   "execution_count": null,
   "id": "77cd95e7-d044-4620-9759-d5f624f758de",
   "metadata": {},
   "outputs": [],
   "source": [
    "duration_pval[20], peaks_pval[20], r_squared[20], peaks_coef[20], duration_coef[20]"
   ]
  },
  {
   "cell_type": "code",
   "execution_count": null,
   "id": "50b371f5-b0ff-4433-a855-d91c43c5ba6d",
   "metadata": {},
   "outputs": [],
   "source": [
    "time_diff = 15\n",
    "peaks, _ = find_peaks(_df['lstm'], prominence=1)\n",
    "timeframe = _df.begin_time.to_numpy()\n",
    "begin_gust, end_gust = timeframe[_['left_bases']], timeframe[_['right_bases']]\n",
    "gust_pos = np.searchsorted(begin_gust, timeframe - time_diff*3600) - 1\n",
    "gust_val = [timeframe[i] - time_diff*3600 < end_gust[gust_pos[i]] for i in range(len(gust_pos))]\n",
    "gust_val = gust_val & (gust_pos >= 0)\n",
    "peaks, duration, mld, previous_mld = _df['lstm'].to_numpy()[peaks[gust_pos[gust_val]]], (end_gust-begin_gust)[gust_pos[gust_val]], _df.meop_mld.to_numpy()[gust_val], _df.meop_mld.to_numpy()[gust_pos[gust_val]]"
   ]
  },
  {
   "cell_type": "code",
   "execution_count": null,
   "id": "5ef6fb35-de87-4eae-a4b3-6d4dad195463",
   "metadata": {},
   "outputs": [],
   "source": [
    "_df.iloc[845].meop_mld"
   ]
  },
  {
   "cell_type": "code",
   "execution_count": null,
   "id": "8a3258a7-e6c4-4788-a9d8-18c6e4a5feca",
   "metadata": {},
   "outputs": [],
   "source": []
  }
 ],
 "metadata": {
  "kernelspec": {
   "display_name": "Python 3 (ipykernel)",
   "language": "python",
   "name": "python3"
  },
  "language_info": {
   "codemirror_mode": {
    "name": "ipython",
    "version": 3
   },
   "file_extension": ".py",
   "mimetype": "text/x-python",
   "name": "python",
   "nbconvert_exporter": "python",
   "pygments_lexer": "ipython3",
   "version": "3.12.3"
  }
 },
 "nbformat": 4,
 "nbformat_minor": 5
}
