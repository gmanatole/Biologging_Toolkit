{
 "cells": [
  {
   "cell_type": "code",
   "execution_count": null,
   "id": "7efb8836",
   "metadata": {},
   "outputs": [],
   "source": [
    "import sys, os\n",
    "import pandas as pd\n",
    "import netCDF4 as nc\n",
    "import numpy as np\n",
    "sys.path.append('../src/')\n",
    "from Biologging_Toolkit.applications.Mixed_Layer_Depth import MixedLayerDepth\n",
    "from Biologging_Toolkit.processing.Dives import Dives\n",
    "from Biologging_Toolkit.utils.format_utils import get_start_time_sens"
   ]
  },
  {
   "cell_type": "code",
   "execution_count": null,
   "id": "7e5a80c0",
   "metadata": {},
   "outputs": [],
   "source": [
    "depid = 'ml18_294b'\n",
    "path = os.path.join('/home/datawork-osmose/dataset/SES', depid)\n",
    "ref_path = os.path.join(path, 'data', 'auxiliary', 'instrument')\n",
    "sens_path = os.path.join(ref_path, depid+'sens5.nc')"
   ]
  },
  {
   "cell_type": "markdown",
   "id": "4826a837",
   "metadata": {},
   "source": [
    "### Make sure csv structure for dive data exists"
   ]
  },
  {
   "cell_type": "code",
   "execution_count": null,
   "id": "46088c24-d17b-42fe-9b39-4749e5a599c6",
   "metadata": {},
   "outputs": [],
   "source": [
    "dive = Dives(depid, path = ref_path, sens_path = sens_path)"
   ]
  },
  {
   "cell_type": "code",
   "execution_count": null,
   "id": "95c415e0-ee3d-439d-a0ee-000097000615",
   "metadata": {},
   "outputs": [],
   "source": [
    "dive()"
   ]
  },
  {
   "cell_type": "markdown",
   "id": "cc97121f-1cdf-4419-8b1d-12ebd01a08b6",
   "metadata": {},
   "source": [
    "### Add temperature data to reference structure"
   ]
  },
  {
   "cell_type": "code",
   "execution_count": null,
   "id": "0af0343c-978d-4b55-8381-db89af8499dd",
   "metadata": {},
   "outputs": [],
   "source": [
    "ds = nc.Dataset(sens_path)\n",
    "temperature = ds['T'][:].data\n",
    "temp_time = get_start_time_sens(ds.dephist_device_datetime_start) + np.arange(0, len(temperature))/5"
   ]
  },
  {
   "cell_type": "code",
   "execution_count": null,
   "id": "f34026a1-6af5-4d0a-be34-fe300aecd7c6",
   "metadata": {},
   "outputs": [],
   "source": [
    "dive.create_variable('temperature',\n",
    "                     var_data =  temperature,\n",
    "                     var_time = temp_time)"
   ]
  },
  {
   "cell_type": "code",
   "execution_count": null,
   "id": "4797234e-d67a-41c8-a170-aae2b0249dea",
   "metadata": {},
   "outputs": [],
   "source": [
    "dive.ds"
   ]
  },
  {
   "cell_type": "code",
   "execution_count": null,
   "id": "2345b465-f9a4-443c-b1f3-0868c64cf835",
   "metadata": {},
   "outputs": [],
   "source": [
    "dive.ds.close()"
   ]
  },
  {
   "cell_type": "markdown",
   "id": "78233d31-8f6b-4a08-b152-352ad61c43ea",
   "metadata": {},
   "source": [
    "### Compute mixed layer depth"
   ]
  },
  {
   "cell_type": "code",
   "execution_count": null,
   "id": "9806676f",
   "metadata": {},
   "outputs": [],
   "source": [
    "inst = MixedLayerDepth(depid, \n",
    "            path = ref_path\n",
    "           )"
   ]
  },
  {
   "cell_type": "code",
   "execution_count": null,
   "id": "e54a5d2f",
   "metadata": {},
   "outputs": [],
   "source": [
    "inst()"
   ]
  },
  {
   "cell_type": "code",
   "execution_count": null,
   "id": "622d4699-6ba8-4bfc-b16f-e015435a4289",
   "metadata": {},
   "outputs": [],
   "source": [
    "from Biologging_Toolkit.utils.format_utils import *\n",
    "up, down = inst.get_dive_direction(inst.depth[:: 60 // inst.ds.sampling_rate])\n",
    "up, down = resample_boolean_array(up, len(inst.depth)), resample_boolean_array(down, len(inst.depth))\n",
    "for dive in list(range(947,953)) :\n",
    "    _zn1, _zn2 = [], []\n",
    "    # Get estimations from two profiles : up and down trajectories\n",
    "    for direction in [up, down]:\n",
    "        _temp = inst.temp[(inst.dives == dive) & direction]\n",
    "        _depth = inst.depth[(inst.dives == dive) & direction]\n",
    "        #Sort temp and depth profile by increasing depth and check if there is enough data\n",
    "        _depth, _temp = inst.profile_check(_depth, _temp, inst.ds.sampling_rate)\n",
    "        delta_k, std_k, X_k = [],[],[]\n",
    "        for k in range(len(_temp)):\n",
    "            delta_k.append(np.sqrt( 1/(k+1) * np.nansum([((_temp[i] - np.nanmean(_temp[:k+1]))**2) for i in range(k)])))\n",
    "            std_k.append(np.nanmax(_temp[:k+1]) - np.nanmin(_temp[:k+1]))\n",
    "            X_k.append(delta_k[-1] / std_k[-1])\n",
    "        #If X_k contains only nan values, add nan\n",
    "        try : \n",
    "            pos_zn1 = np.nanmin((np.nanargmin(X_k), len(X_k)-2))  #If lowest X_k is last element, take penultimate element\n",
    "            _zn1.append(_depth[pos_zn1])\n",
    "        except ValueError :\n",
    "            _zn1.append(np.nan)\n",
    "            _zn2.append(np.nan)\n",
    "            continue\n",
    "        for step in range(len(delta_k[:pos_zn1 - 1]), -1, -1):\n",
    "            if (delta_k[step + 1] - delta_k[step]) / (delta_k[pos_zn1 + 1] - delta_k[pos_zn1]) <= 0.3:\n",
    "                _zn2.append(_depth[step])\n",
    "                break"
   ]
  }
 ],
 "metadata": {
  "kernelspec": {
   "display_name": "Python [conda env:osekit_anatole]",
   "language": "python",
   "name": "conda-env-osekit_anatole-py"
  },
  "language_info": {
   "codemirror_mode": {
    "name": "ipython",
    "version": 3
   },
   "file_extension": ".py",
   "mimetype": "text/x-python",
   "name": "python",
   "nbconvert_exporter": "python",
   "pygments_lexer": "ipython3",
   "version": "3.10.14"
  }
 },
 "nbformat": 4,
 "nbformat_minor": 5
}
