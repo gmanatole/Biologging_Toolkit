{
 "cells": [
  {
   "cell_type": "code",
   "id": "7efb8836",
   "metadata": {},
   "source": [
    "import os\n",
    "import pandas as pd\n",
    "import netCDF4 as nc\n",
    "from datetime import datetime, date, timezone, timedelta, tzinfo\n",
    "import numpy as np\n",
    "import scipy\n",
    "from sklearn.metrics import r2_score\n",
    "\n",
    "from Biologging_Toolkit.plot.mixed_layer_depth import plot_wind_average_correlation, plot_wind_correlation\n",
    "from Biologging_Toolkit.applications.Mixed_Layer_Depth import MixedLayerDepth\n",
    "from Biologging_Toolkit.models.MLD_Model import MLDModel\n",
    "from Biologging_Toolkit.processing.Dives import Dives\n",
    "from Biologging_Toolkit.utils.format_utils import get_start_time_sens\n",
    "from Biologging_Toolkit.plot.mixed_layer_depth import *\n",
    "from Biologging_Toolkit.plot.mixed_layer_depth import plot_wind_gust_detector\n",
    "from Biologging_Toolkit.plot.mixed_layer_depth import plot_regression_results\n",
    "\n",
    "import matplotlib.pyplot as plt\n",
    "from matplotlib import colormaps\n",
    "plt.rcParams.update({\n",
    "    \"text.usetex\": True,                # Enable LaTeX text rendering\n",
    "    \"font.family\": \"serif\",             # Use a serif font\n",
    "    \"font.serif\": [\"Computer Modern\"],  # Set font to Computer Modern (LaTeX default)\n",
    "})"
   ],
   "outputs": [],
   "execution_count": null
  },
  {
   "cell_type": "markdown",
   "id": "4826a837",
   "metadata": {},
   "source": [
    "### Make sure csv structure for dive data exists"
   ]
  },
  {
   "metadata": {},
   "cell_type": "code",
   "source": [
    "depid = 'ml18_294b'\n",
    "path = os.path.join('D:/individus_brut/individus/', depid)\n",
    "ref_path = os.path.join(path, 'data', 'auxiliary', 'instrument')\n",
    "sens_path = os.path.join(ref_path, depid+'sens5.nc')"
   ],
   "id": "7e5a80c0",
   "outputs": [],
   "execution_count": null
  },
  {
   "cell_type": "code",
   "id": "46088c24-d17b-42fe-9b39-4749e5a599c6",
   "metadata": {
    "scrolled": true
   },
   "source": [
    "dive = Dives(depid, path = ref_path, sens_path = sens_path)"
   ],
   "outputs": [],
   "execution_count": null
  },
  {
   "cell_type": "code",
   "id": "95c415e0-ee3d-439d-a0ee-000097000615",
   "metadata": {},
   "source": [
    "dive()"
   ],
   "outputs": [],
   "execution_count": null
  },
  {
   "cell_type": "markdown",
   "id": "cc97121f-1cdf-4419-8b1d-12ebd01a08b6",
   "metadata": {},
   "source": [
    "### Add temperature data to reference structure"
   ]
  },
  {
   "cell_type": "code",
   "id": "0af0343c-978d-4b55-8381-db89af8499dd",
   "metadata": {},
   "source": [
    "ds = nc.Dataset(sens_path)\n",
    "temperature = ds['T'][:].data\n",
    "temp_time = get_start_time_sens(ds.dephist_device_datetime_start) + np.arange(0, len(temperature))/5"
   ],
   "outputs": [],
   "execution_count": null
  },
  {
   "cell_type": "code",
   "id": "f34026a1-6af5-4d0a-be34-fe300aecd7c6",
   "metadata": {},
   "source": [
    "dive.create_variable('temperature',\n",
    "                     var_data =  temperature,\n",
    "                     var_time = temp_time)"
   ],
   "outputs": [],
   "execution_count": null
  },
  {
   "cell_type": "code",
   "id": "4797234e-d67a-41c8-a170-aae2b0249dea",
   "metadata": {},
   "source": [
    "dive.ds"
   ],
   "outputs": [],
   "execution_count": null
  },
  {
   "cell_type": "code",
   "id": "2345b465-f9a4-443c-b1f3-0868c64cf835",
   "metadata": {},
   "source": [
    "dive.ds.close()"
   ],
   "outputs": [],
   "execution_count": null
  },
  {
   "cell_type": "markdown",
   "id": "78233d31-8f6b-4a08-b152-352ad61c43ea",
   "metadata": {},
   "source": [
    "### Compute mixed layer depth"
   ]
  },
  {
   "cell_type": "code",
   "id": "9806676f",
   "metadata": {},
   "source": [
    "depids = ['ml19_292b','ml19_293a','ml19_294a','ml20_293a','ml20_296b','ml20_313a','ml21_295a','ml21_305b','ml17_280a']\n",
    "for depid in depids :\n",
    "    path = os.path.join('D:/individus_brut/individus/', depid)\n",
    "    inst = MixedLayerDepth(depid,\n",
    "                path = path,\n",
    "                meop_path = f'D:/individus_brut/CTD1/{depid}_fr1_prof.nc'\n",
    "               )\n",
    "    inst()"
   ],
   "outputs": [],
   "execution_count": null
  },
  {
   "cell_type": "code",
   "id": "e54a5d2f",
   "metadata": {},
   "source": [
    "inst()"
   ],
   "outputs": [],
   "execution_count": null
  },
  {
   "cell_type": "markdown",
   "id": "bf516cab-69fe-4443-b624-56aed17df99d",
   "metadata": {},
   "source": [
    "### Wind correlation with MLD"
   ]
  },
  {
   "cell_type": "code",
   "id": "3a5dd134-8d86-4573-b1a2-d58eb43d0dde",
   "metadata": {},
   "source": [
    "depids = ['ml18_296a','ml18_294b','ml19_292a','ml19_292b','ml19_293a','ml19_294a','ml20_293a','ml20_296b','ml20_313a','ml21_295a','ml21_305b','ml17_280a']\n",
    "path = 'D:/individus_brut/individus/'\n",
    "paths = [os.path.join(path, depid) for depid in depids]"
   ],
   "outputs": [],
   "execution_count": null
  },
  {
   "cell_type": "code",
   "id": "f7a739f0-b53c-402d-a179-ef15dc99a8ce",
   "metadata": {},
   "source": [
    "corrected_mld = False\n",
    "depids_with_mld = []\n",
    "for depid in depids :\n",
    "    df = pd.read_csv(os.path.join(path, depid, f'{depid}_dive.csv'))\n",
    "    try :\n",
    "        if np.all(np.isnan(df.meop_mld.to_numpy())):\n",
    "            continue\n",
    "        depids_with_mld.append(depid)\n",
    "    except AttributeError:\n",
    "        continue\n",
    "if corrected_mld :\n",
    "    depids_with_mld = []\n",
    "    for depid in depids :\n",
    "        df = pd.read_csv(os.path.join(path, depid, f'{depid}_dive.csv'))\n",
    "        if 'corr_mld' in list(df.columns) :\n",
    "            depids_with_mld.append(depid)\n",
    "print(depids_with_mld)"
   ],
   "outputs": [],
   "execution_count": null
  },
  {
   "metadata": {},
   "cell_type": "code",
   "source": [
    "plot_wind_average_correlation(depids_with_mld,\n",
    "                  path = 'D:/individus_brut/individus',\n",
    "                  data = 'lstm',\n",
    "                  group = 'gradient',\n",
    "                  save = False, save_path = 'C:/Users/grosm/Desktop/thèse/Figures/')"
   ],
   "id": "48df11678058aa16",
   "outputs": [],
   "execution_count": null
  },
  {
   "metadata": {},
   "cell_type": "code",
   "source": [
    "data = ['wind_speed', 'hildebrand', 'pensieri', 'lstm']\n",
    "labels = ['ERA5', 'Hildebrand', 'Pensieri', 'LSTM']\n",
    "plot_wind_correlation(depids_with_mld,\n",
    "                      path = 'D:/individus_brut/individus',\n",
    "                      data = data,\n",
    "                      labels = labels)"
   ],
   "id": "4cdf5e2495093f6f",
   "outputs": [],
   "execution_count": null
  },
  {
   "cell_type": "markdown",
   "id": "477d61c9-9a24-4c3e-947d-95175daea24a",
   "metadata": {},
   "source": "### MLD | Wind relationship model"
  },
  {
   "metadata": {},
   "cell_type": "code",
   "source": [
    "params = ['peaks', 'gradient', 'temp10', 'previous_mld', 'temp_diff', 'density']\n",
    "mae, r2 = [], []\n",
    "coeffs = []\n",
    "model = MLDModel(path, depids_with_mld,\n",
    "                 test_depid = depid, params = params,\n",
    "                 target = 'mld_diff',\n",
    "                 deepening = False,\n",
    "                 smoothing = True,\n",
    "                 structure = 'complete')\n",
    "model.create_gust_dataframe()\n",
    "model.df.mld_diff += 486\n",
    "model.df = model.df[model.df.temp_diff <  5]"
   ],
   "id": "28c8923ce2f8b2a3",
   "outputs": [],
   "execution_count": null
  },
  {
   "metadata": {},
   "cell_type": "code",
   "source": [
    "for depid in depids_with_mld :\n",
    "    model.test_depid = [depid]\n",
    "    #model.generalized_additive_model(link = 'inverse', distribution = 'gamma')\n",
    "    model.random_forest(plot = True)"
   ],
   "id": "95b141fac81e7a7f",
   "outputs": [],
   "execution_count": null
  },
  {
   "metadata": {},
   "cell_type": "code",
   "source": [
    "fig, ax = plt.subplots()\n",
    "sns.kdeplot(model.df, x = 'mld_diff', y = 'RF_pred')\n",
    "ax.scatter(model.df.mld_diff, model.df.RF_pred, c = 'orange', s = 5, alpha = 0.1)\n",
    "ax.set_ylim(200,800)\n",
    "ax.plot([300,700], [300,700], '--', c = 'k')"
   ],
   "id": "c4d1396644475390",
   "outputs": [],
   "execution_count": null
  },
  {
   "metadata": {},
   "cell_type": "code",
   "source": [
    "from sklearn.metrics import r2_score\n",
    "np.corrcoef(model.df.RF_pred, model.df.mld_diff)"
   ],
   "id": "fca14503ada1f237",
   "outputs": [],
   "execution_count": null
  },
  {
   "metadata": {},
   "cell_type": "code",
   "source": [
    "fig, ax = plt.subplots()\n",
    "sns.kdeplot(model.df, x = 'mld_diff', y = \"GAM_pred\", ax = ax)\n",
    "ax.plot([-120,120], [-120, 120], '--', c = 'k')\n",
    "ax.scatter(model.df.mld_diff, model.df.GAM_pred, c = 'orange', s = 5, alpha = 0.3)\n",
    "ax.set_ylim(-120, 120)\n",
    "ax.set_xlim(-120, 120)"
   ],
   "id": "6f1e8f9865347705",
   "outputs": [],
   "execution_count": null
  },
  {
   "metadata": {},
   "cell_type": "code",
   "source": [
    "import umap\n",
    "import hdbscan\n",
    "import matplotlib.colors as mcolors\n",
    "\n",
    "params = ['peaks', 'gradient', 'previous_mld', 'temp10', 'temp_diff']\n",
    "reducer = umap.UMAP()\n",
    "data = np.nan_to_num(model.df[params])\n",
    "embedding = reducer.fit_transform(data)\n",
    "labels = hdbscan.HDBSCAN(min_samples = 50, min_cluster_size = 200).fit_predict(data)\n",
    "fig, ax = plt.subplots(1, 2, figsize = (15,8))\n",
    "unique_labels = np.unique(labels)\n",
    "c = np.array(['darkorchid', 'indianred', 'cyan', 'midnightblue', 'seagreen'])\n",
    "c =  np.append(c[:len(unique_labels)], 'grey')\n",
    "colors = [c[label] for label in labels]\n",
    "'''ax[0].scatter(embedding[:,0], embedding[:,1], c = colors, s = 4)\n",
    "for label, color in zip(unique_labels, colors):\n",
    "    ax[0].scatter([], [], label=f'Cluster {label}', color=c[label])\n",
    "ax[0].legend()\n",
    "ground_truth = model.df.mld_diff'''\n",
    "ax[0].scatter(embedding[:,0], embedding[:,1], c = model.df.mld, s = 4, cmap = 'viridis')\n",
    "ground_truth[abs(ground_truth) > 50] = np.nan\n",
    "ax[1].scatter(embedding[:,0], embedding[:,1], c = model.df.mld_diff, s = 4, cmap = 'viridis')"
   ],
   "id": "8aa466060a813468",
   "outputs": [],
   "execution_count": null
  },
  {
   "metadata": {},
   "cell_type": "code",
   "source": [
    "fig, ax = plt.subplots()\n",
    "sns.kdeplot(model.df, x = model.target, y = 'GLM_pred')\n",
    "ax.set_ylim(-20, 200)\n",
    "ax.plot([0,200], [0,200], '--', c = 'k')"
   ],
   "id": "dea0abc844a42d17",
   "outputs": [],
   "execution_count": null
  },
  {
   "metadata": {},
   "cell_type": "code",
   "source": "plot_wind_gust_detector(path, depids_with_mld[-1], prominence = 0, distance = 1, height = 6)",
   "id": "b0f4ab515e5f7e21",
   "outputs": [],
   "execution_count": null
  },
  {
   "metadata": {},
   "cell_type": "code",
   "source": [
    "### PCA FOR INDEPENDANT VARIABLES\n",
    "from statsmodels.multivariate.pca import PCA\n",
    "\n",
    "pca_model = PCA(model.df[params], ncomp=6, standardize=True, method='eig')  # Standardized PCA\n",
    "factors = pca_model.factors.to_numpy()  # Principal components (scores)\n",
    "loadings = pca_model.loadings.to_numpy()  # Loadings (eigenvectors)\n",
    "explained_variance = pca_model.eigenvals / np.sum(pca_model.eigenvals)  # Proportion of variance explained\n",
    "\n",
    "# 2.1 Scree Plot\n",
    "plt.figure(figsize=(8, 5))\n",
    "plt.plot(range(1, len(explained_variance) + 1), explained_variance, marker='o', linestyle='--', color='b')\n",
    "plt.title('Scree Plot')\n",
    "plt.xlabel('Principal Component')\n",
    "plt.ylabel('Proportion of Variance Explained')\n",
    "plt.show()\n",
    "\n",
    "# 2.2 Score Plot (PC1 vs. PC2)\n",
    "plt.figure(figsize=(8, 5))\n",
    "plt.scatter(factors[:, 0], factors[:, 1], alpha=0.7, edgecolors='k', label='Scores')\n",
    "plt.axhline(0, color='black', linestyle='--', linewidth=0.8)\n",
    "plt.axvline(0, color='black', linestyle='--', linewidth=0.8)\n",
    "plt.title('Score Plot (PC1 vs. PC2)')\n",
    "plt.xlabel('PC1')\n",
    "plt.ylabel('PC2')\n",
    "plt.legend()\n",
    "plt.show()\n",
    "\n",
    "# 2.3 Loading Plot (PC1 vs. PC2)\n",
    "plt.figure(figsize=(8, 5))\n",
    "for i, var in enumerate(model.df[params].columns):\n",
    "    plt.arrow(0, 0, loadings[i, 0], loadings[i, 1], color='r', alpha=0.8, head_width=0.05)\n",
    "    plt.text(loadings[i, 0] * 1.2, loadings[i, 1] * 1.2, var, color='g', ha='center', va='center')\n",
    "plt.axhline(0, color='black', linestyle='--', linewidth=0.8)\n",
    "plt.axvline(0, color='black', linestyle='--', linewidth=0.8)\n",
    "plt.title('Loading Plot (PC1 vs. PC2)')\n",
    "plt.xlabel('PC1')\n",
    "plt.ylabel('PC2')\n",
    "plt.grid()\n",
    "plt.show()\n",
    "\n",
    "# 2.4 Biplot\n",
    "plt.figure(figsize=(8, 5))\n",
    "plt.scatter(factors[:, 0], factors[:, 1], alpha=0.7, edgecolors='k', label='Scores')\n",
    "for i, var in enumerate(model.df[params].columns):\n",
    "    plt.arrow(0, 0, loadings[i, 0], loadings[i, 1], color='r', alpha=0.8, head_width=0.05)\n",
    "    plt.text(loadings[i, 0] * 1.2, loadings[i, 1] * 1.2, var, color='g', ha='center', va='center')\n",
    "plt.axhline(0, color='black', linestyle='--', linewidth=0.8)\n",
    "plt.axvline(0, color='black', linestyle='--', linewidth=0.8)\n",
    "plt.title('Biplot (Scores and Loadings)')\n",
    "plt.xlabel('PC1')\n",
    "plt.ylabel('PC2')\n",
    "plt.legend()\n",
    "plt.show()\n",
    "\n",
    "# 2.5 Cumulative Variance Explained Plot\n",
    "cumulative_variance = np.cumsum(explained_variance)\n",
    "plt.figure(figsize=(8, 5))\n",
    "plt.plot(range(1, len(cumulative_variance) + 1), cumulative_variance, marker='o', linestyle='--', color='g')\n",
    "plt.title('Cumulative Variance Explained')\n",
    "plt.xlabel('Number of Principal Components')\n",
    "plt.ylabel('Cumulative Proportion of Variance Explained')\n",
    "plt.axhline(y=0.9, color='r', linestyle='--', label='90% Variance Explained')\n",
    "plt.legend()\n",
    "plt.show()"
   ],
   "id": "685baf273ad5d655",
   "outputs": [],
   "execution_count": null
  },
  {
   "metadata": {},
   "cell_type": "code",
   "source": [
    "params = {1 : ['peaks', 'gradient'],\n",
    "          2 : ['peaks', 'previous_mld']}\n",
    "fig, ax = plt.subplots()\n",
    "for j in range(1,3):\n",
    "        R2 = []\n",
    "        model = MLDModel(path, depids_with_mld, structure = 'complete', params = params[j], deepening = False)\n",
    "        for i in range(1,72,2) :\n",
    "            model.create_gust_dataframe(time_diff=i)\n",
    "            for depid in depids_with_mld:\n",
    "                model.test_depid = [depid]\n",
    "                model.gls_regression()\n",
    "            R2.append(r2_score(model.df.mld, model.df.GLS_pred))\n",
    "        ax.plot(list(range(1,72,2)), R2, label = '_'.join(params[j]))\n",
    "ax.legend()\n",
    "ax.grid()\n",
    "fig.tight_layout()\n",
    "#fig.savefig('C:/Users/grosm/Desktop/Models_R2_MLD_with_PMLD.pdf')"
   ],
   "id": "6a93c965984c9281",
   "outputs": [],
   "execution_count": null
  },
  {
   "metadata": {},
   "cell_type": "code",
   "source": [
    "import gsw\n",
    "depid = 'ml19_293a'\n",
    "df = pd.read_csv(os.path.join(path, depid, f'{depid}_dive.csv'))\n",
    "meop_path = f'D:/individus_brut/MEOP_profiles/meop_{depid}.nc'\n",
    "meop = nc.Dataset(meop_path)\n",
    "ctd_time = np.array([(datetime(1950,1,1,0,0,0) + timedelta(elem)).replace(tzinfo=timezone.utc) for elem in meop['JULD'][:].data])\n",
    "sal_var = 'PSAL_ADJUSTED'\n",
    "temp_var = 'TEMP_ADJUSTED'\n",
    "temp = meop[temp_var][:].data\n",
    "temp[meop[temp_var][:].mask] = np.nan\n",
    "sal = meop[sal_var][:].data\n",
    "sal[meop[sal_var][:].mask] = np.nan\n",
    "sigma0 = gsw.density.sigma0(sal, temp)"
   ],
   "id": "4f8e9bbd6a9acce2",
   "outputs": [],
   "execution_count": null
  },
  {
   "metadata": {},
   "cell_type": "code",
   "source": [
    "test_mld = []\n",
    "for elem in sigma0 :\n",
    "    try:\n",
    "        test_mld.append(np.min(np.where(abs(elem[11:] - elem[10]) > 0.03))+11)\n",
    "    except:\n",
    "        test_mld.append(np.nan)"
   ],
   "id": "b58e5e97ad70ffe6",
   "outputs": [],
   "execution_count": null
  },
  {
   "metadata": {},
   "cell_type": "code",
   "source": [
    "plt.plot(ctd_time, test_mld)\n",
    "plt.plot(df.end_time.apply(datetime.utcfromtimestamp), df.meop_mld)\n",
    "plt.xlim(date(2018,11,1), date(2018,11,6))"
   ],
   "id": "6287ddf997291379",
   "outputs": [],
   "execution_count": null
  },
  {
   "metadata": {},
   "cell_type": "code",
   "source": [
    "print(np.where(ctd_time > datetime(2018,10,30,tzinfo=timezone.utc)))\n",
    "dive_time = df.end_time.apply(lambda x : datetime.fromtimestamp(x).replace(tzinfo=timezone.utc))\n",
    "print(np.where(dive_time > datetime(2018,10,30,tzinfo=timezone.utc)))"
   ],
   "id": "4f5cfdbc1f315ff1",
   "outputs": [],
   "execution_count": null
  },
  {
   "metadata": {},
   "cell_type": "code",
   "source": "epoch_ctd = [_ctd_time.timestamp() for _ctd_time in ctd_time]",
   "id": "c734600498cab390",
   "outputs": [],
   "execution_count": null
  },
  {
   "metadata": {},
   "cell_type": "code",
   "source": "plt.hist(np.array(sigma0).flatten(), bins = 50)",
   "id": "9c489ad79a792162",
   "outputs": [],
   "execution_count": null
  },
  {
   "metadata": {},
   "cell_type": "code",
   "source": [
    "import matplotlib.dates as mdates\n",
    "fig, ax = plt.subplots(figsize=(8,5))\n",
    "cmap = plt.get_cmap('viridis_r')\n",
    "\n",
    "\n",
    "#indices_mld = np.searchsorted(dive_ds.begin_time, ctd_time[time_mld < self.dive_ds.end_time.iloc[-1]])\n",
    "indices = np.searchsorted(epoch_ctd, df.begin_time[df.end_time <= epoch_ctd[-1]])\n",
    "final_dive = np.full((len(epoch_ctd)), np.nan)\n",
    "final_dive[indices - 1] = df.meop_mld[df.end_time <= epoch_ctd[-1]]\n",
    "#final_mld = np.full(len(self.dive_ds), np.nan)\n",
    "#final_mld[indices_mld-1] = mld[time_mld < self.dive_ds.end_time.iloc[-1]]\n",
    "\n",
    "im = ax.imshow(sigma0.T, origin='lower', aspect='auto', cmap=cmap, norm=mcolors.LogNorm(vmin=26.5, vmax=28))\n",
    "ax.plot(final_dive, label='MLD', color='red')\n",
    "\n",
    "plt.xticks(rotation=45)\n",
    "ax.set_xlim(0,200)\n",
    "#ax.set_ylim(0, 400)\n",
    "ax.legend()\n",
    "fig.tight_layout()"
   ],
   "id": "9515d976f8f634b3",
   "outputs": [],
   "execution_count": null
  },
  {
   "metadata": {},
   "cell_type": "code",
   "source": "len(df)",
   "id": "175770b2868cd5c7",
   "outputs": [],
   "execution_count": null
  },
  {
   "metadata": {},
   "cell_type": "code",
   "source": [
    "import matplotlib.colors as mcolors\n",
    "#norm = mcolors.LogNorm(vmin=0, vmax=np.nanmax(temp)-np.nanmin(temp))\n",
    "\n",
    "fig, ax = plt.subplots(figsize=(8,5))\n",
    "cmap = colormaps.get_cmap('viridis')  # viridis is the default colormap for imshow\n",
    "sigma0[sigma0 < 26.5] = np.nan\n",
    "sigma0[sigma0 > 27.5] = np.nan\n",
    "ax.imshow(sigma0.T, origin = 'lower', aspect = 'auto', cmap = cmap, vmin = 26.5, vmax = 27.5)\n",
    "ax.plot()\n",
    "#ax.set_xticks(np.arange(0, len(ctd_time))[::1000])\n",
    "#ax.set_xticklabels(ctd_time[::1000])\n",
    "#ax.plot(df.begin_time.apply(datetime.fromtimestamp)[df.meop_mld < 350], df.meop_mld[df.meop_mld < 350], label = 'MLD')\n",
    "#ax.legend()\n",
    "ax.set_xlim(4700, 4800)\n",
    "ax.set_ylim(0, 600)\n",
    "fig.tight_layout()"
   ],
   "id": "dc711ab24c9fc02d",
   "outputs": [],
   "execution_count": null
  },
  {
   "metadata": {},
   "cell_type": "code",
   "source": "plt.hist(sigma0.flatten(), bins = 50)",
   "id": "c94dbccc9970cf46",
   "outputs": [],
   "execution_count": null
  },
  {
   "metadata": {},
   "cell_type": "code",
   "source": [
    "from datetime import datetime, date\n",
    "df = pd.read_csv(os.path.join(path, depid, f'{depid}_dive.csv'))\n",
    "fig, ax = plt.subplots(figsize=(8, 5))\n",
    "lines = []\n",
    "line = ax.plot(df.begin_time.apply(datetime.fromtimestamp)[df.meop_mld < 350], df.meop_mld[df.meop_mld < 350], label = 'MLD')\n",
    "ax1 = ax.twinx()\n",
    "line1 = ax1.plot(df.begin_time.apply(datetime.fromtimestamp), df.lstm, c = 'orange', label = 'WIND')\n",
    "ax.grid()\n",
    "ax.set_xlim([date(2018, 11, 9), date(2018, 11, 15)])\n",
    "lines.extend(line)\n",
    "lines.extend(line1)\n",
    "labels = [l.get_label() for l in lines]\n",
    "ax.legend(lines, labels)\n",
    "fig.tight_layout()"
   ],
   "id": "c8cc64de17a6775a",
   "outputs": [],
   "execution_count": null
  },
  {
   "metadata": {},
   "cell_type": "code",
   "source": "fig.savefig('C:/Users/grosm/Desktop/MLD.pdf')",
   "id": "995923139aadb796",
   "outputs": [],
   "execution_count": null
  },
  {
   "metadata": {},
   "cell_type": "code",
   "source": [
    "params = {1 : ['peaks', 'duration', 'gradient', 'density', 'temp10'],\n",
    "          2 : ['peaks', 'gradient', 'density', 'temp10'],\n",
    "          3 : ['peaks', 'gradient', 'temp10'],\n",
    "          4 : ['peaks', 'duration', 'gradient'],}\n",
    "fig, ax = plt.subplots()\n",
    "for j in range(1,5):\n",
    "        R2 = []\n",
    "        model = MLDModel(path, depids_with_mld, target = 'mld', params = params[j], deepening = False)\n",
    "        for i in range(1,72,2) :\n",
    "            model.create_gust_dataframe(time_diff=i)\n",
    "            for depid in depids_with_mld:\n",
    "                model.test_depid = [depid]\n",
    "                model.ols_regression()\n",
    "            R2.append(r2_score(model.df.mld, model.df.OLS_pred))\n",
    "        ax.plot(list(range(1,72,2)), R2, label = '_'.join(params[j]))\n",
    "ax.legend()\n",
    "ax.grid()\n",
    "fig.tight_layout()"
   ],
   "id": "90daa73fd1e44a43",
   "outputs": [],
   "execution_count": null
  },
  {
   "metadata": {},
   "cell_type": "code",
   "source": " model.df",
   "id": "87db208e75a5f34a",
   "outputs": [],
   "execution_count": null
  },
  {
   "metadata": {},
   "cell_type": "code",
   "source": "plt.plot(model.df.temp10)",
   "id": "9755efd76f6bd06b",
   "outputs": [],
   "execution_count": null
  },
  {
   "metadata": {},
   "cell_type": "code",
   "source": "plt.scatter(model.df.mld, model.df.RF_pred)",
   "id": "c178642376b90843",
   "outputs": [],
   "execution_count": null
  },
  {
   "metadata": {},
   "cell_type": "code",
   "source": [
    "params = {1 : ['peaks', 'duration', 'gradient', 'density', 'temp10', 'previous_mld'],\n",
    "          2 : ['peaks', 'duration', 'gradient', 'density', 'temp10']}\n",
    "targets = {1 : 'mld', 2 : 'mld_diff'}\n",
    "labels = ['MLD with previous MDL', 'MLD', 'MLD diff with previous MLD', 'MLD diff']\n",
    "fig, ax = plt.subplots()\n",
    "for j in range(1,3):\n",
    "    for k in range(1,3):\n",
    "        final = []\n",
    "        model = MLDModel(path, depids_with_mld, params = params[j], deepening = True, target = targets[k])\n",
    "        for i in range(1,72,2) :\n",
    "            R2 = []\n",
    "            model.create_gust_dataframe(time_diff=i)\n",
    "            for depid in depids_with_mld:\n",
    "                model.test_depid = [depid]\n",
    "                model.ols_regression()\n",
    "                R2.append(model.OLS_r_squared)\n",
    "                #model.random_forest(plot = False)\n",
    "                #RF.append(model.RF_r_squared)\n",
    "                #model.linear_gam()\n",
    "                #GAM.append(model.GAM_r_squared)\n",
    "            final.append(np.nanmean(R2))\n",
    "            #ax.scatter(i, np.nanmean(OLS), c = 'gold', label = 'OLS' if i == 1 else \"\")\n",
    "            #ax.scatter(i, np.nanmean(RF), c = 'red', label = 'RF' if i == 1 else \"\")\n",
    "            #ax.scatter(i, np.nanmean(GAM), c = 'blue')\n",
    "        ax.plot(list(range(1,72,2)), final, label = labels[j*2+k-3])\n",
    "ax.legend()\n",
    "ax.grid()\n",
    "fig.tight_layout()\n",
    "fig.savefig('C:/Users/grosm/Desktop/Models_R2_MLD_with_PMLD.pdf')"
   ],
   "id": "1e87e543a6b2fa54",
   "outputs": [],
   "execution_count": null
  },
  {
   "metadata": {},
   "cell_type": "code",
   "source": [
    "### GET OLS RESULTS FOR DIFFERENT TIME DIFFS\n",
    "params = ['peaks', 'duration', 'gradient', 'density', 'temp10']\n",
    "mae, r2 = [], []\n",
    "coeffs = []\n",
    "for depid in depids_with_mld :\n",
    "    model = MLDModel(path, depids_with_mld,\n",
    "                     test_depid = depid, params = params,\n",
    "                     target = 'mld_diff',\n",
    "                     deepening = True,\n",
    "                     find_peaks_params = {'prominence':0.9, 'height':6, 'distance':3})\n",
    "    model.temporal_linear_regression(tmax = 48)\n",
    "    mae.append(model.OLS_mae)\n",
    "    r2.append(model.OLS_r_squared)\n",
    "    coeffs.append(model.OLS_results)"
   ],
   "id": "82b39e6bea17cdba",
   "outputs": [],
   "execution_count": null
  },
  {
   "metadata": {},
   "cell_type": "code",
   "source": "plt.savefig('C:/Users/grosm/Desktop/OLS_mld_diff_deepening_profiles.pdf')",
   "id": "b84e2b9c7b9631b",
   "outputs": [],
   "execution_count": null
  },
  {
   "metadata": {},
   "cell_type": "code",
   "source": [
    "fig, ax = plt.subplots()\n",
    "ax1 = ax.twinx()\n",
    "line = ax.plot(np.nanmean(mae, axis = 0), label = 'MAE', c = 'red')\n",
    "line1 = ax1.plot(np.nanmean(r2, axis = 0), label = 'R2')\n",
    "ax.grid()\n",
    "ax.legend()\n",
    "ax.set_ylabel('MAE (m)')\n",
    "ax1.set_ylabel('$R^{2}$')\n",
    "lines = line+line1\n",
    "ax_labels = [l.get_label() for l in lines]\n",
    "ax.legend(lines, ax_labels, loc='upper left')\n",
    "ax.set_xlabel('Time differential (h)')\n",
    "fig.tight_layout()"
   ],
   "id": "eee6f284cc020f27",
   "outputs": [],
   "execution_count": null
  },
  {
   "metadata": {},
   "cell_type": "code",
   "source": [
    "fig, ax = plt.subplots(2,2, figsize = (8,8))\n",
    "ax = ax.flatten()\n",
    "params = ['peaks', 'duration', 'gradient', 'density', 'temp10','previous_mld']\n",
    "model = MLDModel(path, depids_with_mld,\n",
    "                     test_depid = depid, params = params,\n",
    "                     target = 'mld',\n",
    "                     deepening = True,\n",
    "                     find_peaks_params = {'prominence':0.9, 'height':6, 'distance':3})\n",
    "for i, time_diff in enumerate([12, 24, 36, 48]):\n",
    "    model.create_gust_dataframe(time_diff=time_diff)\n",
    "    estimation = (0.03*time_diff - 0.02) * model.df.peaks.to_numpy() \\\n",
    "        + (-1.43*time_diff - 28) * model.df.gradient.to_numpy() \\\n",
    "        + (-.32*time_diff - 5.25) * model.df.density.to_numpy() \\\n",
    "        + (-0.04*time_diff - 2.58) * model.df.temp10.to_numpy() \\\n",
    "        + 1.04 * model.df.previous_mld.to_numpy() \\\n",
    "        + 9.26*time_diff + 171\n",
    "    estimation2 = (-0.03*time_diff +1.41) * model.df.peaks.to_numpy() \\\n",
    "        + (-1.43*time_diff - 28) * model.df.gradient.to_numpy() \\\n",
    "        + (-.32*time_diff - 5.25) * model.df.density.to_numpy() \\\n",
    "        + (-0.04*time_diff - 2.58) * model.df.temp10.to_numpy() \\\n",
    "        + 1.04 * model.df.previous_mld.to_numpy() \\\n",
    "        + 9.26*time_diff + 171\n",
    "    ax[i].plot([0, 350], [0, 350], '--', c = 'k')\n",
    "    if time_diff > 24 :\n",
    "        ax[i].scatter(model.df.mld.to_numpy(), estimation2, s = 5, c = model.df.other_peaks)\n",
    "    else :\n",
    "        ax[i].scatter(model.df.mld.to_numpy(), estimation, s = 5, c = model.df.other_peaks)\n",
    "    print(time_diff, np.nanmean(abs(model.df.mld.to_numpy() - estimation)))\n",
    "    ax[i].set_title(f'MLD estimation after {time_diff} h')\n",
    "    ax[i].grid()\n",
    "    fig.supxlabel(\"Mixed Layer Depth (MLD)\")\n",
    "    fig.supylabel(\"Estimation Value\")\n",
    "    fig.tight_layout()\n"
   ],
   "id": "a4465df947d86f46",
   "outputs": [],
   "execution_count": null
  },
  {
   "metadata": {},
   "cell_type": "code",
   "source": "fig.savefig('C:/Users/grosm/Desktop/OLS_estimation_final_model.pdf')",
   "id": "3af3fc84e60c84fc",
   "outputs": [],
   "execution_count": null
  },
  {
   "metadata": {},
   "cell_type": "code",
   "source": [
    "def fit_func(x, a, b) :\n",
    "    return a*x + b\n",
    "for var in list(coeffs[0].keys()) :\n",
    "    var_mean = np.mean(np.column_stack([coeffs[i][var][0] for i in range(len(depids_with_mld))]),axis=1)\n",
    "    if np.isin(var, ['peaks','duration']):\n",
    "        popt1, _ = scipy.optimize.curve_fit(fit_func, list(range(1,25)), var_mean[:24])\n",
    "        popt2, _ = scipy.optimize.curve_fit(fit_func, list(range(25,48)), var_mean[24:])\n",
    "        fig, ax = plt.subplots()\n",
    "        ax.scatter(list(range(1,48)), var_mean)\n",
    "        ax.plot(list(range(1,25)), fit_func(np.array(list(range(1,25))), *popt1))\n",
    "        ax.plot(list(range(25,48)), fit_func(np.array(list(range(25,48))), *popt2))\n",
    "        print(popt1, popt2)\n",
    "        continue\n",
    "    popt,_ = scipy.optimize.curve_fit(fit_func, list(range(1,48)), var_mean)\n",
    "    fig, ax = plt.subplots()\n",
    "    ax.scatter(list(range(1,48)), var_mean)\n",
    "    ax.plot(list(range(1,48)), fit_func(np.array(list(range(1,48))), *popt))\n",
    "    print(popt)\n"
   ],
   "id": "1de961bb08b4a4a9",
   "outputs": [],
   "execution_count": null
  },
  {
   "metadata": {},
   "cell_type": "code",
   "source": "fig.savefig('C:/Users/grosm/Desktop/OLS_model_all_vars.pdf')",
   "id": "7b01083892d33fea",
   "outputs": [],
   "execution_count": null
  },
  {
   "metadata": {},
   "cell_type": "code",
   "source": [
    "params = ['peaks', 'duration', 'gradient', 'density', 'temp10', 'previous_mld']\n",
    "model = MLDModel(path, depids_with_mld, params = params)\n",
    "model.create_gust_dataframe(time_diff=15)\n",
    "model.test_depid = ['ml17_280a']\n",
    "model.ols_regression()"
   ],
   "id": "fac0f155edc447a6",
   "outputs": [],
   "execution_count": null
  },
  {
   "metadata": {},
   "cell_type": "code",
   "source": [
    "### GET ALL MODEL ESTIMATIONS FOR GIVEN TIME DIFF\n",
    "params = ['peaks', 'duration', 'gradient', 'density', 'temp10', 'previous_mld']\n",
    "model = MLDModel(path, depids_with_mld, params = params)\n",
    "model.create_gust_dataframe(time_diff=15)\n",
    "for depid in depids_with_mld :\n",
    "    model.test_depid = [depid]\n",
    "    model.ols_regression()\n",
    "    #model.random_forest(plot = True)\n",
    "    #model.linear_gam()\n",
    "fig, ax = plt.subplots(figsize = (7,7))\n",
    "ax.plot([0, 400], [0, 400], '--', c ='k')\n",
    "for pred in ['OLS_pred'] : #, 'RF_pred', 'GAM_pred'] :\n",
    "    print(pred, np.nanmean(abs(model.df.mld.to_numpy() - model.df[pred].to_numpy())))\n",
    "    sns.kdeplot(model.df,x='mld',y=pred,ax = ax, alpha = 0.5, color = 'orange')\n",
    "    sc = ax.scatter(model.df.mld, model.df[pred], label = pred, alpha = 0.6, s=5)\n",
    "ax.grid()\n",
    "ax.set_xlabel('MLD (m)')\n",
    "ax.set_ylabel('MLD estimation (m)')\n",
    "fig.tight_layout()"
   ],
   "id": "6cc4ed771aa9c84b",
   "outputs": [],
   "execution_count": null
  },
  {
   "metadata": {},
   "cell_type": "code",
   "source": "fig.savefig('C:/Users/grosm/Desktop/OLS_estimation.pdf')",
   "id": "552252dbd2782ede",
   "outputs": [],
   "execution_count": null
  },
  {
   "metadata": {},
   "cell_type": "code",
   "source": "scatter_wind_mld(model.df, {'var_mld':'MLD Variance', 'gradient':'Density gradient at MLD', 'temp10':'10m temperature', 'density':'MLD Density'})",
   "id": "e86fe251ec346f1c",
   "outputs": [],
   "execution_count": null
  },
  {
   "metadata": {},
   "cell_type": "code",
   "source": [
    "fig, ax = plt.subplots(figsize = (9,9))\n",
    "params = ['peaks', 'duration', 'gradient', 'density', 'temp10', 'previous_mld']\n",
    "sns.heatmap(model.df[params + ['mld']].corr(), cmap = 'Reds', square = True, annot = True, ax = ax)\n",
    "fig.tight_layout()\n",
    "fig.savefig('C:/Users/grosm/Desktop/correlation_matrix.pdf')"
   ],
   "id": "c15d3288cfabf0a5",
   "outputs": [],
   "execution_count": null
  },
  {
   "metadata": {},
   "cell_type": "code",
   "source": [
    "params = ['gradient', 'peaks','temp10']\n",
    "alg = 'OLS'\n",
    "model = MLDModel(path, depids_with_mld, test_depid='ml18_294b',\n",
    "                 norm = False, params = params, target = 'mld_diff',\n",
    "                 find_peaks_params = {'prominence':0.9, 'height':0, 'distance':5})\n",
    "model.create_gust_dataframe(time_diff=15)\n",
    "model.df = model.df[model.df.temp10 < 4]\n",
    "model.temporal_linear_regression(tmax = 48, model = alg)\n",
    "labels  = {'peaks':'Maximum wind speed', 'duration':'Wind gust duration', 'density':'Density at MLD', 'gradient':'Gradient at MLD', 'previous_mld':'MLD during wind gust', 'temp10': '10m Temperature', 'const':'Constant'}\n",
    "plot_regression_results(model, labels, model = alg)\n"
   ],
   "id": "57db855a549d8598",
   "outputs": [],
   "execution_count": null
  },
  {
   "metadata": {},
   "cell_type": "code",
   "source": "plt.hist(model.df.gradient.to_numpy(), bins = 50)",
   "id": "281b8980d861517c",
   "outputs": [],
   "execution_count": null
  },
  {
   "metadata": {},
   "cell_type": "code",
   "source": "model.params",
   "id": "c237e796b1b135ac",
   "outputs": [],
   "execution_count": null
  },
  {
   "metadata": {},
   "cell_type": "code",
   "source": [
    "from statsmodels.stats.outliers_influence import variance_inflation_factor\n",
    "import pandas as pd\n",
    "model.params = ['peaks', 'previous_mld', 'const']\n",
    "\n",
    "vif_data = pd.DataFrame()\n",
    "vif_data[\"Feature\"] = model.params[:-1]\n",
    "vif_data[\"VIF\"] = [variance_inflation_factor(model.train_df[model.params[:-1]], i) for i in range(model.train_df[model.params[:-1]].to_numpy().shape[1])]\n",
    "\n",
    "print(vif_data)\n"
   ],
   "id": "6c45686b33c9b0ed",
   "outputs": [],
   "execution_count": null
  },
  {
   "metadata": {},
   "cell_type": "code",
   "source": [
    "import statsmodels.api as sm\n",
    "data = sm.datasets.longley.load()"
   ],
   "id": "39dcef5131df1a18",
   "outputs": [],
   "execution_count": null
  },
  {
   "metadata": {},
   "cell_type": "code",
   "source": "data.exog",
   "id": "f4951cbfaefd96b9",
   "outputs": [],
   "execution_count": null
  },
  {
   "metadata": {},
   "cell_type": "code",
   "source": [
    "### COMPUTE POLLARD'S LAW\n",
    "x = np.arange(0,20,1)\n",
    "#wind_stress = np.nanmean(1.225 * 0.0014 * df.peaks.to_numpy()**2)\n",
    "wind_stress = 1.225 * 0.0014 * x**2\n",
    "density = np.nanmean(df.density.to_numpy() + 1000)\n",
    "N2 = np.nanmean(9.81 / 1027 * df.mld_gradient.to_numpy())\n",
    "f = np.nanmean(2 * 7.2921 * 10e-5 * np.sin(df.latitude.to_numpy()))\n",
    "t = np.arange(0, 48*3600, 3600)\n",
    "t = 15*3600\n",
    "h = np.sqrt(wind_stress / density) * (4*(1-np.cos(f*t)) / (N2 * f**2))**(0.25)\n"
   ],
   "id": "619c4323dc1cf8d9",
   "outputs": [],
   "execution_count": null
  }
 ],
 "metadata": {
  "kernelspec": {
   "display_name": "Python 3 (ipykernel)",
   "language": "python",
   "name": "python3"
  },
  "language_info": {
   "codemirror_mode": {
    "name": "ipython",
    "version": 3
   },
   "file_extension": ".py",
   "mimetype": "text/x-python",
   "name": "python",
   "nbconvert_exporter": "python",
   "pygments_lexer": "ipython3",
   "version": "3.12.3"
  }
 },
 "nbformat": 4,
 "nbformat_minor": 5
}
